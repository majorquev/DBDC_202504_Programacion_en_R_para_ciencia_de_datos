{
  "nbformat": 4,
  "nbformat_minor": 0,
  "metadata": {
    "colab": {
      "provenance": [],
      "include_colab_link": true
    },
    "kernelspec": {
      "name": "ir",
      "display_name": "R"
    }
  },
  "cells": [
    {
      "cell_type": "markdown",
      "metadata": {
        "id": "view-in-github",
        "colab_type": "text"
      },
      "source": [
        "<a href=\"https://colab.research.google.com/github/majorquev/DBDC_202504_Programacion_en_R_para_ciencia_de_datos/blob/main/Clases/Clase1/Clase_1_02_vectores.ipynb\" target=\"_parent\"><img src=\"https://colab.research.google.com/assets/colab-badge.svg\" alt=\"Open In Colab\"/></a>"
      ]
    },
    {
      "cell_type": "markdown",
      "metadata": {
        "collapsed": true,
        "id": "Yb2RXjL2Igun"
      },
      "source": [
        "# Parte 1: Introducción a R (continuación)\n",
        "\n",
        "**Autor:** Miguel Jorquera Viguera<br>\n",
        "**E-mail:** majorquev@gmail.com<br>\n",
        "**Ayudante:** Rodrigo Morales <br>\n",
        "**E-mail ayudante:** rumorale1@gmail.com\n",
        "\n"
      ]
    },
    {
      "cell_type": "markdown",
      "metadata": {
        "id": "d_bHZs66Iguo"
      },
      "source": [
        "## 3. Vectores y matrices\n",
        "\n",
        "### 3.1 Vectores\n",
        "\n",
        "En R, así como en la mayoría de los lenguajes de programación, uno de los objetos más usuales para almacenar información son los vectores, los que corresponden a arreglos unidimensionales que almacenan un mismo tipo de dato en cada una de sus entradas.\n",
        "\n",
        "Todo vector en R se puede declarar con la letra \"c\" seguido de los elementos que lo componen entre paréntesis y separados por comas."
      ]
    },
    {
      "cell_type": "code",
      "metadata": {
        "id": "ljQ0JcsTIgup"
      },
      "source": [
        "# Declaración de dos vectores\n",
        "v1 <- c(1,1,2,3,5,8)\n",
        "v2 <- c(13,21)\n",
        "\n",
        "b1 <- c(\"a\",\"w\",\"x\")\n",
        "b2 <- c(T,T,F)\n",
        "\n"
      ],
      "execution_count": 2,
      "outputs": []
    },
    {
      "cell_type": "code",
      "source": [
        "w1 <- c( as.Date(\"04/22-2025\", format = \"%m/%d-%Y\"),as.Date(\"04/23-2025\", format = \"%m/%d-%Y\") )"
      ],
      "metadata": {
        "id": "IJCq6Kh-Mi3I"
      },
      "execution_count": 3,
      "outputs": []
    },
    {
      "cell_type": "code",
      "source": [
        "?as.Date"
      ],
      "metadata": {
        "id": "qyLC33oBMuD5"
      },
      "execution_count": 4,
      "outputs": []
    },
    {
      "cell_type": "code",
      "source": [
        "as.Date(\"04/22-2025\", format = \"%m/%d-%Y\")"
      ],
      "metadata": {
        "colab": {
          "base_uri": "https://localhost:8080/",
          "height": 34
        },
        "id": "8nAZWd9kMtIB",
        "outputId": "4e8af7fc-a71e-4bc6-e62b-5f3060a06da8"
      },
      "execution_count": 5,
      "outputs": [
        {
          "output_type": "display_data",
          "data": {
            "text/html": [
              "<time datetime=\"2025-04-22\">2025-04-22</time>"
            ],
            "text/markdown": "2025-04-22",
            "text/latex": "2025-04-22",
            "text/plain": [
              "[1] \"2025-04-22\""
            ]
          },
          "metadata": {}
        }
      ]
    },
    {
      "cell_type": "code",
      "source": [
        "# Explorar los vectores\n",
        "v1\n",
        "b1\n",
        "w1"
      ],
      "metadata": {
        "colab": {
          "base_uri": "https://localhost:8080/",
          "height": 69
        },
        "id": "an35BGbTNQO5",
        "outputId": "9fdcc23a-9eb7-4349-f6f5-fd8cbe8e4ed9"
      },
      "execution_count": 6,
      "outputs": [
        {
          "output_type": "display_data",
          "data": {
            "text/html": [
              "<style>\n",
              ".list-inline {list-style: none; margin:0; padding: 0}\n",
              ".list-inline>li {display: inline-block}\n",
              ".list-inline>li:not(:last-child)::after {content: \"\\00b7\"; padding: 0 .5ex}\n",
              "</style>\n",
              "<ol class=list-inline><li>1</li><li>1</li><li>2</li><li>3</li><li>5</li><li>8</li></ol>\n"
            ],
            "text/markdown": "1. 1\n2. 1\n3. 2\n4. 3\n5. 5\n6. 8\n\n\n",
            "text/latex": "\\begin{enumerate*}\n\\item 1\n\\item 1\n\\item 2\n\\item 3\n\\item 5\n\\item 8\n\\end{enumerate*}\n",
            "text/plain": [
              "[1] 1 1 2 3 5 8"
            ]
          },
          "metadata": {}
        },
        {
          "output_type": "display_data",
          "data": {
            "text/html": [
              "<style>\n",
              ".list-inline {list-style: none; margin:0; padding: 0}\n",
              ".list-inline>li {display: inline-block}\n",
              ".list-inline>li:not(:last-child)::after {content: \"\\00b7\"; padding: 0 .5ex}\n",
              "</style>\n",
              "<ol class=list-inline><li>'a'</li><li>'w'</li><li>'x'</li></ol>\n"
            ],
            "text/markdown": "1. 'a'\n2. 'w'\n3. 'x'\n\n\n",
            "text/latex": "\\begin{enumerate*}\n\\item 'a'\n\\item 'w'\n\\item 'x'\n\\end{enumerate*}\n",
            "text/plain": [
              "[1] \"a\" \"w\" \"x\""
            ]
          },
          "metadata": {}
        },
        {
          "output_type": "display_data",
          "data": {
            "text/html": [
              "<style>\n",
              ".list-inline {list-style: none; margin:0; padding: 0}\n",
              ".list-inline>li {display: inline-block}\n",
              ".list-inline>li:not(:last-child)::after {content: \"\\00b7\"; padding: 0 .5ex}\n",
              "</style>\n",
              "<ol class=list-inline><li><time datetime=\"2025-04-22\">2025-04-22</time></li><li><time datetime=\"2025-04-23\">2025-04-23</time></li></ol>\n"
            ],
            "text/markdown": "1. 2025-04-22\n2. 2025-04-23\n\n\n",
            "text/latex": "\\begin{enumerate*}\n\\item 2025-04-22\n\\item 2025-04-23\n\\end{enumerate*}\n",
            "text/plain": [
              "[1] \"2025-04-22\" \"2025-04-23\""
            ]
          },
          "metadata": {}
        }
      ]
    },
    {
      "cell_type": "code",
      "source": [
        "# Como alternativa del vector de fechas\n",
        "w2 <- as.Date(c( \"04/22-2025\",\"04/23-2025\"), format = \"%m/%d-%Y\")"
      ],
      "metadata": {
        "id": "LBCNNU8fNhQ8"
      },
      "execution_count": 7,
      "outputs": []
    },
    {
      "cell_type": "code",
      "source": [
        "w2"
      ],
      "metadata": {
        "colab": {
          "base_uri": "https://localhost:8080/",
          "height": 34
        },
        "id": "6wM_5b9XNyRd",
        "outputId": "3874b351-2dfb-4d4c-ebc8-402213acfffc"
      },
      "execution_count": 8,
      "outputs": [
        {
          "output_type": "display_data",
          "data": {
            "text/html": [
              "<style>\n",
              ".list-inline {list-style: none; margin:0; padding: 0}\n",
              ".list-inline>li {display: inline-block}\n",
              ".list-inline>li:not(:last-child)::after {content: \"\\00b7\"; padding: 0 .5ex}\n",
              "</style>\n",
              "<ol class=list-inline><li><time datetime=\"2025-04-22\">2025-04-22</time></li><li><time datetime=\"2025-04-23\">2025-04-23</time></li></ol>\n"
            ],
            "text/markdown": "1. 2025-04-22\n2. 2025-04-23\n\n\n",
            "text/latex": "\\begin{enumerate*}\n\\item 2025-04-22\n\\item 2025-04-23\n\\end{enumerate*}\n",
            "text/plain": [
              "[1] \"2025-04-22\" \"2025-04-23\""
            ]
          },
          "metadata": {}
        }
      ]
    },
    {
      "cell_type": "code",
      "metadata": {
        "id": "GxHhDdS4Iguy",
        "colab": {
          "base_uri": "https://localhost:8080/",
          "height": 52
        },
        "outputId": "8f2d14bc-feff-41fd-b197-5a0a1de38f58"
      },
      "source": [
        "# clase y tipo de dato\n",
        "class(v1)\n",
        "typeof(v1)"
      ],
      "execution_count": 9,
      "outputs": [
        {
          "output_type": "display_data",
          "data": {
            "text/html": [
              "'numeric'"
            ],
            "text/markdown": "'numeric'",
            "text/latex": "'numeric'",
            "text/plain": [
              "[1] \"numeric\""
            ]
          },
          "metadata": {}
        },
        {
          "output_type": "display_data",
          "data": {
            "text/html": [
              "'double'"
            ],
            "text/markdown": "'double'",
            "text/latex": "'double'",
            "text/plain": [
              "[1] \"double\""
            ]
          },
          "metadata": {}
        }
      ]
    },
    {
      "cell_type": "code",
      "source": [
        "class(w1)"
      ],
      "metadata": {
        "colab": {
          "base_uri": "https://localhost:8080/",
          "height": 34
        },
        "id": "6tvQZHknN8u-",
        "outputId": "10cd0e3f-f45c-4565-eb93-04e5f5809969"
      },
      "execution_count": 10,
      "outputs": [
        {
          "output_type": "display_data",
          "data": {
            "text/html": [
              "'Date'"
            ],
            "text/markdown": "'Date'",
            "text/latex": "'Date'",
            "text/plain": [
              "[1] \"Date\""
            ]
          },
          "metadata": {}
        }
      ]
    },
    {
      "cell_type": "code",
      "source": [
        "c(1,1,NA,3)"
      ],
      "metadata": {
        "colab": {
          "base_uri": "https://localhost:8080/",
          "height": 34
        },
        "id": "69e_fqHOOCup",
        "outputId": "695e87fc-f0de-4182-e349-ab8c398f0bbc"
      },
      "execution_count": 11,
      "outputs": [
        {
          "output_type": "display_data",
          "data": {
            "text/html": [
              "<style>\n",
              ".list-inline {list-style: none; margin:0; padding: 0}\n",
              ".list-inline>li {display: inline-block}\n",
              ".list-inline>li:not(:last-child)::after {content: \"\\00b7\"; padding: 0 .5ex}\n",
              "</style>\n",
              "<ol class=list-inline><li>1</li><li>1</li><li>&lt;NA&gt;</li><li>3</li></ol>\n"
            ],
            "text/markdown": "1. 1\n2. 1\n3. &lt;NA&gt;\n4. 3\n\n\n",
            "text/latex": "\\begin{enumerate*}\n\\item 1\n\\item 1\n\\item <NA>\n\\item 3\n\\end{enumerate*}\n",
            "text/plain": [
              "[1]  1  1 NA  3"
            ]
          },
          "metadata": {}
        }
      ]
    },
    {
      "cell_type": "code",
      "metadata": {
        "id": "FUBvbIN9Igu4",
        "colab": {
          "base_uri": "https://localhost:8080/",
          "height": 34
        },
        "outputId": "e1e0beb5-a41a-484b-e372-885eabf5491f"
      },
      "source": [
        "# vectores lógicos\n",
        "b2"
      ],
      "execution_count": 12,
      "outputs": [
        {
          "output_type": "display_data",
          "data": {
            "text/html": [
              "<style>\n",
              ".list-inline {list-style: none; margin:0; padding: 0}\n",
              ".list-inline>li {display: inline-block}\n",
              ".list-inline>li:not(:last-child)::after {content: \"\\00b7\"; padding: 0 .5ex}\n",
              "</style>\n",
              "<ol class=list-inline><li>TRUE</li><li>TRUE</li><li>FALSE</li></ol>\n"
            ],
            "text/markdown": "1. TRUE\n2. TRUE\n3. FALSE\n\n\n",
            "text/latex": "\\begin{enumerate*}\n\\item TRUE\n\\item TRUE\n\\item FALSE\n\\end{enumerate*}\n",
            "text/plain": [
              "[1]  TRUE  TRUE FALSE"
            ]
          },
          "metadata": {}
        }
      ]
    },
    {
      "cell_type": "code",
      "metadata": {
        "id": "R88mjniaIgu_",
        "colab": {
          "base_uri": "https://localhost:8080/",
          "height": 52
        },
        "outputId": "1a562a1a-b237-42cf-8e34-5b82277588e3"
      },
      "source": [
        "# Nombres de las entradas de un vector\n",
        "v1\n",
        "v2\n"
      ],
      "execution_count": 13,
      "outputs": [
        {
          "output_type": "display_data",
          "data": {
            "text/html": [
              "<style>\n",
              ".list-inline {list-style: none; margin:0; padding: 0}\n",
              ".list-inline>li {display: inline-block}\n",
              ".list-inline>li:not(:last-child)::after {content: \"\\00b7\"; padding: 0 .5ex}\n",
              "</style>\n",
              "<ol class=list-inline><li>1</li><li>1</li><li>2</li><li>3</li><li>5</li><li>8</li></ol>\n"
            ],
            "text/markdown": "1. 1\n2. 1\n3. 2\n4. 3\n5. 5\n6. 8\n\n\n",
            "text/latex": "\\begin{enumerate*}\n\\item 1\n\\item 1\n\\item 2\n\\item 3\n\\item 5\n\\item 8\n\\end{enumerate*}\n",
            "text/plain": [
              "[1] 1 1 2 3 5 8"
            ]
          },
          "metadata": {}
        },
        {
          "output_type": "display_data",
          "data": {
            "text/html": [
              "<style>\n",
              ".list-inline {list-style: none; margin:0; padding: 0}\n",
              ".list-inline>li {display: inline-block}\n",
              ".list-inline>li:not(:last-child)::after {content: \"\\00b7\"; padding: 0 .5ex}\n",
              "</style>\n",
              "<ol class=list-inline><li>13</li><li>21</li></ol>\n"
            ],
            "text/markdown": "1. 13\n2. 21\n\n\n",
            "text/latex": "\\begin{enumerate*}\n\\item 13\n\\item 21\n\\end{enumerate*}\n",
            "text/plain": [
              "[1] 13 21"
            ]
          },
          "metadata": {}
        }
      ]
    },
    {
      "cell_type": "code",
      "source": [
        "# Creando el vector con casillas con nombres\n",
        "v3 <- c(n9 = 34, n10 = 55)"
      ],
      "metadata": {
        "id": "c5edVrR7Oz39"
      },
      "execution_count": 14,
      "outputs": []
    },
    {
      "cell_type": "code",
      "source": [
        "v3"
      ],
      "metadata": {
        "colab": {
          "base_uri": "https://localhost:8080/",
          "height": 34
        },
        "id": "3m6P-RvdPBrr",
        "outputId": "0226acd2-e7d1-4897-e1df-d4e7b72ea558"
      },
      "execution_count": 15,
      "outputs": [
        {
          "output_type": "display_data",
          "data": {
            "text/html": [
              "<style>\n",
              ".dl-inline {width: auto; margin:0; padding: 0}\n",
              ".dl-inline>dt, .dl-inline>dd {float: none; width: auto; display: inline-block}\n",
              ".dl-inline>dt::after {content: \":\\0020\"; padding-right: .5ex}\n",
              ".dl-inline>dt:not(:first-of-type) {padding-left: .5ex}\n",
              "</style><dl class=dl-inline><dt>n9</dt><dd>34</dd><dt>n10</dt><dd>55</dd></dl>\n"
            ],
            "text/markdown": "n9\n:   34n10\n:   55\n\n",
            "text/latex": "\\begin{description*}\n\\item[n9] 34\n\\item[n10] 55\n\\end{description*}\n",
            "text/plain": [
              " n9 n10 \n",
              " 34  55 "
            ]
          },
          "metadata": {}
        }
      ]
    },
    {
      "cell_type": "code",
      "source": [
        "# podemos extraer los nombres de las casillas\n",
        "names(v3)"
      ],
      "metadata": {
        "colab": {
          "base_uri": "https://localhost:8080/",
          "height": 34
        },
        "id": "PAc-JqCVPH7Q",
        "outputId": "0f970fdd-56e0-45dd-c014-94db2b976f75"
      },
      "execution_count": 16,
      "outputs": [
        {
          "output_type": "display_data",
          "data": {
            "text/html": [
              "<style>\n",
              ".list-inline {list-style: none; margin:0; padding: 0}\n",
              ".list-inline>li {display: inline-block}\n",
              ".list-inline>li:not(:last-child)::after {content: \"\\00b7\"; padding: 0 .5ex}\n",
              "</style>\n",
              "<ol class=list-inline><li>'n9'</li><li>'n10'</li></ol>\n"
            ],
            "text/markdown": "1. 'n9'\n2. 'n10'\n\n\n",
            "text/latex": "\\begin{enumerate*}\n\\item 'n9'\n\\item 'n10'\n\\end{enumerate*}\n",
            "text/plain": [
              "[1] \"n9\"  \"n10\""
            ]
          },
          "metadata": {}
        }
      ]
    },
    {
      "cell_type": "code",
      "source": [
        "names(v2)"
      ],
      "metadata": {
        "colab": {
          "base_uri": "https://localhost:8080/",
          "height": 34
        },
        "id": "vxYshAVFPWZ1",
        "outputId": "d0f70819-cf69-43c3-a05d-26b67bca9d12"
      },
      "execution_count": 17,
      "outputs": [
        {
          "output_type": "display_data",
          "data": {
            "text/plain": [
              "NULL"
            ]
          },
          "metadata": {}
        }
      ]
    },
    {
      "cell_type": "code",
      "source": [
        "# NULL en R suele denotar a objetos vacíos\n",
        "is.null(NULL)"
      ],
      "metadata": {
        "colab": {
          "base_uri": "https://localhost:8080/",
          "height": 34
        },
        "id": "ykb_4NdlPZo0",
        "outputId": "233ff42b-e3b6-4337-b05c-131e9c1fd454"
      },
      "execution_count": 18,
      "outputs": [
        {
          "output_type": "display_data",
          "data": {
            "text/html": [
              "TRUE"
            ],
            "text/markdown": "TRUE",
            "text/latex": "TRUE",
            "text/plain": [
              "[1] TRUE"
            ]
          },
          "metadata": {}
        }
      ]
    },
    {
      "cell_type": "code",
      "source": [
        "v2"
      ],
      "metadata": {
        "colab": {
          "base_uri": "https://localhost:8080/",
          "height": 34
        },
        "id": "dWY0JxGkQHkg",
        "outputId": "2c36b2b3-1134-444e-8e76-8b5b96e968d0"
      },
      "execution_count": 19,
      "outputs": [
        {
          "output_type": "display_data",
          "data": {
            "text/html": [
              "<style>\n",
              ".list-inline {list-style: none; margin:0; padding: 0}\n",
              ".list-inline>li {display: inline-block}\n",
              ".list-inline>li:not(:last-child)::after {content: \"\\00b7\"; padding: 0 .5ex}\n",
              "</style>\n",
              "<ol class=list-inline><li>13</li><li>21</li></ol>\n"
            ],
            "text/markdown": "1. 13\n2. 21\n\n\n",
            "text/latex": "\\begin{enumerate*}\n\\item 13\n\\item 21\n\\end{enumerate*}\n",
            "text/plain": [
              "[1] 13 21"
            ]
          },
          "metadata": {}
        }
      ]
    },
    {
      "cell_type": "code",
      "metadata": {
        "id": "OAhPpN3vIgvB"
      },
      "source": [
        "# podemos asignar los nombres a vector 1\n",
        "names(v2) <- c(\"n7\",\"n8\")"
      ],
      "execution_count": 20,
      "outputs": []
    },
    {
      "cell_type": "code",
      "metadata": {
        "id": "E6dxkyP5IgvF",
        "colab": {
          "base_uri": "https://localhost:8080/",
          "height": 34
        },
        "outputId": "1e8a6220-9636-451e-801c-3ac2222d7764"
      },
      "source": [
        "# nombres de las entradas con la función, names()\n",
        "names(v2)"
      ],
      "execution_count": 21,
      "outputs": [
        {
          "output_type": "display_data",
          "data": {
            "text/html": [
              "<style>\n",
              ".list-inline {list-style: none; margin:0; padding: 0}\n",
              ".list-inline>li {display: inline-block}\n",
              ".list-inline>li:not(:last-child)::after {content: \"\\00b7\"; padding: 0 .5ex}\n",
              "</style>\n",
              "<ol class=list-inline><li>'n7'</li><li>'n8'</li></ol>\n"
            ],
            "text/markdown": "1. 'n7'\n2. 'n8'\n\n\n",
            "text/latex": "\\begin{enumerate*}\n\\item 'n7'\n\\item 'n8'\n\\end{enumerate*}\n",
            "text/plain": [
              "[1] \"n7\" \"n8\""
            ]
          },
          "metadata": {}
        }
      ]
    },
    {
      "cell_type": "code",
      "source": [
        "v2"
      ],
      "metadata": {
        "colab": {
          "base_uri": "https://localhost:8080/",
          "height": 34
        },
        "id": "Snh_fyvzQRXP",
        "outputId": "6b3215fb-13db-46aa-a173-ac3d1062263c"
      },
      "execution_count": 22,
      "outputs": [
        {
          "output_type": "display_data",
          "data": {
            "text/html": [
              "<style>\n",
              ".dl-inline {width: auto; margin:0; padding: 0}\n",
              ".dl-inline>dt, .dl-inline>dd {float: none; width: auto; display: inline-block}\n",
              ".dl-inline>dt::after {content: \":\\0020\"; padding-right: .5ex}\n",
              ".dl-inline>dt:not(:first-of-type) {padding-left: .5ex}\n",
              "</style><dl class=dl-inline><dt>n7</dt><dd>13</dd><dt>n8</dt><dd>21</dd></dl>\n"
            ],
            "text/markdown": "n7\n:   13n8\n:   21\n\n",
            "text/latex": "\\begin{description*}\n\\item[n7] 13\n\\item[n8] 21\n\\end{description*}\n",
            "text/plain": [
              "n7 n8 \n",
              "13 21 "
            ]
          },
          "metadata": {}
        }
      ]
    },
    {
      "cell_type": "code",
      "metadata": {
        "id": "7Ayre5BlIgvH",
        "colab": {
          "base_uri": "https://localhost:8080/",
          "height": 34
        },
        "outputId": "baf56ee2-8996-489c-a44f-85b537fa0d1b"
      },
      "source": [
        "#combinar vectores\n",
        "v4 <- c(v2,v3)\n",
        "v4"
      ],
      "execution_count": 23,
      "outputs": [
        {
          "output_type": "display_data",
          "data": {
            "text/html": [
              "<style>\n",
              ".dl-inline {width: auto; margin:0; padding: 0}\n",
              ".dl-inline>dt, .dl-inline>dd {float: none; width: auto; display: inline-block}\n",
              ".dl-inline>dt::after {content: \":\\0020\"; padding-right: .5ex}\n",
              ".dl-inline>dt:not(:first-of-type) {padding-left: .5ex}\n",
              "</style><dl class=dl-inline><dt>n7</dt><dd>13</dd><dt>n8</dt><dd>21</dd><dt>n9</dt><dd>34</dd><dt>n10</dt><dd>55</dd></dl>\n"
            ],
            "text/markdown": "n7\n:   13n8\n:   21n9\n:   34n10\n:   55\n\n",
            "text/latex": "\\begin{description*}\n\\item[n7] 13\n\\item[n8] 21\n\\item[n9] 34\n\\item[n10] 55\n\\end{description*}\n",
            "text/plain": [
              " n7  n8  n9 n10 \n",
              " 13  21  34  55 "
            ]
          },
          "metadata": {}
        }
      ]
    },
    {
      "cell_type": "code",
      "source": [
        "# Si combino vectores de distinto tipo de dato\n",
        "# b1;v1 sirve para ejecutar dos lineas en una\n",
        "c(b1,v1)"
      ],
      "metadata": {
        "colab": {
          "base_uri": "https://localhost:8080/",
          "height": 34
        },
        "id": "_bwTketORH33",
        "outputId": "21fd2ccc-10ff-4106-f327-df0d79745643"
      },
      "execution_count": 24,
      "outputs": [
        {
          "output_type": "display_data",
          "data": {
            "text/html": [
              "<style>\n",
              ".list-inline {list-style: none; margin:0; padding: 0}\n",
              ".list-inline>li {display: inline-block}\n",
              ".list-inline>li:not(:last-child)::after {content: \"\\00b7\"; padding: 0 .5ex}\n",
              "</style>\n",
              "<ol class=list-inline><li>'a'</li><li>'w'</li><li>'x'</li><li>'1'</li><li>'1'</li><li>'2'</li><li>'3'</li><li>'5'</li><li>'8'</li></ol>\n"
            ],
            "text/markdown": "1. 'a'\n2. 'w'\n3. 'x'\n4. '1'\n5. '1'\n6. '2'\n7. '3'\n8. '5'\n9. '8'\n\n\n",
            "text/latex": "\\begin{enumerate*}\n\\item 'a'\n\\item 'w'\n\\item 'x'\n\\item '1'\n\\item '1'\n\\item '2'\n\\item '3'\n\\item '5'\n\\item '8'\n\\end{enumerate*}\n",
            "text/plain": [
              "[1] \"a\" \"w\" \"x\" \"1\" \"1\" \"2\" \"3\" \"5\" \"8\""
            ]
          },
          "metadata": {}
        }
      ]
    },
    {
      "cell_type": "code",
      "metadata": {
        "id": "QETBghXxIgvI"
      },
      "source": [
        "# c : es una abreviación de \"combine\"\n"
      ],
      "execution_count": 25,
      "outputs": []
    },
    {
      "cell_type": "markdown",
      "metadata": {
        "id": "MX35j24_IgvN"
      },
      "source": [
        "#### 3.1.1 Acceso a los elementos de un vector\n",
        "\n",
        "El acceso a los elementos de un vector se puede llevar acabo indicando la posición del elemento (los naturales parten en 1!), el nombre de la casilla que lo contiene, o bien mediante sentencias lógicas que retornen \"TRUE\" en la posición deseada.\n",
        "\n"
      ]
    },
    {
      "cell_type": "code",
      "metadata": {
        "id": "zW2_TzKxIgvN",
        "colab": {
          "base_uri": "https://localhost:8080/",
          "height": 52
        },
        "outputId": "3f8bf3e9-5dee-4c51-f79a-655e610b5b12"
      },
      "source": [
        "# Mediante posición\n",
        "# Ojo que en R las posiciones parten del 1.\n",
        "v1\n",
        "v1[4]\n"
      ],
      "execution_count": 26,
      "outputs": [
        {
          "output_type": "display_data",
          "data": {
            "text/html": [
              "<style>\n",
              ".list-inline {list-style: none; margin:0; padding: 0}\n",
              ".list-inline>li {display: inline-block}\n",
              ".list-inline>li:not(:last-child)::after {content: \"\\00b7\"; padding: 0 .5ex}\n",
              "</style>\n",
              "<ol class=list-inline><li>1</li><li>1</li><li>2</li><li>3</li><li>5</li><li>8</li></ol>\n"
            ],
            "text/markdown": "1. 1\n2. 1\n3. 2\n4. 3\n5. 5\n6. 8\n\n\n",
            "text/latex": "\\begin{enumerate*}\n\\item 1\n\\item 1\n\\item 2\n\\item 3\n\\item 5\n\\item 8\n\\end{enumerate*}\n",
            "text/plain": [
              "[1] 1 1 2 3 5 8"
            ]
          },
          "metadata": {}
        },
        {
          "output_type": "display_data",
          "data": {
            "text/html": [
              "3"
            ],
            "text/markdown": "3",
            "text/latex": "3",
            "text/plain": [
              "[1] 3"
            ]
          },
          "metadata": {}
        }
      ]
    },
    {
      "cell_type": "code",
      "metadata": {
        "id": "XWL1ZIyMIgvR",
        "colab": {
          "base_uri": "https://localhost:8080/",
          "height": 34
        },
        "outputId": "587de7ff-7de6-4c9a-d239-ff4c3e64154d"
      },
      "source": [
        "# retorna los elementos de las casillas 1  y 4 de v1\n",
        "v1[c(1,4)]"
      ],
      "execution_count": 27,
      "outputs": [
        {
          "output_type": "display_data",
          "data": {
            "text/html": [
              "<style>\n",
              ".list-inline {list-style: none; margin:0; padding: 0}\n",
              ".list-inline>li {display: inline-block}\n",
              ".list-inline>li:not(:last-child)::after {content: \"\\00b7\"; padding: 0 .5ex}\n",
              "</style>\n",
              "<ol class=list-inline><li>1</li><li>3</li></ol>\n"
            ],
            "text/markdown": "1. 1\n2. 3\n\n\n",
            "text/latex": "\\begin{enumerate*}\n\\item 1\n\\item 3\n\\end{enumerate*}\n",
            "text/plain": [
              "[1] 1 3"
            ]
          },
          "metadata": {}
        }
      ]
    },
    {
      "cell_type": "code",
      "metadata": {
        "id": "uBqEKq1aIgvT",
        "colab": {
          "base_uri": "https://localhost:8080/",
          "height": 34
        },
        "outputId": "eab463eb-86ae-47ad-d8b1-546f6f74c7bb"
      },
      "source": [
        "#NOTA 3:5, R lo interpreta como c(3,4,5)\n",
        "-3:10"
      ],
      "execution_count": 28,
      "outputs": [
        {
          "output_type": "display_data",
          "data": {
            "text/html": [
              "<style>\n",
              ".list-inline {list-style: none; margin:0; padding: 0}\n",
              ".list-inline>li {display: inline-block}\n",
              ".list-inline>li:not(:last-child)::after {content: \"\\00b7\"; padding: 0 .5ex}\n",
              "</style>\n",
              "<ol class=list-inline><li>-3</li><li>-2</li><li>-1</li><li>0</li><li>1</li><li>2</li><li>3</li><li>4</li><li>5</li><li>6</li><li>7</li><li>8</li><li>9</li><li>10</li></ol>\n"
            ],
            "text/markdown": "1. -3\n2. -2\n3. -1\n4. 0\n5. 1\n6. 2\n7. 3\n8. 4\n9. 5\n10. 6\n11. 7\n12. 8\n13. 9\n14. 10\n\n\n",
            "text/latex": "\\begin{enumerate*}\n\\item -3\n\\item -2\n\\item -1\n\\item 0\n\\item 1\n\\item 2\n\\item 3\n\\item 4\n\\item 5\n\\item 6\n\\item 7\n\\item 8\n\\item 9\n\\item 10\n\\end{enumerate*}\n",
            "text/plain": [
              " [1] -3 -2 -1  0  1  2  3  4  5  6  7  8  9 10"
            ]
          },
          "metadata": {}
        }
      ]
    },
    {
      "cell_type": "code",
      "source": [
        "v1[3:6]# Retorna los elementos desde la posición 3 hasta la 6."
      ],
      "metadata": {
        "colab": {
          "base_uri": "https://localhost:8080/",
          "height": 34
        },
        "id": "AYXAL6TcSfSx",
        "outputId": "c08d8ef9-ad8a-4db9-ced5-bebe2d292c8b"
      },
      "execution_count": 29,
      "outputs": [
        {
          "output_type": "display_data",
          "data": {
            "text/html": [
              "<style>\n",
              ".list-inline {list-style: none; margin:0; padding: 0}\n",
              ".list-inline>li {display: inline-block}\n",
              ".list-inline>li:not(:last-child)::after {content: \"\\00b7\"; padding: 0 .5ex}\n",
              "</style>\n",
              "<ol class=list-inline><li>2</li><li>3</li><li>5</li><li>8</li></ol>\n"
            ],
            "text/markdown": "1. 2\n2. 3\n3. 5\n4. 8\n\n\n",
            "text/latex": "\\begin{enumerate*}\n\\item 2\n\\item 3\n\\item 5\n\\item 8\n\\end{enumerate*}\n",
            "text/plain": [
              "[1] 2 3 5 8"
            ]
          },
          "metadata": {}
        }
      ]
    },
    {
      "cell_type": "code",
      "metadata": {
        "id": "XIuQSfvKIgvV",
        "colab": {
          "base_uri": "https://localhost:8080/",
          "height": 69
        },
        "outputId": "07f2232d-79ae-4252-f46c-3fa0a756be2d"
      },
      "source": [
        "# podemos acceder a los elmentos mediante el nombre\n",
        "v4\n",
        "v4[\"n8\"] # Rescatamos el elemnto cuya casilla tiene como nombre \"n8\"\n",
        "# Rescatamos los elementos cuyas casilla tienes como nombre \"n8\" , \"n10\" y \"n7\"\n",
        "v4[c(\"n8\",\"n10\",\"n7\")]"
      ],
      "execution_count": 30,
      "outputs": [
        {
          "output_type": "display_data",
          "data": {
            "text/html": [
              "<style>\n",
              ".dl-inline {width: auto; margin:0; padding: 0}\n",
              ".dl-inline>dt, .dl-inline>dd {float: none; width: auto; display: inline-block}\n",
              ".dl-inline>dt::after {content: \":\\0020\"; padding-right: .5ex}\n",
              ".dl-inline>dt:not(:first-of-type) {padding-left: .5ex}\n",
              "</style><dl class=dl-inline><dt>n7</dt><dd>13</dd><dt>n8</dt><dd>21</dd><dt>n9</dt><dd>34</dd><dt>n10</dt><dd>55</dd></dl>\n"
            ],
            "text/markdown": "n7\n:   13n8\n:   21n9\n:   34n10\n:   55\n\n",
            "text/latex": "\\begin{description*}\n\\item[n7] 13\n\\item[n8] 21\n\\item[n9] 34\n\\item[n10] 55\n\\end{description*}\n",
            "text/plain": [
              " n7  n8  n9 n10 \n",
              " 13  21  34  55 "
            ]
          },
          "metadata": {}
        },
        {
          "output_type": "display_data",
          "data": {
            "text/html": [
              "<strong>n8:</strong> 21"
            ],
            "text/markdown": "**n8:** 21",
            "text/latex": "\\textbf{n8:} 21",
            "text/plain": [
              "n8 \n",
              "21 "
            ]
          },
          "metadata": {}
        },
        {
          "output_type": "display_data",
          "data": {
            "text/html": [
              "<style>\n",
              ".dl-inline {width: auto; margin:0; padding: 0}\n",
              ".dl-inline>dt, .dl-inline>dd {float: none; width: auto; display: inline-block}\n",
              ".dl-inline>dt::after {content: \":\\0020\"; padding-right: .5ex}\n",
              ".dl-inline>dt:not(:first-of-type) {padding-left: .5ex}\n",
              "</style><dl class=dl-inline><dt>n8</dt><dd>21</dd><dt>n10</dt><dd>55</dd><dt>n7</dt><dd>13</dd></dl>\n"
            ],
            "text/markdown": "n8\n:   21n10\n:   55n7\n:   13\n\n",
            "text/latex": "\\begin{description*}\n\\item[n8] 21\n\\item[n10] 55\n\\item[n7] 13\n\\end{description*}\n",
            "text/plain": [
              " n8 n10  n7 \n",
              " 21  55  13 "
            ]
          },
          "metadata": {}
        }
      ]
    },
    {
      "cell_type": "code",
      "metadata": {
        "id": "IHjnaSSyIgvX",
        "colab": {
          "base_uri": "https://localhost:8080/",
          "height": 34
        },
        "outputId": "7807d1cc-28be-4d13-fbd5-dac9b390f8fb"
      },
      "source": [
        "# cambiar una entrada de un vector o cambiar un nombre\n",
        "v4"
      ],
      "execution_count": 31,
      "outputs": [
        {
          "output_type": "display_data",
          "data": {
            "text/html": [
              "<style>\n",
              ".dl-inline {width: auto; margin:0; padding: 0}\n",
              ".dl-inline>dt, .dl-inline>dd {float: none; width: auto; display: inline-block}\n",
              ".dl-inline>dt::after {content: \":\\0020\"; padding-right: .5ex}\n",
              ".dl-inline>dt:not(:first-of-type) {padding-left: .5ex}\n",
              "</style><dl class=dl-inline><dt>n7</dt><dd>13</dd><dt>n8</dt><dd>21</dd><dt>n9</dt><dd>34</dd><dt>n10</dt><dd>55</dd></dl>\n"
            ],
            "text/markdown": "n7\n:   13n8\n:   21n9\n:   34n10\n:   55\n\n",
            "text/latex": "\\begin{description*}\n\\item[n7] 13\n\\item[n8] 21\n\\item[n9] 34\n\\item[n10] 55\n\\end{description*}\n",
            "text/plain": [
              " n7  n8  n9 n10 \n",
              " 13  21  34  55 "
            ]
          },
          "metadata": {}
        }
      ]
    },
    {
      "cell_type": "code",
      "metadata": {
        "id": "KCKDbYtRIgvZ"
      },
      "source": [
        "# Cambiar la tercera entrada (de nombre n9) de v4, por un 99\n",
        "v4[\"n9\"] <- 99"
      ],
      "execution_count": 32,
      "outputs": []
    },
    {
      "cell_type": "code",
      "source": [
        "v4"
      ],
      "metadata": {
        "colab": {
          "base_uri": "https://localhost:8080/",
          "height": 34
        },
        "id": "qH_EvcydUYAj",
        "outputId": "2aca6ecc-cc08-4256-9fac-f0c0c55039a8"
      },
      "execution_count": 33,
      "outputs": [
        {
          "output_type": "display_data",
          "data": {
            "text/html": [
              "<style>\n",
              ".dl-inline {width: auto; margin:0; padding: 0}\n",
              ".dl-inline>dt, .dl-inline>dd {float: none; width: auto; display: inline-block}\n",
              ".dl-inline>dt::after {content: \":\\0020\"; padding-right: .5ex}\n",
              ".dl-inline>dt:not(:first-of-type) {padding-left: .5ex}\n",
              "</style><dl class=dl-inline><dt>n7</dt><dd>13</dd><dt>n8</dt><dd>21</dd><dt>n9</dt><dd>99</dd><dt>n10</dt><dd>55</dd></dl>\n"
            ],
            "text/markdown": "n7\n:   13n8\n:   21n9\n:   99n10\n:   55\n\n",
            "text/latex": "\\begin{description*}\n\\item[n7] 13\n\\item[n8] 21\n\\item[n9] 99\n\\item[n10] 55\n\\end{description*}\n",
            "text/plain": [
              " n7  n8  n9 n10 \n",
              " 13  21  99  55 "
            ]
          },
          "metadata": {}
        }
      ]
    },
    {
      "cell_type": "code",
      "metadata": {
        "id": "cVzhj4ASIgvb"
      },
      "source": [
        "# podemos cambiar uno de los nombres (ej, queremos cambiar el segundo nombre)\n",
        "names(v4)[2] <- \"otro_nombre\""
      ],
      "execution_count": 34,
      "outputs": []
    },
    {
      "cell_type": "code",
      "source": [
        "v4"
      ],
      "metadata": {
        "colab": {
          "base_uri": "https://localhost:8080/",
          "height": 34
        },
        "id": "hO712f42U00Y",
        "outputId": "6faa41d1-b909-4880-b2f5-c7242a22da3b"
      },
      "execution_count": 35,
      "outputs": [
        {
          "output_type": "display_data",
          "data": {
            "text/html": [
              "<style>\n",
              ".dl-inline {width: auto; margin:0; padding: 0}\n",
              ".dl-inline>dt, .dl-inline>dd {float: none; width: auto; display: inline-block}\n",
              ".dl-inline>dt::after {content: \":\\0020\"; padding-right: .5ex}\n",
              ".dl-inline>dt:not(:first-of-type) {padding-left: .5ex}\n",
              "</style><dl class=dl-inline><dt>n7</dt><dd>13</dd><dt>otro_nombre</dt><dd>21</dd><dt>n9</dt><dd>99</dd><dt>n10</dt><dd>55</dd></dl>\n"
            ],
            "text/markdown": "n7\n:   13otro_nombre\n:   21n9\n:   99n10\n:   55\n\n",
            "text/latex": "\\begin{description*}\n\\item[n7] 13\n\\item[otro\\textbackslash{}\\_nombre] 21\n\\item[n9] 99\n\\item[n10] 55\n\\end{description*}\n",
            "text/plain": [
              "         n7 otro_nombre          n9         n10 \n",
              "         13          21          99          55 "
            ]
          },
          "metadata": {}
        }
      ]
    },
    {
      "cell_type": "code",
      "metadata": {
        "id": "b6oqx_D4Igvd"
      },
      "source": [
        "# podemos modificar varias posiciones a la vez\n",
        "# queremos re-asignar los valores \"XX\" y \"ZZ\" en las posiciones 3 y 7 respecivamente\n"
      ],
      "execution_count": 36,
      "outputs": []
    },
    {
      "cell_type": "markdown",
      "metadata": {
        "id": "XzyIBLZxIgvg"
      },
      "source": [
        "**Algunas sentencias de utilidad**\n",
        "\n",
        "También es posible acceder a los alementos de un vector mediante sentencias lógicas que retornen \"TRUE\" en la posición deseada. Para ello algunas funciones que son de utilidad son las siguientes.\n",
        "\n",
        "   **Conectores lógicos**\n",
        "\n",
        "    &,                   : conector y\n",
        "    |,                     : conector o\n",
        "    ==                       : igual\n",
        "    !                        : negación\n",
        "    !=                       : distinto\n",
        "    >, >=                    : mayor que, mayor o igual que\n",
        "    <,<=                     : menor que, menor o igual que\n",
        "    is.na()                  : es NA?\n",
        "    which()                  : en qué posición es verdadera la expresión evaluada?\n",
        "    which.min(), which.max() : en qué posición se alcanza el mínimi/máximo\n",
        "    %in%                     : los elementos están en?\n",
        "    \n",
        "    "
      ]
    },
    {
      "cell_type": "code",
      "source": [
        "v1"
      ],
      "metadata": {
        "id": "GIN7pefrt7_i",
        "outputId": "aa1e093b-5893-4400-c77c-5144ae14a828",
        "colab": {
          "base_uri": "https://localhost:8080/",
          "height": 34
        }
      },
      "execution_count": 43,
      "outputs": [
        {
          "output_type": "display_data",
          "data": {
            "text/html": [
              "<style>\n",
              ".list-inline {list-style: none; margin:0; padding: 0}\n",
              ".list-inline>li {display: inline-block}\n",
              ".list-inline>li:not(:last-child)::after {content: \"\\00b7\"; padding: 0 .5ex}\n",
              "</style>\n",
              "<ol class=list-inline><li>1</li><li>1</li><li>2</li><li>3</li><li>5</li><li>8</li></ol>\n"
            ],
            "text/markdown": "1. 1\n2. 1\n3. 2\n4. 3\n5. 5\n6. 8\n\n\n",
            "text/latex": "\\begin{enumerate*}\n\\item 1\n\\item 1\n\\item 2\n\\item 3\n\\item 5\n\\item 8\n\\end{enumerate*}\n",
            "text/plain": [
              "[1] 1 1 2 3 5 8"
            ]
          },
          "metadata": {}
        }
      ]
    },
    {
      "cell_type": "code",
      "source": [
        "v1 >= 2"
      ],
      "metadata": {
        "id": "Gkl81IzstySm",
        "outputId": "22fd8173-25a3-4f28-a617-a55d4b829203",
        "colab": {
          "base_uri": "https://localhost:8080/",
          "height": 34
        }
      },
      "execution_count": 42,
      "outputs": [
        {
          "output_type": "display_data",
          "data": {
            "text/html": [
              "<style>\n",
              ".list-inline {list-style: none; margin:0; padding: 0}\n",
              ".list-inline>li {display: inline-block}\n",
              ".list-inline>li:not(:last-child)::after {content: \"\\00b7\"; padding: 0 .5ex}\n",
              "</style>\n",
              "<ol class=list-inline><li>FALSE</li><li>FALSE</li><li>TRUE</li><li>TRUE</li><li>TRUE</li><li>TRUE</li></ol>\n"
            ],
            "text/markdown": "1. FALSE\n2. FALSE\n3. TRUE\n4. TRUE\n5. TRUE\n6. TRUE\n\n\n",
            "text/latex": "\\begin{enumerate*}\n\\item FALSE\n\\item FALSE\n\\item TRUE\n\\item TRUE\n\\item TRUE\n\\item TRUE\n\\end{enumerate*}\n",
            "text/plain": [
              "[1] FALSE FALSE  TRUE  TRUE  TRUE  TRUE"
            ]
          },
          "metadata": {}
        }
      ]
    },
    {
      "cell_type": "code",
      "source": [
        "#Nota: Largo de un vector\n",
        "length(v1)"
      ],
      "metadata": {
        "id": "UW0Dhmtktfav",
        "outputId": "c2e1843e-7141-4d53-cbbc-2d7ba65e9a3b",
        "colab": {
          "base_uri": "https://localhost:8080/",
          "height": 34
        }
      },
      "execution_count": 38,
      "outputs": [
        {
          "output_type": "display_data",
          "data": {
            "text/html": [
              "6"
            ],
            "text/markdown": "6",
            "text/latex": "6",
            "text/plain": [
              "[1] 6"
            ]
          },
          "metadata": {}
        }
      ]
    },
    {
      "cell_type": "code",
      "metadata": {
        "id": "NhZPJo56Igvh",
        "outputId": "f7901e70-abaa-4817-b2d5-7e85b2037c29",
        "colab": {
          "base_uri": "https://localhost:8080/",
          "height": 52
        }
      },
      "source": [
        "# para acceder a elementos de un vector tenemos:\n",
        "# 1. por posicion\n",
        "# 2. por nombre\n",
        "# 3. por indicatrices lógicas (un vector con TRUE (T) o FALSE (F) del mismo largo del que quiero consultar)\n",
        "# Ej: Queremos extraer los elmentos de las posiciones 3 y 4\n",
        "v1\n",
        "v1[c(F,F,T,T,F,F)]\n",
        "\n",
        "\n",
        "\n"
      ],
      "execution_count": 41,
      "outputs": [
        {
          "output_type": "display_data",
          "data": {
            "text/html": [
              "<style>\n",
              ".list-inline {list-style: none; margin:0; padding: 0}\n",
              ".list-inline>li {display: inline-block}\n",
              ".list-inline>li:not(:last-child)::after {content: \"\\00b7\"; padding: 0 .5ex}\n",
              "</style>\n",
              "<ol class=list-inline><li>1</li><li>1</li><li>2</li><li>3</li><li>5</li><li>8</li></ol>\n"
            ],
            "text/markdown": "1. 1\n2. 1\n3. 2\n4. 3\n5. 5\n6. 8\n\n\n",
            "text/latex": "\\begin{enumerate*}\n\\item 1\n\\item 1\n\\item 2\n\\item 3\n\\item 5\n\\item 8\n\\end{enumerate*}\n",
            "text/plain": [
              "[1] 1 1 2 3 5 8"
            ]
          },
          "metadata": {}
        },
        {
          "output_type": "display_data",
          "data": {
            "text/html": [
              "<style>\n",
              ".list-inline {list-style: none; margin:0; padding: 0}\n",
              ".list-inline>li {display: inline-block}\n",
              ".list-inline>li:not(:last-child)::after {content: \"\\00b7\"; padding: 0 .5ex}\n",
              "</style>\n",
              "<ol class=list-inline><li>2</li><li>3</li></ol>\n"
            ],
            "text/markdown": "1. 2\n2. 3\n\n\n",
            "text/latex": "\\begin{enumerate*}\n\\item 2\n\\item 3\n\\end{enumerate*}\n",
            "text/plain": [
              "[1] 2 3"
            ]
          },
          "metadata": {}
        }
      ]
    },
    {
      "cell_type": "code",
      "metadata": {
        "id": "5C4hDsvSIgvj",
        "outputId": "17e7262e-562a-41c3-cffc-7d47d8183e06",
        "colab": {
          "base_uri": "https://localhost:8080/",
          "height": 34
        }
      },
      "source": [
        "# Esto facilita la búsqueda dentro de un un vector. Ej: retornar los elementos mayores o iguales a 2 y menores que 5\n",
        "#v1 >=2 #y menor a 5\n",
        "# 2 <= v1 < 5 No funciona\n",
        "\n",
        "(v1 >= 2) & (v1 < 5)\n"
      ],
      "execution_count": 45,
      "outputs": [
        {
          "output_type": "display_data",
          "data": {
            "text/html": [
              "<style>\n",
              ".list-inline {list-style: none; margin:0; padding: 0}\n",
              ".list-inline>li {display: inline-block}\n",
              ".list-inline>li:not(:last-child)::after {content: \"\\00b7\"; padding: 0 .5ex}\n",
              "</style>\n",
              "<ol class=list-inline><li>FALSE</li><li>FALSE</li><li>TRUE</li><li>TRUE</li><li>FALSE</li><li>FALSE</li></ol>\n"
            ],
            "text/markdown": "1. FALSE\n2. FALSE\n3. TRUE\n4. TRUE\n5. FALSE\n6. FALSE\n\n\n",
            "text/latex": "\\begin{enumerate*}\n\\item FALSE\n\\item FALSE\n\\item TRUE\n\\item TRUE\n\\item FALSE\n\\item FALSE\n\\end{enumerate*}\n",
            "text/plain": [
              "[1] FALSE FALSE  TRUE  TRUE FALSE FALSE"
            ]
          },
          "metadata": {}
        }
      ]
    },
    {
      "cell_type": "code",
      "source": [
        "v1[(v1 >= 2) & (v1 < 5) ]"
      ],
      "metadata": {
        "id": "RVpSBAzFuGEk",
        "outputId": "aec380d3-f7c4-4be2-d8b0-52c747575d67",
        "colab": {
          "base_uri": "https://localhost:8080/",
          "height": 34
        }
      },
      "execution_count": 46,
      "outputs": [
        {
          "output_type": "display_data",
          "data": {
            "text/html": [
              "<style>\n",
              ".list-inline {list-style: none; margin:0; padding: 0}\n",
              ".list-inline>li {display: inline-block}\n",
              ".list-inline>li:not(:last-child)::after {content: \"\\00b7\"; padding: 0 .5ex}\n",
              "</style>\n",
              "<ol class=list-inline><li>2</li><li>3</li></ol>\n"
            ],
            "text/markdown": "1. 2\n2. 3\n\n\n",
            "text/latex": "\\begin{enumerate*}\n\\item 2\n\\item 3\n\\end{enumerate*}\n",
            "text/plain": [
              "[1] 2 3"
            ]
          },
          "metadata": {}
        }
      ]
    },
    {
      "cell_type": "code",
      "metadata": {
        "id": "bj-wjeddIgvl"
      },
      "source": [
        "# con esta idea en mente podríamos, por ejemplo, rescatar las edades con valor mayor o igual a 18 años\n",
        "edades <- rnorm(2000, mean = 22, sd = 3)"
      ],
      "execution_count": 47,
      "outputs": []
    },
    {
      "cell_type": "code",
      "source": [
        "# NOTA: podemos imprimir los primeros \"n\" valores del vector\n",
        "head(edades,7)\n",
        "# NOTA: podemos imprimir los últimos \"n\" valores del vector\n",
        "tail(edades,5)\n",
        "# Validamos el largo del vector\n",
        "length(edades)"
      ],
      "metadata": {
        "id": "_FIeYsxUvaps",
        "outputId": "b0b4fa74-7bb9-4a36-e52c-168c3999fcf0",
        "colab": {
          "base_uri": "https://localhost:8080/",
          "height": 69
        }
      },
      "execution_count": 51,
      "outputs": [
        {
          "output_type": "display_data",
          "data": {
            "text/html": [
              "<style>\n",
              ".list-inline {list-style: none; margin:0; padding: 0}\n",
              ".list-inline>li {display: inline-block}\n",
              ".list-inline>li:not(:last-child)::after {content: \"\\00b7\"; padding: 0 .5ex}\n",
              "</style>\n",
              "<ol class=list-inline><li>16.7969967817423</li><li>27.6542743770503</li><li>24.0980117455744</li><li>20.9635514486129</li><li>26.1597878833169</li><li>20.7652947735253</li><li>23.604533037206</li></ol>\n"
            ],
            "text/markdown": "1. 16.7969967817423\n2. 27.6542743770503\n3. 24.0980117455744\n4. 20.9635514486129\n5. 26.1597878833169\n6. 20.7652947735253\n7. 23.604533037206\n\n\n",
            "text/latex": "\\begin{enumerate*}\n\\item 16.7969967817423\n\\item 27.6542743770503\n\\item 24.0980117455744\n\\item 20.9635514486129\n\\item 26.1597878833169\n\\item 20.7652947735253\n\\item 23.604533037206\n\\end{enumerate*}\n",
            "text/plain": [
              "[1] 16.79700 27.65427 24.09801 20.96355 26.15979 20.76529 23.60453"
            ]
          },
          "metadata": {}
        },
        {
          "output_type": "display_data",
          "data": {
            "text/html": [
              "<style>\n",
              ".list-inline {list-style: none; margin:0; padding: 0}\n",
              ".list-inline>li {display: inline-block}\n",
              ".list-inline>li:not(:last-child)::after {content: \"\\00b7\"; padding: 0 .5ex}\n",
              "</style>\n",
              "<ol class=list-inline><li>23.8532116816306</li><li>26.8369407809369</li><li>18.7984208870246</li><li>13.3069636550504</li><li>25.5852977482502</li></ol>\n"
            ],
            "text/markdown": "1. 23.8532116816306\n2. 26.8369407809369\n3. 18.7984208870246\n4. 13.3069636550504\n5. 25.5852977482502\n\n\n",
            "text/latex": "\\begin{enumerate*}\n\\item 23.8532116816306\n\\item 26.8369407809369\n\\item 18.7984208870246\n\\item 13.3069636550504\n\\item 25.5852977482502\n\\end{enumerate*}\n",
            "text/plain": [
              "[1] 23.85321 26.83694 18.79842 13.30696 25.58530"
            ]
          },
          "metadata": {}
        },
        {
          "output_type": "display_data",
          "data": {
            "text/html": [
              "2000"
            ],
            "text/markdown": "2000",
            "text/latex": "2000",
            "text/plain": [
              "[1] 2000"
            ]
          },
          "metadata": {}
        }
      ]
    },
    {
      "cell_type": "code",
      "source": [
        "# con esta idea en mente podríamos, por ejemplo, rescatar las edades con valor mayor o igual a 18 años\n",
        "edades[edades >= 18]"
      ],
      "metadata": {
        "id": "VaGGj4Tsv0Rh",
        "outputId": "4cba9a33-27d4-4ec3-85c9-cce055053660",
        "colab": {
          "base_uri": "https://localhost:8080/",
          "height": 711
        }
      },
      "execution_count": 52,
      "outputs": [
        {
          "output_type": "display_data",
          "data": {
            "text/html": [
              "<style>\n",
              ".list-inline {list-style: none; margin:0; padding: 0}\n",
              ".list-inline>li {display: inline-block}\n",
              ".list-inline>li:not(:last-child)::after {content: \"\\00b7\"; padding: 0 .5ex}\n",
              "</style>\n",
              "<ol class=list-inline><li>27.6542743770503</li><li>24.0980117455744</li><li>20.9635514486129</li><li>26.1597878833169</li><li>20.7652947735253</li><li>23.604533037206</li><li>20.5258298906715</li><li>22.453414326148</li><li>23.3641664571319</li><li>25.6214396252292</li><li>18.2239436174906</li><li>23.1860683348688</li><li>21.7312130623693</li><li>22.513266665987</li><li>19.7728917790917</li><li>22.4060472561174</li><li>24.5544490380749</li><li>21.9205691268564</li><li>25.1230090945783</li><li>22.654024048489</li><li>29.7620690595171</li><li>23.9956262736216</li><li>24.6214022513517</li><li>23.2378874285423</li><li>24.0180178941709</li><li>26.4251301248761</li><li>19.0350600827898</li><li>24.7998883498693</li><li>22.1632199895066</li><li>20.3745107352428</li><li>19.7759657172838</li><li>24.786194032145</li><li>24.6130123436326</li><li>20.425652662221</li><li>19.4708696605988</li><li>25.3240285282968</li><li>20.3739036350778</li><li>23.5024985717219</li><li>27.5858628615077</li><li>22.2824984516243</li><li>20.425644954271</li><li>18.6276364390739</li><li>22.1556715134283</li><li>19.9294020260119</li><li>20.3655581807777</li><li>19.3692669160716</li><li>24.3714052101111</li><li>21.6029372399539</li><li>24.3419717967869</li><li>21.666574628348</li><li>24.1233476885824</li><li>25.2164428886836</li><li>27.780334502795</li><li>24.6131978303614</li><li>23.9753161249261</li><li>27.0208986402541</li><li>25.7207717642821</li><li>22.6548067176295</li><li>22.027281781099</li><li>18.8957734201942</li><li>22.2321202434155</li><li>21.5839459067081</li><li>21.6783212089141</li><li>22.2792201756998</li><li>20.5067189943899</li><li>21.1667774591391</li><li>18.3039008291424</li><li>26.6507631067656</li><li>19.3763637608181</li><li>20.9169663333196</li><li>18.9275733186332</li><li>18.0924331679759</li><li>26.6585813637888</li><li>20.5605171675725</li><li>22.9384804445908</li><li>27.5047406526366</li><li>20.8296495611277</li><li>23.9914540342642</li><li>21.7067667930138</li><li>22.2110158024718</li><li>25.9994617119808</li><li>19.1920067904761</li><li>20.7433508724072</li><li>24.7170019483432</li><li>26.5125142882287</li><li>19.3677183389883</li><li>25.3274202358748</li><li>24.8457935454262</li><li>19.9561914714401</li><li>20.5770596898924</li><li>20.6484497286764</li><li>22.8484536306574</li><li>20.3469632882819</li><li>23.2955001570543</li><li>23.0206675760215</li><li>23.1270921263122</li><li>20.945215525039</li><li>24.4066491415564</li><li>24.0013161363968</li><li>23.4693535619461</li><li>24.5242928287476</li><li>23.4039804703249</li><li>23.884133307687</li><li>28.5390136691084</li><li>26.5019213471118</li><li>23.4803940380735</li><li>19.2068285506438</li><li>19.8570642511567</li><li>21.6316960811245</li><li>19.6122213116874</li><li>22.3093832731538</li><li>22.5025227485913</li><li>27.9268375531632</li><li>24.1527454165244</li><li>23.7143341380207</li><li>20.3144790949417</li><li>22.9911842342189</li><li>22.703166623698</li><li>22.4028560274966</li><li>24.8016071173798</li><li>26.9451625420928</li><li>23.6217559235855</li><li>20.7353458432571</li><li>22.3954123398117</li><li>19.8764196762667</li><li>22.0627977758769</li><li>22.9411042662177</li><li>18.1770208022436</li><li>24.3927723320948</li><li>18.3717935862491</li><li>20.7930948949035</li><li>19.8588813461033</li><li>22.2832764832892</li><li>19.097622259022</li><li>24.3078780686639</li><li>19.6251755570436</li><li>28.9882138597562</li><li>20.1123285720721</li><li>22.2129264968676</li><li>20.8122488093162</li><li>24.4798068994465</li><li>19.5184629287601</li><li>29.0058559386846</li><li>18.1408236494421</li><li>20.3229044540513</li><li>18.7851074492114</li><li>18.4534038706314</li><li>26.2429413030382</li><li>23.0332761755456</li><li>22.2013351665055</li><li>28.9991783063439</li><li>21.7786188199307</li><li>22.2711773933235</li><li>23.8304541552913</li><li>19.4558603066267</li><li>22.0719131182548</li><li>22.4872038878966</li><li>21.955520896126</li><li>25.4816116800674</li><li>18.4406745305367</li><li>24.7024826708304</li><li>19.6257453757332</li><li>26.3846106438967</li><li>20.0145050869698</li><li>24.6301866902713</li><li>25.0708565822333</li><li>25.1599687430853</li><li>25.1009680540039</li><li>22.0438106606215</li><li>19.3164728637939</li><li>25.4453796112729</li><li>26.1582775720705</li><li>25.9866914471184</li><li>25.5623385259117</li><li>28.9287556747101</li><li>21.5324511102992</li><li>22.5577881952327</li><li>21.0217825797715</li><li>19.1726987322174</li><li>20.3526004016719</li><li>24.70446047488</li><li>21.1097192653198</li><li>24.3587083536758</li><li>27.3464201271649</li><li>25.1321809992513</li><li>21.3605871698478</li><li>21.9526768993531</li><li>22.6432670236788</li><li>23.0537896766253</li><li>22.9468569673676</li><li>21.9060190760892</li><li>19.9341065019958</li><li>23.788708420917</li><li>22.7977417467466</li><li>28.4100617728977</li><li>22.4071807227059</li><li>20.6444654735726</li><li>20.5410074334496</li><li>23.4580463656795</li><li>26.456419410494</li><li>⋯</li><li>24.302671241259</li><li>25.0417841251835</li><li>24.489797559011</li><li>20.3331876137571</li><li>23.5841930092015</li><li>20.1177146872802</li><li>19.4545896466868</li><li>21.0982298567044</li><li>18.4879964756565</li><li>26.0765136739366</li><li>20.0162175037437</li><li>27.6160477920377</li><li>19.2368820190042</li><li>25.868692978268</li><li>18.3264171567407</li><li>21.3181950651274</li><li>22.6757068562725</li><li>19.6550401521798</li><li>20.5439829372718</li><li>23.6057166314576</li><li>29.1731116265057</li><li>23.1110656101025</li><li>24.3988540031853</li><li>18.4210318351354</li><li>22.3872034362497</li><li>23.8451134314245</li><li>23.6277895913762</li><li>20.0427941757413</li><li>19.8067777984333</li><li>21.1010755094462</li><li>23.0365406135442</li><li>22.5185370624904</li><li>23.8153270257073</li><li>23.8740220345565</li><li>19.382665521559</li><li>21.5593797379763</li><li>21.5204499681028</li><li>22.6364016691379</li><li>21.7661210723263</li><li>24.6728487756181</li><li>21.7606433835606</li><li>20.5865361846636</li><li>21.8531769277917</li><li>23.0752436156175</li><li>22.5545947337375</li><li>27.9963042899482</li><li>20.3591228654358</li><li>24.0030831412037</li><li>23.6435712252818</li><li>20.56757117585</li><li>25.3279970379874</li><li>23.1909906035808</li><li>21.7442549625399</li><li>20.3298886780578</li><li>21.4207844334585</li><li>19.5597553768502</li><li>19.6986662961261</li><li>23.9084880356333</li><li>21.4026049760477</li><li>24.0938222839991</li><li>22.2102326098403</li><li>20.1167359343618</li><li>20.8791598706891</li><li>22.4274435066266</li><li>22.4103692839226</li><li>18.8693933215587</li><li>21.694859824429</li><li>22.9608281553676</li><li>26.4760633438271</li><li>21.4652584493181</li><li>18.2110030708361</li><li>24.2478711363122</li><li>23.5951118259884</li><li>21.773943580117</li><li>24.9659779353933</li><li>18.8879547280373</li><li>24.5961112616755</li><li>20.421208974167</li><li>22.7578719660133</li><li>19.3579323757949</li><li>21.9418101362022</li><li>18.8024372291939</li><li>21.7429961761502</li><li>22.373155940577</li><li>23.4418810202169</li><li>19.1638662862237</li><li>19.4714813614517</li><li>18.125201166503</li><li>24.2034622214622</li><li>22.6434664954808</li><li>24.0331692995601</li><li>20.3300143529213</li><li>19.5143448316701</li><li>22.1991156806127</li><li>20.5610044178523</li><li>25.1868618367434</li><li>22.6075204449902</li><li>22.1747220359317</li><li>23.147449623989</li><li>24.0891862820656</li><li>22.6355380369743</li><li>18.7271293192744</li><li>21.3153745173528</li><li>18.6513957696687</li><li>21.2095857687183</li><li>20.5358342848355</li><li>19.0580374467822</li><li>24.1372232238908</li><li>19.4856966343941</li><li>20.5856214717988</li><li>25.6307590135764</li><li>19.0812805314354</li><li>21.3106254617248</li><li>18.6428038095332</li><li>24.9235010539563</li><li>21.5342466362532</li><li>21.6838308171477</li><li>24.4812711522074</li><li>23.0776695347662</li><li>24.050484675737</li><li>26.2687776236172</li><li>21.7678698714621</li><li>18.3523416536908</li><li>25.1711008894142</li><li>26.9373380613925</li><li>19.770735882995</li><li>23.358859074449</li><li>24.2046518615222</li><li>18.2746409133338</li><li>22.1114272078922</li><li>18.8582311240466</li><li>20.3481099089626</li><li>21.554478956907</li><li>23.0067319046996</li><li>22.8063889141701</li><li>23.159523389366</li><li>20.1262459248576</li><li>20.5837381701543</li><li>27.1695365942642</li><li>22.4006687651095</li><li>18.5582155616727</li><li>20.89932575197</li><li>20.6265039007103</li><li>22.5630880186023</li><li>21.065182722893</li><li>18.7619445997031</li><li>23.0021103447847</li><li>21.2483579387296</li><li>22.196593471949</li><li>20.50337293672</li><li>19.0785195206647</li><li>28.3689717582516</li><li>25.2530899326705</li><li>18.5840148016271</li><li>19.6653600519073</li><li>18.9640033830658</li><li>21.6693164873693</li><li>20.3414195609558</li><li>25.0939004315379</li><li>23.4504738486583</li><li>23.1516927041908</li><li>26.7383950090927</li><li>21.592704612941</li><li>21.9444994554615</li><li>21.3109940131223</li><li>20.9422203960273</li><li>23.3325507820388</li><li>22.1785619411026</li><li>24.544289307383</li><li>25.1575125104695</li><li>28.4177129176175</li><li>20.2975290826116</li><li>25.9940572820449</li><li>23.4902793639844</li><li>19.5280568382725</li><li>26.7285898450069</li><li>21.3258153493227</li><li>27.5072720244455</li><li>19.2609752054849</li><li>18.7895081172126</li><li>20.9981519513246</li><li>19.6251567173651</li><li>21.5601123692108</li><li>21.6729906339771</li><li>22.253616970533</li><li>20.5175853910926</li><li>22.7082303533235</li><li>24.6250917903896</li><li>22.3115092985262</li><li>32.4642137983939</li><li>21.2960186366897</li><li>22.9711497207521</li><li>23.5949894079106</li><li>21.2303461020729</li><li>20.7214669995753</li><li>18.9720678017169</li><li>23.8532116816306</li><li>26.8369407809369</li><li>18.7984208870246</li><li>25.5852977482502</li></ol>\n"
            ],
            "text/markdown": "1. 27.6542743770503\n2. 24.0980117455744\n3. 20.9635514486129\n4. 26.1597878833169\n5. 20.7652947735253\n6. 23.604533037206\n7. 20.5258298906715\n8. 22.453414326148\n9. 23.3641664571319\n10. 25.6214396252292\n11. 18.2239436174906\n12. 23.1860683348688\n13. 21.7312130623693\n14. 22.513266665987\n15. 19.7728917790917\n16. 22.4060472561174\n17. 24.5544490380749\n18. 21.9205691268564\n19. 25.1230090945783\n20. 22.654024048489\n21. 29.7620690595171\n22. 23.9956262736216\n23. 24.6214022513517\n24. 23.2378874285423\n25. 24.0180178941709\n26. 26.4251301248761\n27. 19.0350600827898\n28. 24.7998883498693\n29. 22.1632199895066\n30. 20.3745107352428\n31. 19.7759657172838\n32. 24.786194032145\n33. 24.6130123436326\n34. 20.425652662221\n35. 19.4708696605988\n36. 25.3240285282968\n37. 20.3739036350778\n38. 23.5024985717219\n39. 27.5858628615077\n40. 22.2824984516243\n41. 20.425644954271\n42. 18.6276364390739\n43. 22.1556715134283\n44. 19.9294020260119\n45. 20.3655581807777\n46. 19.3692669160716\n47. 24.3714052101111\n48. 21.6029372399539\n49. 24.3419717967869\n50. 21.666574628348\n51. 24.1233476885824\n52. 25.2164428886836\n53. 27.780334502795\n54. 24.6131978303614\n55. 23.9753161249261\n56. 27.0208986402541\n57. 25.7207717642821\n58. 22.6548067176295\n59. 22.027281781099\n60. 18.8957734201942\n61. 22.2321202434155\n62. 21.5839459067081\n63. 21.6783212089141\n64. 22.2792201756998\n65. 20.5067189943899\n66. 21.1667774591391\n67. 18.3039008291424\n68. 26.6507631067656\n69. 19.3763637608181\n70. 20.9169663333196\n71. 18.9275733186332\n72. 18.0924331679759\n73. 26.6585813637888\n74. 20.5605171675725\n75. 22.9384804445908\n76. 27.5047406526366\n77. 20.8296495611277\n78. 23.9914540342642\n79. 21.7067667930138\n80. 22.2110158024718\n81. 25.9994617119808\n82. 19.1920067904761\n83. 20.7433508724072\n84. 24.7170019483432\n85. 26.5125142882287\n86. 19.3677183389883\n87. 25.3274202358748\n88. 24.8457935454262\n89. 19.9561914714401\n90. 20.5770596898924\n91. 20.6484497286764\n92. 22.8484536306574\n93. 20.3469632882819\n94. 23.2955001570543\n95. 23.0206675760215\n96. 23.1270921263122\n97. 20.945215525039\n98. 24.4066491415564\n99. 24.0013161363968\n100. 23.4693535619461\n101. 24.5242928287476\n102. 23.4039804703249\n103. 23.884133307687\n104. 28.5390136691084\n105. 26.5019213471118\n106. 23.4803940380735\n107. 19.2068285506438\n108. 19.8570642511567\n109. 21.6316960811245\n110. 19.6122213116874\n111. 22.3093832731538\n112. 22.5025227485913\n113. 27.9268375531632\n114. 24.1527454165244\n115. 23.7143341380207\n116. 20.3144790949417\n117. 22.9911842342189\n118. 22.703166623698\n119. 22.4028560274966\n120. 24.8016071173798\n121. 26.9451625420928\n122. 23.6217559235855\n123. 20.7353458432571\n124. 22.3954123398117\n125. 19.8764196762667\n126. 22.0627977758769\n127. 22.9411042662177\n128. 18.1770208022436\n129. 24.3927723320948\n130. 18.3717935862491\n131. 20.7930948949035\n132. 19.8588813461033\n133. 22.2832764832892\n134. 19.097622259022\n135. 24.3078780686639\n136. 19.6251755570436\n137. 28.9882138597562\n138. 20.1123285720721\n139. 22.2129264968676\n140. 20.8122488093162\n141. 24.4798068994465\n142. 19.5184629287601\n143. 29.0058559386846\n144. 18.1408236494421\n145. 20.3229044540513\n146. 18.7851074492114\n147. 18.4534038706314\n148. 26.2429413030382\n149. 23.0332761755456\n150. 22.2013351665055\n151. 28.9991783063439\n152. 21.7786188199307\n153. 22.2711773933235\n154. 23.8304541552913\n155. 19.4558603066267\n156. 22.0719131182548\n157. 22.4872038878966\n158. 21.955520896126\n159. 25.4816116800674\n160. 18.4406745305367\n161. 24.7024826708304\n162. 19.6257453757332\n163. 26.3846106438967\n164. 20.0145050869698\n165. 24.6301866902713\n166. 25.0708565822333\n167. 25.1599687430853\n168. 25.1009680540039\n169. 22.0438106606215\n170. 19.3164728637939\n171. 25.4453796112729\n172. 26.1582775720705\n173. 25.9866914471184\n174. 25.5623385259117\n175. 28.9287556747101\n176. 21.5324511102992\n177. 22.5577881952327\n178. 21.0217825797715\n179. 19.1726987322174\n180. 20.3526004016719\n181. 24.70446047488\n182. 21.1097192653198\n183. 24.3587083536758\n184. 27.3464201271649\n185. 25.1321809992513\n186. 21.3605871698478\n187. 21.9526768993531\n188. 22.6432670236788\n189. 23.0537896766253\n190. 22.9468569673676\n191. 21.9060190760892\n192. 19.9341065019958\n193. 23.788708420917\n194. 22.7977417467466\n195. 28.4100617728977\n196. 22.4071807227059\n197. 20.6444654735726\n198. 20.5410074334496\n199. 23.4580463656795\n200. 26.456419410494\n201. ⋯\n202. 24.302671241259\n203. 25.0417841251835\n204. 24.489797559011\n205. 20.3331876137571\n206. 23.5841930092015\n207. 20.1177146872802\n208. 19.4545896466868\n209. 21.0982298567044\n210. 18.4879964756565\n211. 26.0765136739366\n212. 20.0162175037437\n213. 27.6160477920377\n214. 19.2368820190042\n215. 25.868692978268\n216. 18.3264171567407\n217. 21.3181950651274\n218. 22.6757068562725\n219. 19.6550401521798\n220. 20.5439829372718\n221. 23.6057166314576\n222. 29.1731116265057\n223. 23.1110656101025\n224. 24.3988540031853\n225. 18.4210318351354\n226. 22.3872034362497\n227. 23.8451134314245\n228. 23.6277895913762\n229. 20.0427941757413\n230. 19.8067777984333\n231. 21.1010755094462\n232. 23.0365406135442\n233. 22.5185370624904\n234. 23.8153270257073\n235. 23.8740220345565\n236. 19.382665521559\n237. 21.5593797379763\n238. 21.5204499681028\n239. 22.6364016691379\n240. 21.7661210723263\n241. 24.6728487756181\n242. 21.7606433835606\n243. 20.5865361846636\n244. 21.8531769277917\n245. 23.0752436156175\n246. 22.5545947337375\n247. 27.9963042899482\n248. 20.3591228654358\n249. 24.0030831412037\n250. 23.6435712252818\n251. 20.56757117585\n252. 25.3279970379874\n253. 23.1909906035808\n254. 21.7442549625399\n255. 20.3298886780578\n256. 21.4207844334585\n257. 19.5597553768502\n258. 19.6986662961261\n259. 23.9084880356333\n260. 21.4026049760477\n261. 24.0938222839991\n262. 22.2102326098403\n263. 20.1167359343618\n264. 20.8791598706891\n265. 22.4274435066266\n266. 22.4103692839226\n267. 18.8693933215587\n268. 21.694859824429\n269. 22.9608281553676\n270. 26.4760633438271\n271. 21.4652584493181\n272. 18.2110030708361\n273. 24.2478711363122\n274. 23.5951118259884\n275. 21.773943580117\n276. 24.9659779353933\n277. 18.8879547280373\n278. 24.5961112616755\n279. 20.421208974167\n280. 22.7578719660133\n281. 19.3579323757949\n282. 21.9418101362022\n283. 18.8024372291939\n284. 21.7429961761502\n285. 22.373155940577\n286. 23.4418810202169\n287. 19.1638662862237\n288. 19.4714813614517\n289. 18.125201166503\n290. 24.2034622214622\n291. 22.6434664954808\n292. 24.0331692995601\n293. 20.3300143529213\n294. 19.5143448316701\n295. 22.1991156806127\n296. 20.5610044178523\n297. 25.1868618367434\n298. 22.6075204449902\n299. 22.1747220359317\n300. 23.147449623989\n301. 24.0891862820656\n302. 22.6355380369743\n303. 18.7271293192744\n304. 21.3153745173528\n305. 18.6513957696687\n306. 21.2095857687183\n307. 20.5358342848355\n308. 19.0580374467822\n309. 24.1372232238908\n310. 19.4856966343941\n311. 20.5856214717988\n312. 25.6307590135764\n313. 19.0812805314354\n314. 21.3106254617248\n315. 18.6428038095332\n316. 24.9235010539563\n317. 21.5342466362532\n318. 21.6838308171477\n319. 24.4812711522074\n320. 23.0776695347662\n321. 24.050484675737\n322. 26.2687776236172\n323. 21.7678698714621\n324. 18.3523416536908\n325. 25.1711008894142\n326. 26.9373380613925\n327. 19.770735882995\n328. 23.358859074449\n329. 24.2046518615222\n330. 18.2746409133338\n331. 22.1114272078922\n332. 18.8582311240466\n333. 20.3481099089626\n334. 21.554478956907\n335. 23.0067319046996\n336. 22.8063889141701\n337. 23.159523389366\n338. 20.1262459248576\n339. 20.5837381701543\n340. 27.1695365942642\n341. 22.4006687651095\n342. 18.5582155616727\n343. 20.89932575197\n344. 20.6265039007103\n345. 22.5630880186023\n346. 21.065182722893\n347. 18.7619445997031\n348. 23.0021103447847\n349. 21.2483579387296\n350. 22.196593471949\n351. 20.50337293672\n352. 19.0785195206647\n353. 28.3689717582516\n354. 25.2530899326705\n355. 18.5840148016271\n356. 19.6653600519073\n357. 18.9640033830658\n358. 21.6693164873693\n359. 20.3414195609558\n360. 25.0939004315379\n361. 23.4504738486583\n362. 23.1516927041908\n363. 26.7383950090927\n364. 21.592704612941\n365. 21.9444994554615\n366. 21.3109940131223\n367. 20.9422203960273\n368. 23.3325507820388\n369. 22.1785619411026\n370. 24.544289307383\n371. 25.1575125104695\n372. 28.4177129176175\n373. 20.2975290826116\n374. 25.9940572820449\n375. 23.4902793639844\n376. 19.5280568382725\n377. 26.7285898450069\n378. 21.3258153493227\n379. 27.5072720244455\n380. 19.2609752054849\n381. 18.7895081172126\n382. 20.9981519513246\n383. 19.6251567173651\n384. 21.5601123692108\n385. 21.6729906339771\n386. 22.253616970533\n387. 20.5175853910926\n388. 22.7082303533235\n389. 24.6250917903896\n390. 22.3115092985262\n391. 32.4642137983939\n392. 21.2960186366897\n393. 22.9711497207521\n394. 23.5949894079106\n395. 21.2303461020729\n396. 20.7214669995753\n397. 18.9720678017169\n398. 23.8532116816306\n399. 26.8369407809369\n400. 18.7984208870246\n401. 25.5852977482502\n\n\n",
            "text/latex": "\\begin{enumerate*}\n\\item 27.6542743770503\n\\item 24.0980117455744\n\\item 20.9635514486129\n\\item 26.1597878833169\n\\item 20.7652947735253\n\\item 23.604533037206\n\\item 20.5258298906715\n\\item 22.453414326148\n\\item 23.3641664571319\n\\item 25.6214396252292\n\\item 18.2239436174906\n\\item 23.1860683348688\n\\item 21.7312130623693\n\\item 22.513266665987\n\\item 19.7728917790917\n\\item 22.4060472561174\n\\item 24.5544490380749\n\\item 21.9205691268564\n\\item 25.1230090945783\n\\item 22.654024048489\n\\item 29.7620690595171\n\\item 23.9956262736216\n\\item 24.6214022513517\n\\item 23.2378874285423\n\\item 24.0180178941709\n\\item 26.4251301248761\n\\item 19.0350600827898\n\\item 24.7998883498693\n\\item 22.1632199895066\n\\item 20.3745107352428\n\\item 19.7759657172838\n\\item 24.786194032145\n\\item 24.6130123436326\n\\item 20.425652662221\n\\item 19.4708696605988\n\\item 25.3240285282968\n\\item 20.3739036350778\n\\item 23.5024985717219\n\\item 27.5858628615077\n\\item 22.2824984516243\n\\item 20.425644954271\n\\item 18.6276364390739\n\\item 22.1556715134283\n\\item 19.9294020260119\n\\item 20.3655581807777\n\\item 19.3692669160716\n\\item 24.3714052101111\n\\item 21.6029372399539\n\\item 24.3419717967869\n\\item 21.666574628348\n\\item 24.1233476885824\n\\item 25.2164428886836\n\\item 27.780334502795\n\\item 24.6131978303614\n\\item 23.9753161249261\n\\item 27.0208986402541\n\\item 25.7207717642821\n\\item 22.6548067176295\n\\item 22.027281781099\n\\item 18.8957734201942\n\\item 22.2321202434155\n\\item 21.5839459067081\n\\item 21.6783212089141\n\\item 22.2792201756998\n\\item 20.5067189943899\n\\item 21.1667774591391\n\\item 18.3039008291424\n\\item 26.6507631067656\n\\item 19.3763637608181\n\\item 20.9169663333196\n\\item 18.9275733186332\n\\item 18.0924331679759\n\\item 26.6585813637888\n\\item 20.5605171675725\n\\item 22.9384804445908\n\\item 27.5047406526366\n\\item 20.8296495611277\n\\item 23.9914540342642\n\\item 21.7067667930138\n\\item 22.2110158024718\n\\item 25.9994617119808\n\\item 19.1920067904761\n\\item 20.7433508724072\n\\item 24.7170019483432\n\\item 26.5125142882287\n\\item 19.3677183389883\n\\item 25.3274202358748\n\\item 24.8457935454262\n\\item 19.9561914714401\n\\item 20.5770596898924\n\\item 20.6484497286764\n\\item 22.8484536306574\n\\item 20.3469632882819\n\\item 23.2955001570543\n\\item 23.0206675760215\n\\item 23.1270921263122\n\\item 20.945215525039\n\\item 24.4066491415564\n\\item 24.0013161363968\n\\item 23.4693535619461\n\\item 24.5242928287476\n\\item 23.4039804703249\n\\item 23.884133307687\n\\item 28.5390136691084\n\\item 26.5019213471118\n\\item 23.4803940380735\n\\item 19.2068285506438\n\\item 19.8570642511567\n\\item 21.6316960811245\n\\item 19.6122213116874\n\\item 22.3093832731538\n\\item 22.5025227485913\n\\item 27.9268375531632\n\\item 24.1527454165244\n\\item 23.7143341380207\n\\item 20.3144790949417\n\\item 22.9911842342189\n\\item 22.703166623698\n\\item 22.4028560274966\n\\item 24.8016071173798\n\\item 26.9451625420928\n\\item 23.6217559235855\n\\item 20.7353458432571\n\\item 22.3954123398117\n\\item 19.8764196762667\n\\item 22.0627977758769\n\\item 22.9411042662177\n\\item 18.1770208022436\n\\item 24.3927723320948\n\\item 18.3717935862491\n\\item 20.7930948949035\n\\item 19.8588813461033\n\\item 22.2832764832892\n\\item 19.097622259022\n\\item 24.3078780686639\n\\item 19.6251755570436\n\\item 28.9882138597562\n\\item 20.1123285720721\n\\item 22.2129264968676\n\\item 20.8122488093162\n\\item 24.4798068994465\n\\item 19.5184629287601\n\\item 29.0058559386846\n\\item 18.1408236494421\n\\item 20.3229044540513\n\\item 18.7851074492114\n\\item 18.4534038706314\n\\item 26.2429413030382\n\\item 23.0332761755456\n\\item 22.2013351665055\n\\item 28.9991783063439\n\\item 21.7786188199307\n\\item 22.2711773933235\n\\item 23.8304541552913\n\\item 19.4558603066267\n\\item 22.0719131182548\n\\item 22.4872038878966\n\\item 21.955520896126\n\\item 25.4816116800674\n\\item 18.4406745305367\n\\item 24.7024826708304\n\\item 19.6257453757332\n\\item 26.3846106438967\n\\item 20.0145050869698\n\\item 24.6301866902713\n\\item 25.0708565822333\n\\item 25.1599687430853\n\\item 25.1009680540039\n\\item 22.0438106606215\n\\item 19.3164728637939\n\\item 25.4453796112729\n\\item 26.1582775720705\n\\item 25.9866914471184\n\\item 25.5623385259117\n\\item 28.9287556747101\n\\item 21.5324511102992\n\\item 22.5577881952327\n\\item 21.0217825797715\n\\item 19.1726987322174\n\\item 20.3526004016719\n\\item 24.70446047488\n\\item 21.1097192653198\n\\item 24.3587083536758\n\\item 27.3464201271649\n\\item 25.1321809992513\n\\item 21.3605871698478\n\\item 21.9526768993531\n\\item 22.6432670236788\n\\item 23.0537896766253\n\\item 22.9468569673676\n\\item 21.9060190760892\n\\item 19.9341065019958\n\\item 23.788708420917\n\\item 22.7977417467466\n\\item 28.4100617728977\n\\item 22.4071807227059\n\\item 20.6444654735726\n\\item 20.5410074334496\n\\item 23.4580463656795\n\\item 26.456419410494\n\\item ⋯\n\\item 24.302671241259\n\\item 25.0417841251835\n\\item 24.489797559011\n\\item 20.3331876137571\n\\item 23.5841930092015\n\\item 20.1177146872802\n\\item 19.4545896466868\n\\item 21.0982298567044\n\\item 18.4879964756565\n\\item 26.0765136739366\n\\item 20.0162175037437\n\\item 27.6160477920377\n\\item 19.2368820190042\n\\item 25.868692978268\n\\item 18.3264171567407\n\\item 21.3181950651274\n\\item 22.6757068562725\n\\item 19.6550401521798\n\\item 20.5439829372718\n\\item 23.6057166314576\n\\item 29.1731116265057\n\\item 23.1110656101025\n\\item 24.3988540031853\n\\item 18.4210318351354\n\\item 22.3872034362497\n\\item 23.8451134314245\n\\item 23.6277895913762\n\\item 20.0427941757413\n\\item 19.8067777984333\n\\item 21.1010755094462\n\\item 23.0365406135442\n\\item 22.5185370624904\n\\item 23.8153270257073\n\\item 23.8740220345565\n\\item 19.382665521559\n\\item 21.5593797379763\n\\item 21.5204499681028\n\\item 22.6364016691379\n\\item 21.7661210723263\n\\item 24.6728487756181\n\\item 21.7606433835606\n\\item 20.5865361846636\n\\item 21.8531769277917\n\\item 23.0752436156175\n\\item 22.5545947337375\n\\item 27.9963042899482\n\\item 20.3591228654358\n\\item 24.0030831412037\n\\item 23.6435712252818\n\\item 20.56757117585\n\\item 25.3279970379874\n\\item 23.1909906035808\n\\item 21.7442549625399\n\\item 20.3298886780578\n\\item 21.4207844334585\n\\item 19.5597553768502\n\\item 19.6986662961261\n\\item 23.9084880356333\n\\item 21.4026049760477\n\\item 24.0938222839991\n\\item 22.2102326098403\n\\item 20.1167359343618\n\\item 20.8791598706891\n\\item 22.4274435066266\n\\item 22.4103692839226\n\\item 18.8693933215587\n\\item 21.694859824429\n\\item 22.9608281553676\n\\item 26.4760633438271\n\\item 21.4652584493181\n\\item 18.2110030708361\n\\item 24.2478711363122\n\\item 23.5951118259884\n\\item 21.773943580117\n\\item 24.9659779353933\n\\item 18.8879547280373\n\\item 24.5961112616755\n\\item 20.421208974167\n\\item 22.7578719660133\n\\item 19.3579323757949\n\\item 21.9418101362022\n\\item 18.8024372291939\n\\item 21.7429961761502\n\\item 22.373155940577\n\\item 23.4418810202169\n\\item 19.1638662862237\n\\item 19.4714813614517\n\\item 18.125201166503\n\\item 24.2034622214622\n\\item 22.6434664954808\n\\item 24.0331692995601\n\\item 20.3300143529213\n\\item 19.5143448316701\n\\item 22.1991156806127\n\\item 20.5610044178523\n\\item 25.1868618367434\n\\item 22.6075204449902\n\\item 22.1747220359317\n\\item 23.147449623989\n\\item 24.0891862820656\n\\item 22.6355380369743\n\\item 18.7271293192744\n\\item 21.3153745173528\n\\item 18.6513957696687\n\\item 21.2095857687183\n\\item 20.5358342848355\n\\item 19.0580374467822\n\\item 24.1372232238908\n\\item 19.4856966343941\n\\item 20.5856214717988\n\\item 25.6307590135764\n\\item 19.0812805314354\n\\item 21.3106254617248\n\\item 18.6428038095332\n\\item 24.9235010539563\n\\item 21.5342466362532\n\\item 21.6838308171477\n\\item 24.4812711522074\n\\item 23.0776695347662\n\\item 24.050484675737\n\\item 26.2687776236172\n\\item 21.7678698714621\n\\item 18.3523416536908\n\\item 25.1711008894142\n\\item 26.9373380613925\n\\item 19.770735882995\n\\item 23.358859074449\n\\item 24.2046518615222\n\\item 18.2746409133338\n\\item 22.1114272078922\n\\item 18.8582311240466\n\\item 20.3481099089626\n\\item 21.554478956907\n\\item 23.0067319046996\n\\item 22.8063889141701\n\\item 23.159523389366\n\\item 20.1262459248576\n\\item 20.5837381701543\n\\item 27.1695365942642\n\\item 22.4006687651095\n\\item 18.5582155616727\n\\item 20.89932575197\n\\item 20.6265039007103\n\\item 22.5630880186023\n\\item 21.065182722893\n\\item 18.7619445997031\n\\item 23.0021103447847\n\\item 21.2483579387296\n\\item 22.196593471949\n\\item 20.50337293672\n\\item 19.0785195206647\n\\item 28.3689717582516\n\\item 25.2530899326705\n\\item 18.5840148016271\n\\item 19.6653600519073\n\\item 18.9640033830658\n\\item 21.6693164873693\n\\item 20.3414195609558\n\\item 25.0939004315379\n\\item 23.4504738486583\n\\item 23.1516927041908\n\\item 26.7383950090927\n\\item 21.592704612941\n\\item 21.9444994554615\n\\item 21.3109940131223\n\\item 20.9422203960273\n\\item 23.3325507820388\n\\item 22.1785619411026\n\\item 24.544289307383\n\\item 25.1575125104695\n\\item 28.4177129176175\n\\item 20.2975290826116\n\\item 25.9940572820449\n\\item 23.4902793639844\n\\item 19.5280568382725\n\\item 26.7285898450069\n\\item 21.3258153493227\n\\item 27.5072720244455\n\\item 19.2609752054849\n\\item 18.7895081172126\n\\item 20.9981519513246\n\\item 19.6251567173651\n\\item 21.5601123692108\n\\item 21.6729906339771\n\\item 22.253616970533\n\\item 20.5175853910926\n\\item 22.7082303533235\n\\item 24.6250917903896\n\\item 22.3115092985262\n\\item 32.4642137983939\n\\item 21.2960186366897\n\\item 22.9711497207521\n\\item 23.5949894079106\n\\item 21.2303461020729\n\\item 20.7214669995753\n\\item 18.9720678017169\n\\item 23.8532116816306\n\\item 26.8369407809369\n\\item 18.7984208870246\n\\item 25.5852977482502\n\\end{enumerate*}\n",
            "text/plain": [
              "   [1] 27.65427 24.09801 20.96355 26.15979 20.76529 23.60453 20.52583 22.45341\n",
              "   [9] 23.36417 25.62144 18.22394 23.18607 21.73121 22.51327 19.77289 22.40605\n",
              "  [17] 24.55445 21.92057 25.12301 22.65402 29.76207 23.99563 24.62140 23.23789\n",
              "  [25] 24.01802 26.42513 19.03506 24.79989 22.16322 20.37451 19.77597 24.78619\n",
              "  [33] 24.61301 20.42565 19.47087 25.32403 20.37390 23.50250 27.58586 22.28250\n",
              "  [41] 20.42564 18.62764 22.15567 19.92940 20.36556 19.36927 24.37141 21.60294\n",
              "  [49] 24.34197 21.66657 24.12335 25.21644 27.78033 24.61320 23.97532 27.02090\n",
              "  [57] 25.72077 22.65481 22.02728 18.89577 22.23212 21.58395 21.67832 22.27922\n",
              "  [65] 20.50672 21.16678 18.30390 26.65076 19.37636 20.91697 18.92757 18.09243\n",
              "  [73] 26.65858 20.56052 22.93848 27.50474 20.82965 23.99145 21.70677 22.21102\n",
              "  [81] 25.99946 19.19201 20.74335 24.71700 26.51251 19.36772 25.32742 24.84579\n",
              "  [89] 19.95619 20.57706 20.64845 22.84845 20.34696 23.29550 23.02067 23.12709\n",
              "  [97] 20.94522 24.40665 24.00132 23.46935 24.52429 23.40398 23.88413 28.53901\n",
              " [105] 26.50192 23.48039 19.20683 19.85706 21.63170 19.61222 22.30938 22.50252\n",
              " [113] 27.92684 24.15275 23.71433 20.31448 22.99118 22.70317 22.40286 24.80161\n",
              " [121] 26.94516 23.62176 20.73535 22.39541 19.87642 22.06280 22.94110 18.17702\n",
              " [129] 24.39277 18.37179 20.79309 19.85888 22.28328 19.09762 24.30788 19.62518\n",
              " [137] 28.98821 20.11233 22.21293 20.81225 24.47981 19.51846 29.00586 18.14082\n",
              " [145] 20.32290 18.78511 18.45340 26.24294 23.03328 22.20134 28.99918 21.77862\n",
              " [153] 22.27118 23.83045 19.45586 22.07191 22.48720 21.95552 25.48161 18.44067\n",
              " [161] 24.70248 19.62575 26.38461 20.01451 24.63019 25.07086 25.15997 25.10097\n",
              " [169] 22.04381 19.31647 25.44538 26.15828 25.98669 25.56234 28.92876 21.53245\n",
              " [177] 22.55779 21.02178 19.17270 20.35260 24.70446 21.10972 24.35871 27.34642\n",
              " [185] 25.13218 21.36059 21.95268 22.64327 23.05379 22.94686 21.90602 19.93411\n",
              " [193] 23.78871 22.79774 28.41006 22.40718 20.64447 20.54101 23.45805 26.45642\n",
              " [201] 20.57708 23.31586 24.50580 19.50180 24.46383 19.84512 24.30680 23.13864\n",
              " [209] 23.44702 20.76632 20.27554 23.58138 21.55408 23.89133 20.90782 22.76657\n",
              " [217] 25.56753 20.12629 23.73929 23.62209 20.37977 24.87095 21.68749 19.59530\n",
              " [225] 19.66060 22.65068 23.00980 19.54304 18.16928 27.29274 25.79990 22.37283\n",
              " [233] 24.10591 20.78496 18.29977 21.19069 23.68837 23.10577 24.41493 23.12087\n",
              " [241] 22.55865 23.54445 24.10503 24.13038 24.83211 26.69343 18.69330 24.03280\n",
              " [249] 25.83268 20.13293 20.13796 20.47573 21.27721 23.34946 24.09028 21.65002\n",
              " [257] 29.88422 23.49225 28.20428 21.36245 21.68050 25.23873 21.95231 20.24895\n",
              " [265] 21.72762 20.25182 22.57105 18.69184 18.46528 23.89456 23.20694 23.28034\n",
              " [273] 25.26457 19.57364 28.91161 24.94817 25.13147 24.71398 23.12002 23.11194\n",
              " [281] 20.64390 23.10578 21.27293 30.26432 26.12265 22.41431 22.44344 20.28635\n",
              " [289] 18.73603 21.55256 23.99196 21.96161 24.48353 18.47541 18.76338 22.49262\n",
              " [297] 23.39465 21.26630 19.75908 21.43631 20.99897 20.98360 29.39823 27.01062\n",
              " [305] 24.75076 23.70641 18.00989 21.55246 20.47785 22.85492 19.51138 24.85473\n",
              " [313] 20.37013 29.34276 21.20220 26.29994 22.19395 23.31834 19.58638 20.02208\n",
              " [321] 18.03761 21.70208 24.68619 21.10822 21.95335 21.79286 22.30062 19.94026\n",
              " [329] 23.01763 23.68418 21.32762 22.03522 21.76993 20.03413 24.46651 20.50455\n",
              " [337] 18.01963 24.29211 21.59130 21.48493 24.37080 21.27328 24.20277 21.76012\n",
              " [345] 23.77470 24.19755 21.19116 21.88363 23.25204 25.69335 22.82454 26.57966\n",
              " [353] 22.28668 22.22798 24.86097 18.72840 20.04076 26.55752 21.95481 19.39667\n",
              " [361] 23.82033 28.28485 23.56288 26.25706 18.86283 23.73998 22.53231 23.25206\n",
              " [369] 24.71787 28.17379 18.87031 29.11504 20.79176 26.27432 19.45573 24.63564\n",
              " [377] 18.85288 22.54496 18.27600 22.47917 27.98352 18.07053 23.31097 20.09096\n",
              " [385] 20.70719 26.99142 19.18710 21.26703 26.16040 22.01791 21.51290 24.37218\n",
              " [393] 24.31883 21.41375 26.30166 22.86519 19.59004 19.48250 19.98780 25.26807\n",
              " [401] 30.08559 31.65116 24.49623 23.94170 18.86419 21.05484 22.22431 24.56707\n",
              " [409] 19.89910 21.44598 18.66335 23.79465 19.68742 20.44497 28.61491 23.56876\n",
              " [417] 29.36975 23.59587 19.66031 26.37970 27.89895 22.59598 20.15736 19.90866\n",
              " [425] 21.15175 22.23460 18.16532 23.55925 19.31841 21.68036 25.53052 21.57066\n",
              " [433] 21.81503 22.21967 21.88138 19.45151 23.01639 27.81905 20.73530 23.34554\n",
              " [441] 26.11960 24.19066 24.73658 24.61257 26.92072 18.96360 26.17106 23.65549\n",
              " [449] 23.07343 22.46929 19.36012 19.54740 22.87411 21.59119 22.63182 19.84600\n",
              " [457] 23.08469 20.83392 18.47102 23.79607 22.78463 20.03658 21.87991 22.00683\n",
              " [465] 20.37350 19.43787 21.10423 19.22899 20.46873 20.04899 21.48607 22.75072\n",
              " [473] 25.99128 24.47997 19.23008 21.32993 23.12660 25.28332 24.43044 26.19656\n",
              " [481] 20.69840 25.76265 19.95360 18.27619 18.15934 22.59768 27.58430 23.70443\n",
              " [489] 19.50397 23.41587 24.18509 19.74832 20.92301 21.36782 28.74072 21.08314\n",
              " [497] 21.66628 22.03791 19.55878 23.24888 21.34722 20.41931 19.05625 30.99013\n",
              " [505] 23.11970 24.47918 23.73621 23.17829 24.51298 21.10510 25.08533 23.02160\n",
              " [513] 24.43271 19.12951 19.29742 21.64633 22.00663 25.12746 22.83805 21.13110\n",
              " [521] 22.20194 20.13497 24.82817 26.88202 22.19999 22.14897 21.88266 18.27862\n",
              " [529] 19.12690 19.76506 28.83045 18.21611 18.18566 21.97623 23.40469 21.22742\n",
              " [537] 19.15962 19.07007 27.25263 18.47254 18.34050 25.36762 20.95182 18.10751\n",
              " [545] 29.24598 18.29604 20.08119 18.21614 22.60583 23.04497 22.79237 20.79955\n",
              " [553] 19.12461 19.11673 21.99637 21.53012 21.49492 19.48491 20.31024 24.06148\n",
              " [561] 25.98557 22.46812 24.04070 20.34398 27.38007 24.96722 20.11458 22.35897\n",
              " [569] 21.97701 23.22583 22.18027 21.32995 22.37737 20.57897 21.49761 18.76935\n",
              " [577] 26.14006 29.90410 21.30580 20.68990 23.07440 24.21257 23.56845 18.83392\n",
              " [585] 19.01078 19.24790 23.21758 19.14311 25.33318 24.00137 18.51389 23.29639\n",
              " [593] 22.72162 24.33754 24.24216 19.99900 25.32512 22.29187 25.92047 23.86910\n",
              " [601] 26.95824 20.58213 18.03950 18.25469 25.62261 19.19065 20.47281 21.77876\n",
              " [609] 21.13662 25.36171 24.82485 24.84673 24.62571 22.31191 21.69845 24.78749\n",
              " [617] 25.20071 24.47670 23.49110 20.06344 23.98953 19.64549 22.73368 27.31675\n",
              " [625] 21.32017 26.21362 22.24661 25.30467 19.25065 22.12775 27.60340 19.43162\n",
              " [633] 20.02854 18.97036 18.72445 23.46065 24.23755 23.84806 20.03063 21.80005\n",
              " [641] 25.41845 22.84194 22.97623 21.36696 19.23171 20.27131 20.50464 24.54477\n",
              " [649] 25.02709 19.43215 23.95036 22.09060 25.21118 19.90817 25.28353 22.07338\n",
              " [657] 22.22812 20.04769 19.99441 20.04285 20.60744 20.85645 20.35031 26.78965\n",
              " [665] 23.31359 19.35945 21.70765 21.36093 26.88160 23.61720 23.37859 23.01677\n",
              " [673] 21.87746 18.26536 20.39480 26.92657 19.42560 23.46419 18.52875 20.14746\n",
              " [681] 19.83900 25.90792 21.08349 22.14765 21.91352 26.05400 24.13200 20.69703\n",
              " [689] 22.58118 22.00893 22.47687 29.13159 21.54302 26.12454 21.63361 22.52139\n",
              " [697] 23.06090 18.82760 21.66223 20.94497 20.70891 18.91621 24.61844 24.42757\n",
              " [705] 22.84139 20.72420 22.04589 21.01257 26.19904 20.27815 19.40546 22.92349\n",
              " [713] 21.43719 23.85119 24.00916 19.89761 26.35455 20.73160 26.89789 23.83432\n",
              " [721] 20.48210 21.20543 23.00330 24.81480 23.63503 23.01595 21.65941 18.59126\n",
              " [729] 30.70538 20.99690 22.82111 23.97517 23.24989 23.49848 27.64550 23.15492\n",
              " [737] 22.09492 19.07313 23.34035 23.52503 23.22271 21.57215 20.34305 18.94221\n",
              " [745] 20.79753 23.95915 24.29642 23.25798 21.90930 24.46066 23.36004 24.66973\n",
              " [753] 21.85615 20.25088 26.86001 21.84926 24.27764 23.35786 28.49318 22.66461\n",
              " [761] 22.82643 23.42835 22.71744 18.67469 24.50682 22.45297 18.09120 24.01283\n",
              " [769] 23.74218 19.92105 25.72252 25.08090 21.90249 22.85270 21.53287 25.17432\n",
              " [777] 19.44462 22.06090 23.35433 25.15349 19.69334 18.73479 22.92245 22.70423\n",
              " [785] 26.77391 25.49576 19.25274 21.01499 24.79153 21.17412 23.36383 21.97011\n",
              " [793] 19.63022 22.75040 24.48937 30.59822 19.20977 19.45024 23.50728 22.14350\n",
              " [801] 23.87768 22.75932 20.69569 19.87991 18.44296 20.23369 21.56785 21.34239\n",
              " [809] 21.53018 19.79286 20.93475 19.49467 22.51081 19.23784 20.19461 22.78953\n",
              " [817] 22.74407 28.46792 25.35796 18.85078 25.01078 18.93377 24.00344 28.69215\n",
              " [825] 25.70228 23.04181 26.64508 18.38679 22.52275 21.74158 25.92399 21.78912\n",
              " [833] 24.96618 22.01480 22.59972 20.06137 20.74398 22.12739 21.93014 18.13493\n",
              " [841] 23.61679 22.04000 24.06316 22.35748 23.25835 24.73850 30.90875 24.37154\n",
              " [849] 20.60188 26.70067 19.67873 18.60484 23.65008 20.93780 18.61447 25.75159\n",
              " [857] 25.05433 29.07403 21.07275 18.54705 22.87994 23.04681 20.90088 25.53764\n",
              " [865] 18.47762 26.44832 23.75344 27.23651 26.61352 21.78185 20.01728 25.37590\n",
              " [873] 20.21183 19.64926 26.89273 25.10761 21.73487 21.08317 22.92498 23.99348\n",
              " [881] 23.35728 23.68040 24.92734 23.03351 25.25084 18.73101 21.44415 22.30028\n",
              " [889] 19.62477 20.48089 21.40553 18.97497 19.78895 25.81599 21.62334 20.32079\n",
              " [897] 19.43345 22.28044 23.10530 23.36681 20.98635 21.55838 23.86904 23.54989\n",
              " [905] 23.26547 28.28061 21.04322 23.36305 27.53323 21.13737 20.47485 19.27556\n",
              " [913] 22.28868 22.05007 19.14877 21.70492 19.86000 29.37514 20.47162 24.29017\n",
              " [921] 19.88183 19.74761 21.21441 23.59827 21.83905 19.06973 19.46286 20.47948\n",
              " [929] 21.80463 18.31083 24.02580 23.51833 22.70963 18.11303 27.58262 25.70043\n",
              " [937] 23.12919 26.13354 21.55619 25.22952 24.37211 21.84755 25.16969 21.98446\n",
              " [945] 25.12697 28.91424 21.00169 25.29653 27.05558 19.08127 19.34797 19.23163\n",
              " [953] 20.52107 23.02794 23.34085 18.93774 19.26782 25.33484 25.52131 23.14712\n",
              " [961] 21.04287 25.63973 23.87165 22.25110 23.95611 27.23895 29.17160 24.79785\n",
              " [969] 27.40008 22.76095 23.41713 21.50216 19.06590 25.16900 23.95266 18.40029\n",
              " [977] 20.91195 25.72219 21.80027 24.31955 25.44598 24.19429 18.61766 23.50961\n",
              " [985] 23.52207 21.68413 21.35638 28.22140 23.61990 21.60260 20.54372 20.57223\n",
              " [993] 23.21616 20.73478 19.01078 26.00140 19.80534 19.83067 21.05762 22.53144\n",
              "[1001] 28.64387 21.27251 22.57814 23.64369 23.36616 22.06245 26.41912 22.18943\n",
              "[1009] 27.95617 18.73121 23.35037 23.27344 22.09012 22.37028 21.50248 20.19877\n",
              "[1017] 22.38563 22.94620 20.76455 23.68331 18.83718 21.49831 18.48063 19.39824\n",
              "[1025] 24.04648 21.11172 20.84430 19.55414 24.99929 21.49999 23.60343 24.80340\n",
              "[1033] 21.72480 28.81271 21.09556 20.05264 24.85680 22.49099 23.04467 19.15770\n",
              "[1041] 26.29727 18.79904 19.78300 19.81655 26.37628 25.46873 25.24469 26.55457\n",
              "[1049] 25.12862 30.32588 23.25378 21.01828 24.83147 21.72088 20.43532 20.05005\n",
              "[1057] 21.73439 22.66966 20.20571 21.28735 18.86124 23.12732 21.68881 20.23738\n",
              "[1065] 23.64492 25.46072 21.70854 21.23037 24.86104 20.37308 21.16942 23.66306\n",
              "[1073] 22.75096 20.96314 26.48837 24.22155 22.95131 25.11501 28.95139 23.06118\n",
              "[1081] 20.43487 21.26866 27.66662 20.20339 22.06044 25.18266 21.74676 24.38484\n",
              "[1089] 26.94882 22.08318 19.66163 23.37766 22.70250 22.18154 20.42618 24.52800\n",
              "[1097] 26.55249 18.08312 21.61316 20.28404 22.77428 25.57797 23.38404 18.07982\n",
              "[1105] 21.54737 20.41701 20.38733 18.63512 23.73795 18.85004 19.03555 23.62123\n",
              "[1113] 25.14630 24.83639 23.09241 24.68511 22.48575 22.72106 24.94823 21.49782\n",
              "[1121] 20.98145 21.28556 26.70233 22.07209 25.13695 27.80228 21.18836 24.26534\n",
              "[1129] 19.47039 21.95293 20.87361 21.87143 21.38001 19.76052 24.39093 25.55412\n",
              "[1137] 25.01201 21.07518 21.72219 19.54301 23.11507 27.60661 23.32754 21.80032\n",
              "[1145] 25.28912 22.74414 19.62358 20.14769 20.63398 27.08390 25.23230 27.99123\n",
              "[1153] 23.45883 19.70607 25.09723 18.11289 26.45924 25.76604 26.14211 21.55391\n",
              "[1161] 19.23388 21.68136 21.09547 20.41770 25.72717 24.13590 21.17442 21.75131\n",
              "[1169] 23.84268 25.79945 27.43624 26.28612 19.18307 18.10858 21.84890 18.56936\n",
              "[1177] 24.62996 28.49979 20.47271 20.46200 21.24821 20.20568 28.15862 21.88873\n",
              "[1185] 24.19288 25.71487 19.25603 20.06025 21.44161 24.14208 23.76732 18.18680\n",
              "[1193] 23.16320 20.69813 23.06905 19.37574 22.66994 23.67779 22.93566 18.37901\n",
              "[1201] 26.41577 20.33502 18.54857 20.96364 22.57668 23.48224 20.92409 19.79326\n",
              "[1209] 24.22194 24.29255 22.28986 18.01615 23.27065 22.34263 23.54645 21.24819\n",
              "[1217] 25.15355 19.90896 21.19987 25.62274 18.37875 22.41026 24.26877 24.82934\n",
              "[1225] 23.56359 26.36635 20.56989 18.34097 19.44443 23.46911 24.31129 22.43929\n",
              "[1233] 20.35592 24.40226 26.02874 21.82799 19.76290 25.05524 23.97290 24.40926\n",
              "[1241] 22.51420 21.76865 22.71040 20.24319 26.19654 19.27807 24.78293 23.93932\n",
              "[1249] 27.81069 26.00955 20.14181 24.25062 22.02974 21.71690 23.69703 19.24719\n",
              "[1257] 23.50212 22.84379 19.84316 20.14146 23.18223 21.64455 21.47679 26.34398\n",
              "[1265] 23.36057 19.31519 27.18479 20.54565 20.89916 23.33690 25.47227 25.17715\n",
              "[1273] 27.44436 21.85034 25.73405 23.20597 25.11556 29.89378 18.58334 24.42268\n",
              "[1281] 27.37650 21.35604 20.59356 22.15243 18.99813 25.50631 23.77470 24.56534\n",
              "[1289] 21.96371 20.81394 20.31948 18.40917 18.99680 25.63875 20.55917 22.31875\n",
              "[1297] 24.88272 20.79995 21.40273 23.04063 21.99461 23.36192 20.21327 22.09277\n",
              "[1305] 21.14544 22.39293 19.65123 18.07293 20.79160 27.48019 24.19224 23.48954\n",
              "[1313] 22.90694 28.29731 18.13387 21.03327 18.73465 19.59764 25.23248 22.58024\n",
              "[1321] 26.33590 21.38570 23.45412 26.11438 27.98273 21.64502 25.02691 18.78446\n",
              "[1329] 22.14541 19.16299 21.51996 19.82919 23.92395 20.49238 23.69760 20.02744\n",
              "[1337] 23.05128 24.22075 19.67693 22.15615 22.95130 20.89979 20.98800 24.54860\n",
              "[1345] 23.91343 23.04860 20.17246 20.15992 22.10446 22.61092 21.22806 24.56837\n",
              "[1353] 25.30895 21.22555 27.00215 18.54628 24.03185 19.24224 22.61213 22.14036\n",
              "[1361] 23.58308 28.34103 20.04050 19.64520 20.59981 23.86547 22.27730 22.37534\n",
              "[1369] 22.00972 23.64463 18.71314 28.47801 24.53907 21.09421 20.56406 23.40108\n",
              "[1377] 24.14925 22.14674 21.96004 20.28102 22.04719 23.36240 19.74643 23.05327\n",
              "[1385] 21.30498 24.26157 18.47368 20.11262 24.73054 20.20146 18.15947 23.74435\n",
              "[1393] 21.79775 20.52939 26.38039 22.34649 18.29035 19.56810 26.48795 27.75322\n",
              "[1401] 25.27686 18.60797 24.49320 22.16619 25.29020 26.39870 24.10795 23.57689\n",
              "[1409] 24.38895 23.04612 20.18398 19.81555 20.32392 24.49452 24.27460 19.32022\n",
              "[1417] 23.67746 19.36719 28.22082 20.68238 18.80164 21.87614 23.50775 22.44697\n",
              "[1425] 28.81816 23.73259 23.08705 21.83360 25.56541 22.80417 23.17851 23.26176\n",
              "[1433] 18.92641 23.36541 20.11020 26.49852 27.33244 23.06040 25.07443 18.49080\n",
              "[1441] 21.89498 20.28090 19.29415 19.66454 23.22557 20.31589 19.14434 21.75025\n",
              "[1449] 24.24640 23.09076 23.59846 18.24720 20.29494 22.32433 27.72728 24.41189\n",
              "[1457] 24.32645 23.45441 23.20358 20.71368 24.62424 21.99199 25.93074 24.75102\n",
              "[1465] 20.25345 24.04304 18.71886 22.63997 20.02955 22.10866 24.93778 23.48390\n",
              "[1473] 21.57388 25.13263 19.64739 18.79253 19.11060 21.65156 27.70617 27.68459\n",
              "[1481] 24.47990 20.41952 26.63307 22.43295 24.75779 23.48916 26.55720 26.86912\n",
              "[1489] 22.73199 20.12488 24.73385 24.50661 19.61311 20.01120 27.15363 21.35106\n",
              "[1497] 24.23796 26.22169 19.60127 22.28191 26.54327 21.12036 22.52247 20.03767\n",
              "[1505] 21.73588 24.67227 22.48897 24.00744 24.32938 23.36348 19.70338 18.75590\n",
              "[1513] 21.33302 29.63202 21.27924 18.59214 23.53523 18.34920 25.16441 24.21284\n",
              "[1521] 27.62438 20.39103 23.82595 18.67146 21.07673 23.49980 23.27586 22.01128\n",
              "[1529] 22.61226 26.35744 21.39479 20.50138 25.92855 19.72118 20.55090 19.90770\n",
              "[1537] 23.81764 23.55979 21.83360 19.48007 20.83414 22.75218 23.06339 24.62800\n",
              "[1545] 19.35818 20.86666 21.69821 24.29519 26.56215 25.90812 21.79915 21.19427\n",
              "[1553] 26.86409 28.56191 25.80933 23.05918 21.46311 23.77475 32.40996 18.14935\n",
              "[1561] 26.43065 20.99556 24.62516 21.71462 22.56047 21.56301 23.06219 22.41577\n",
              "[1569] 23.58110 25.21479 18.76681 20.25981 19.67010 27.26747 20.13679 23.54087\n",
              "[1577] 23.88794 20.50604 23.62516 21.91131 21.88863 19.24215 23.39131 21.38825\n",
              "[1585] 22.38250 21.86444 20.76443 24.59868 25.57313 22.78472 20.28281 18.98419\n",
              "[1593] 26.08701 29.32551 22.84475 19.27375 22.38062 22.07410 24.48959 23.91508\n",
              "[1601] 26.97798 23.41406 20.10540 23.40015 18.07985 20.70428 22.89956 22.69656\n",
              "[1609] 24.25024 24.59475 19.83644 22.05863 26.22805 25.44553 25.07636 22.89594\n",
              "[1617] 26.65377 23.00113 25.92850 26.94531 21.37903 24.30267 25.04178 24.48980\n",
              "[1625] 20.33319 23.58419 20.11771 19.45459 21.09823 18.48800 26.07651 20.01622\n",
              "[1633] 27.61605 19.23688 25.86869 18.32642 21.31820 22.67571 19.65504 20.54398\n",
              "[1641] 23.60572 29.17311 23.11107 24.39885 18.42103 22.38720 23.84511 23.62779\n",
              "[1649] 20.04279 19.80678 21.10108 23.03654 22.51854 23.81533 23.87402 19.38267\n",
              "[1657] 21.55938 21.52045 22.63640 21.76612 24.67285 21.76064 20.58654 21.85318\n",
              "[1665] 23.07524 22.55459 27.99630 20.35912 24.00308 23.64357 20.56757 25.32800\n",
              "[1673] 23.19099 21.74425 20.32989 21.42078 19.55976 19.69867 23.90849 21.40260\n",
              "[1681] 24.09382 22.21023 20.11674 20.87916 22.42744 22.41037 18.86939 21.69486\n",
              "[1689] 22.96083 26.47606 21.46526 18.21100 24.24787 23.59511 21.77394 24.96598\n",
              "[1697] 18.88795 24.59611 20.42121 22.75787 19.35793 21.94181 18.80244 21.74300\n",
              "[1705] 22.37316 23.44188 19.16387 19.47148 18.12520 24.20346 22.64347 24.03317\n",
              "[1713] 20.33001 19.51434 22.19912 20.56100 25.18686 22.60752 22.17472 23.14745\n",
              "[1721] 24.08919 22.63554 18.72713 21.31537 18.65140 21.20959 20.53583 19.05804\n",
              "[1729] 24.13722 19.48570 20.58562 25.63076 19.08128 21.31063 18.64280 24.92350\n",
              "[1737] 21.53425 21.68383 24.48127 23.07767 24.05048 26.26878 21.76787 18.35234\n",
              "[1745] 25.17110 26.93734 19.77074 23.35886 24.20465 18.27464 22.11143 18.85823\n",
              "[1753] 20.34811 21.55448 23.00673 22.80639 23.15952 20.12625 20.58374 27.16954\n",
              "[1761] 22.40067 18.55822 20.89933 20.62650 22.56309 21.06518 18.76194 23.00211\n",
              "[1769] 21.24836 22.19659 20.50337 19.07852 28.36897 25.25309 18.58401 19.66536\n",
              "[1777] 18.96400 21.66932 20.34142 25.09390 23.45047 23.15169 26.73840 21.59270\n",
              "[1785] 21.94450 21.31099 20.94222 23.33255 22.17856 24.54429 25.15751 28.41771\n",
              "[1793] 20.29753 25.99406 23.49028 19.52806 26.72859 21.32582 27.50727 19.26098\n",
              "[1801] 18.78951 20.99815 19.62516 21.56011 21.67299 22.25362 20.51759 22.70823\n",
              "[1809] 24.62509 22.31151 32.46421 21.29602 22.97115 23.59499 21.23035 20.72147\n",
              "[1817] 18.97207 23.85321 26.83694 18.79842 25.58530"
            ]
          },
          "metadata": {}
        }
      ]
    },
    {
      "cell_type": "code",
      "source": [
        "# Cuántos registros hay con edad mayor o igual a 18?\n",
        "length(edades[edades >= 18])"
      ],
      "metadata": {
        "id": "W0kWcT6Nv8Io",
        "outputId": "1f810612-0dcb-4c4a-a43c-1e5b7acefb27",
        "colab": {
          "base_uri": "https://localhost:8080/",
          "height": 34
        }
      },
      "execution_count": 53,
      "outputs": [
        {
          "output_type": "display_data",
          "data": {
            "text/html": [
              "1821"
            ],
            "text/markdown": "1821",
            "text/latex": "1821",
            "text/plain": [
              "[1] 1821"
            ]
          },
          "metadata": {}
        }
      ]
    },
    {
      "cell_type": "code",
      "source": [
        "# Y la edad promedio de aquellos que son mayores o iguales a 18 años?\n",
        "mean(edades[edades >= 18])\n"
      ],
      "metadata": {
        "id": "7Izd634Kw8QI",
        "outputId": "6ec7b39f-25dc-40e8-9692-a2709ba36428",
        "colab": {
          "base_uri": "https://localhost:8080/",
          "height": 34
        }
      },
      "execution_count": 54,
      "outputs": [
        {
          "output_type": "display_data",
          "data": {
            "text/html": [
              "22.5759726440598"
            ],
            "text/markdown": "22.5759726440598",
            "text/latex": "22.5759726440598",
            "text/plain": [
              "[1] 22.57597"
            ]
          },
          "metadata": {}
        }
      ]
    },
    {
      "cell_type": "code",
      "metadata": {
        "id": "fvq5tBXVIgvm"
      },
      "source": [
        "# podríamos guardar el vector de T o F's en una variable para luego referenciarla\n",
        "mayores_de_edad <- edades >= 18 # Es un vector de T y F del mismo largo que edades.\n",
        "\n"
      ],
      "execution_count": 55,
      "outputs": []
    },
    {
      "cell_type": "code",
      "source": [
        "# pra validar que mayores_de_edad es un vector de T y F, del mismo largo que edades\n",
        "head(mayores_de_edad)\n",
        "length(mayores_de_edad)"
      ],
      "metadata": {
        "id": "7Bs5hgmFxid4",
        "outputId": "45549d9e-773c-41df-ed57-67f92839f55c",
        "colab": {
          "base_uri": "https://localhost:8080/",
          "height": 52
        }
      },
      "execution_count": 60,
      "outputs": [
        {
          "output_type": "display_data",
          "data": {
            "text/html": [
              "<style>\n",
              ".list-inline {list-style: none; margin:0; padding: 0}\n",
              ".list-inline>li {display: inline-block}\n",
              ".list-inline>li:not(:last-child)::after {content: \"\\00b7\"; padding: 0 .5ex}\n",
              "</style>\n",
              "<ol class=list-inline><li>FALSE</li><li>TRUE</li><li>TRUE</li><li>TRUE</li><li>TRUE</li><li>TRUE</li></ol>\n"
            ],
            "text/markdown": "1. FALSE\n2. TRUE\n3. TRUE\n4. TRUE\n5. TRUE\n6. TRUE\n\n\n",
            "text/latex": "\\begin{enumerate*}\n\\item FALSE\n\\item TRUE\n\\item TRUE\n\\item TRUE\n\\item TRUE\n\\item TRUE\n\\end{enumerate*}\n",
            "text/plain": [
              "[1] FALSE  TRUE  TRUE  TRUE  TRUE  TRUE"
            ]
          },
          "metadata": {}
        },
        {
          "output_type": "display_data",
          "data": {
            "text/html": [
              "2000"
            ],
            "text/markdown": "2000",
            "text/latex": "2000",
            "text/plain": [
              "[1] 2000"
            ]
          },
          "metadata": {}
        }
      ]
    },
    {
      "cell_type": "code",
      "source": [
        "mean(edades[mayores_de_edad])\n",
        "mean(edades)"
      ],
      "metadata": {
        "id": "yfDzFcyqxnJD",
        "outputId": "45dd3883-7ef8-4340-c576-8e8e32ba0fb8",
        "colab": {
          "base_uri": "https://localhost:8080/",
          "height": 52
        }
      },
      "execution_count": 59,
      "outputs": [
        {
          "output_type": "display_data",
          "data": {
            "text/html": [
              "22.5759726440598"
            ],
            "text/markdown": "22.5759726440598",
            "text/latex": "22.5759726440598",
            "text/plain": [
              "[1] 22.57597"
            ]
          },
          "metadata": {}
        },
        {
          "output_type": "display_data",
          "data": {
            "text/html": [
              "22.0280142799107"
            ],
            "text/markdown": "22.0280142799107",
            "text/latex": "22.0280142799107",
            "text/plain": [
              "[1] 22.02801"
            ]
          },
          "metadata": {}
        }
      ]
    },
    {
      "cell_type": "code",
      "source": [
        "# which() # Retornar las posiciones de un vector donde se cumple una determinada condicion\n",
        "v1\n",
        "v1 > 3"
      ],
      "metadata": {
        "id": "W0KrJS0kyKI8",
        "outputId": "f64579ee-6a25-418b-cda1-4255067480ee",
        "colab": {
          "base_uri": "https://localhost:8080/",
          "height": 52
        }
      },
      "execution_count": 63,
      "outputs": [
        {
          "output_type": "display_data",
          "data": {
            "text/html": [
              "<style>\n",
              ".list-inline {list-style: none; margin:0; padding: 0}\n",
              ".list-inline>li {display: inline-block}\n",
              ".list-inline>li:not(:last-child)::after {content: \"\\00b7\"; padding: 0 .5ex}\n",
              "</style>\n",
              "<ol class=list-inline><li>1</li><li>1</li><li>2</li><li>3</li><li>5</li><li>8</li></ol>\n"
            ],
            "text/markdown": "1. 1\n2. 1\n3. 2\n4. 3\n5. 5\n6. 8\n\n\n",
            "text/latex": "\\begin{enumerate*}\n\\item 1\n\\item 1\n\\item 2\n\\item 3\n\\item 5\n\\item 8\n\\end{enumerate*}\n",
            "text/plain": [
              "[1] 1 1 2 3 5 8"
            ]
          },
          "metadata": {}
        },
        {
          "output_type": "display_data",
          "data": {
            "text/html": [
              "<style>\n",
              ".list-inline {list-style: none; margin:0; padding: 0}\n",
              ".list-inline>li {display: inline-block}\n",
              ".list-inline>li:not(:last-child)::after {content: \"\\00b7\"; padding: 0 .5ex}\n",
              "</style>\n",
              "<ol class=list-inline><li>FALSE</li><li>FALSE</li><li>FALSE</li><li>FALSE</li><li>TRUE</li><li>TRUE</li></ol>\n"
            ],
            "text/markdown": "1. FALSE\n2. FALSE\n3. FALSE\n4. FALSE\n5. TRUE\n6. TRUE\n\n\n",
            "text/latex": "\\begin{enumerate*}\n\\item FALSE\n\\item FALSE\n\\item FALSE\n\\item FALSE\n\\item TRUE\n\\item TRUE\n\\end{enumerate*}\n",
            "text/plain": [
              "[1] FALSE FALSE FALSE FALSE  TRUE  TRUE"
            ]
          },
          "metadata": {}
        }
      ]
    },
    {
      "cell_type": "code",
      "source": [
        "which(v1 > 3)"
      ],
      "metadata": {
        "id": "R-2C2_2Jyn-H",
        "outputId": "cc4f03fb-6147-4ef1-a86a-89eb9c77756e",
        "colab": {
          "base_uri": "https://localhost:8080/",
          "height": 34
        }
      },
      "execution_count": 64,
      "outputs": [
        {
          "output_type": "display_data",
          "data": {
            "text/html": [
              "<style>\n",
              ".list-inline {list-style: none; margin:0; padding: 0}\n",
              ".list-inline>li {display: inline-block}\n",
              ".list-inline>li:not(:last-child)::after {content: \"\\00b7\"; padding: 0 .5ex}\n",
              "</style>\n",
              "<ol class=list-inline><li>5</li><li>6</li></ol>\n"
            ],
            "text/markdown": "1. 5\n2. 6\n\n\n",
            "text/latex": "\\begin{enumerate*}\n\\item 5\n\\item 6\n\\end{enumerate*}\n",
            "text/plain": [
              "[1] 5 6"
            ]
          },
          "metadata": {}
        }
      ]
    },
    {
      "cell_type": "code",
      "source": [
        "# Podemos guardar los índices anteriores en una variable para luego referenciarla\n",
        "ind <- which(v1 > 3)"
      ],
      "metadata": {
        "id": "9BDw2t9BytfI"
      },
      "execution_count": 65,
      "outputs": []
    },
    {
      "cell_type": "code",
      "source": [
        "# podemos solicitar los elemtnos del vector v1 según las posiciones guardadas\n",
        "v1[ind]"
      ],
      "metadata": {
        "id": "1rcueLUey2sS",
        "outputId": "49cbecf4-e78b-426a-f765-f0ec29f05022",
        "colab": {
          "base_uri": "https://localhost:8080/",
          "height": 34
        }
      },
      "execution_count": 66,
      "outputs": [
        {
          "output_type": "display_data",
          "data": {
            "text/html": [
              "<style>\n",
              ".list-inline {list-style: none; margin:0; padding: 0}\n",
              ".list-inline>li {display: inline-block}\n",
              ".list-inline>li:not(:last-child)::after {content: \"\\00b7\"; padding: 0 .5ex}\n",
              "</style>\n",
              "<ol class=list-inline><li>5</li><li>8</li></ol>\n"
            ],
            "text/markdown": "1. 5\n2. 8\n\n\n",
            "text/latex": "\\begin{enumerate*}\n\\item 5\n\\item 8\n\\end{enumerate*}\n",
            "text/plain": [
              "[1] 5 8"
            ]
          },
          "metadata": {}
        }
      ]
    },
    {
      "cell_type": "code",
      "source": [
        "# Volvemos al caso de las edades. Queremos guardar las posiciones del vector donde la edad registrada es mayor o igual a 18\n",
        "pos_adultos <- which(edades >= 18)\n",
        "# pos_adultos <- which(mayores_de_edad) # Otra alternativa..."
      ],
      "metadata": {
        "id": "Jqr_BnIZzSYx"
      },
      "execution_count": 67,
      "outputs": []
    },
    {
      "cell_type": "code",
      "source": [
        "pos_adultos"
      ],
      "metadata": {
        "id": "8-Su8kpFzZnq",
        "outputId": "af446873-97c4-4778-d6ec-78f9f8dd752f",
        "colab": {
          "base_uri": "https://localhost:8080/",
          "height": 225
        }
      },
      "execution_count": 68,
      "outputs": [
        {
          "output_type": "display_data",
          "data": {
            "text/html": [
              "<style>\n",
              ".list-inline {list-style: none; margin:0; padding: 0}\n",
              ".list-inline>li {display: inline-block}\n",
              ".list-inline>li:not(:last-child)::after {content: \"\\00b7\"; padding: 0 .5ex}\n",
              "</style>\n",
              "<ol class=list-inline><li>2</li><li>3</li><li>4</li><li>5</li><li>6</li><li>7</li><li>8</li><li>9</li><li>11</li><li>12</li><li>13</li><li>14</li><li>15</li><li>16</li><li>17</li><li>18</li><li>19</li><li>20</li><li>21</li><li>22</li><li>24</li><li>25</li><li>26</li><li>27</li><li>28</li><li>29</li><li>30</li><li>31</li><li>32</li><li>33</li><li>34</li><li>35</li><li>36</li><li>37</li><li>38</li><li>39</li><li>40</li><li>41</li><li>42</li><li>43</li><li>44</li><li>45</li><li>47</li><li>48</li><li>49</li><li>50</li><li>51</li><li>53</li><li>54</li><li>55</li><li>56</li><li>57</li><li>58</li><li>59</li><li>60</li><li>61</li><li>62</li><li>64</li><li>65</li><li>66</li><li>67</li><li>69</li><li>70</li><li>72</li><li>73</li><li>75</li><li>76</li><li>77</li><li>80</li><li>81</li><li>82</li><li>83</li><li>84</li><li>85</li><li>86</li><li>87</li><li>88</li><li>89</li><li>90</li><li>91</li><li>92</li><li>93</li><li>94</li><li>95</li><li>96</li><li>97</li><li>98</li><li>99</li><li>100</li><li>102</li><li>103</li><li>104</li><li>105</li><li>107</li><li>108</li><li>109</li><li>110</li><li>111</li><li>112</li><li>113</li><li>114</li><li>115</li><li>116</li><li>117</li><li>118</li><li>119</li><li>120</li><li>121</li><li>122</li><li>123</li><li>124</li><li>125</li><li>126</li><li>127</li><li>129</li><li>130</li><li>131</li><li>132</li><li>133</li><li>134</li><li>135</li><li>136</li><li>137</li><li>138</li><li>139</li><li>140</li><li>141</li><li>142</li><li>143</li><li>144</li><li>145</li><li>146</li><li>147</li><li>148</li><li>149</li><li>151</li><li>152</li><li>153</li><li>154</li><li>155</li><li>156</li><li>157</li><li>158</li><li>159</li><li>160</li><li>161</li><li>163</li><li>164</li><li>165</li><li>166</li><li>167</li><li>168</li><li>169</li><li>170</li><li>171</li><li>172</li><li>173</li><li>174</li><li>175</li><li>176</li><li>177</li><li>178</li><li>179</li><li>180</li><li>182</li><li>183</li><li>184</li><li>185</li><li>186</li><li>187</li><li>188</li><li>189</li><li>190</li><li>191</li><li>192</li><li>193</li><li>194</li><li>195</li><li>196</li><li>197</li><li>198</li><li>199</li><li>200</li><li>201</li><li>202</li><li>203</li><li>204</li><li>205</li><li>206</li><li>207</li><li>208</li><li>209</li><li>210</li><li>211</li><li>212</li><li>213</li><li>214</li><li>215</li><li>216</li><li>217</li><li>⋯</li><li>1775</li><li>1776</li><li>1777</li><li>1778</li><li>1779</li><li>1780</li><li>1781</li><li>1782</li><li>1783</li><li>1784</li><li>1785</li><li>1786</li><li>1787</li><li>1788</li><li>1789</li><li>1790</li><li>1791</li><li>1792</li><li>1793</li><li>1796</li><li>1797</li><li>1798</li><li>1799</li><li>1800</li><li>1801</li><li>1803</li><li>1804</li><li>1805</li><li>1806</li><li>1807</li><li>1808</li><li>1809</li><li>1810</li><li>1811</li><li>1812</li><li>1813</li><li>1814</li><li>1816</li><li>1817</li><li>1818</li><li>1819</li><li>1820</li><li>1821</li><li>1822</li><li>1823</li><li>1824</li><li>1825</li><li>1826</li><li>1828</li><li>1829</li><li>1830</li><li>1831</li><li>1832</li><li>1833</li><li>1834</li><li>1835</li><li>1836</li><li>1837</li><li>1838</li><li>1840</li><li>1841</li><li>1842</li><li>1843</li><li>1844</li><li>1845</li><li>1846</li><li>1847</li><li>1848</li><li>1849</li><li>1850</li><li>1852</li><li>1853</li><li>1854</li><li>1855</li><li>1856</li><li>1857</li><li>1858</li><li>1859</li><li>1860</li><li>1861</li><li>1862</li><li>1865</li><li>1867</li><li>1868</li><li>1869</li><li>1871</li><li>1872</li><li>1873</li><li>1874</li><li>1875</li><li>1876</li><li>1877</li><li>1878</li><li>1879</li><li>1880</li><li>1881</li><li>1882</li><li>1884</li><li>1885</li><li>1886</li><li>1887</li><li>1888</li><li>1889</li><li>1890</li><li>1891</li><li>1892</li><li>1893</li><li>1894</li><li>1895</li><li>1896</li><li>1897</li><li>1898</li><li>1899</li><li>1900</li><li>1902</li><li>1903</li><li>1905</li><li>1907</li><li>1908</li><li>1909</li><li>1910</li><li>1911</li><li>1912</li><li>1913</li><li>1914</li><li>1915</li><li>1916</li><li>1917</li><li>1918</li><li>1919</li><li>1920</li><li>1922</li><li>1923</li><li>1925</li><li>1926</li><li>1927</li><li>1928</li><li>1929</li><li>1930</li><li>1931</li><li>1932</li><li>1933</li><li>1934</li><li>1935</li><li>1936</li><li>1938</li><li>1939</li><li>1940</li><li>1941</li><li>1942</li><li>1943</li><li>1944</li><li>1947</li><li>1948</li><li>1949</li><li>1951</li><li>1952</li><li>1953</li><li>1954</li><li>1955</li><li>1957</li><li>1958</li><li>1959</li><li>1960</li><li>1961</li><li>1962</li><li>1963</li><li>1964</li><li>1965</li><li>1966</li><li>1967</li><li>1968</li><li>1969</li><li>1970</li><li>1972</li><li>1973</li><li>1974</li><li>1975</li><li>1976</li><li>1977</li><li>1978</li><li>1979</li><li>1980</li><li>1981</li><li>1982</li><li>1983</li><li>1984</li><li>1985</li><li>1986</li><li>1988</li><li>1989</li><li>1991</li><li>1992</li><li>1993</li><li>1994</li><li>1995</li><li>1996</li><li>1997</li><li>1998</li><li>2000</li></ol>\n"
            ],
            "text/markdown": "1. 2\n2. 3\n3. 4\n4. 5\n5. 6\n6. 7\n7. 8\n8. 9\n9. 11\n10. 12\n11. 13\n12. 14\n13. 15\n14. 16\n15. 17\n16. 18\n17. 19\n18. 20\n19. 21\n20. 22\n21. 24\n22. 25\n23. 26\n24. 27\n25. 28\n26. 29\n27. 30\n28. 31\n29. 32\n30. 33\n31. 34\n32. 35\n33. 36\n34. 37\n35. 38\n36. 39\n37. 40\n38. 41\n39. 42\n40. 43\n41. 44\n42. 45\n43. 47\n44. 48\n45. 49\n46. 50\n47. 51\n48. 53\n49. 54\n50. 55\n51. 56\n52. 57\n53. 58\n54. 59\n55. 60\n56. 61\n57. 62\n58. 64\n59. 65\n60. 66\n61. 67\n62. 69\n63. 70\n64. 72\n65. 73\n66. 75\n67. 76\n68. 77\n69. 80\n70. 81\n71. 82\n72. 83\n73. 84\n74. 85\n75. 86\n76. 87\n77. 88\n78. 89\n79. 90\n80. 91\n81. 92\n82. 93\n83. 94\n84. 95\n85. 96\n86. 97\n87. 98\n88. 99\n89. 100\n90. 102\n91. 103\n92. 104\n93. 105\n94. 107\n95. 108\n96. 109\n97. 110\n98. 111\n99. 112\n100. 113\n101. 114\n102. 115\n103. 116\n104. 117\n105. 118\n106. 119\n107. 120\n108. 121\n109. 122\n110. 123\n111. 124\n112. 125\n113. 126\n114. 127\n115. 129\n116. 130\n117. 131\n118. 132\n119. 133\n120. 134\n121. 135\n122. 136\n123. 137\n124. 138\n125. 139\n126. 140\n127. 141\n128. 142\n129. 143\n130. 144\n131. 145\n132. 146\n133. 147\n134. 148\n135. 149\n136. 151\n137. 152\n138. 153\n139. 154\n140. 155\n141. 156\n142. 157\n143. 158\n144. 159\n145. 160\n146. 161\n147. 163\n148. 164\n149. 165\n150. 166\n151. 167\n152. 168\n153. 169\n154. 170\n155. 171\n156. 172\n157. 173\n158. 174\n159. 175\n160. 176\n161. 177\n162. 178\n163. 179\n164. 180\n165. 182\n166. 183\n167. 184\n168. 185\n169. 186\n170. 187\n171. 188\n172. 189\n173. 190\n174. 191\n175. 192\n176. 193\n177. 194\n178. 195\n179. 196\n180. 197\n181. 198\n182. 199\n183. 200\n184. 201\n185. 202\n186. 203\n187. 204\n188. 205\n189. 206\n190. 207\n191. 208\n192. 209\n193. 210\n194. 211\n195. 212\n196. 213\n197. 214\n198. 215\n199. 216\n200. 217\n201. ⋯\n202. 1775\n203. 1776\n204. 1777\n205. 1778\n206. 1779\n207. 1780\n208. 1781\n209. 1782\n210. 1783\n211. 1784\n212. 1785\n213. 1786\n214. 1787\n215. 1788\n216. 1789\n217. 1790\n218. 1791\n219. 1792\n220. 1793\n221. 1796\n222. 1797\n223. 1798\n224. 1799\n225. 1800\n226. 1801\n227. 1803\n228. 1804\n229. 1805\n230. 1806\n231. 1807\n232. 1808\n233. 1809\n234. 1810\n235. 1811\n236. 1812\n237. 1813\n238. 1814\n239. 1816\n240. 1817\n241. 1818\n242. 1819\n243. 1820\n244. 1821\n245. 1822\n246. 1823\n247. 1824\n248. 1825\n249. 1826\n250. 1828\n251. 1829\n252. 1830\n253. 1831\n254. 1832\n255. 1833\n256. 1834\n257. 1835\n258. 1836\n259. 1837\n260. 1838\n261. 1840\n262. 1841\n263. 1842\n264. 1843\n265. 1844\n266. 1845\n267. 1846\n268. 1847\n269. 1848\n270. 1849\n271. 1850\n272. 1852\n273. 1853\n274. 1854\n275. 1855\n276. 1856\n277. 1857\n278. 1858\n279. 1859\n280. 1860\n281. 1861\n282. 1862\n283. 1865\n284. 1867\n285. 1868\n286. 1869\n287. 1871\n288. 1872\n289. 1873\n290. 1874\n291. 1875\n292. 1876\n293. 1877\n294. 1878\n295. 1879\n296. 1880\n297. 1881\n298. 1882\n299. 1884\n300. 1885\n301. 1886\n302. 1887\n303. 1888\n304. 1889\n305. 1890\n306. 1891\n307. 1892\n308. 1893\n309. 1894\n310. 1895\n311. 1896\n312. 1897\n313. 1898\n314. 1899\n315. 1900\n316. 1902\n317. 1903\n318. 1905\n319. 1907\n320. 1908\n321. 1909\n322. 1910\n323. 1911\n324. 1912\n325. 1913\n326. 1914\n327. 1915\n328. 1916\n329. 1917\n330. 1918\n331. 1919\n332. 1920\n333. 1922\n334. 1923\n335. 1925\n336. 1926\n337. 1927\n338. 1928\n339. 1929\n340. 1930\n341. 1931\n342. 1932\n343. 1933\n344. 1934\n345. 1935\n346. 1936\n347. 1938\n348. 1939\n349. 1940\n350. 1941\n351. 1942\n352. 1943\n353. 1944\n354. 1947\n355. 1948\n356. 1949\n357. 1951\n358. 1952\n359. 1953\n360. 1954\n361. 1955\n362. 1957\n363. 1958\n364. 1959\n365. 1960\n366. 1961\n367. 1962\n368. 1963\n369. 1964\n370. 1965\n371. 1966\n372. 1967\n373. 1968\n374. 1969\n375. 1970\n376. 1972\n377. 1973\n378. 1974\n379. 1975\n380. 1976\n381. 1977\n382. 1978\n383. 1979\n384. 1980\n385. 1981\n386. 1982\n387. 1983\n388. 1984\n389. 1985\n390. 1986\n391. 1988\n392. 1989\n393. 1991\n394. 1992\n395. 1993\n396. 1994\n397. 1995\n398. 1996\n399. 1997\n400. 1998\n401. 2000\n\n\n",
            "text/latex": "\\begin{enumerate*}\n\\item 2\n\\item 3\n\\item 4\n\\item 5\n\\item 6\n\\item 7\n\\item 8\n\\item 9\n\\item 11\n\\item 12\n\\item 13\n\\item 14\n\\item 15\n\\item 16\n\\item 17\n\\item 18\n\\item 19\n\\item 20\n\\item 21\n\\item 22\n\\item 24\n\\item 25\n\\item 26\n\\item 27\n\\item 28\n\\item 29\n\\item 30\n\\item 31\n\\item 32\n\\item 33\n\\item 34\n\\item 35\n\\item 36\n\\item 37\n\\item 38\n\\item 39\n\\item 40\n\\item 41\n\\item 42\n\\item 43\n\\item 44\n\\item 45\n\\item 47\n\\item 48\n\\item 49\n\\item 50\n\\item 51\n\\item 53\n\\item 54\n\\item 55\n\\item 56\n\\item 57\n\\item 58\n\\item 59\n\\item 60\n\\item 61\n\\item 62\n\\item 64\n\\item 65\n\\item 66\n\\item 67\n\\item 69\n\\item 70\n\\item 72\n\\item 73\n\\item 75\n\\item 76\n\\item 77\n\\item 80\n\\item 81\n\\item 82\n\\item 83\n\\item 84\n\\item 85\n\\item 86\n\\item 87\n\\item 88\n\\item 89\n\\item 90\n\\item 91\n\\item 92\n\\item 93\n\\item 94\n\\item 95\n\\item 96\n\\item 97\n\\item 98\n\\item 99\n\\item 100\n\\item 102\n\\item 103\n\\item 104\n\\item 105\n\\item 107\n\\item 108\n\\item 109\n\\item 110\n\\item 111\n\\item 112\n\\item 113\n\\item 114\n\\item 115\n\\item 116\n\\item 117\n\\item 118\n\\item 119\n\\item 120\n\\item 121\n\\item 122\n\\item 123\n\\item 124\n\\item 125\n\\item 126\n\\item 127\n\\item 129\n\\item 130\n\\item 131\n\\item 132\n\\item 133\n\\item 134\n\\item 135\n\\item 136\n\\item 137\n\\item 138\n\\item 139\n\\item 140\n\\item 141\n\\item 142\n\\item 143\n\\item 144\n\\item 145\n\\item 146\n\\item 147\n\\item 148\n\\item 149\n\\item 151\n\\item 152\n\\item 153\n\\item 154\n\\item 155\n\\item 156\n\\item 157\n\\item 158\n\\item 159\n\\item 160\n\\item 161\n\\item 163\n\\item 164\n\\item 165\n\\item 166\n\\item 167\n\\item 168\n\\item 169\n\\item 170\n\\item 171\n\\item 172\n\\item 173\n\\item 174\n\\item 175\n\\item 176\n\\item 177\n\\item 178\n\\item 179\n\\item 180\n\\item 182\n\\item 183\n\\item 184\n\\item 185\n\\item 186\n\\item 187\n\\item 188\n\\item 189\n\\item 190\n\\item 191\n\\item 192\n\\item 193\n\\item 194\n\\item 195\n\\item 196\n\\item 197\n\\item 198\n\\item 199\n\\item 200\n\\item 201\n\\item 202\n\\item 203\n\\item 204\n\\item 205\n\\item 206\n\\item 207\n\\item 208\n\\item 209\n\\item 210\n\\item 211\n\\item 212\n\\item 213\n\\item 214\n\\item 215\n\\item 216\n\\item 217\n\\item ⋯\n\\item 1775\n\\item 1776\n\\item 1777\n\\item 1778\n\\item 1779\n\\item 1780\n\\item 1781\n\\item 1782\n\\item 1783\n\\item 1784\n\\item 1785\n\\item 1786\n\\item 1787\n\\item 1788\n\\item 1789\n\\item 1790\n\\item 1791\n\\item 1792\n\\item 1793\n\\item 1796\n\\item 1797\n\\item 1798\n\\item 1799\n\\item 1800\n\\item 1801\n\\item 1803\n\\item 1804\n\\item 1805\n\\item 1806\n\\item 1807\n\\item 1808\n\\item 1809\n\\item 1810\n\\item 1811\n\\item 1812\n\\item 1813\n\\item 1814\n\\item 1816\n\\item 1817\n\\item 1818\n\\item 1819\n\\item 1820\n\\item 1821\n\\item 1822\n\\item 1823\n\\item 1824\n\\item 1825\n\\item 1826\n\\item 1828\n\\item 1829\n\\item 1830\n\\item 1831\n\\item 1832\n\\item 1833\n\\item 1834\n\\item 1835\n\\item 1836\n\\item 1837\n\\item 1838\n\\item 1840\n\\item 1841\n\\item 1842\n\\item 1843\n\\item 1844\n\\item 1845\n\\item 1846\n\\item 1847\n\\item 1848\n\\item 1849\n\\item 1850\n\\item 1852\n\\item 1853\n\\item 1854\n\\item 1855\n\\item 1856\n\\item 1857\n\\item 1858\n\\item 1859\n\\item 1860\n\\item 1861\n\\item 1862\n\\item 1865\n\\item 1867\n\\item 1868\n\\item 1869\n\\item 1871\n\\item 1872\n\\item 1873\n\\item 1874\n\\item 1875\n\\item 1876\n\\item 1877\n\\item 1878\n\\item 1879\n\\item 1880\n\\item 1881\n\\item 1882\n\\item 1884\n\\item 1885\n\\item 1886\n\\item 1887\n\\item 1888\n\\item 1889\n\\item 1890\n\\item 1891\n\\item 1892\n\\item 1893\n\\item 1894\n\\item 1895\n\\item 1896\n\\item 1897\n\\item 1898\n\\item 1899\n\\item 1900\n\\item 1902\n\\item 1903\n\\item 1905\n\\item 1907\n\\item 1908\n\\item 1909\n\\item 1910\n\\item 1911\n\\item 1912\n\\item 1913\n\\item 1914\n\\item 1915\n\\item 1916\n\\item 1917\n\\item 1918\n\\item 1919\n\\item 1920\n\\item 1922\n\\item 1923\n\\item 1925\n\\item 1926\n\\item 1927\n\\item 1928\n\\item 1929\n\\item 1930\n\\item 1931\n\\item 1932\n\\item 1933\n\\item 1934\n\\item 1935\n\\item 1936\n\\item 1938\n\\item 1939\n\\item 1940\n\\item 1941\n\\item 1942\n\\item 1943\n\\item 1944\n\\item 1947\n\\item 1948\n\\item 1949\n\\item 1951\n\\item 1952\n\\item 1953\n\\item 1954\n\\item 1955\n\\item 1957\n\\item 1958\n\\item 1959\n\\item 1960\n\\item 1961\n\\item 1962\n\\item 1963\n\\item 1964\n\\item 1965\n\\item 1966\n\\item 1967\n\\item 1968\n\\item 1969\n\\item 1970\n\\item 1972\n\\item 1973\n\\item 1974\n\\item 1975\n\\item 1976\n\\item 1977\n\\item 1978\n\\item 1979\n\\item 1980\n\\item 1981\n\\item 1982\n\\item 1983\n\\item 1984\n\\item 1985\n\\item 1986\n\\item 1988\n\\item 1989\n\\item 1991\n\\item 1992\n\\item 1993\n\\item 1994\n\\item 1995\n\\item 1996\n\\item 1997\n\\item 1998\n\\item 2000\n\\end{enumerate*}\n",
            "text/plain": [
              "   [1]    2    3    4    5    6    7    8    9   11   12   13   14   15   16\n",
              "  [15]   17   18   19   20   21   22   24   25   26   27   28   29   30   31\n",
              "  [29]   32   33   34   35   36   37   38   39   40   41   42   43   44   45\n",
              "  [43]   47   48   49   50   51   53   54   55   56   57   58   59   60   61\n",
              "  [57]   62   64   65   66   67   69   70   72   73   75   76   77   80   81\n",
              "  [71]   82   83   84   85   86   87   88   89   90   91   92   93   94   95\n",
              "  [85]   96   97   98   99  100  102  103  104  105  107  108  109  110  111\n",
              "  [99]  112  113  114  115  116  117  118  119  120  121  122  123  124  125\n",
              " [113]  126  127  129  130  131  132  133  134  135  136  137  138  139  140\n",
              " [127]  141  142  143  144  145  146  147  148  149  151  152  153  154  155\n",
              " [141]  156  157  158  159  160  161  163  164  165  166  167  168  169  170\n",
              " [155]  171  172  173  174  175  176  177  178  179  180  182  183  184  185\n",
              " [169]  186  187  188  189  190  191  192  193  194  195  196  197  198  199\n",
              " [183]  200  201  202  203  204  205  206  207  208  209  210  211  212  213\n",
              " [197]  214  215  216  217  218  219  221  222  223  224  225  226  227  228\n",
              " [211]  229  230  231  232  233  234  235  236  237  238  239  240  241  242\n",
              " [225]  243  244  245  246  247  248  249  250  251  252  254  255  256  257\n",
              " [239]  258  259  260  261  262  263  264  265  266  267  268  269  270  271\n",
              " [253]  272  273  274  275  276  277  278  279  280  281  282  283  284  285\n",
              " [267]  286  287  288  289  290  291  292  293  294  295  296  297  298  299\n",
              " [281]  300  301  302  303  304  305  307  309  310  311  312  313  314  317\n",
              " [295]  319  320  321  322  323  324  325  326  327  328  329  332  333  334\n",
              " [309]  336  337  338  339  340  341  342  343  344  345  347  348  349  350\n",
              " [323]  351  352  353  355  357  361  362  363  364  365  366  367  368  369\n",
              " [337]  370  371  372  373  374  375  376  377  378  379  380  381  382  383\n",
              " [351]  384  385  386  387  388  389  390  391  392  393  394  395  396  397\n",
              " [365]  398  399  400  401  402  403  404  405  406  407  408  409  410  411\n",
              " [379]  412  413  414  415  418  419  420  421  423  424  425  427  428  429\n",
              " [393]  430  431  432  433  434  435  437  438  439  441  443  444  445  446\n",
              " [407]  447  448  449  450  451  452  453  454  455  456  457  458  459  460\n",
              " [421]  461  462  463  464  465  466  467  468  469  470  471  472  473  474\n",
              " [435]  475  476  477  478  480  481  482  483  484  485  486  487  488  489\n",
              " [449]  490  491  492  494  495  496  497  499  500  501  502  503  504  505\n",
              " [463]  506  507  508  509  510  511  512  514  515  516  517  519  521  522\n",
              " [477]  523  524  525  526  527  528  529  530  531  532  533  534  536  537\n",
              " [491]  538  539  540  541  542  543  544  545  546  549  551  552  553  554\n",
              " [505]  555  556  557  558  559  560  561  562  563  564  566  567  568  569\n",
              " [519]  571  572  573  574  575  576  577  581  582  583  584  585  587  588\n",
              " [533]  589  590  591  592  593  594  595  596  597  598  599  600  601  602\n",
              " [547]  603  604  605  607  608  609  610  611  612  613  614  615  617  618\n",
              " [561]  619  620  621  622  623  624  625  626  627  628  629  631  632  633\n",
              " [575]  634  635  636  637  638  639  640  641  642  643  644  645  646  649\n",
              " [589]  650  652  653  654  655  656  657  658  659  660  661  662  663  664\n",
              " [603]  665  666  667  668  669  670  671  672  673  674  675  676  677  678\n",
              " [617]  679  680  681  682  683  684  685  686  687  688  689  690  691  692\n",
              " [631]  693  694  695  696  697  698  699  700  701  702  703  704  705  707\n",
              " [645]  708  709  710  711  712  713  714  715  716  718  719  721  722  723\n",
              " [659]  724  725  726  727  728  729  731  732  733  735  737  738  739  740\n",
              " [673]  741  742  743  744  745  746  747  748  749  750  751  752  753  754\n",
              " [687]  755  756  757  758  759  760  761  762  763  764  765  766  767  768\n",
              " [701]  769  770  771  772  773  774  775  776  777  778  779  780  781  782\n",
              " [715]  783  786  787  788  790  791  792  793  794  795  796  797  798  799\n",
              " [729]  800  801  802  803  804  805  807  808  809  810  811  812  813  814\n",
              " [743]  816  817  818  819  820  821  822  823  824  825  826  827  828  829\n",
              " [757]  830  831  832  833  834  835  836  837  838  839  842  843  844  845\n",
              " [771]  846  848  849  850  852  853  854  855  856  857  858  859  861  862\n",
              " [785]  863  864  865  866  867  868  869  870  871  872  873  874  875  876\n",
              " [799]  877  878  879  880  882  884  885  886  887  888  889  890  891  892\n",
              " [813]  893  894  895  896  897  898  899  900  901  902  904  905  906  907\n",
              " [827]  908  909  910  911  912  913  914  915  916  917  918  919  920  922\n",
              " [841]  923  924  925  926  927  928  929  930  931  932  933  934  935  936\n",
              " [855]  937  939  940  941  942  943  944  945  946  947  948  949  951  952\n",
              " [869]  953  955  956  957  958  959  960  961  962  963  964  965  966  968\n",
              " [883]  969  971  972  973  974  975  976  977  978  979  980  981  983  984\n",
              " [897]  985  986  987  988  989  990  991  992  993  994  995  996  997  998\n",
              " [911]  999 1000 1001 1003 1004 1005 1006 1007 1008 1009 1010 1011 1012 1013\n",
              " [925] 1014 1015 1016 1017 1018 1019 1020 1021 1022 1023 1024 1025 1026 1027\n",
              " [939] 1028 1029 1030 1031 1032 1033 1034 1035 1036 1037 1038 1039 1040 1042\n",
              " [953] 1043 1044 1045 1046 1047 1048 1049 1050 1051 1052 1053 1054 1055 1056\n",
              " [967] 1057 1058 1059 1060 1061 1062 1063 1064 1065 1066 1067 1068 1069 1070\n",
              " [981] 1071 1072 1073 1074 1075 1076 1077 1078 1079 1080 1081 1082 1084 1085\n",
              " [995] 1086 1087 1088 1089 1090 1091 1093 1094 1095 1096 1097 1098 1099 1100\n",
              "[1009] 1102 1105 1106 1107 1108 1109 1110 1111 1112 1113 1114 1115 1116 1117\n",
              "[1023] 1120 1121 1122 1123 1124 1125 1126 1128 1129 1130 1131 1132 1133 1134\n",
              "[1037] 1135 1136 1137 1138 1139 1140 1141 1142 1143 1144 1145 1146 1147 1148\n",
              "[1051] 1149 1150 1151 1152 1153 1154 1155 1156 1158 1159 1160 1161 1162 1163\n",
              "[1065] 1164 1166 1167 1168 1169 1170 1171 1172 1173 1175 1176 1177 1179 1180\n",
              "[1079] 1181 1182 1184 1185 1187 1188 1189 1190 1191 1192 1193 1194 1195 1196\n",
              "[1093] 1197 1198 1199 1200 1202 1203 1204 1205 1206 1207 1208 1209 1210 1211\n",
              "[1107] 1212 1213 1214 1215 1216 1217 1219 1220 1221 1223 1224 1225 1226 1227\n",
              "[1121] 1228 1229 1230 1231 1232 1233 1234 1235 1236 1237 1238 1239 1240 1241\n",
              "[1135] 1242 1243 1244 1245 1246 1247 1248 1249 1250 1251 1252 1253 1254 1255\n",
              "[1149] 1256 1257 1258 1260 1261 1262 1263 1264 1265 1266 1267 1268 1269 1270\n",
              "[1163] 1272 1273 1274 1275 1276 1277 1278 1279 1280 1281 1282 1284 1285 1286\n",
              "[1177] 1287 1288 1289 1291 1292 1293 1294 1295 1296 1297 1298 1299 1300 1301\n",
              "[1191] 1302 1303 1304 1305 1306 1307 1309 1310 1311 1312 1313 1314 1315 1316\n",
              "[1205] 1317 1318 1319 1320 1322 1323 1324 1325 1326 1327 1328 1329 1330 1331\n",
              "[1219] 1332 1333 1334 1335 1336 1337 1338 1339 1340 1342 1343 1344 1345 1346\n",
              "[1233] 1347 1348 1349 1350 1351 1353 1354 1355 1356 1357 1358 1359 1360 1361\n",
              "[1247] 1363 1364 1365 1366 1368 1369 1370 1371 1372 1374 1376 1377 1378 1379\n",
              "[1261] 1380 1381 1382 1383 1384 1385 1386 1387 1388 1389 1390 1391 1393 1394\n",
              "[1275] 1395 1396 1397 1398 1399 1400 1401 1402 1403 1404 1405 1406 1407 1408\n",
              "[1289] 1409 1411 1412 1413 1414 1415 1417 1418 1420 1421 1422 1424 1425 1426\n",
              "[1303] 1427 1428 1429 1431 1432 1433 1434 1435 1436 1437 1438 1439 1440 1441\n",
              "[1317] 1442 1443 1444 1446 1447 1448 1449 1450 1451 1452 1453 1454 1455 1456\n",
              "[1331] 1457 1458 1459 1460 1461 1462 1463 1464 1465 1466 1467 1468 1469 1470\n",
              "[1345] 1471 1472 1473 1474 1475 1476 1477 1478 1479 1480 1481 1482 1484 1485\n",
              "[1359] 1486 1488 1489 1490 1491 1492 1493 1495 1496 1498 1499 1500 1501 1502\n",
              "[1373] 1503 1504 1505 1506 1507 1508 1509 1510 1512 1513 1514 1515 1516 1517\n",
              "[1387] 1519 1520 1521 1522 1523 1524 1525 1526 1527 1528 1529 1530 1531 1532\n",
              "[1401] 1533 1534 1535 1536 1537 1538 1539 1540 1541 1542 1543 1544 1545 1546\n",
              "[1415] 1547 1548 1549 1550 1551 1552 1553 1554 1555 1556 1557 1559 1560 1561\n",
              "[1429] 1563 1564 1565 1566 1567 1568 1569 1571 1573 1574 1575 1576 1577 1578\n",
              "[1443] 1579 1580 1581 1582 1584 1585 1586 1587 1589 1590 1591 1593 1594 1595\n",
              "[1457] 1596 1597 1598 1599 1600 1601 1602 1603 1604 1605 1606 1607 1608 1609\n",
              "[1471] 1610 1611 1612 1613 1614 1615 1616 1617 1618 1619 1620 1621 1622 1623\n",
              "[1485] 1624 1625 1626 1627 1628 1629 1631 1632 1633 1634 1635 1636 1637 1638\n",
              "[1499] 1639 1641 1642 1643 1644 1645 1646 1647 1648 1649 1650 1651 1652 1653\n",
              "[1513] 1654 1655 1656 1657 1658 1659 1660 1661 1662 1663 1664 1666 1667 1668\n",
              "[1527] 1670 1671 1672 1673 1674 1675 1676 1678 1679 1680 1681 1682 1683 1684\n",
              "[1541] 1685 1686 1687 1688 1690 1692 1693 1694 1695 1696 1698 1699 1700 1701\n",
              "[1555] 1702 1703 1704 1705 1706 1707 1708 1709 1710 1711 1712 1713 1714 1715\n",
              "[1569] 1716 1717 1718 1719 1720 1721 1722 1723 1724 1725 1726 1727 1728 1729\n",
              "[1583] 1730 1731 1733 1734 1735 1736 1737 1738 1739 1741 1742 1743 1744 1746\n",
              "[1597] 1747 1748 1749 1750 1751 1752 1753 1755 1756 1757 1758 1759 1761 1762\n",
              "[1611] 1764 1765 1766 1767 1768 1769 1770 1771 1772 1773 1774 1775 1776 1777\n",
              "[1625] 1778 1779 1780 1781 1782 1783 1784 1785 1786 1787 1788 1789 1790 1791\n",
              "[1639] 1792 1793 1796 1797 1798 1799 1800 1801 1803 1804 1805 1806 1807 1808\n",
              "[1653] 1809 1810 1811 1812 1813 1814 1816 1817 1818 1819 1820 1821 1822 1823\n",
              "[1667] 1824 1825 1826 1828 1829 1830 1831 1832 1833 1834 1835 1836 1837 1838\n",
              "[1681] 1840 1841 1842 1843 1844 1845 1846 1847 1848 1849 1850 1852 1853 1854\n",
              "[1695] 1855 1856 1857 1858 1859 1860 1861 1862 1865 1867 1868 1869 1871 1872\n",
              "[1709] 1873 1874 1875 1876 1877 1878 1879 1880 1881 1882 1884 1885 1886 1887\n",
              "[1723] 1888 1889 1890 1891 1892 1893 1894 1895 1896 1897 1898 1899 1900 1902\n",
              "[1737] 1903 1905 1907 1908 1909 1910 1911 1912 1913 1914 1915 1916 1917 1918\n",
              "[1751] 1919 1920 1922 1923 1925 1926 1927 1928 1929 1930 1931 1932 1933 1934\n",
              "[1765] 1935 1936 1938 1939 1940 1941 1942 1943 1944 1947 1948 1949 1951 1952\n",
              "[1779] 1953 1954 1955 1957 1958 1959 1960 1961 1962 1963 1964 1965 1966 1967\n",
              "[1793] 1968 1969 1970 1972 1973 1974 1975 1976 1977 1978 1979 1980 1981 1982\n",
              "[1807] 1983 1984 1985 1986 1988 1989 1991 1992 1993 1994 1995 1996 1997 1998\n",
              "[1821] 2000"
            ]
          },
          "metadata": {}
        }
      ]
    },
    {
      "cell_type": "code",
      "metadata": {
        "id": "ioUJy8UEIgvz",
        "outputId": "7105b4b6-50b7-4ab9-d911-db0ccd92a506",
        "colab": {
          "base_uri": "https://localhost:8080/",
          "height": 69
        }
      },
      "source": [
        "#?which.max #?which.min # Retorna la posición del PRIMER máximo/mínimo.\n",
        "v1\n",
        "which.max(v1)\n",
        "which.min(v1)# Retorna la pos del primer mínimo\n",
        "\n"
      ],
      "execution_count": 71,
      "outputs": [
        {
          "output_type": "display_data",
          "data": {
            "text/html": [
              "<style>\n",
              ".list-inline {list-style: none; margin:0; padding: 0}\n",
              ".list-inline>li {display: inline-block}\n",
              ".list-inline>li:not(:last-child)::after {content: \"\\00b7\"; padding: 0 .5ex}\n",
              "</style>\n",
              "<ol class=list-inline><li>1</li><li>1</li><li>2</li><li>3</li><li>5</li><li>8</li></ol>\n"
            ],
            "text/markdown": "1. 1\n2. 1\n3. 2\n4. 3\n5. 5\n6. 8\n\n\n",
            "text/latex": "\\begin{enumerate*}\n\\item 1\n\\item 1\n\\item 2\n\\item 3\n\\item 5\n\\item 8\n\\end{enumerate*}\n",
            "text/plain": [
              "[1] 1 1 2 3 5 8"
            ]
          },
          "metadata": {}
        },
        {
          "output_type": "display_data",
          "data": {
            "text/html": [
              "6"
            ],
            "text/markdown": "6",
            "text/latex": "6",
            "text/plain": [
              "[1] 6"
            ]
          },
          "metadata": {}
        },
        {
          "output_type": "display_data",
          "data": {
            "text/html": [
              "1"
            ],
            "text/markdown": "1",
            "text/latex": "1",
            "text/plain": [
              "[1] 1"
            ]
          },
          "metadata": {}
        }
      ]
    },
    {
      "cell_type": "code",
      "source": [
        "otro_v <- c(2,7,3,-1,7,0)\n",
        "otro_v"
      ],
      "metadata": {
        "id": "PPXqzauN0zR7",
        "outputId": "78029628-6b31-402b-8c8b-0ef41f6f07c6",
        "colab": {
          "base_uri": "https://localhost:8080/",
          "height": 34
        }
      },
      "execution_count": 73,
      "outputs": [
        {
          "output_type": "display_data",
          "data": {
            "text/html": [
              "<style>\n",
              ".list-inline {list-style: none; margin:0; padding: 0}\n",
              ".list-inline>li {display: inline-block}\n",
              ".list-inline>li:not(:last-child)::after {content: \"\\00b7\"; padding: 0 .5ex}\n",
              "</style>\n",
              "<ol class=list-inline><li>2</li><li>7</li><li>3</li><li>-1</li><li>7</li><li>0</li></ol>\n"
            ],
            "text/markdown": "1. 2\n2. 7\n3. 3\n4. -1\n5. 7\n6. 0\n\n\n",
            "text/latex": "\\begin{enumerate*}\n\\item 2\n\\item 7\n\\item 3\n\\item -1\n\\item 7\n\\item 0\n\\end{enumerate*}\n",
            "text/plain": [
              "[1]  2  7  3 -1  7  0"
            ]
          },
          "metadata": {}
        }
      ]
    },
    {
      "cell_type": "code",
      "source": [
        "which.max(otro_v)"
      ],
      "metadata": {
        "id": "LEJvc2QZ0b01",
        "outputId": "49678ced-1d66-4dd8-e4ce-50f38e32353b",
        "colab": {
          "base_uri": "https://localhost:8080/",
          "height": 34
        }
      },
      "execution_count": 75,
      "outputs": [
        {
          "output_type": "display_data",
          "data": {
            "text/html": [
              "2"
            ],
            "text/markdown": "2",
            "text/latex": "2",
            "text/plain": [
              "[1] 2"
            ]
          },
          "metadata": {}
        }
      ]
    },
    {
      "cell_type": "code",
      "source": [
        "# y si queremos los dos máximos/mínimos?\n",
        "which(otro_v == max(otro_v))"
      ],
      "metadata": {
        "id": "DD6RsGEf1S-S",
        "outputId": "1e94711d-c267-4bdc-9955-2c2b4695f0e5",
        "colab": {
          "base_uri": "https://localhost:8080/",
          "height": 34
        }
      },
      "execution_count": 76,
      "outputs": [
        {
          "output_type": "display_data",
          "data": {
            "text/html": [
              "<style>\n",
              ".list-inline {list-style: none; margin:0; padding: 0}\n",
              ".list-inline>li {display: inline-block}\n",
              ".list-inline>li:not(:last-child)::after {content: \"\\00b7\"; padding: 0 .5ex}\n",
              "</style>\n",
              "<ol class=list-inline><li>2</li><li>5</li></ol>\n"
            ],
            "text/markdown": "1. 2\n2. 5\n\n\n",
            "text/latex": "\\begin{enumerate*}\n\\item 2\n\\item 5\n\\end{enumerate*}\n",
            "text/plain": [
              "[1] 2 5"
            ]
          },
          "metadata": {}
        }
      ]
    },
    {
      "cell_type": "code",
      "source": [
        "# Solo para corroborar la función max()/min()\n",
        "otro_v\n",
        "max(otro_v)\n",
        "min(otro_v)"
      ],
      "metadata": {
        "id": "JOFPiAOY1245",
        "outputId": "02cff389-7282-4af5-cf16-b9dcc9244835",
        "colab": {
          "base_uri": "https://localhost:8080/",
          "height": 69
        }
      },
      "execution_count": 77,
      "outputs": [
        {
          "output_type": "display_data",
          "data": {
            "text/html": [
              "<style>\n",
              ".list-inline {list-style: none; margin:0; padding: 0}\n",
              ".list-inline>li {display: inline-block}\n",
              ".list-inline>li:not(:last-child)::after {content: \"\\00b7\"; padding: 0 .5ex}\n",
              "</style>\n",
              "<ol class=list-inline><li>2</li><li>7</li><li>3</li><li>-1</li><li>7</li><li>0</li></ol>\n"
            ],
            "text/markdown": "1. 2\n2. 7\n3. 3\n4. -1\n5. 7\n6. 0\n\n\n",
            "text/latex": "\\begin{enumerate*}\n\\item 2\n\\item 7\n\\item 3\n\\item -1\n\\item 7\n\\item 0\n\\end{enumerate*}\n",
            "text/plain": [
              "[1]  2  7  3 -1  7  0"
            ]
          },
          "metadata": {}
        },
        {
          "output_type": "display_data",
          "data": {
            "text/html": [
              "7"
            ],
            "text/markdown": "7",
            "text/latex": "7",
            "text/plain": [
              "[1] 7"
            ]
          },
          "metadata": {}
        },
        {
          "output_type": "display_data",
          "data": {
            "text/html": [
              "-1"
            ],
            "text/markdown": "-1",
            "text/latex": "-1",
            "text/plain": [
              "[1] -1"
            ]
          },
          "metadata": {}
        }
      ]
    },
    {
      "cell_type": "code",
      "metadata": {
        "id": "_8-SMxfWIgv0",
        "outputId": "ebaddd60-922f-4c5c-a39f-60b1aaf19783",
        "colab": {
          "base_uri": "https://localhost:8080/",
          "height": 34
        }
      },
      "source": [
        "# Operador %in%\n",
        "# vector_a %in% vector_b (qué elementos del vector a están en el vector b)\n",
        "# retorna un  vector de TRUE's y FALSE's del largo del primer vector(a) (izquierda)\n",
        "\n",
        "# Ej:\n",
        "c(3,2,7) %in% c(1,5,7,8,3)\n"
      ],
      "execution_count": 78,
      "outputs": [
        {
          "output_type": "display_data",
          "data": {
            "text/html": [
              "<style>\n",
              ".list-inline {list-style: none; margin:0; padding: 0}\n",
              ".list-inline>li {display: inline-block}\n",
              ".list-inline>li:not(:last-child)::after {content: \"\\00b7\"; padding: 0 .5ex}\n",
              "</style>\n",
              "<ol class=list-inline><li>TRUE</li><li>FALSE</li><li>TRUE</li></ol>\n"
            ],
            "text/markdown": "1. TRUE\n2. FALSE\n3. TRUE\n\n\n",
            "text/latex": "\\begin{enumerate*}\n\\item TRUE\n\\item FALSE\n\\item TRUE\n\\end{enumerate*}\n",
            "text/plain": [
              "[1]  TRUE FALSE  TRUE"
            ]
          },
          "metadata": {}
        }
      ]
    },
    {
      "cell_type": "code",
      "source": [
        "c(1,5,7,8,3)  %in% c(3,2,7) # IN de SQL: select * from tabla where status IN (1,3)"
      ],
      "metadata": {
        "id": "o0tEu_PE2-Ad",
        "outputId": "45254526-93b7-41cf-936a-c7139fd1469a",
        "colab": {
          "base_uri": "https://localhost:8080/",
          "height": 34
        }
      },
      "execution_count": 79,
      "outputs": [
        {
          "output_type": "display_data",
          "data": {
            "text/html": [
              "<style>\n",
              ".list-inline {list-style: none; margin:0; padding: 0}\n",
              ".list-inline>li {display: inline-block}\n",
              ".list-inline>li:not(:last-child)::after {content: \"\\00b7\"; padding: 0 .5ex}\n",
              "</style>\n",
              "<ol class=list-inline><li>FALSE</li><li>FALSE</li><li>TRUE</li><li>FALSE</li><li>TRUE</li></ol>\n"
            ],
            "text/markdown": "1. FALSE\n2. FALSE\n3. TRUE\n4. FALSE\n5. TRUE\n\n\n",
            "text/latex": "\\begin{enumerate*}\n\\item FALSE\n\\item FALSE\n\\item TRUE\n\\item FALSE\n\\item TRUE\n\\end{enumerate*}\n",
            "text/plain": [
              "[1] FALSE FALSE  TRUE FALSE  TRUE"
            ]
          },
          "metadata": {}
        }
      ]
    },
    {
      "cell_type": "code",
      "source": [],
      "metadata": {
        "id": "HoRfuMDv3tKR"
      },
      "execution_count": null,
      "outputs": []
    },
    {
      "cell_type": "code",
      "source": [
        "v1[!(v1 %in% c(1,8))] # NOT IN de SQL: select * from tabla where status NOT IN (1,8)"
      ],
      "metadata": {
        "id": "8p8jzTYD3ZZE",
        "outputId": "2451bd1f-29ba-48eb-d071-1786c0934496",
        "colab": {
          "base_uri": "https://localhost:8080/",
          "height": 34
        }
      },
      "execution_count": 81,
      "outputs": [
        {
          "output_type": "display_data",
          "data": {
            "text/html": [
              "<style>\n",
              ".list-inline {list-style: none; margin:0; padding: 0}\n",
              ".list-inline>li {display: inline-block}\n",
              ".list-inline>li:not(:last-child)::after {content: \"\\00b7\"; padding: 0 .5ex}\n",
              "</style>\n",
              "<ol class=list-inline><li>1</li><li>1</li><li>8</li></ol>\n"
            ],
            "text/markdown": "1. 1\n2. 1\n3. 8\n\n\n",
            "text/latex": "\\begin{enumerate*}\n\\item 1\n\\item 1\n\\item 8\n\\end{enumerate*}\n",
            "text/plain": [
              "[1] 1 1 8"
            ]
          },
          "metadata": {}
        }
      ]
    },
    {
      "cell_type": "code",
      "metadata": {
        "id": "s9bYOQ4GIgv2"
      },
      "source": [
        "# podemos utilizar la función all() para evaluar si todos los elementos de un vector son TRUE.\n"
      ],
      "execution_count": null,
      "outputs": []
    },
    {
      "cell_type": "code",
      "metadata": {
        "id": "Wd-mSv3PIgv4"
      },
      "source": [
        "# si quisiéramos evaluar que todos los elementos de la izq. estén en la derecha,\n",
        "# podemos utilizar la función all()."
      ],
      "execution_count": null,
      "outputs": []
    },
    {
      "cell_type": "code",
      "metadata": {
        "id": "Zn85mjGmIgv5"
      },
      "source": [],
      "execution_count": null,
      "outputs": []
    },
    {
      "cell_type": "code",
      "metadata": {
        "id": "Bw8lX76XIgv8",
        "outputId": "3c5a9449-f29a-4fea-9ddc-ef205602f44b",
        "colab": {
          "base_uri": "https://localhost:8080/",
          "height": 69
        }
      },
      "source": [
        "#ponderaciones por escalares\n",
        "v1\n",
        "v1*2\n",
        "v1/2"
      ],
      "execution_count": 85,
      "outputs": [
        {
          "output_type": "display_data",
          "data": {
            "text/html": [
              "<style>\n",
              ".list-inline {list-style: none; margin:0; padding: 0}\n",
              ".list-inline>li {display: inline-block}\n",
              ".list-inline>li:not(:last-child)::after {content: \"\\00b7\"; padding: 0 .5ex}\n",
              "</style>\n",
              "<ol class=list-inline><li>1</li><li>1</li><li>2</li><li>3</li><li>5</li><li>8</li></ol>\n"
            ],
            "text/markdown": "1. 1\n2. 1\n3. 2\n4. 3\n5. 5\n6. 8\n\n\n",
            "text/latex": "\\begin{enumerate*}\n\\item 1\n\\item 1\n\\item 2\n\\item 3\n\\item 5\n\\item 8\n\\end{enumerate*}\n",
            "text/plain": [
              "[1] 1 1 2 3 5 8"
            ]
          },
          "metadata": {}
        },
        {
          "output_type": "display_data",
          "data": {
            "text/html": [
              "<style>\n",
              ".list-inline {list-style: none; margin:0; padding: 0}\n",
              ".list-inline>li {display: inline-block}\n",
              ".list-inline>li:not(:last-child)::after {content: \"\\00b7\"; padding: 0 .5ex}\n",
              "</style>\n",
              "<ol class=list-inline><li>2</li><li>2</li><li>4</li><li>6</li><li>10</li><li>16</li></ol>\n"
            ],
            "text/markdown": "1. 2\n2. 2\n3. 4\n4. 6\n5. 10\n6. 16\n\n\n",
            "text/latex": "\\begin{enumerate*}\n\\item 2\n\\item 2\n\\item 4\n\\item 6\n\\item 10\n\\item 16\n\\end{enumerate*}\n",
            "text/plain": [
              "[1]  2  2  4  6 10 16"
            ]
          },
          "metadata": {}
        },
        {
          "output_type": "display_data",
          "data": {
            "text/html": [
              "<style>\n",
              ".list-inline {list-style: none; margin:0; padding: 0}\n",
              ".list-inline>li {display: inline-block}\n",
              ".list-inline>li:not(:last-child)::after {content: \"\\00b7\"; padding: 0 .5ex}\n",
              "</style>\n",
              "<ol class=list-inline><li>0.5</li><li>0.5</li><li>1</li><li>1.5</li><li>2.5</li><li>4</li></ol>\n"
            ],
            "text/markdown": "1. 0.5\n2. 0.5\n3. 1\n4. 1.5\n5. 2.5\n6. 4\n\n\n",
            "text/latex": "\\begin{enumerate*}\n\\item 0.5\n\\item 0.5\n\\item 1\n\\item 1.5\n\\item 2.5\n\\item 4\n\\end{enumerate*}\n",
            "text/plain": [
              "[1] 0.5 0.5 1.0 1.5 2.5 4.0"
            ]
          },
          "metadata": {}
        }
      ]
    },
    {
      "cell_type": "code",
      "source": [
        "# Suma o resta con un escalar\n",
        "v1+1\n",
        "v1-1"
      ],
      "metadata": {
        "id": "LEdbuoHj7JjS",
        "outputId": "f2b746ff-972c-4789-bed0-4f28e2b5ed8f",
        "colab": {
          "base_uri": "https://localhost:8080/",
          "height": 52
        }
      },
      "execution_count": 87,
      "outputs": [
        {
          "output_type": "display_data",
          "data": {
            "text/html": [
              "<style>\n",
              ".list-inline {list-style: none; margin:0; padding: 0}\n",
              ".list-inline>li {display: inline-block}\n",
              ".list-inline>li:not(:last-child)::after {content: \"\\00b7\"; padding: 0 .5ex}\n",
              "</style>\n",
              "<ol class=list-inline><li>2</li><li>2</li><li>3</li><li>4</li><li>6</li><li>9</li></ol>\n"
            ],
            "text/markdown": "1. 2\n2. 2\n3. 3\n4. 4\n5. 6\n6. 9\n\n\n",
            "text/latex": "\\begin{enumerate*}\n\\item 2\n\\item 2\n\\item 3\n\\item 4\n\\item 6\n\\item 9\n\\end{enumerate*}\n",
            "text/plain": [
              "[1] 2 2 3 4 6 9"
            ]
          },
          "metadata": {}
        },
        {
          "output_type": "display_data",
          "data": {
            "text/html": [
              "<style>\n",
              ".list-inline {list-style: none; margin:0; padding: 0}\n",
              ".list-inline>li {display: inline-block}\n",
              ".list-inline>li:not(:last-child)::after {content: \"\\00b7\"; padding: 0 .5ex}\n",
              "</style>\n",
              "<ol class=list-inline><li>0</li><li>0</li><li>1</li><li>2</li><li>4</li><li>7</li></ol>\n"
            ],
            "text/markdown": "1. 0\n2. 0\n3. 1\n4. 2\n5. 4\n6. 7\n\n\n",
            "text/latex": "\\begin{enumerate*}\n\\item 0\n\\item 0\n\\item 1\n\\item 2\n\\item 4\n\\item 7\n\\end{enumerate*}\n",
            "text/plain": [
              "[1] 0 0 1 2 4 7"
            ]
          },
          "metadata": {}
        }
      ]
    },
    {
      "cell_type": "code",
      "metadata": {
        "id": "1YGnzt1zIgv7",
        "outputId": "ec029a8d-2095-4715-8977-5c983082eaae",
        "colab": {
          "base_uri": "https://localhost:8080/",
          "height": 86
        }
      },
      "source": [
        "# aritmética con vectores\n",
        "# operación de vectore de igual largo\n",
        "c(1,3,5) * c(2,1,6)\n",
        "c(1,3,5) / c(2,1,6)\n",
        "c(1,3,5) + c(2,1,6)\n",
        "c(1,3,5) - c(2,1,6)"
      ],
      "execution_count": 89,
      "outputs": [
        {
          "output_type": "display_data",
          "data": {
            "text/html": [
              "<style>\n",
              ".list-inline {list-style: none; margin:0; padding: 0}\n",
              ".list-inline>li {display: inline-block}\n",
              ".list-inline>li:not(:last-child)::after {content: \"\\00b7\"; padding: 0 .5ex}\n",
              "</style>\n",
              "<ol class=list-inline><li>2</li><li>3</li><li>30</li></ol>\n"
            ],
            "text/markdown": "1. 2\n2. 3\n3. 30\n\n\n",
            "text/latex": "\\begin{enumerate*}\n\\item 2\n\\item 3\n\\item 30\n\\end{enumerate*}\n",
            "text/plain": [
              "[1]  2  3 30"
            ]
          },
          "metadata": {}
        },
        {
          "output_type": "display_data",
          "data": {
            "text/html": [
              "<style>\n",
              ".list-inline {list-style: none; margin:0; padding: 0}\n",
              ".list-inline>li {display: inline-block}\n",
              ".list-inline>li:not(:last-child)::after {content: \"\\00b7\"; padding: 0 .5ex}\n",
              "</style>\n",
              "<ol class=list-inline><li>0.5</li><li>3</li><li>0.833333333333333</li></ol>\n"
            ],
            "text/markdown": "1. 0.5\n2. 3\n3. 0.833333333333333\n\n\n",
            "text/latex": "\\begin{enumerate*}\n\\item 0.5\n\\item 3\n\\item 0.833333333333333\n\\end{enumerate*}\n",
            "text/plain": [
              "[1] 0.5000000 3.0000000 0.8333333"
            ]
          },
          "metadata": {}
        },
        {
          "output_type": "display_data",
          "data": {
            "text/html": [
              "<style>\n",
              ".list-inline {list-style: none; margin:0; padding: 0}\n",
              ".list-inline>li {display: inline-block}\n",
              ".list-inline>li:not(:last-child)::after {content: \"\\00b7\"; padding: 0 .5ex}\n",
              "</style>\n",
              "<ol class=list-inline><li>3</li><li>4</li><li>11</li></ol>\n"
            ],
            "text/markdown": "1. 3\n2. 4\n3. 11\n\n\n",
            "text/latex": "\\begin{enumerate*}\n\\item 3\n\\item 4\n\\item 11\n\\end{enumerate*}\n",
            "text/plain": [
              "[1]  3  4 11"
            ]
          },
          "metadata": {}
        },
        {
          "output_type": "display_data",
          "data": {
            "text/html": [
              "<style>\n",
              ".list-inline {list-style: none; margin:0; padding: 0}\n",
              ".list-inline>li {display: inline-block}\n",
              ".list-inline>li:not(:last-child)::after {content: \"\\00b7\"; padding: 0 .5ex}\n",
              "</style>\n",
              "<ol class=list-inline><li>-1</li><li>2</li><li>-1</li></ol>\n"
            ],
            "text/markdown": "1. -1\n2. 2\n3. -1\n\n\n",
            "text/latex": "\\begin{enumerate*}\n\\item -1\n\\item 2\n\\item -1\n\\end{enumerate*}\n",
            "text/plain": [
              "[1] -1  2 -1"
            ]
          },
          "metadata": {}
        }
      ]
    },
    {
      "cell_type": "code",
      "metadata": {
        "id": "syufc9_OIgv_",
        "outputId": "f903cba5-1b2c-4aee-fb2a-d13fd7d379ed",
        "colab": {
          "base_uri": "https://localhost:8080/",
          "height": 34
        }
      },
      "source": [
        "#CUIDADO: Si se operan vectores de dstinto largo se reciclan los valores del vector más pequeño\n",
        "c(1,2) + c(10,20,30,40)"
      ],
      "execution_count": 90,
      "outputs": [
        {
          "output_type": "display_data",
          "data": {
            "text/html": [
              "<style>\n",
              ".list-inline {list-style: none; margin:0; padding: 0}\n",
              ".list-inline>li {display: inline-block}\n",
              ".list-inline>li:not(:last-child)::after {content: \"\\00b7\"; padding: 0 .5ex}\n",
              "</style>\n",
              "<ol class=list-inline><li>11</li><li>22</li><li>31</li><li>42</li></ol>\n"
            ],
            "text/markdown": "1. 11\n2. 22\n3. 31\n4. 42\n\n\n",
            "text/latex": "\\begin{enumerate*}\n\\item 11\n\\item 22\n\\item 31\n\\item 42\n\\end{enumerate*}\n",
            "text/plain": [
              "[1] 11 22 31 42"
            ]
          },
          "metadata": {}
        }
      ]
    },
    {
      "cell_type": "code",
      "source": [
        "c(1,2) + c(10,20,30)"
      ],
      "metadata": {
        "id": "m71Ow84X7-jh",
        "outputId": "f88e0b0a-6ffa-41c1-c78c-f682c8334f37",
        "colab": {
          "base_uri": "https://localhost:8080/",
          "height": 69
        }
      },
      "execution_count": 91,
      "outputs": [
        {
          "output_type": "stream",
          "name": "stderr",
          "text": [
            "Warning message in c(1, 2) + c(10, 20, 30):\n",
            "“longer object length is not a multiple of shorter object length”\n"
          ]
        },
        {
          "output_type": "display_data",
          "data": {
            "text/html": [
              "<style>\n",
              ".list-inline {list-style: none; margin:0; padding: 0}\n",
              ".list-inline>li {display: inline-block}\n",
              ".list-inline>li:not(:last-child)::after {content: \"\\00b7\"; padding: 0 .5ex}\n",
              "</style>\n",
              "<ol class=list-inline><li>11</li><li>22</li><li>31</li></ol>\n"
            ],
            "text/markdown": "1. 11\n2. 22\n3. 31\n\n\n",
            "text/latex": "\\begin{enumerate*}\n\\item 11\n\\item 22\n\\item 31\n\\end{enumerate*}\n",
            "text/plain": [
              "[1] 11 22 31"
            ]
          },
          "metadata": {}
        }
      ]
    },
    {
      "cell_type": "code",
      "metadata": {
        "id": "9kfbx6J4IgwC"
      },
      "source": [
        "# NOTA:\n",
        "# podemos determinar el largo de un vector mediante la función length()\n"
      ],
      "execution_count": null,
      "outputs": []
    },
    {
      "cell_type": "markdown",
      "metadata": {
        "id": "LIr-IFowIgwD"
      },
      "source": [
        "**Secuencias**\n",
        "\n",
        "En R es posible generar de manera rápida y sencilla algunas secuencias numéricas y almacenarlas en un vector.\n",
        "\n",
        "Ejemplo de estas funciones son :\n",
        "\n",
        "    rep()\n",
        "    seq()\n",
        "    \n",
        "Más adelante veremos como generar números aleatorios siguiendo alguna función de distribución de interés.\n",
        "\n"
      ]
    },
    {
      "cell_type": "code",
      "metadata": {
        "id": "wk0fB_gWIgwE",
        "outputId": "b2f86ac4-f0c2-4744-ae45-a25f056eadc0",
        "colab": {
          "base_uri": "https://localhost:8080/",
          "height": 34
        }
      },
      "source": [
        "# a vimos que fácilmente ppodemos generar vectores de enteros consecutivos vía \":\"\n",
        "-2:3"
      ],
      "execution_count": 92,
      "outputs": [
        {
          "output_type": "display_data",
          "data": {
            "text/html": [
              "<style>\n",
              ".list-inline {list-style: none; margin:0; padding: 0}\n",
              ".list-inline>li {display: inline-block}\n",
              ".list-inline>li:not(:last-child)::after {content: \"\\00b7\"; padding: 0 .5ex}\n",
              "</style>\n",
              "<ol class=list-inline><li>-2</li><li>-1</li><li>0</li><li>1</li><li>2</li><li>3</li></ol>\n"
            ],
            "text/markdown": "1. -2\n2. -1\n3. 0\n4. 1\n5. 2\n6. 3\n\n\n",
            "text/latex": "\\begin{enumerate*}\n\\item -2\n\\item -1\n\\item 0\n\\item 1\n\\item 2\n\\item 3\n\\end{enumerate*}\n",
            "text/plain": [
              "[1] -2 -1  0  1  2  3"
            ]
          },
          "metadata": {}
        }
      ]
    },
    {
      "cell_type": "code",
      "metadata": {
        "id": "gGkgGylnIgwK"
      },
      "source": [
        "# ejemplo de función seq (utilice argumento by, y otro ejemplo con argumento length.out)\n",
        "?seq"
      ],
      "execution_count": 93,
      "outputs": []
    },
    {
      "cell_type": "code",
      "source": [
        "# Secuencia que parta en 1 y termine en 2, con incrementos de 0.1\n",
        "seq(from = 1, to = 2, by = 0.1)"
      ],
      "metadata": {
        "id": "mMe6HL8t9dPr",
        "outputId": "ddb31a9f-461c-46c6-e09d-5d7db92d2b52",
        "colab": {
          "base_uri": "https://localhost:8080/",
          "height": 34
        }
      },
      "execution_count": 94,
      "outputs": [
        {
          "output_type": "display_data",
          "data": {
            "text/html": [
              "<style>\n",
              ".list-inline {list-style: none; margin:0; padding: 0}\n",
              ".list-inline>li {display: inline-block}\n",
              ".list-inline>li:not(:last-child)::after {content: \"\\00b7\"; padding: 0 .5ex}\n",
              "</style>\n",
              "<ol class=list-inline><li>1</li><li>1.1</li><li>1.2</li><li>1.3</li><li>1.4</li><li>1.5</li><li>1.6</li><li>1.7</li><li>1.8</li><li>1.9</li><li>2</li></ol>\n"
            ],
            "text/markdown": "1. 1\n2. 1.1\n3. 1.2\n4. 1.3\n5. 1.4\n6. 1.5\n7. 1.6\n8. 1.7\n9. 1.8\n10. 1.9\n11. 2\n\n\n",
            "text/latex": "\\begin{enumerate*}\n\\item 1\n\\item 1.1\n\\item 1.2\n\\item 1.3\n\\item 1.4\n\\item 1.5\n\\item 1.6\n\\item 1.7\n\\item 1.8\n\\item 1.9\n\\item 2\n\\end{enumerate*}\n",
            "text/plain": [
              " [1] 1.0 1.1 1.2 1.3 1.4 1.5 1.6 1.7 1.8 1.9 2.0"
            ]
          },
          "metadata": {}
        }
      ]
    },
    {
      "cell_type": "code",
      "source": [
        "# Si por el contrario. Queremos partir en 1, llegar hasta el 2, pero generando un vector de largo 30.\n",
        "seq(from = 1, to = 2, length.out = 30)"
      ],
      "metadata": {
        "id": "F8aNYGYN90oL",
        "outputId": "a0b5cbe3-c28c-4f26-ef5d-4b42f21e4350",
        "colab": {
          "base_uri": "https://localhost:8080/",
          "height": 69
        }
      },
      "execution_count": 95,
      "outputs": [
        {
          "output_type": "display_data",
          "data": {
            "text/html": [
              "<style>\n",
              ".list-inline {list-style: none; margin:0; padding: 0}\n",
              ".list-inline>li {display: inline-block}\n",
              ".list-inline>li:not(:last-child)::after {content: \"\\00b7\"; padding: 0 .5ex}\n",
              "</style>\n",
              "<ol class=list-inline><li>1</li><li>1.03448275862069</li><li>1.06896551724138</li><li>1.10344827586207</li><li>1.13793103448276</li><li>1.17241379310345</li><li>1.20689655172414</li><li>1.24137931034483</li><li>1.27586206896552</li><li>1.31034482758621</li><li>1.3448275862069</li><li>1.37931034482759</li><li>1.41379310344828</li><li>1.44827586206897</li><li>1.48275862068966</li><li>1.51724137931034</li><li>1.55172413793103</li><li>1.58620689655172</li><li>1.62068965517241</li><li>1.6551724137931</li><li>1.68965517241379</li><li>1.72413793103448</li><li>1.75862068965517</li><li>1.79310344827586</li><li>1.82758620689655</li><li>1.86206896551724</li><li>1.89655172413793</li><li>1.93103448275862</li><li>1.96551724137931</li><li>2</li></ol>\n"
            ],
            "text/markdown": "1. 1\n2. 1.03448275862069\n3. 1.06896551724138\n4. 1.10344827586207\n5. 1.13793103448276\n6. 1.17241379310345\n7. 1.20689655172414\n8. 1.24137931034483\n9. 1.27586206896552\n10. 1.31034482758621\n11. 1.3448275862069\n12. 1.37931034482759\n13. 1.41379310344828\n14. 1.44827586206897\n15. 1.48275862068966\n16. 1.51724137931034\n17. 1.55172413793103\n18. 1.58620689655172\n19. 1.62068965517241\n20. 1.6551724137931\n21. 1.68965517241379\n22. 1.72413793103448\n23. 1.75862068965517\n24. 1.79310344827586\n25. 1.82758620689655\n26. 1.86206896551724\n27. 1.89655172413793\n28. 1.93103448275862\n29. 1.96551724137931\n30. 2\n\n\n",
            "text/latex": "\\begin{enumerate*}\n\\item 1\n\\item 1.03448275862069\n\\item 1.06896551724138\n\\item 1.10344827586207\n\\item 1.13793103448276\n\\item 1.17241379310345\n\\item 1.20689655172414\n\\item 1.24137931034483\n\\item 1.27586206896552\n\\item 1.31034482758621\n\\item 1.3448275862069\n\\item 1.37931034482759\n\\item 1.41379310344828\n\\item 1.44827586206897\n\\item 1.48275862068966\n\\item 1.51724137931034\n\\item 1.55172413793103\n\\item 1.58620689655172\n\\item 1.62068965517241\n\\item 1.6551724137931\n\\item 1.68965517241379\n\\item 1.72413793103448\n\\item 1.75862068965517\n\\item 1.79310344827586\n\\item 1.82758620689655\n\\item 1.86206896551724\n\\item 1.89655172413793\n\\item 1.93103448275862\n\\item 1.96551724137931\n\\item 2\n\\end{enumerate*}\n",
            "text/plain": [
              " [1] 1.000000 1.034483 1.068966 1.103448 1.137931 1.172414 1.206897 1.241379\n",
              " [9] 1.275862 1.310345 1.344828 1.379310 1.413793 1.448276 1.482759 1.517241\n",
              "[17] 1.551724 1.586207 1.620690 1.655172 1.689655 1.724138 1.758621 1.793103\n",
              "[25] 1.827586 1.862069 1.896552 1.931034 1.965517 2.000000"
            ]
          },
          "metadata": {}
        }
      ]
    },
    {
      "cell_type": "code",
      "metadata": {
        "id": "rG-Q3PmhIgwG"
      },
      "source": [
        "# Ejemplo de secuencia con rep (utilice distintos tipos de datos)\n",
        "?rep"
      ],
      "execution_count": 96,
      "outputs": []
    },
    {
      "cell_type": "code",
      "source": [],
      "metadata": {
        "id": "s-obOyQkBQSz",
        "outputId": "dc6ecf70-e8e4-4b2f-9b21-91b3008973b5",
        "colab": {
          "base_uri": "https://localhost:8080/",
          "height": 34
        }
      },
      "execution_count": 104,
      "outputs": [
        {
          "output_type": "display_data",
          "data": {
            "text/html": [
              "<style>\n",
              ".list-inline {list-style: none; margin:0; padding: 0}\n",
              ".list-inline>li {display: inline-block}\n",
              ".list-inline>li:not(:last-child)::after {content: \"\\00b7\"; padding: 0 .5ex}\n",
              "</style>\n",
              "<ol class=list-inline><li>0</li><li>10</li></ol>\n"
            ],
            "text/markdown": "1. 0\n2. 10\n\n\n",
            "text/latex": "\\begin{enumerate*}\n\\item 0\n\\item 10\n\\end{enumerate*}\n",
            "text/plain": [
              "[1]  0 10"
            ]
          },
          "metadata": {}
        }
      ]
    },
    {
      "cell_type": "code",
      "source": [
        "# Repetir \"hola\" 5 veces\n",
        "rep(x = \"hola\", times = 5)\n",
        "\n",
        "# NOTA:\n",
        "rep(\"hola\",5)\n",
        "# No es lo mismo que\n",
        "# rep(5,\"hola\") # Da error\n",
        "rep(times = 5, x = \"hola\")"
      ],
      "metadata": {
        "id": "QWmi7Izf-2wS",
        "outputId": "066dfede-e93c-4752-cd12-ddd905eba28a",
        "colab": {
          "base_uri": "https://localhost:8080/",
          "height": 69
        }
      },
      "execution_count": 100,
      "outputs": [
        {
          "output_type": "display_data",
          "data": {
            "text/html": [
              "<style>\n",
              ".list-inline {list-style: none; margin:0; padding: 0}\n",
              ".list-inline>li {display: inline-block}\n",
              ".list-inline>li:not(:last-child)::after {content: \"\\00b7\"; padding: 0 .5ex}\n",
              "</style>\n",
              "<ol class=list-inline><li>'hola'</li><li>'hola'</li><li>'hola'</li><li>'hola'</li><li>'hola'</li></ol>\n"
            ],
            "text/markdown": "1. 'hola'\n2. 'hola'\n3. 'hola'\n4. 'hola'\n5. 'hola'\n\n\n",
            "text/latex": "\\begin{enumerate*}\n\\item 'hola'\n\\item 'hola'\n\\item 'hola'\n\\item 'hola'\n\\item 'hola'\n\\end{enumerate*}\n",
            "text/plain": [
              "[1] \"hola\" \"hola\" \"hola\" \"hola\" \"hola\""
            ]
          },
          "metadata": {}
        },
        {
          "output_type": "display_data",
          "data": {
            "text/html": [
              "<style>\n",
              ".list-inline {list-style: none; margin:0; padding: 0}\n",
              ".list-inline>li {display: inline-block}\n",
              ".list-inline>li:not(:last-child)::after {content: \"\\00b7\"; padding: 0 .5ex}\n",
              "</style>\n",
              "<ol class=list-inline><li>'hola'</li><li>'hola'</li><li>'hola'</li><li>'hola'</li><li>'hola'</li></ol>\n"
            ],
            "text/markdown": "1. 'hola'\n2. 'hola'\n3. 'hola'\n4. 'hola'\n5. 'hola'\n\n\n",
            "text/latex": "\\begin{enumerate*}\n\\item 'hola'\n\\item 'hola'\n\\item 'hola'\n\\item 'hola'\n\\item 'hola'\n\\end{enumerate*}\n",
            "text/plain": [
              "[1] \"hola\" \"hola\" \"hola\" \"hola\" \"hola\""
            ]
          },
          "metadata": {}
        },
        {
          "output_type": "display_data",
          "data": {
            "text/html": [
              "<style>\n",
              ".list-inline {list-style: none; margin:0; padding: 0}\n",
              ".list-inline>li {display: inline-block}\n",
              ".list-inline>li:not(:last-child)::after {content: \"\\00b7\"; padding: 0 .5ex}\n",
              "</style>\n",
              "<ol class=list-inline><li>'hola'</li><li>'hola'</li><li>'hola'</li><li>'hola'</li><li>'hola'</li></ol>\n"
            ],
            "text/markdown": "1. 'hola'\n2. 'hola'\n3. 'hola'\n4. 'hola'\n5. 'hola'\n\n\n",
            "text/latex": "\\begin{enumerate*}\n\\item 'hola'\n\\item 'hola'\n\\item 'hola'\n\\item 'hola'\n\\item 'hola'\n\\end{enumerate*}\n",
            "text/plain": [
              "[1] \"hola\" \"hola\" \"hola\" \"hola\" \"hola\""
            ]
          },
          "metadata": {}
        }
      ]
    },
    {
      "cell_type": "code",
      "source": [
        "rep(x = c(\"Hola\", \"Team\"), times = 3)"
      ],
      "metadata": {
        "id": "8F3CKc5Y_ikR",
        "outputId": "98137173-2d8c-45a7-c65f-7038119d5aab",
        "colab": {
          "base_uri": "https://localhost:8080/",
          "height": 34
        }
      },
      "execution_count": 101,
      "outputs": [
        {
          "output_type": "display_data",
          "data": {
            "text/html": [
              "<style>\n",
              ".list-inline {list-style: none; margin:0; padding: 0}\n",
              ".list-inline>li {display: inline-block}\n",
              ".list-inline>li:not(:last-child)::after {content: \"\\00b7\"; padding: 0 .5ex}\n",
              "</style>\n",
              "<ol class=list-inline><li>'Hola'</li><li>'Team'</li><li>'Hola'</li><li>'Team'</li><li>'Hola'</li><li>'Team'</li></ol>\n"
            ],
            "text/markdown": "1. 'Hola'\n2. 'Team'\n3. 'Hola'\n4. 'Team'\n5. 'Hola'\n6. 'Team'\n\n\n",
            "text/latex": "\\begin{enumerate*}\n\\item 'Hola'\n\\item 'Team'\n\\item 'Hola'\n\\item 'Team'\n\\item 'Hola'\n\\item 'Team'\n\\end{enumerate*}\n",
            "text/plain": [
              "[1] \"Hola\" \"Team\" \"Hola\" \"Team\" \"Hola\" \"Team\""
            ]
          },
          "metadata": {}
        }
      ]
    },
    {
      "cell_type": "code",
      "source": [
        "rep(x = c(\"Hola\", \"Team\"), times = 3, each = 2)"
      ],
      "metadata": {
        "id": "Lbt4YeA5_rqk",
        "outputId": "7f78a8c7-adae-4b63-c042-74913fb8c5e1",
        "colab": {
          "base_uri": "https://localhost:8080/",
          "height": 34
        }
      },
      "execution_count": 102,
      "outputs": [
        {
          "output_type": "display_data",
          "data": {
            "text/html": [
              "<style>\n",
              ".list-inline {list-style: none; margin:0; padding: 0}\n",
              ".list-inline>li {display: inline-block}\n",
              ".list-inline>li:not(:last-child)::after {content: \"\\00b7\"; padding: 0 .5ex}\n",
              "</style>\n",
              "<ol class=list-inline><li>'Hola'</li><li>'Hola'</li><li>'Team'</li><li>'Team'</li><li>'Hola'</li><li>'Hola'</li><li>'Team'</li><li>'Team'</li><li>'Hola'</li><li>'Hola'</li><li>'Team'</li><li>'Team'</li></ol>\n"
            ],
            "text/markdown": "1. 'Hola'\n2. 'Hola'\n3. 'Team'\n4. 'Team'\n5. 'Hola'\n6. 'Hola'\n7. 'Team'\n8. 'Team'\n9. 'Hola'\n10. 'Hola'\n11. 'Team'\n12. 'Team'\n\n\n",
            "text/latex": "\\begin{enumerate*}\n\\item 'Hola'\n\\item 'Hola'\n\\item 'Team'\n\\item 'Team'\n\\item 'Hola'\n\\item 'Hola'\n\\item 'Team'\n\\item 'Team'\n\\item 'Hola'\n\\item 'Hola'\n\\item 'Team'\n\\item 'Team'\n\\end{enumerate*}\n",
            "text/plain": [
              " [1] \"Hola\" \"Hola\" \"Team\" \"Team\" \"Hola\" \"Hola\" \"Team\" \"Team\" \"Hola\" \"Hola\"\n",
              "[11] \"Team\" \"Team\""
            ]
          },
          "metadata": {}
        }
      ]
    },
    {
      "cell_type": "code",
      "metadata": {
        "id": "PpEgoWDXIgwI",
        "outputId": "ba6b6756-0dd2-4bae-e1c5-5a2236bf4a03",
        "colab": {
          "base_uri": "https://localhost:8080/",
          "height": 86
        }
      },
      "source": [
        "# podemos controlar el largo del vector resultante con el parámetro length.out\n",
        "rep(x = c(\"Hola\", \"Team\"), times = 3,each = 2, length.out = 90 )"
      ],
      "execution_count": 107,
      "outputs": [
        {
          "output_type": "display_data",
          "data": {
            "text/html": [
              "<style>\n",
              ".list-inline {list-style: none; margin:0; padding: 0}\n",
              ".list-inline>li {display: inline-block}\n",
              ".list-inline>li:not(:last-child)::after {content: \"\\00b7\"; padding: 0 .5ex}\n",
              "</style>\n",
              "<ol class=list-inline><li>'Hola'</li><li>'Hola'</li><li>'Team'</li><li>'Team'</li><li>'Hola'</li><li>'Hola'</li><li>'Team'</li><li>'Team'</li><li>'Hola'</li><li>'Hola'</li><li>'Team'</li><li>'Team'</li><li>'Hola'</li><li>'Hola'</li><li>'Team'</li><li>'Team'</li><li>'Hola'</li><li>'Hola'</li><li>'Team'</li><li>'Team'</li><li>'Hola'</li><li>'Hola'</li><li>'Team'</li><li>'Team'</li><li>'Hola'</li><li>'Hola'</li><li>'Team'</li><li>'Team'</li><li>'Hola'</li><li>'Hola'</li><li>'Team'</li><li>'Team'</li><li>'Hola'</li><li>'Hola'</li><li>'Team'</li><li>'Team'</li><li>'Hola'</li><li>'Hola'</li><li>'Team'</li><li>'Team'</li><li>'Hola'</li><li>'Hola'</li><li>'Team'</li><li>'Team'</li><li>'Hola'</li><li>'Hola'</li><li>'Team'</li><li>'Team'</li><li>'Hola'</li><li>'Hola'</li><li>'Team'</li><li>'Team'</li><li>'Hola'</li><li>'Hola'</li><li>'Team'</li><li>'Team'</li><li>'Hola'</li><li>'Hola'</li><li>'Team'</li><li>'Team'</li><li>'Hola'</li><li>'Hola'</li><li>'Team'</li><li>'Team'</li><li>'Hola'</li><li>'Hola'</li><li>'Team'</li><li>'Team'</li><li>'Hola'</li><li>'Hola'</li><li>'Team'</li><li>'Team'</li><li>'Hola'</li><li>'Hola'</li><li>'Team'</li><li>'Team'</li><li>'Hola'</li><li>'Hola'</li><li>'Team'</li><li>'Team'</li><li>'Hola'</li><li>'Hola'</li><li>'Team'</li><li>'Team'</li><li>'Hola'</li><li>'Hola'</li><li>'Team'</li><li>'Team'</li><li>'Hola'</li><li>'Hola'</li></ol>\n"
            ],
            "text/markdown": "1. 'Hola'\n2. 'Hola'\n3. 'Team'\n4. 'Team'\n5. 'Hola'\n6. 'Hola'\n7. 'Team'\n8. 'Team'\n9. 'Hola'\n10. 'Hola'\n11. 'Team'\n12. 'Team'\n13. 'Hola'\n14. 'Hola'\n15. 'Team'\n16. 'Team'\n17. 'Hola'\n18. 'Hola'\n19. 'Team'\n20. 'Team'\n21. 'Hola'\n22. 'Hola'\n23. 'Team'\n24. 'Team'\n25. 'Hola'\n26. 'Hola'\n27. 'Team'\n28. 'Team'\n29. 'Hola'\n30. 'Hola'\n31. 'Team'\n32. 'Team'\n33. 'Hola'\n34. 'Hola'\n35. 'Team'\n36. 'Team'\n37. 'Hola'\n38. 'Hola'\n39. 'Team'\n40. 'Team'\n41. 'Hola'\n42. 'Hola'\n43. 'Team'\n44. 'Team'\n45. 'Hola'\n46. 'Hola'\n47. 'Team'\n48. 'Team'\n49. 'Hola'\n50. 'Hola'\n51. 'Team'\n52. 'Team'\n53. 'Hola'\n54. 'Hola'\n55. 'Team'\n56. 'Team'\n57. 'Hola'\n58. 'Hola'\n59. 'Team'\n60. 'Team'\n61. 'Hola'\n62. 'Hola'\n63. 'Team'\n64. 'Team'\n65. 'Hola'\n66. 'Hola'\n67. 'Team'\n68. 'Team'\n69. 'Hola'\n70. 'Hola'\n71. 'Team'\n72. 'Team'\n73. 'Hola'\n74. 'Hola'\n75. 'Team'\n76. 'Team'\n77. 'Hola'\n78. 'Hola'\n79. 'Team'\n80. 'Team'\n81. 'Hola'\n82. 'Hola'\n83. 'Team'\n84. 'Team'\n85. 'Hola'\n86. 'Hola'\n87. 'Team'\n88. 'Team'\n89. 'Hola'\n90. 'Hola'\n\n\n",
            "text/latex": "\\begin{enumerate*}\n\\item 'Hola'\n\\item 'Hola'\n\\item 'Team'\n\\item 'Team'\n\\item 'Hola'\n\\item 'Hola'\n\\item 'Team'\n\\item 'Team'\n\\item 'Hola'\n\\item 'Hola'\n\\item 'Team'\n\\item 'Team'\n\\item 'Hola'\n\\item 'Hola'\n\\item 'Team'\n\\item 'Team'\n\\item 'Hola'\n\\item 'Hola'\n\\item 'Team'\n\\item 'Team'\n\\item 'Hola'\n\\item 'Hola'\n\\item 'Team'\n\\item 'Team'\n\\item 'Hola'\n\\item 'Hola'\n\\item 'Team'\n\\item 'Team'\n\\item 'Hola'\n\\item 'Hola'\n\\item 'Team'\n\\item 'Team'\n\\item 'Hola'\n\\item 'Hola'\n\\item 'Team'\n\\item 'Team'\n\\item 'Hola'\n\\item 'Hola'\n\\item 'Team'\n\\item 'Team'\n\\item 'Hola'\n\\item 'Hola'\n\\item 'Team'\n\\item 'Team'\n\\item 'Hola'\n\\item 'Hola'\n\\item 'Team'\n\\item 'Team'\n\\item 'Hola'\n\\item 'Hola'\n\\item 'Team'\n\\item 'Team'\n\\item 'Hola'\n\\item 'Hola'\n\\item 'Team'\n\\item 'Team'\n\\item 'Hola'\n\\item 'Hola'\n\\item 'Team'\n\\item 'Team'\n\\item 'Hola'\n\\item 'Hola'\n\\item 'Team'\n\\item 'Team'\n\\item 'Hola'\n\\item 'Hola'\n\\item 'Team'\n\\item 'Team'\n\\item 'Hola'\n\\item 'Hola'\n\\item 'Team'\n\\item 'Team'\n\\item 'Hola'\n\\item 'Hola'\n\\item 'Team'\n\\item 'Team'\n\\item 'Hola'\n\\item 'Hola'\n\\item 'Team'\n\\item 'Team'\n\\item 'Hola'\n\\item 'Hola'\n\\item 'Team'\n\\item 'Team'\n\\item 'Hola'\n\\item 'Hola'\n\\item 'Team'\n\\item 'Team'\n\\item 'Hola'\n\\item 'Hola'\n\\end{enumerate*}\n",
            "text/plain": [
              " [1] \"Hola\" \"Hola\" \"Team\" \"Team\" \"Hola\" \"Hola\" \"Team\" \"Team\" \"Hola\" \"Hola\"\n",
              "[11] \"Team\" \"Team\" \"Hola\" \"Hola\" \"Team\" \"Team\" \"Hola\" \"Hola\" \"Team\" \"Team\"\n",
              "[21] \"Hola\" \"Hola\" \"Team\" \"Team\" \"Hola\" \"Hola\" \"Team\" \"Team\" \"Hola\" \"Hola\"\n",
              "[31] \"Team\" \"Team\" \"Hola\" \"Hola\" \"Team\" \"Team\" \"Hola\" \"Hola\" \"Team\" \"Team\"\n",
              "[41] \"Hola\" \"Hola\" \"Team\" \"Team\" \"Hola\" \"Hola\" \"Team\" \"Team\" \"Hola\" \"Hola\"\n",
              "[51] \"Team\" \"Team\" \"Hola\" \"Hola\" \"Team\" \"Team\" \"Hola\" \"Hola\" \"Team\" \"Team\"\n",
              "[61] \"Hola\" \"Hola\" \"Team\" \"Team\" \"Hola\" \"Hola\" \"Team\" \"Team\" \"Hola\" \"Hola\"\n",
              "[71] \"Team\" \"Team\" \"Hola\" \"Hola\" \"Team\" \"Team\" \"Hola\" \"Hola\" \"Team\" \"Team\"\n",
              "[81] \"Hola\" \"Hola\" \"Team\" \"Team\" \"Hola\" \"Hola\" \"Team\" \"Team\" \"Hola\" \"Hola\""
            ]
          },
          "metadata": {}
        }
      ]
    },
    {
      "cell_type": "code",
      "metadata": {
        "id": "psRswQHBIgwO"
      },
      "source": [
        "# ejemplo de vector aleatorio siguiendo una determinada distribución\n",
        "\n",
        "# distribución uniforme\n",
        "# distribución normal\n",
        "\n",
        "\n",
        "\n",
        "\n",
        "\n"
      ],
      "execution_count": null,
      "outputs": []
    },
    {
      "cell_type": "markdown",
      "metadata": {
        "id": "TlnEINwUIgwP"
      },
      "source": [
        "### 3.2 Funciones (primera parte)\n",
        "\n",
        "#### 3.2.1 Funciones vectorizadas y operaciones con vectores\n",
        "\n",
        "R es un lenguaje funcional, en el sentido de que prácticamente cada llamada a R corresponde a una función que puede (o no) recibir argumentos de entrada.\n",
        "Una de las ventajas es que existe una amplia, muy amplia,... verdaderamente amplia!, variedad de funciones disponibles, tanto en las librerías que vienen con la instalación por defecto como las librerías disponibles en CRAN o en toda la comunidad R.\n",
        "\n",
        "En R, una función $f$ se dice vectorizada si dado un vector $\\mathbf{x}=(x_1,x_2,\\dots,x_n)$, se tiene que $f(\\mathbf{x})=(f(x_1),f(x_2),\\dots,f(x_n))$.\n",
        "Esto hace que, por ejemplo, la aritmética de vectores se más sencilla de implentar y con un menor tiempo de cómputo . Gran parte de las funciones disponibles en la librerías (bibliotecas o *packages*) de R corresponden a funciones vectorizadas.\n",
        "A modo de ejemplo, a cotinuación se muestran algunas funciones (de las más básicas) aritméticas, y funciones para trabajar con texto:\n",
        "    \n",
        "    +,-,*,/\n",
        "    abs()\n",
        "    sqrt()\n",
        "    cos()\n",
        "    sin()\n",
        "    tan()\n",
        "    nchar()\n",
        "    susbtr()\n",
        "    grepl()\n",
        "    gsub()\n",
        "    \n",
        "   \n",
        "   \n",
        "   "
      ]
    },
    {
      "cell_type": "code",
      "metadata": {
        "id": "tO3oB1bnIgwP",
        "outputId": "08441e08-815c-459e-a82e-7f5edcf91ae6",
        "colab": {
          "base_uri": "https://localhost:8080/",
          "height": 34
        }
      },
      "source": [
        "# 3.2. Funciones (primera parte) ------------\n",
        "# 3.2.1 Funciones vectorizadas\n",
        "# Ejemplos básicos de funciones(vectorizadas)\n",
        "sqrt(c(4,16,36))"
      ],
      "execution_count": 108,
      "outputs": [
        {
          "output_type": "display_data",
          "data": {
            "text/html": [
              "<style>\n",
              ".list-inline {list-style: none; margin:0; padding: 0}\n",
              ".list-inline>li {display: inline-block}\n",
              ".list-inline>li:not(:last-child)::after {content: \"\\00b7\"; padding: 0 .5ex}\n",
              "</style>\n",
              "<ol class=list-inline><li>2</li><li>4</li><li>6</li></ol>\n"
            ],
            "text/markdown": "1. 2\n2. 4\n3. 6\n\n\n",
            "text/latex": "\\begin{enumerate*}\n\\item 2\n\\item 4\n\\item 6\n\\end{enumerate*}\n",
            "text/plain": [
              "[1] 2 4 6"
            ]
          },
          "metadata": {}
        }
      ]
    },
    {
      "cell_type": "code",
      "metadata": {
        "id": "NivskO3jIgwT",
        "outputId": "75d2d7e0-117a-43fb-bffa-7f94feb22a59",
        "colab": {
          "base_uri": "https://localhost:8080/",
          "height": 69
        }
      },
      "source": [
        "# funciones para manipular texto\n",
        "#cantidad de caracteres\n",
        "nchar(\"Team\")\n",
        "nchar(\"Hola team\")\n",
        "nchar(c(\"Hola\",\"Team\"))\n",
        "\n"
      ],
      "execution_count": 111,
      "outputs": [
        {
          "output_type": "display_data",
          "data": {
            "text/html": [
              "4"
            ],
            "text/markdown": "4",
            "text/latex": "4",
            "text/plain": [
              "[1] 4"
            ]
          },
          "metadata": {}
        },
        {
          "output_type": "display_data",
          "data": {
            "text/html": [
              "9"
            ],
            "text/markdown": "9",
            "text/latex": "9",
            "text/plain": [
              "[1] 9"
            ]
          },
          "metadata": {}
        },
        {
          "output_type": "display_data",
          "data": {
            "text/html": [
              "<style>\n",
              ".list-inline {list-style: none; margin:0; padding: 0}\n",
              ".list-inline>li {display: inline-block}\n",
              ".list-inline>li:not(:last-child)::after {content: \"\\00b7\"; padding: 0 .5ex}\n",
              "</style>\n",
              "<ol class=list-inline><li>4</li><li>4</li></ol>\n"
            ],
            "text/markdown": "1. 4\n2. 4\n\n\n",
            "text/latex": "\\begin{enumerate*}\n\\item 4\n\\item 4\n\\end{enumerate*}\n",
            "text/plain": [
              "[1] 4 4"
            ]
          },
          "metadata": {}
        }
      ]
    },
    {
      "cell_type": "code",
      "metadata": {
        "id": "tA55foL1IgwX",
        "outputId": "74a85bc7-ada6-4ff4-edbc-a53e29c21b0a",
        "colab": {
          "base_uri": "https://localhost:8080/",
          "height": 34
        }
      },
      "source": [
        "# substring substr()\n",
        "substr(\"Buenas noches\",4,8)\n",
        "# substr(x = \"Buenas noches\",start = 4, stop = 8)"
      ],
      "execution_count": 112,
      "outputs": [
        {
          "output_type": "display_data",
          "data": {
            "text/html": [
              "'nas n'"
            ],
            "text/markdown": "'nas n'",
            "text/latex": "'nas n'",
            "text/plain": [
              "[1] \"nas n\""
            ]
          },
          "metadata": {}
        }
      ]
    },
    {
      "cell_type": "code",
      "source": [
        "substr(c(\"Buenas noches\",\"a todo el mundo\"),4,8)"
      ],
      "metadata": {
        "id": "fOBTtwYDEph-",
        "outputId": "bc9e62e6-9273-4996-f4e3-8afc8150929e",
        "colab": {
          "base_uri": "https://localhost:8080/",
          "height": 34
        }
      },
      "execution_count": 114,
      "outputs": [
        {
          "output_type": "display_data",
          "data": {
            "text/html": [
              "<style>\n",
              ".list-inline {list-style: none; margin:0; padding: 0}\n",
              ".list-inline>li {display: inline-block}\n",
              ".list-inline>li:not(:last-child)::after {content: \"\\00b7\"; padding: 0 .5ex}\n",
              "</style>\n",
              "<ol class=list-inline><li>'nas n'</li><li>'odo e'</li></ol>\n"
            ],
            "text/markdown": "1. 'nas n'\n2. 'odo e'\n\n\n",
            "text/latex": "\\begin{enumerate*}\n\\item 'nas n'\n\\item 'odo e'\n\\end{enumerate*}\n",
            "text/plain": [
              "[1] \"nas n\" \"odo e\""
            ]
          },
          "metadata": {}
        }
      ]
    },
    {
      "cell_type": "code",
      "source": [
        "substr(\"Buenas!\",40,80)"
      ],
      "metadata": {
        "id": "_-cW0gHmEhDD",
        "outputId": "cd86e97e-49a7-4260-d75b-cb003ca00594",
        "colab": {
          "base_uri": "https://localhost:8080/",
          "height": 52
        }
      },
      "execution_count": 121,
      "outputs": [
        {
          "output_type": "display_data",
          "data": {
            "text/html": [
              "''"
            ],
            "text/markdown": "''",
            "text/latex": "''",
            "text/plain": [
              "[1] \"\""
            ]
          },
          "metadata": {}
        },
        {
          "output_type": "display_data",
          "data": {
            "text/html": [
              "''"
            ],
            "text/markdown": "''",
            "text/latex": "''",
            "text/plain": [
              "[1] \"\""
            ]
          },
          "metadata": {}
        }
      ]
    },
    {
      "cell_type": "code",
      "metadata": {
        "id": "vjRwdUbiIgwY",
        "outputId": "4b93fdb9-84b1-4151-daea-f1a8e1625e36",
        "colab": {
          "base_uri": "https://localhost:8080/",
          "height": 69
        }
      },
      "source": [
        "# grepl() evlaúa si un  caracter está contenido en otro. (LIKE)\n",
        "#?grepl()\n",
        "grepl(\"ala\", \"palabra\")\n",
        "grepl(\"alo\", \"palabra\")\n",
        "\n",
        "\n",
        "\n",
        "# si reemplazamos en un vector de palabras\n",
        "\n",
        "grepl(\"ala\", c(\"palabra\", \"palabrota\", \"palobra\"))"
      ],
      "execution_count": 119,
      "outputs": [
        {
          "output_type": "display_data",
          "data": {
            "text/html": [
              "TRUE"
            ],
            "text/markdown": "TRUE",
            "text/latex": "TRUE",
            "text/plain": [
              "[1] TRUE"
            ]
          },
          "metadata": {}
        },
        {
          "output_type": "display_data",
          "data": {
            "text/html": [
              "FALSE"
            ],
            "text/markdown": "FALSE",
            "text/latex": "FALSE",
            "text/plain": [
              "[1] FALSE"
            ]
          },
          "metadata": {}
        },
        {
          "output_type": "display_data",
          "data": {
            "text/html": [
              "<style>\n",
              ".list-inline {list-style: none; margin:0; padding: 0}\n",
              ".list-inline>li {display: inline-block}\n",
              ".list-inline>li:not(:last-child)::after {content: \"\\00b7\"; padding: 0 .5ex}\n",
              "</style>\n",
              "<ol class=list-inline><li>TRUE</li><li>TRUE</li><li>FALSE</li></ol>\n"
            ],
            "text/markdown": "1. TRUE\n2. TRUE\n3. FALSE\n\n\n",
            "text/latex": "\\begin{enumerate*}\n\\item TRUE\n\\item TRUE\n\\item FALSE\n\\end{enumerate*}\n",
            "text/plain": [
              "[1]  TRUE  TRUE FALSE"
            ]
          },
          "metadata": {}
        }
      ]
    },
    {
      "cell_type": "code",
      "source": [
        "# Para cambiar a mayúsculas y minúsculas\n",
        "tolower(\"ALo\")\n",
        "toupper(\"ALo\")"
      ],
      "metadata": {
        "id": "e9GT5MfxF8hG",
        "outputId": "65b92d37-bb51-4ec7-e93a-77ba297492fe",
        "colab": {
          "base_uri": "https://localhost:8080/",
          "height": 52
        }
      },
      "execution_count": 123,
      "outputs": [
        {
          "output_type": "display_data",
          "data": {
            "text/html": [
              "'alo'"
            ],
            "text/markdown": "'alo'",
            "text/latex": "'alo'",
            "text/plain": [
              "[1] \"alo\""
            ]
          },
          "metadata": {}
        },
        {
          "output_type": "display_data",
          "data": {
            "text/html": [
              "'ALO'"
            ],
            "text/markdown": "'ALO'",
            "text/latex": "'ALO'",
            "text/plain": [
              "[1] \"ALO\""
            ]
          },
          "metadata": {}
        }
      ]
    },
    {
      "cell_type": "code",
      "source": [
        "#gsub() reemblaza un substring por otro\n",
        "?gsub\n",
        "\n",
        "# Quiero reemplazar cada vez que se lea \"ala\", por \"XX\" en un vector de strings\n",
        "gsub(\"ala\",\"XX\",c(\"palabra\", \"palabrota\", \"palobra\"))\n"
      ],
      "metadata": {
        "id": "hvCyHUI2FW3j",
        "outputId": "4c7d16a7-a364-4a82-ea8f-699b8e6e0130",
        "colab": {
          "base_uri": "https://localhost:8080/",
          "height": 34
        }
      },
      "execution_count": 125,
      "outputs": [
        {
          "output_type": "display_data",
          "data": {
            "text/html": [
              "<style>\n",
              ".list-inline {list-style: none; margin:0; padding: 0}\n",
              ".list-inline>li {display: inline-block}\n",
              ".list-inline>li:not(:last-child)::after {content: \"\\00b7\"; padding: 0 .5ex}\n",
              "</style>\n",
              "<ol class=list-inline><li>'pXXbra'</li><li>'pXXbrota'</li><li>'palobra'</li></ol>\n"
            ],
            "text/markdown": "1. 'pXXbra'\n2. 'pXXbrota'\n3. 'palobra'\n\n\n",
            "text/latex": "\\begin{enumerate*}\n\\item 'pXXbra'\n\\item 'pXXbrota'\n\\item 'palobra'\n\\end{enumerate*}\n",
            "text/plain": [
              "[1] \"pXXbra\"   \"pXXbrota\" \"palobra\" "
            ]
          },
          "metadata": {}
        }
      ]
    },
    {
      "cell_type": "code",
      "metadata": {
        "id": "0j9kKUbzIgwZ"
      },
      "source": [
        "#gsub() reemplaza caracteres dentro de un texto\n",
        "#https://www.tidytextmining.com/\n"
      ],
      "execution_count": null,
      "outputs": []
    }
  ]
}