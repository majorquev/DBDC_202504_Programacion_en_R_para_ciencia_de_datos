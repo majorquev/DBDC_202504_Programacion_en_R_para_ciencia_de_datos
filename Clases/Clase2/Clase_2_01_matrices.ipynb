{
  "nbformat": 4,
  "nbformat_minor": 0,
  "metadata": {
    "colab": {
      "provenance": [],
      "include_colab_link": true
    },
    "kernelspec": {
      "name": "ir",
      "display_name": "R"
    }
  },
  "cells": [
    {
      "cell_type": "markdown",
      "metadata": {
        "id": "view-in-github",
        "colab_type": "text"
      },
      "source": [
        "<a href=\"https://colab.research.google.com/github/majorquev/DBDC_202504_Programacion_en_R_para_ciencia_de_datos/blob/main/Clases/Clase2/Clase_2_01_matrices.ipynb\" target=\"_parent\"><img src=\"https://colab.research.google.com/assets/colab-badge.svg\" alt=\"Open In Colab\"/></a>"
      ]
    },
    {
      "cell_type": "markdown",
      "metadata": {
        "collapsed": true,
        "id": "qGvtNqVzSqoX"
      },
      "source": [
        "# Parte 1: Introducción a R (continuación)\n",
        "\n",
        "**Autor:** Miguel Jorquera Viguera<br>\n",
        "**E-mail:** majorquev@gmail.com<br>\n",
        "**Ayudante:** Rodrigo Morales <br>\n",
        "**E-mail ayudante:** rumorale1@gmail.com\n",
        "\n",
        "\n",
        "\n",
        "### 3.2 Matrices\n",
        "\n",
        "En R, así como en otros lenguajes de programación, una matriz es básicamente un arreglo bi-dimensional, donde las entradas horizontales se entienden como filas y las verticales como columnas. Es posible imaginar una matriz como un arreglo de vectores como columnas (o filas) del mismo largo.\n",
        "\n",
        " * ¿Qué se guarda en una matriz?<br>\n",
        "    Sólo datos de un mismo tipo.\n",
        "     \n",
        " * ¿Cómo se declara una matriz?<br>\n",
        "    Se puede definir de varias maneras, indicando los elementos que la componen, o combinando vectores como filas o columnas.\n",
        "\n",
        " * ¿Cómo se accede a sus elementos?<br>\n",
        "    Indicando la posición del vector fila, seguido de la posición del vector columna (como es usual)."
      ]
    },
    {
      "cell_type": "code",
      "metadata": {
        "trusted": true,
        "id": "TKVO3cuZSqoY",
        "outputId": "bbc97877-6f70-46fc-d418-605cc7bbfd1e",
        "colab": {
          "base_uri": "https://localhost:8080/",
          "height": 132
        }
      },
      "source": [
        "# 3.2 Matrices ------------\n",
        "#?matrix de dos filas y 3 columnas, parametros ncol, nrow y byrow\n",
        "# recibe un vector de elementos\n",
        "A <- matrix(c(1,1,2,3,5,8), ncol = 3, nrow = 2)\n",
        "A\n",
        "\n"
      ],
      "execution_count": 1,
      "outputs": [
        {
          "output_type": "display_data",
          "data": {
            "text/html": [
              "<table class=\"dataframe\">\n",
              "<caption>A matrix: 2 × 3 of type dbl</caption>\n",
              "<tbody>\n",
              "\t<tr><td>1</td><td>2</td><td>5</td></tr>\n",
              "\t<tr><td>1</td><td>3</td><td>8</td></tr>\n",
              "</tbody>\n",
              "</table>\n"
            ],
            "text/markdown": "\nA matrix: 2 × 3 of type dbl\n\n| 1 | 2 | 5 |\n| 1 | 3 | 8 |\n\n",
            "text/latex": "A matrix: 2 × 3 of type dbl\n\\begin{tabular}{lll}\n\t 1 & 2 & 5\\\\\n\t 1 & 3 & 8\\\\\n\\end{tabular}\n",
            "text/plain": [
              "     [,1] [,2] [,3]\n",
              "[1,] 1    2    5   \n",
              "[2,] 1    3    8   "
            ]
          },
          "metadata": {}
        }
      ]
    },
    {
      "cell_type": "code",
      "source": [
        "B <- matrix(c(1,1,2,3,5,8), ncol = 3, nrow = 2, byrow = T)\n",
        "B"
      ],
      "metadata": {
        "id": "ZDFBMXiULnxw",
        "outputId": "2bab8dae-5cae-4caf-c2b8-79e752c97f47",
        "colab": {
          "base_uri": "https://localhost:8080/",
          "height": 132
        }
      },
      "execution_count": 3,
      "outputs": [
        {
          "output_type": "display_data",
          "data": {
            "text/html": [
              "<table class=\"dataframe\">\n",
              "<caption>A matrix: 2 × 3 of type dbl</caption>\n",
              "<tbody>\n",
              "\t<tr><td>1</td><td>1</td><td>2</td></tr>\n",
              "\t<tr><td>3</td><td>5</td><td>8</td></tr>\n",
              "</tbody>\n",
              "</table>\n"
            ],
            "text/markdown": "\nA matrix: 2 × 3 of type dbl\n\n| 1 | 1 | 2 |\n| 3 | 5 | 8 |\n\n",
            "text/latex": "A matrix: 2 × 3 of type dbl\n\\begin{tabular}{lll}\n\t 1 & 1 & 2\\\\\n\t 3 & 5 & 8\\\\\n\\end{tabular}\n",
            "text/plain": [
              "     [,1] [,2] [,3]\n",
              "[1,] 1    1    2   \n",
              "[2,] 3    5    8   "
            ]
          },
          "metadata": {}
        }
      ]
    },
    {
      "cell_type": "code",
      "metadata": {
        "trusted": true,
        "id": "Gm3PDTciSqof",
        "outputId": "e01144c8-0c04-448d-a096-6fb2ed1a4492",
        "colab": {
          "base_uri": "https://localhost:8080/",
          "height": 34
        }
      },
      "source": [
        "# clase y atributo dim\n",
        "class(A)"
      ],
      "execution_count": 4,
      "outputs": [
        {
          "output_type": "display_data",
          "data": {
            "text/html": [
              "<style>\n",
              ".list-inline {list-style: none; margin:0; padding: 0}\n",
              ".list-inline>li {display: inline-block}\n",
              ".list-inline>li:not(:last-child)::after {content: \"\\00b7\"; padding: 0 .5ex}\n",
              "</style>\n",
              "<ol class=list-inline><li>'matrix'</li><li>'array'</li></ol>\n"
            ],
            "text/markdown": "1. 'matrix'\n2. 'array'\n\n\n",
            "text/latex": "\\begin{enumerate*}\n\\item 'matrix'\n\\item 'array'\n\\end{enumerate*}\n",
            "text/plain": [
              "[1] \"matrix\" \"array\" "
            ]
          },
          "metadata": {}
        }
      ]
    },
    {
      "cell_type": "code",
      "source": [
        "dim(A)"
      ],
      "metadata": {
        "id": "FvDsf7skMofa",
        "outputId": "aab0cba8-166e-4ebc-a09e-c77bd1a8ebb4",
        "colab": {
          "base_uri": "https://localhost:8080/",
          "height": 34
        }
      },
      "execution_count": 5,
      "outputs": [
        {
          "output_type": "display_data",
          "data": {
            "text/html": [
              "<style>\n",
              ".list-inline {list-style: none; margin:0; padding: 0}\n",
              ".list-inline>li {display: inline-block}\n",
              ".list-inline>li:not(:last-child)::after {content: \"\\00b7\"; padding: 0 .5ex}\n",
              "</style>\n",
              "<ol class=list-inline><li>2</li><li>3</li></ol>\n"
            ],
            "text/markdown": "1. 2\n2. 3\n\n\n",
            "text/latex": "\\begin{enumerate*}\n\\item 2\n\\item 3\n\\end{enumerate*}\n",
            "text/plain": [
              "[1] 2 3"
            ]
          },
          "metadata": {}
        }
      ]
    },
    {
      "cell_type": "code",
      "metadata": {
        "trusted": true,
        "id": "2TXNSoedSqoh"
      },
      "source": [
        "# Genere dos vectores del mismo largo y forme una matriz.\n",
        "\n",
        "c1 <- c(1,2,3)\n",
        "c2 <- c(5,10,15)\n",
        "c3 <- c(7,8,9)\n",
        "\n"
      ],
      "execution_count": 6,
      "outputs": []
    },
    {
      "cell_type": "code",
      "metadata": {
        "trusted": true,
        "id": "W3g76XEkSqok",
        "outputId": "1763f8cb-ffa2-45b3-da37-95342cfb6a28",
        "colab": {
          "base_uri": "https://localhost:8080/",
          "height": 178
        }
      },
      "source": [
        "# funciones cbind() [une vectores como columnas]\n",
        "# y rbind() [une vectores como filas] (pensadas para matrices)\n",
        "#?cbind\n",
        "\n",
        "M <- cbind(c1,c2,c3)\n",
        "M"
      ],
      "execution_count": 8,
      "outputs": [
        {
          "output_type": "display_data",
          "data": {
            "text/html": [
              "<table class=\"dataframe\">\n",
              "<caption>A matrix: 3 × 3 of type dbl</caption>\n",
              "<thead>\n",
              "\t<tr><th scope=col>c1</th><th scope=col>c2</th><th scope=col>c3</th></tr>\n",
              "</thead>\n",
              "<tbody>\n",
              "\t<tr><td>1</td><td> 5</td><td>7</td></tr>\n",
              "\t<tr><td>2</td><td>10</td><td>8</td></tr>\n",
              "\t<tr><td>3</td><td>15</td><td>9</td></tr>\n",
              "</tbody>\n",
              "</table>\n"
            ],
            "text/markdown": "\nA matrix: 3 × 3 of type dbl\n\n| c1 | c2 | c3 |\n|---|---|---|\n| 1 |  5 | 7 |\n| 2 | 10 | 8 |\n| 3 | 15 | 9 |\n\n",
            "text/latex": "A matrix: 3 × 3 of type dbl\n\\begin{tabular}{lll}\n c1 & c2 & c3\\\\\n\\hline\n\t 1 &  5 & 7\\\\\n\t 2 & 10 & 8\\\\\n\t 3 & 15 & 9\\\\\n\\end{tabular}\n",
            "text/plain": [
              "     c1 c2 c3\n",
              "[1,] 1   5 7 \n",
              "[2,] 2  10 8 \n",
              "[3,] 3  15 9 "
            ]
          },
          "metadata": {}
        }
      ]
    },
    {
      "cell_type": "code",
      "source": [
        "f1 <- c(1,2,3)\n",
        "f2 <- c(4,1,3)"
      ],
      "metadata": {
        "id": "zk5DSsQYNVp6"
      },
      "execution_count": 9,
      "outputs": []
    },
    {
      "cell_type": "code",
      "source": [
        "MR <- rbind(f1,f2)\n",
        "MR"
      ],
      "metadata": {
        "id": "xG9ASwHnNahh",
        "outputId": "22aeb716-0ae0-4bd5-89e3-d818a23a653c",
        "colab": {
          "base_uri": "https://localhost:8080/",
          "height": 114
        }
      },
      "execution_count": 11,
      "outputs": [
        {
          "output_type": "display_data",
          "data": {
            "text/html": [
              "<table class=\"dataframe\">\n",
              "<caption>A matrix: 2 × 3 of type dbl</caption>\n",
              "<tbody>\n",
              "\t<tr><th scope=row>f1</th><td>1</td><td>2</td><td>3</td></tr>\n",
              "\t<tr><th scope=row>f2</th><td>4</td><td>1</td><td>3</td></tr>\n",
              "</tbody>\n",
              "</table>\n"
            ],
            "text/markdown": "\nA matrix: 2 × 3 of type dbl\n\n| f1 | 1 | 2 | 3 |\n| f2 | 4 | 1 | 3 |\n\n",
            "text/latex": "A matrix: 2 × 3 of type dbl\n\\begin{tabular}{r|lll}\n\tf1 & 1 & 2 & 3\\\\\n\tf2 & 4 & 1 & 3\\\\\n\\end{tabular}\n",
            "text/plain": [
              "   [,1] [,2] [,3]\n",
              "f1 1    2    3   \n",
              "f2 4    1    3   "
            ]
          },
          "metadata": {}
        }
      ]
    },
    {
      "cell_type": "code",
      "source": [
        "# NOTA: Podemos añadir una fila/columna a una matriz existente\n",
        "f3 <- c(0,1,0)\n",
        "rbind(MR,f3)"
      ],
      "metadata": {
        "id": "ds9erwbP3sMG",
        "outputId": "dca8505e-3fde-49bc-e186-d2dc1aa81f4b",
        "colab": {
          "base_uri": "https://localhost:8080/",
          "height": 146
        }
      },
      "execution_count": 12,
      "outputs": [
        {
          "output_type": "display_data",
          "data": {
            "text/html": [
              "<table class=\"dataframe\">\n",
              "<caption>A matrix: 3 × 3 of type dbl</caption>\n",
              "<tbody>\n",
              "\t<tr><th scope=row>f1</th><td>1</td><td>2</td><td>3</td></tr>\n",
              "\t<tr><th scope=row>f2</th><td>4</td><td>1</td><td>3</td></tr>\n",
              "\t<tr><th scope=row>f3</th><td>0</td><td>1</td><td>0</td></tr>\n",
              "</tbody>\n",
              "</table>\n"
            ],
            "text/markdown": "\nA matrix: 3 × 3 of type dbl\n\n| f1 | 1 | 2 | 3 |\n| f2 | 4 | 1 | 3 |\n| f3 | 0 | 1 | 0 |\n\n",
            "text/latex": "A matrix: 3 × 3 of type dbl\n\\begin{tabular}{r|lll}\n\tf1 & 1 & 2 & 3\\\\\n\tf2 & 4 & 1 & 3\\\\\n\tf3 & 0 & 1 & 0\\\\\n\\end{tabular}\n",
            "text/plain": [
              "   [,1] [,2] [,3]\n",
              "f1 1    2    3   \n",
              "f2 4    1    3   \n",
              "f3 0    1    0   "
            ]
          },
          "metadata": {}
        }
      ]
    },
    {
      "cell_type": "code",
      "source": [
        "MR <- rbind(MR,f3)\n",
        "MR"
      ],
      "metadata": {
        "id": "Rw9FL_jKNuvY",
        "outputId": "065df3c4-47f3-4f01-bb6c-ec036e480e7f",
        "colab": {
          "base_uri": "https://localhost:8080/",
          "height": 146
        }
      },
      "execution_count": 14,
      "outputs": [
        {
          "output_type": "display_data",
          "data": {
            "text/html": [
              "<table class=\"dataframe\">\n",
              "<caption>A matrix: 3 × 3 of type dbl</caption>\n",
              "<tbody>\n",
              "\t<tr><th scope=row>f1</th><td>1</td><td>2</td><td>3</td></tr>\n",
              "\t<tr><th scope=row>f2</th><td>4</td><td>1</td><td>3</td></tr>\n",
              "\t<tr><th scope=row>f3</th><td>0</td><td>1</td><td>0</td></tr>\n",
              "</tbody>\n",
              "</table>\n"
            ],
            "text/markdown": "\nA matrix: 3 × 3 of type dbl\n\n| f1 | 1 | 2 | 3 |\n| f2 | 4 | 1 | 3 |\n| f3 | 0 | 1 | 0 |\n\n",
            "text/latex": "A matrix: 3 × 3 of type dbl\n\\begin{tabular}{r|lll}\n\tf1 & 1 & 2 & 3\\\\\n\tf2 & 4 & 1 & 3\\\\\n\tf3 & 0 & 1 & 0\\\\\n\\end{tabular}\n",
            "text/plain": [
              "   [,1] [,2] [,3]\n",
              "f1 1    2    3   \n",
              "f2 4    1    3   \n",
              "f3 0    1    0   "
            ]
          },
          "metadata": {}
        }
      ]
    },
    {
      "cell_type": "code",
      "metadata": {
        "trusted": true,
        "id": "gDzbcsNVSqom",
        "outputId": "118da6e4-9e42-4c4f-a62f-0a55cb2df7c8",
        "colab": {
          "base_uri": "https://localhost:8080/",
          "height": 52
        }
      },
      "source": [
        "# si combinamos vectores de distinto largo?\n",
        "# R recicla valores (recordar explicación)\n",
        "\n",
        "c22 <- c(100,200)\n",
        "c22\n",
        "c1\n",
        "\n",
        "\n"
      ],
      "execution_count": 15,
      "outputs": [
        {
          "output_type": "display_data",
          "data": {
            "text/html": [
              "<style>\n",
              ".list-inline {list-style: none; margin:0; padding: 0}\n",
              ".list-inline>li {display: inline-block}\n",
              ".list-inline>li:not(:last-child)::after {content: \"\\00b7\"; padding: 0 .5ex}\n",
              "</style>\n",
              "<ol class=list-inline><li>100</li><li>200</li></ol>\n"
            ],
            "text/markdown": "1. 100\n2. 200\n\n\n",
            "text/latex": "\\begin{enumerate*}\n\\item 100\n\\item 200\n\\end{enumerate*}\n",
            "text/plain": [
              "[1] 100 200"
            ]
          },
          "metadata": {}
        },
        {
          "output_type": "display_data",
          "data": {
            "text/html": [
              "<style>\n",
              ".list-inline {list-style: none; margin:0; padding: 0}\n",
              ".list-inline>li {display: inline-block}\n",
              ".list-inline>li:not(:last-child)::after {content: \"\\00b7\"; padding: 0 .5ex}\n",
              "</style>\n",
              "<ol class=list-inline><li>1</li><li>2</li><li>3</li></ol>\n"
            ],
            "text/markdown": "1. 1\n2. 2\n3. 3\n\n\n",
            "text/latex": "\\begin{enumerate*}\n\\item 1\n\\item 2\n\\item 3\n\\end{enumerate*}\n",
            "text/plain": [
              "[1] 1 2 3"
            ]
          },
          "metadata": {}
        }
      ]
    },
    {
      "cell_type": "code",
      "source": [
        "cbind(c1,c22)"
      ],
      "metadata": {
        "id": "KyrB84CeOFux",
        "outputId": "a89822e0-fb41-4be3-cab8-888b67253c68",
        "colab": {
          "base_uri": "https://localhost:8080/",
          "height": 230
        }
      },
      "execution_count": 16,
      "outputs": [
        {
          "output_type": "stream",
          "name": "stderr",
          "text": [
            "Warning message in cbind(c1, c22):\n",
            "“number of rows of result is not a multiple of vector length (arg 2)”\n"
          ]
        },
        {
          "output_type": "display_data",
          "data": {
            "text/html": [
              "<table class=\"dataframe\">\n",
              "<caption>A matrix: 3 × 2 of type dbl</caption>\n",
              "<thead>\n",
              "\t<tr><th scope=col>c1</th><th scope=col>c22</th></tr>\n",
              "</thead>\n",
              "<tbody>\n",
              "\t<tr><td>1</td><td>100</td></tr>\n",
              "\t<tr><td>2</td><td>200</td></tr>\n",
              "\t<tr><td>3</td><td>100</td></tr>\n",
              "</tbody>\n",
              "</table>\n"
            ],
            "text/markdown": "\nA matrix: 3 × 2 of type dbl\n\n| c1 | c22 |\n|---|---|\n| 1 | 100 |\n| 2 | 200 |\n| 3 | 100 |\n\n",
            "text/latex": "A matrix: 3 × 2 of type dbl\n\\begin{tabular}{ll}\n c1 & c22\\\\\n\\hline\n\t 1 & 100\\\\\n\t 2 & 200\\\\\n\t 3 & 100\\\\\n\\end{tabular}\n",
            "text/plain": [
              "     c1 c22\n",
              "[1,] 1  100\n",
              "[2,] 2  200\n",
              "[3,] 3  100"
            ]
          },
          "metadata": {}
        }
      ]
    },
    {
      "cell_type": "code",
      "metadata": {
        "trusted": true,
        "id": "QLOH0514Sqoo",
        "outputId": "03f88eb1-1764-4bf4-e7b4-6c6b641d2e90",
        "colab": {
          "base_uri": "https://localhost:8080/",
          "height": 240
        }
      },
      "source": [
        "# función diag para la definición de matrices diagonales\n",
        "#?diag\n",
        "\n",
        "diag(c(1,1,2,3,5,8))\n",
        "\n"
      ],
      "execution_count": 17,
      "outputs": [
        {
          "output_type": "display_data",
          "data": {
            "text/html": [
              "<table class=\"dataframe\">\n",
              "<caption>A matrix: 6 × 6 of type dbl</caption>\n",
              "<tbody>\n",
              "\t<tr><td>1</td><td>0</td><td>0</td><td>0</td><td>0</td><td>0</td></tr>\n",
              "\t<tr><td>0</td><td>1</td><td>0</td><td>0</td><td>0</td><td>0</td></tr>\n",
              "\t<tr><td>0</td><td>0</td><td>2</td><td>0</td><td>0</td><td>0</td></tr>\n",
              "\t<tr><td>0</td><td>0</td><td>0</td><td>3</td><td>0</td><td>0</td></tr>\n",
              "\t<tr><td>0</td><td>0</td><td>0</td><td>0</td><td>5</td><td>0</td></tr>\n",
              "\t<tr><td>0</td><td>0</td><td>0</td><td>0</td><td>0</td><td>8</td></tr>\n",
              "</tbody>\n",
              "</table>\n"
            ],
            "text/markdown": "\nA matrix: 6 × 6 of type dbl\n\n| 1 | 0 | 0 | 0 | 0 | 0 |\n| 0 | 1 | 0 | 0 | 0 | 0 |\n| 0 | 0 | 2 | 0 | 0 | 0 |\n| 0 | 0 | 0 | 3 | 0 | 0 |\n| 0 | 0 | 0 | 0 | 5 | 0 |\n| 0 | 0 | 0 | 0 | 0 | 8 |\n\n",
            "text/latex": "A matrix: 6 × 6 of type dbl\n\\begin{tabular}{llllll}\n\t 1 & 0 & 0 & 0 & 0 & 0\\\\\n\t 0 & 1 & 0 & 0 & 0 & 0\\\\\n\t 0 & 0 & 2 & 0 & 0 & 0\\\\\n\t 0 & 0 & 0 & 3 & 0 & 0\\\\\n\t 0 & 0 & 0 & 0 & 5 & 0\\\\\n\t 0 & 0 & 0 & 0 & 0 & 8\\\\\n\\end{tabular}\n",
            "text/plain": [
              "     [,1] [,2] [,3] [,4] [,5] [,6]\n",
              "[1,] 1    0    0    0    0    0   \n",
              "[2,] 0    1    0    0    0    0   \n",
              "[3,] 0    0    2    0    0    0   \n",
              "[4,] 0    0    0    3    0    0   \n",
              "[5,] 0    0    0    0    5    0   \n",
              "[6,] 0    0    0    0    0    8   "
            ]
          },
          "metadata": {}
        }
      ]
    },
    {
      "cell_type": "code",
      "metadata": {
        "trusted": true,
        "id": "xIfUV82ASqot",
        "outputId": "781c22d2-cd71-48cf-e77c-b7d8b1c95107",
        "colab": {
          "base_uri": "https://localhost:8080/",
          "height": 195
        }
      },
      "source": [
        "# Podemos acceder a los elementos de una matriz\n",
        "# indicando la posición de la fila y la columna de la casilla correspondiente.\n",
        "# Ejemplo: # quiero rescatar el elemento \"(2,1)\"\n",
        "M\n",
        "M[2,1]\n"
      ],
      "execution_count": 21,
      "outputs": [
        {
          "output_type": "display_data",
          "data": {
            "text/html": [
              "<table class=\"dataframe\">\n",
              "<caption>A matrix: 3 × 3 of type dbl</caption>\n",
              "<thead>\n",
              "\t<tr><th scope=col>c1</th><th scope=col>c2</th><th scope=col>c3</th></tr>\n",
              "</thead>\n",
              "<tbody>\n",
              "\t<tr><td>1</td><td> 5</td><td>7</td></tr>\n",
              "\t<tr><td>2</td><td>10</td><td>8</td></tr>\n",
              "\t<tr><td>3</td><td>15</td><td>9</td></tr>\n",
              "</tbody>\n",
              "</table>\n"
            ],
            "text/markdown": "\nA matrix: 3 × 3 of type dbl\n\n| c1 | c2 | c3 |\n|---|---|---|\n| 1 |  5 | 7 |\n| 2 | 10 | 8 |\n| 3 | 15 | 9 |\n\n",
            "text/latex": "A matrix: 3 × 3 of type dbl\n\\begin{tabular}{lll}\n c1 & c2 & c3\\\\\n\\hline\n\t 1 &  5 & 7\\\\\n\t 2 & 10 & 8\\\\\n\t 3 & 15 & 9\\\\\n\\end{tabular}\n",
            "text/plain": [
              "     c1 c2 c3\n",
              "[1,] 1   5 7 \n",
              "[2,] 2  10 8 \n",
              "[3,] 3  15 9 "
            ]
          },
          "metadata": {}
        },
        {
          "output_type": "display_data",
          "data": {
            "text/html": [
              "<strong>c1:</strong> 2"
            ],
            "text/markdown": "**c1:** 2",
            "text/latex": "\\textbf{c1:} 2",
            "text/plain": [
              "c1 \n",
              " 2 "
            ]
          },
          "metadata": {}
        }
      ]
    },
    {
      "cell_type": "code",
      "source": [
        "# CUIDADO:No es lo mismo que\n",
        "M[c(2,1)] # NO LO HAGAN"
      ],
      "metadata": {
        "id": "XZ9li5x25CT5",
        "outputId": "ef0d98bf-2f91-4d39-f4dd-5bdc72d5ce89",
        "colab": {
          "base_uri": "https://localhost:8080/",
          "height": 34
        }
      },
      "execution_count": 22,
      "outputs": [
        {
          "output_type": "display_data",
          "data": {
            "text/html": [
              "<style>\n",
              ".list-inline {list-style: none; margin:0; padding: 0}\n",
              ".list-inline>li {display: inline-block}\n",
              ".list-inline>li:not(:last-child)::after {content: \"\\00b7\"; padding: 0 .5ex}\n",
              "</style>\n",
              "<ol class=list-inline><li>2</li><li>1</li></ol>\n"
            ],
            "text/markdown": "1. 2\n2. 1\n\n\n",
            "text/latex": "\\begin{enumerate*}\n\\item 2\n\\item 1\n\\end{enumerate*}\n",
            "text/plain": [
              "[1] 2 1"
            ]
          },
          "metadata": {}
        }
      ]
    },
    {
      "cell_type": "code",
      "metadata": {
        "trusted": true,
        "id": "0irI-CBJSqou",
        "outputId": "1aa39e31-454d-49b5-8088-8e22580470d0",
        "colab": {
          "base_uri": "https://localhost:8080/",
          "height": 52
        }
      },
      "source": [
        "# Para acceder a una fila completa. Ej: Extraer la tercera fila\n",
        "M[3,]\n",
        "\n",
        "# Para acceder a una columna completa. Ej: Extraer la 2da columna\n",
        "M[,2]\n"
      ],
      "execution_count": 24,
      "outputs": [
        {
          "output_type": "display_data",
          "data": {
            "text/html": [
              "<style>\n",
              ".dl-inline {width: auto; margin:0; padding: 0}\n",
              ".dl-inline>dt, .dl-inline>dd {float: none; width: auto; display: inline-block}\n",
              ".dl-inline>dt::after {content: \":\\0020\"; padding-right: .5ex}\n",
              ".dl-inline>dt:not(:first-of-type) {padding-left: .5ex}\n",
              "</style><dl class=dl-inline><dt>c1</dt><dd>3</dd><dt>c2</dt><dd>15</dd><dt>c3</dt><dd>9</dd></dl>\n"
            ],
            "text/markdown": "c1\n:   3c2\n:   15c3\n:   9\n\n",
            "text/latex": "\\begin{description*}\n\\item[c1] 3\n\\item[c2] 15\n\\item[c3] 9\n\\end{description*}\n",
            "text/plain": [
              "c1 c2 c3 \n",
              " 3 15  9 "
            ]
          },
          "metadata": {}
        },
        {
          "output_type": "display_data",
          "data": {
            "text/html": [
              "<style>\n",
              ".list-inline {list-style: none; margin:0; padding: 0}\n",
              ".list-inline>li {display: inline-block}\n",
              ".list-inline>li:not(:last-child)::after {content: \"\\00b7\"; padding: 0 .5ex}\n",
              "</style>\n",
              "<ol class=list-inline><li>5</li><li>10</li><li>15</li></ol>\n"
            ],
            "text/markdown": "1. 5\n2. 10\n3. 15\n\n\n",
            "text/latex": "\\begin{enumerate*}\n\\item 5\n\\item 10\n\\item 15\n\\end{enumerate*}\n",
            "text/plain": [
              "[1]  5 10 15"
            ]
          },
          "metadata": {}
        }
      ]
    },
    {
      "cell_type": "code",
      "metadata": {
        "trusted": true,
        "id": "rkq7J4nLSqow"
      },
      "source": [
        "#Recordemos que podemos actualizar elementos de un vector como:\n",
        "\n",
        "# quiero cambiar el 15 por un -99 (el 15 de la pos 3,2)\n",
        "M[3,2] <- -99\n"
      ],
      "execution_count": 26,
      "outputs": []
    },
    {
      "cell_type": "code",
      "source": [
        "M"
      ],
      "metadata": {
        "id": "Gx_vauerQbH9",
        "outputId": "d9475706-d539-406f-b52b-1c1123c34f9a",
        "colab": {
          "base_uri": "https://localhost:8080/",
          "height": 178
        }
      },
      "execution_count": 27,
      "outputs": [
        {
          "output_type": "display_data",
          "data": {
            "text/html": [
              "<table class=\"dataframe\">\n",
              "<caption>A matrix: 3 × 3 of type dbl</caption>\n",
              "<thead>\n",
              "\t<tr><th scope=col>c1</th><th scope=col>c2</th><th scope=col>c3</th></tr>\n",
              "</thead>\n",
              "<tbody>\n",
              "\t<tr><td>1</td><td>  5</td><td>7</td></tr>\n",
              "\t<tr><td>2</td><td> 10</td><td>8</td></tr>\n",
              "\t<tr><td>3</td><td>-99</td><td>9</td></tr>\n",
              "</tbody>\n",
              "</table>\n"
            ],
            "text/markdown": "\nA matrix: 3 × 3 of type dbl\n\n| c1 | c2 | c3 |\n|---|---|---|\n| 1 |   5 | 7 |\n| 2 |  10 | 8 |\n| 3 | -99 | 9 |\n\n",
            "text/latex": "A matrix: 3 × 3 of type dbl\n\\begin{tabular}{lll}\n c1 & c2 & c3\\\\\n\\hline\n\t 1 &   5 & 7\\\\\n\t 2 &  10 & 8\\\\\n\t 3 & -99 & 9\\\\\n\\end{tabular}\n",
            "text/plain": [
              "     c1 c2  c3\n",
              "[1,] 1    5 7 \n",
              "[2,] 2   10 8 \n",
              "[3,] 3  -99 9 "
            ]
          },
          "metadata": {}
        }
      ]
    },
    {
      "cell_type": "code",
      "metadata": {
        "id": "KstW38ylSkSV",
        "outputId": "9ee19a6f-d189-4800-f169-c665d87e92af",
        "colab": {
          "base_uri": "https://localhost:8080/",
          "height": 52
        }
      },
      "source": [
        "# Acceso mediante nombres\n",
        "colnames(M)\n",
        "rownames(M)"
      ],
      "execution_count": 32,
      "outputs": [
        {
          "output_type": "display_data",
          "data": {
            "text/html": [
              "<style>\n",
              ".list-inline {list-style: none; margin:0; padding: 0}\n",
              ".list-inline>li {display: inline-block}\n",
              ".list-inline>li:not(:last-child)::after {content: \"\\00b7\"; padding: 0 .5ex}\n",
              "</style>\n",
              "<ol class=list-inline><li>'c1'</li><li>'c2'</li><li>'c3'</li></ol>\n"
            ],
            "text/markdown": "1. 'c1'\n2. 'c2'\n3. 'c3'\n\n\n",
            "text/latex": "\\begin{enumerate*}\n\\item 'c1'\n\\item 'c2'\n\\item 'c3'\n\\end{enumerate*}\n",
            "text/plain": [
              "[1] \"c1\" \"c2\" \"c3\""
            ]
          },
          "metadata": {}
        },
        {
          "output_type": "display_data",
          "data": {
            "text/plain": [
              "NULL"
            ]
          },
          "metadata": {}
        }
      ]
    },
    {
      "cell_type": "code",
      "source": [
        "# Podemos asignar un vector de nombres en rownames\n",
        "rownames(M) <- c(\"f1\",\"f2\",\"f3\")"
      ],
      "metadata": {
        "id": "nocQQcsoQ3ie"
      },
      "execution_count": 33,
      "outputs": []
    },
    {
      "cell_type": "code",
      "source": [
        "M"
      ],
      "metadata": {
        "id": "hRM-BvQkRCro",
        "outputId": "05e5c188-8bb1-425c-91f5-91e31ffeaae4",
        "colab": {
          "base_uri": "https://localhost:8080/",
          "height": 178
        }
      },
      "execution_count": 34,
      "outputs": [
        {
          "output_type": "display_data",
          "data": {
            "text/html": [
              "<table class=\"dataframe\">\n",
              "<caption>A matrix: 3 × 3 of type dbl</caption>\n",
              "<thead>\n",
              "\t<tr><th></th><th scope=col>c1</th><th scope=col>c2</th><th scope=col>c3</th></tr>\n",
              "</thead>\n",
              "<tbody>\n",
              "\t<tr><th scope=row>f1</th><td>1</td><td>  5</td><td>7</td></tr>\n",
              "\t<tr><th scope=row>f2</th><td>2</td><td> 10</td><td>8</td></tr>\n",
              "\t<tr><th scope=row>f3</th><td>3</td><td>-99</td><td>9</td></tr>\n",
              "</tbody>\n",
              "</table>\n"
            ],
            "text/markdown": "\nA matrix: 3 × 3 of type dbl\n\n| <!--/--> | c1 | c2 | c3 |\n|---|---|---|---|\n| f1 | 1 |   5 | 7 |\n| f2 | 2 |  10 | 8 |\n| f3 | 3 | -99 | 9 |\n\n",
            "text/latex": "A matrix: 3 × 3 of type dbl\n\\begin{tabular}{r|lll}\n  & c1 & c2 & c3\\\\\n\\hline\n\tf1 & 1 &   5 & 7\\\\\n\tf2 & 2 &  10 & 8\\\\\n\tf3 & 3 & -99 & 9\\\\\n\\end{tabular}\n",
            "text/plain": [
              "   c1 c2  c3\n",
              "f1 1    5 7 \n",
              "f2 2   10 8 \n",
              "f3 3  -99 9 "
            ]
          },
          "metadata": {}
        }
      ]
    },
    {
      "cell_type": "code",
      "metadata": {
        "id": "0mKL1vhcSkVc",
        "outputId": "95ef972b-3aa7-41b4-9879-453e41d8e540",
        "colab": {
          "base_uri": "https://localhost:8080/",
          "height": 89
        }
      },
      "source": [
        "# Acceso mediante nomnbres\n",
        "# Elemento de la fila \"f2\" y columna \"c3\"\n",
        "\n",
        "M[\"f2\",\"c3\"]\n"
      ],
      "execution_count": 36,
      "outputs": [
        {
          "output_type": "display_data",
          "data": {
            "text/html": [
              "8"
            ],
            "text/markdown": "8",
            "text/latex": "8",
            "text/plain": [
              "[1] 8"
            ]
          },
          "metadata": {}
        },
        {
          "output_type": "error",
          "ename": "ERROR",
          "evalue": "Error in M[\"c3\", \"f2\"]: subscript out of bounds\n",
          "traceback": [
            "Error in M[\"c3\", \"f2\"]: subscript out of bounds\nTraceback:\n"
          ]
        }
      ]
    },
    {
      "cell_type": "code",
      "metadata": {
        "trusted": true,
        "id": "qt9bcwQgSqo0",
        "outputId": "3617647d-b26a-4f1e-d6f7-3d07d4efe5ab",
        "colab": {
          "base_uri": "https://localhost:8080/",
          "height": 195
        }
      },
      "source": [
        "# Acceso mediante \"indicatrices\" lógicas\n",
        "#Quiero obtener los elementos (3,2) y (2,3) de M\n",
        "# 1: Crear una matriz de 3x3 con TRUE en dichas posiciones y FALSE en las restantes.\n",
        "M\n",
        "dim(M)"
      ],
      "execution_count": 41,
      "outputs": [
        {
          "output_type": "display_data",
          "data": {
            "text/html": [
              "<table class=\"dataframe\">\n",
              "<caption>A matrix: 3 × 3 of type dbl</caption>\n",
              "<thead>\n",
              "\t<tr><th></th><th scope=col>c1</th><th scope=col>c2</th><th scope=col>c3</th></tr>\n",
              "</thead>\n",
              "<tbody>\n",
              "\t<tr><th scope=row>f1</th><td>1</td><td>  5</td><td>7</td></tr>\n",
              "\t<tr><th scope=row>f2</th><td>2</td><td> 10</td><td>8</td></tr>\n",
              "\t<tr><th scope=row>f3</th><td>3</td><td>-99</td><td>9</td></tr>\n",
              "</tbody>\n",
              "</table>\n"
            ],
            "text/markdown": "\nA matrix: 3 × 3 of type dbl\n\n| <!--/--> | c1 | c2 | c3 |\n|---|---|---|---|\n| f1 | 1 |   5 | 7 |\n| f2 | 2 |  10 | 8 |\n| f3 | 3 | -99 | 9 |\n\n",
            "text/latex": "A matrix: 3 × 3 of type dbl\n\\begin{tabular}{r|lll}\n  & c1 & c2 & c3\\\\\n\\hline\n\tf1 & 1 &   5 & 7\\\\\n\tf2 & 2 &  10 & 8\\\\\n\tf3 & 3 & -99 & 9\\\\\n\\end{tabular}\n",
            "text/plain": [
              "   c1 c2  c3\n",
              "f1 1    5 7 \n",
              "f2 2   10 8 \n",
              "f3 3  -99 9 "
            ]
          },
          "metadata": {}
        },
        {
          "output_type": "display_data",
          "data": {
            "text/html": [
              "<style>\n",
              ".list-inline {list-style: none; margin:0; padding: 0}\n",
              ".list-inline>li {display: inline-block}\n",
              ".list-inline>li:not(:last-child)::after {content: \"\\00b7\"; padding: 0 .5ex}\n",
              "</style>\n",
              "<ol class=list-inline><li>3</li><li>3</li></ol>\n"
            ],
            "text/markdown": "1. 3\n2. 3\n\n\n",
            "text/latex": "\\begin{enumerate*}\n\\item 3\n\\item 3\n\\end{enumerate*}\n",
            "text/plain": [
              "[1] 3 3"
            ]
          },
          "metadata": {}
        }
      ]
    },
    {
      "cell_type": "code",
      "source": [
        "mat_ind <- matrix(c(F,F,F,F,F,T,F,T,F), ncol = 3, nrow = 3)\n",
        "mat_ind"
      ],
      "metadata": {
        "id": "XBIpZIwLS64v"
      },
      "execution_count": null,
      "outputs": []
    },
    {
      "cell_type": "code",
      "source": [
        "# Otra alternativa, sería crear vector para luego disponerlos como filas/columnas con rbind/cbind\n",
        "\n",
        "t1 <- c(F,F,F)\n",
        "t2 <- c(F,F,T)\n",
        "t3 <- c(F,T,F)\n",
        "\n",
        "mat_ind2 <- rbind(t1,t2,t3)\n",
        "mat_ind2\n"
      ],
      "metadata": {
        "id": "vn-Glv58TIoy",
        "outputId": "c7a96f25-0f01-4999-8220-8ce598472638",
        "colab": {
          "base_uri": "https://localhost:8080/",
          "height": 128
        }
      },
      "execution_count": 43,
      "outputs": [
        {
          "output_type": "display_data",
          "data": {
            "text/html": [
              "<table class=\"dataframe\">\n",
              "<caption>A matrix: 3 × 3 of type lgl</caption>\n",
              "<tbody>\n",
              "\t<tr><th scope=row>t1</th><td>FALSE</td><td>FALSE</td><td>FALSE</td></tr>\n",
              "\t<tr><th scope=row>t2</th><td>FALSE</td><td>FALSE</td><td> TRUE</td></tr>\n",
              "\t<tr><th scope=row>t3</th><td>FALSE</td><td> TRUE</td><td>FALSE</td></tr>\n",
              "</tbody>\n",
              "</table>\n"
            ],
            "text/markdown": "\nA matrix: 3 × 3 of type lgl\n\n| t1 | FALSE | FALSE | FALSE |\n| t2 | FALSE | FALSE |  TRUE |\n| t3 | FALSE |  TRUE | FALSE |\n\n",
            "text/latex": "A matrix: 3 × 3 of type lgl\n\\begin{tabular}{r|lll}\n\tt1 & FALSE & FALSE & FALSE\\\\\n\tt2 & FALSE & FALSE &  TRUE\\\\\n\tt3 & FALSE &  TRUE & FALSE\\\\\n\\end{tabular}\n",
            "text/plain": [
              "   [,1]  [,2]  [,3] \n",
              "t1 FALSE FALSE FALSE\n",
              "t2 FALSE FALSE  TRUE\n",
              "t3 FALSE  TRUE FALSE"
            ]
          },
          "metadata": {}
        }
      ]
    },
    {
      "cell_type": "code",
      "source": [
        "M[mat_ind]"
      ],
      "metadata": {
        "id": "7J6avJS774KM",
        "outputId": "378e55c4-818e-423a-f4c3-47626c78da3e",
        "colab": {
          "base_uri": "https://localhost:8080/",
          "height": 34
        }
      },
      "execution_count": 40,
      "outputs": [
        {
          "output_type": "display_data",
          "data": {
            "text/html": [
              "<style>\n",
              ".list-inline {list-style: none; margin:0; padding: 0}\n",
              ".list-inline>li {display: inline-block}\n",
              ".list-inline>li:not(:last-child)::after {content: \"\\00b7\"; padding: 0 .5ex}\n",
              "</style>\n",
              "<ol class=list-inline><li>-99</li><li>8</li></ol>\n"
            ],
            "text/markdown": "1. -99\n2. 8\n\n\n",
            "text/latex": "\\begin{enumerate*}\n\\item -99\n\\item 8\n\\end{enumerate*}\n",
            "text/plain": [
              "[1] -99   8"
            ]
          },
          "metadata": {}
        }
      ]
    },
    {
      "cell_type": "code",
      "source": [
        "M"
      ],
      "metadata": {
        "id": "YtKuML6gUFVM",
        "outputId": "2130ce28-3f68-4727-de3e-5af549227447",
        "colab": {
          "base_uri": "https://localhost:8080/",
          "height": 178
        }
      },
      "execution_count": 48,
      "outputs": [
        {
          "output_type": "display_data",
          "data": {
            "text/html": [
              "<table class=\"dataframe\">\n",
              "<caption>A matrix: 3 × 3 of type dbl</caption>\n",
              "<thead>\n",
              "\t<tr><th></th><th scope=col>c1</th><th scope=col>c2</th><th scope=col>c3</th></tr>\n",
              "</thead>\n",
              "<tbody>\n",
              "\t<tr><th scope=row>f1</th><td>1</td><td>  5</td><td>7</td></tr>\n",
              "\t<tr><th scope=row>f2</th><td>2</td><td> 10</td><td>8</td></tr>\n",
              "\t<tr><th scope=row>f3</th><td>3</td><td>-99</td><td>9</td></tr>\n",
              "</tbody>\n",
              "</table>\n"
            ],
            "text/markdown": "\nA matrix: 3 × 3 of type dbl\n\n| <!--/--> | c1 | c2 | c3 |\n|---|---|---|---|\n| f1 | 1 |   5 | 7 |\n| f2 | 2 |  10 | 8 |\n| f3 | 3 | -99 | 9 |\n\n",
            "text/latex": "A matrix: 3 × 3 of type dbl\n\\begin{tabular}{r|lll}\n  & c1 & c2 & c3\\\\\n\\hline\n\tf1 & 1 &   5 & 7\\\\\n\tf2 & 2 &  10 & 8\\\\\n\tf3 & 3 & -99 & 9\\\\\n\\end{tabular}\n",
            "text/plain": [
              "   c1 c2  c3\n",
              "f1 1    5 7 \n",
              "f2 2   10 8 \n",
              "f3 3  -99 9 "
            ]
          },
          "metadata": {}
        }
      ]
    },
    {
      "cell_type": "code",
      "source": [
        "# Ubicar los elemtnos menores a 3\n",
        "M < 3"
      ],
      "metadata": {
        "id": "dgZkCWfATz76",
        "outputId": "59475eef-c217-4620-c37f-28d000232287",
        "colab": {
          "base_uri": "https://localhost:8080/",
          "height": 160
        }
      },
      "execution_count": 46,
      "outputs": [
        {
          "output_type": "display_data",
          "data": {
            "text/html": [
              "<table class=\"dataframe\">\n",
              "<caption>A matrix: 3 × 3 of type lgl</caption>\n",
              "<thead>\n",
              "\t<tr><th></th><th scope=col>c1</th><th scope=col>c2</th><th scope=col>c3</th></tr>\n",
              "</thead>\n",
              "<tbody>\n",
              "\t<tr><th scope=row>f1</th><td> TRUE</td><td>FALSE</td><td>FALSE</td></tr>\n",
              "\t<tr><th scope=row>f2</th><td> TRUE</td><td>FALSE</td><td>FALSE</td></tr>\n",
              "\t<tr><th scope=row>f3</th><td>FALSE</td><td> TRUE</td><td>FALSE</td></tr>\n",
              "</tbody>\n",
              "</table>\n"
            ],
            "text/markdown": "\nA matrix: 3 × 3 of type lgl\n\n| <!--/--> | c1 | c2 | c3 |\n|---|---|---|---|\n| f1 |  TRUE | FALSE | FALSE |\n| f2 |  TRUE | FALSE | FALSE |\n| f3 | FALSE |  TRUE | FALSE |\n\n",
            "text/latex": "A matrix: 3 × 3 of type lgl\n\\begin{tabular}{r|lll}\n  & c1 & c2 & c3\\\\\n\\hline\n\tf1 &  TRUE & FALSE & FALSE\\\\\n\tf2 &  TRUE & FALSE & FALSE\\\\\n\tf3 & FALSE &  TRUE & FALSE\\\\\n\\end{tabular}\n",
            "text/plain": [
              "   c1    c2    c3   \n",
              "f1  TRUE FALSE FALSE\n",
              "f2  TRUE FALSE FALSE\n",
              "f3 FALSE  TRUE FALSE"
            ]
          },
          "metadata": {}
        }
      ]
    },
    {
      "cell_type": "code",
      "metadata": {
        "trusted": true,
        "id": "m4DDikCTSqo2",
        "outputId": "7f3aab7b-2dab-40c1-fcb9-743d124ac9ff",
        "colab": {
          "base_uri": "https://localhost:8080/",
          "height": 34
        }
      },
      "source": [
        "# podemos entonces extraer los elmentos que cumplen la condición  (ser menor que 3)\n",
        "M[M < 3]"
      ],
      "execution_count": 47,
      "outputs": [
        {
          "output_type": "display_data",
          "data": {
            "text/html": [
              "<style>\n",
              ".list-inline {list-style: none; margin:0; padding: 0}\n",
              ".list-inline>li {display: inline-block}\n",
              ".list-inline>li:not(:last-child)::after {content: \"\\00b7\"; padding: 0 .5ex}\n",
              "</style>\n",
              "<ol class=list-inline><li>1</li><li>2</li><li>-99</li></ol>\n"
            ],
            "text/markdown": "1. 1\n2. 2\n3. -99\n\n\n",
            "text/latex": "\\begin{enumerate*}\n\\item 1\n\\item 2\n\\item -99\n\\end{enumerate*}\n",
            "text/plain": [
              "[1]   1   2 -99"
            ]
          },
          "metadata": {}
        }
      ]
    },
    {
      "cell_type": "markdown",
      "metadata": {
        "id": "DtKi8VpVSqo8"
      },
      "source": [
        "**Álgebra de matrices**\n",
        "\n",
        "Las operaciones suma (resta) y ponderación por escalar se llevan cabo mediante los mismos operadores utilizados para valores numéricos y vectores (+,-,*, /). Para multiplicar matrices en cambio, se utiliza el operador %*%, mientras que para invertirlas se utiliza la función solve(), t() para transponer y det() para el cálculo del determinante en el caso de matrices cuadradas."
      ]
    },
    {
      "cell_type": "code",
      "metadata": {
        "trusted": true,
        "id": "yxrjsz27Sqo8"
      },
      "source": [
        "# transponer una matriz\n"
      ],
      "execution_count": null,
      "outputs": []
    },
    {
      "cell_type": "code",
      "metadata": {
        "trusted": true,
        "id": "tSphDch3Sqo-"
      },
      "source": [
        "# 3.2 Álgbra de matrices  ------------\n",
        "# Ejemplo simple de álgebra de matrices\n",
        "\n"
      ],
      "execution_count": null,
      "outputs": []
    },
    {
      "cell_type": "code",
      "metadata": {
        "trusted": true,
        "id": "crNocLSqSqpA",
        "outputId": "2cb38eab-f42d-4e91-bb68-fc0c7a2c66d2",
        "colab": {
          "base_uri": "https://localhost:8080/",
          "height": 307
        }
      },
      "source": [
        "# Multiplicación de matrices\n",
        "M ; MR # multiplicación componente a componente\n"
      ],
      "execution_count": 50,
      "outputs": [
        {
          "output_type": "display_data",
          "data": {
            "text/html": [
              "<table class=\"dataframe\">\n",
              "<caption>A matrix: 3 × 3 of type dbl</caption>\n",
              "<thead>\n",
              "\t<tr><th></th><th scope=col>c1</th><th scope=col>c2</th><th scope=col>c3</th></tr>\n",
              "</thead>\n",
              "<tbody>\n",
              "\t<tr><th scope=row>f1</th><td>1</td><td>  5</td><td>7</td></tr>\n",
              "\t<tr><th scope=row>f2</th><td>2</td><td> 10</td><td>8</td></tr>\n",
              "\t<tr><th scope=row>f3</th><td>3</td><td>-99</td><td>9</td></tr>\n",
              "</tbody>\n",
              "</table>\n"
            ],
            "text/markdown": "\nA matrix: 3 × 3 of type dbl\n\n| <!--/--> | c1 | c2 | c3 |\n|---|---|---|---|\n| f1 | 1 |   5 | 7 |\n| f2 | 2 |  10 | 8 |\n| f3 | 3 | -99 | 9 |\n\n",
            "text/latex": "A matrix: 3 × 3 of type dbl\n\\begin{tabular}{r|lll}\n  & c1 & c2 & c3\\\\\n\\hline\n\tf1 & 1 &   5 & 7\\\\\n\tf2 & 2 &  10 & 8\\\\\n\tf3 & 3 & -99 & 9\\\\\n\\end{tabular}\n",
            "text/plain": [
              "   c1 c2  c3\n",
              "f1 1    5 7 \n",
              "f2 2   10 8 \n",
              "f3 3  -99 9 "
            ]
          },
          "metadata": {}
        },
        {
          "output_type": "display_data",
          "data": {
            "text/html": [
              "<table class=\"dataframe\">\n",
              "<caption>A matrix: 3 × 3 of type dbl</caption>\n",
              "<tbody>\n",
              "\t<tr><th scope=row>f1</th><td>1</td><td>2</td><td>3</td></tr>\n",
              "\t<tr><th scope=row>f2</th><td>4</td><td>1</td><td>3</td></tr>\n",
              "\t<tr><th scope=row>f3</th><td>0</td><td>1</td><td>0</td></tr>\n",
              "</tbody>\n",
              "</table>\n"
            ],
            "text/markdown": "\nA matrix: 3 × 3 of type dbl\n\n| f1 | 1 | 2 | 3 |\n| f2 | 4 | 1 | 3 |\n| f3 | 0 | 1 | 0 |\n\n",
            "text/latex": "A matrix: 3 × 3 of type dbl\n\\begin{tabular}{r|lll}\n\tf1 & 1 & 2 & 3\\\\\n\tf2 & 4 & 1 & 3\\\\\n\tf3 & 0 & 1 & 0\\\\\n\\end{tabular}\n",
            "text/plain": [
              "   [,1] [,2] [,3]\n",
              "f1 1    2    3   \n",
              "f2 4    1    3   \n",
              "f3 0    1    0   "
            ]
          },
          "metadata": {}
        }
      ]
    },
    {
      "cell_type": "code",
      "source": [
        "M + MR\n",
        "M - MR\n",
        "M * MR\n",
        "M / MR"
      ],
      "metadata": {
        "id": "FWRTcbATUupA",
        "outputId": "6a04428b-f09e-4b75-bdc8-cf1a66fae186",
        "colab": {
          "base_uri": "https://localhost:8080/",
          "height": 643
        }
      },
      "execution_count": 52,
      "outputs": [
        {
          "output_type": "display_data",
          "data": {
            "text/html": [
              "<table class=\"dataframe\">\n",
              "<caption>A matrix: 3 × 3 of type dbl</caption>\n",
              "<thead>\n",
              "\t<tr><th></th><th scope=col>c1</th><th scope=col>c2</th><th scope=col>c3</th></tr>\n",
              "</thead>\n",
              "<tbody>\n",
              "\t<tr><th scope=row>f1</th><td>2</td><td>  7</td><td>10</td></tr>\n",
              "\t<tr><th scope=row>f2</th><td>6</td><td> 11</td><td>11</td></tr>\n",
              "\t<tr><th scope=row>f3</th><td>3</td><td>-98</td><td> 9</td></tr>\n",
              "</tbody>\n",
              "</table>\n"
            ],
            "text/markdown": "\nA matrix: 3 × 3 of type dbl\n\n| <!--/--> | c1 | c2 | c3 |\n|---|---|---|---|\n| f1 | 2 |   7 | 10 |\n| f2 | 6 |  11 | 11 |\n| f3 | 3 | -98 |  9 |\n\n",
            "text/latex": "A matrix: 3 × 3 of type dbl\n\\begin{tabular}{r|lll}\n  & c1 & c2 & c3\\\\\n\\hline\n\tf1 & 2 &   7 & 10\\\\\n\tf2 & 6 &  11 & 11\\\\\n\tf3 & 3 & -98 &  9\\\\\n\\end{tabular}\n",
            "text/plain": [
              "   c1 c2  c3\n",
              "f1 2    7 10\n",
              "f2 6   11 11\n",
              "f3 3  -98  9"
            ]
          },
          "metadata": {}
        },
        {
          "output_type": "display_data",
          "data": {
            "text/html": [
              "<table class=\"dataframe\">\n",
              "<caption>A matrix: 3 × 3 of type dbl</caption>\n",
              "<thead>\n",
              "\t<tr><th></th><th scope=col>c1</th><th scope=col>c2</th><th scope=col>c3</th></tr>\n",
              "</thead>\n",
              "<tbody>\n",
              "\t<tr><th scope=row>f1</th><td> 0</td><td>   3</td><td>4</td></tr>\n",
              "\t<tr><th scope=row>f2</th><td>-2</td><td>   9</td><td>5</td></tr>\n",
              "\t<tr><th scope=row>f3</th><td> 3</td><td>-100</td><td>9</td></tr>\n",
              "</tbody>\n",
              "</table>\n"
            ],
            "text/markdown": "\nA matrix: 3 × 3 of type dbl\n\n| <!--/--> | c1 | c2 | c3 |\n|---|---|---|---|\n| f1 |  0 |    3 | 4 |\n| f2 | -2 |    9 | 5 |\n| f3 |  3 | -100 | 9 |\n\n",
            "text/latex": "A matrix: 3 × 3 of type dbl\n\\begin{tabular}{r|lll}\n  & c1 & c2 & c3\\\\\n\\hline\n\tf1 &  0 &    3 & 4\\\\\n\tf2 & -2 &    9 & 5\\\\\n\tf3 &  3 & -100 & 9\\\\\n\\end{tabular}\n",
            "text/plain": [
              "   c1 c2   c3\n",
              "f1  0    3 4 \n",
              "f2 -2    9 5 \n",
              "f3  3 -100 9 "
            ]
          },
          "metadata": {}
        },
        {
          "output_type": "display_data",
          "data": {
            "text/html": [
              "<table class=\"dataframe\">\n",
              "<caption>A matrix: 3 × 3 of type dbl</caption>\n",
              "<thead>\n",
              "\t<tr><th></th><th scope=col>c1</th><th scope=col>c2</th><th scope=col>c3</th></tr>\n",
              "</thead>\n",
              "<tbody>\n",
              "\t<tr><th scope=row>f1</th><td>1</td><td> 10</td><td>21</td></tr>\n",
              "\t<tr><th scope=row>f2</th><td>8</td><td> 10</td><td>24</td></tr>\n",
              "\t<tr><th scope=row>f3</th><td>0</td><td>-99</td><td> 0</td></tr>\n",
              "</tbody>\n",
              "</table>\n"
            ],
            "text/markdown": "\nA matrix: 3 × 3 of type dbl\n\n| <!--/--> | c1 | c2 | c3 |\n|---|---|---|---|\n| f1 | 1 |  10 | 21 |\n| f2 | 8 |  10 | 24 |\n| f3 | 0 | -99 |  0 |\n\n",
            "text/latex": "A matrix: 3 × 3 of type dbl\n\\begin{tabular}{r|lll}\n  & c1 & c2 & c3\\\\\n\\hline\n\tf1 & 1 &  10 & 21\\\\\n\tf2 & 8 &  10 & 24\\\\\n\tf3 & 0 & -99 &  0\\\\\n\\end{tabular}\n",
            "text/plain": [
              "   c1 c2  c3\n",
              "f1 1   10 21\n",
              "f2 8   10 24\n",
              "f3 0  -99  0"
            ]
          },
          "metadata": {}
        },
        {
          "output_type": "display_data",
          "data": {
            "text/html": [
              "<table class=\"dataframe\">\n",
              "<caption>A matrix: 3 × 3 of type dbl</caption>\n",
              "<thead>\n",
              "\t<tr><th></th><th scope=col>c1</th><th scope=col>c2</th><th scope=col>c3</th></tr>\n",
              "</thead>\n",
              "<tbody>\n",
              "\t<tr><th scope=row>f1</th><td>1.0</td><td>  2.5</td><td>2.333333</td></tr>\n",
              "\t<tr><th scope=row>f2</th><td>0.5</td><td> 10.0</td><td>2.666667</td></tr>\n",
              "\t<tr><th scope=row>f3</th><td>Inf</td><td>-99.0</td><td>     Inf</td></tr>\n",
              "</tbody>\n",
              "</table>\n"
            ],
            "text/markdown": "\nA matrix: 3 × 3 of type dbl\n\n| <!--/--> | c1 | c2 | c3 |\n|---|---|---|---|\n| f1 | 1.0 |   2.5 | 2.333333 |\n| f2 | 0.5 |  10.0 | 2.666667 |\n| f3 | Inf | -99.0 |      Inf |\n\n",
            "text/latex": "A matrix: 3 × 3 of type dbl\n\\begin{tabular}{r|lll}\n  & c1 & c2 & c3\\\\\n\\hline\n\tf1 & 1.0 &   2.5 & 2.333333\\\\\n\tf2 & 0.5 &  10.0 & 2.666667\\\\\n\tf3 & Inf & -99.0 &      Inf\\\\\n\\end{tabular}\n",
            "text/plain": [
              "   c1  c2    c3      \n",
              "f1 1.0   2.5 2.333333\n",
              "f2 0.5  10.0 2.666667\n",
              "f3 Inf -99.0      Inf"
            ]
          },
          "metadata": {}
        }
      ]
    },
    {
      "cell_type": "code",
      "metadata": {
        "trusted": true,
        "id": "RdPKIzaySqpC"
      },
      "source": [
        "# podemos calcular determinantes\n",
        "# ?det\n",
        "\n"
      ],
      "execution_count": null,
      "outputs": []
    },
    {
      "cell_type": "code",
      "metadata": {
        "trusted": true,
        "id": "Tymq9t9NSqpH"
      },
      "source": [
        "# Podemos invertir matrices\n",
        "# ?solve\n"
      ],
      "execution_count": null,
      "outputs": []
    }
  ]
}