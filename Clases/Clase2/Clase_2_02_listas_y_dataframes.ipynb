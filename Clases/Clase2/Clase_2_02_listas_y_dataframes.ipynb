{
  "nbformat": 4,
  "nbformat_minor": 0,
  "metadata": {
    "colab": {
      "provenance": [],
      "include_colab_link": true
    },
    "kernelspec": {
      "name": "ir",
      "display_name": "R"
    }
  },
  "cells": [
    {
      "cell_type": "markdown",
      "metadata": {
        "id": "view-in-github",
        "colab_type": "text"
      },
      "source": [
        "<a href=\"https://colab.research.google.com/github/majorquev/DBDC_202504_Programacion_en_R_para_ciencia_de_datos/blob/main/Clases/Clase2/Clase_2_02_listas_y_dataframes.ipynb\" target=\"_parent\"><img src=\"https://colab.research.google.com/assets/colab-badge.svg\" alt=\"Open In Colab\"/></a>"
      ]
    },
    {
      "cell_type": "markdown",
      "metadata": {
        "collapsed": true,
        "id": "fgQ2azLwTpRn"
      },
      "source": [
        "# Parte 1: Introducción a R (continuación)\n",
        "\n",
        "**Autor:** Miguel Jorquera Viguera<br>\n",
        "**E-mail:** majorquev@gmail.com<br>\n",
        "**Ayudante:** Rodrigo Morales <br>\n",
        "**E-mail ayudante:** rumorale1@gmail.com\n",
        "\n",
        "\n",
        "## 5. Listas y Dataframes\n",
        "\n",
        "### 5.1 Listas\n",
        "\n",
        "Hasta aquí contamos con dos tipos de objetos para almacenar datos; vectores y matrices. Sin embargo, en ambos casos se tiene la limitante de que no es posible combinar distintos tipos de datos en diferentes entradas. Un objeto que permite una mayor flexibilidad son las listas. En R, una lista es básicamente un arreglo unidimensional, donde en cada entrada es posible almacenar distintos **objetos** (los cuales a su vez pueden almacenar distintos tipos de datos (u otros objetos).\n",
        "En resumen,\n",
        "\n",
        "   * ¿Qué son?<br>\n",
        "    Arreglos unidimensionales que guardan distintos tipos de datos u objetos.<br>\n",
        "\n",
        "   * ¿Cómo se declaran?<br>\n",
        "    Se pueden declarar mediante el comando list() o combinando listas existentes. <br>\n",
        "    \n",
        "   * ¿Cómo se accede a sus elementos?<br>\n",
        "    Usando [ ] (retorna lista), o bien usando [ [ ] ] (retorna el objeto).\n",
        "    En cada caso se puede indicar la posición o nombre del objeto que se quiere rescatar.<br>\n",
        "    Otra manera es mediante el símbolo $ seguido del nombre del objeto.\n",
        "\n"
      ]
    },
    {
      "cell_type": "code",
      "metadata": {
        "trusted": true,
        "id": "zZHpLzzRTpRp"
      },
      "source": [
        "# 5. Listas y dataframes ------------\n",
        "# 5.1 Listas  ------------\n",
        "# Cómo declarar una lista (comando list() )\n",
        "#num,letra, pl, mat, lista\n",
        "# Podemos guardar los objetos en slots con nombres (recomendado)\n",
        "l1 <- list(num = 5,\n",
        "           letra = c(\"A\",\"B\"),\n",
        "           pl = \"hola\",\n",
        "           mat = diag(1:5),\n",
        "           lista = list(x = -1:3, fecha = as.Date(\"2025-05-29\")) )"
      ],
      "execution_count": 1,
      "outputs": []
    },
    {
      "cell_type": "code",
      "source": [],
      "metadata": {
        "id": "UQvXQf_wzX2K"
      },
      "execution_count": null,
      "outputs": []
    },
    {
      "cell_type": "code",
      "metadata": {
        "id": "_iwOQA-xTzww",
        "outputId": "452d7893-e68a-4a54-874a-6ff97e4f5164",
        "colab": {
          "base_uri": "https://localhost:8080/",
          "height": 445
        }
      },
      "source": [
        "\n",
        "l1"
      ],
      "execution_count": 2,
      "outputs": [
        {
          "output_type": "display_data",
          "data": {
            "text/html": [
              "<dl>\n",
              "\t<dt>$num</dt>\n",
              "\t\t<dd>5</dd>\n",
              "\t<dt>$letra</dt>\n",
              "\t\t<dd><style>\n",
              ".list-inline {list-style: none; margin:0; padding: 0}\n",
              ".list-inline>li {display: inline-block}\n",
              ".list-inline>li:not(:last-child)::after {content: \"\\00b7\"; padding: 0 .5ex}\n",
              "</style>\n",
              "<ol class=list-inline><li>'A'</li><li>'B'</li></ol>\n",
              "</dd>\n",
              "\t<dt>$pl</dt>\n",
              "\t\t<dd>'hola'</dd>\n",
              "\t<dt>$mat</dt>\n",
              "\t\t<dd><table class=\"dataframe\">\n",
              "<caption>A matrix: 5 × 5 of type int</caption>\n",
              "<tbody>\n",
              "\t<tr><td>1</td><td>0</td><td>0</td><td>0</td><td>0</td></tr>\n",
              "\t<tr><td>0</td><td>2</td><td>0</td><td>0</td><td>0</td></tr>\n",
              "\t<tr><td>0</td><td>0</td><td>3</td><td>0</td><td>0</td></tr>\n",
              "\t<tr><td>0</td><td>0</td><td>0</td><td>4</td><td>0</td></tr>\n",
              "\t<tr><td>0</td><td>0</td><td>0</td><td>0</td><td>5</td></tr>\n",
              "</tbody>\n",
              "</table>\n",
              "</dd>\n",
              "\t<dt>$lista</dt>\n",
              "\t\t<dd><dl>\n",
              "\t<dt>$x</dt>\n",
              "\t\t<dd><style>\n",
              ".list-inline {list-style: none; margin:0; padding: 0}\n",
              ".list-inline>li {display: inline-block}\n",
              ".list-inline>li:not(:last-child)::after {content: \"\\00b7\"; padding: 0 .5ex}\n",
              "</style>\n",
              "<ol class=list-inline><li>-1</li><li>0</li><li>1</li><li>2</li><li>3</li></ol>\n",
              "</dd>\n",
              "\t<dt>$fecha</dt>\n",
              "\t\t<dd><time datetime=\"2025-05-29\">2025-05-29</time></dd>\n",
              "</dl>\n",
              "</dd>\n",
              "</dl>\n"
            ],
            "text/markdown": "$num\n:   5\n$letra\n:   1. 'A'\n2. 'B'\n\n\n\n$pl\n:   'hola'\n$mat\n:   \nA matrix: 5 × 5 of type int\n\n| 1 | 0 | 0 | 0 | 0 |\n| 0 | 2 | 0 | 0 | 0 |\n| 0 | 0 | 3 | 0 | 0 |\n| 0 | 0 | 0 | 4 | 0 |\n| 0 | 0 | 0 | 0 | 5 |\n\n\n$lista\n:   $x\n:   1. -1\n2. 0\n3. 1\n4. 2\n5. 3\n\n\n\n$fecha\n:   2025-05-29\n\n\n\n\n\n",
            "text/latex": "\\begin{description}\n\\item[\\$num] 5\n\\item[\\$letra] \\begin{enumerate*}\n\\item 'A'\n\\item 'B'\n\\end{enumerate*}\n\n\\item[\\$pl] 'hola'\n\\item[\\$mat] A matrix: 5 × 5 of type int\n\\begin{tabular}{lllll}\n\t 1 & 0 & 0 & 0 & 0\\\\\n\t 0 & 2 & 0 & 0 & 0\\\\\n\t 0 & 0 & 3 & 0 & 0\\\\\n\t 0 & 0 & 0 & 4 & 0\\\\\n\t 0 & 0 & 0 & 0 & 5\\\\\n\\end{tabular}\n\n\\item[\\$lista] \\begin{description}\n\\item[\\$x] \\begin{enumerate*}\n\\item -1\n\\item 0\n\\item 1\n\\item 2\n\\item 3\n\\end{enumerate*}\n\n\\item[\\$fecha] 2025-05-29\n\\end{description}\n\n\\end{description}\n",
            "text/plain": [
              "$num\n",
              "[1] 5\n",
              "\n",
              "$letra\n",
              "[1] \"A\" \"B\"\n",
              "\n",
              "$pl\n",
              "[1] \"hola\"\n",
              "\n",
              "$mat\n",
              "     [,1] [,2] [,3] [,4] [,5]\n",
              "[1,]    1    0    0    0    0\n",
              "[2,]    0    2    0    0    0\n",
              "[3,]    0    0    3    0    0\n",
              "[4,]    0    0    0    4    0\n",
              "[5,]    0    0    0    0    5\n",
              "\n",
              "$lista\n",
              "$lista$x\n",
              "[1] -1  0  1  2  3\n",
              "\n",
              "$lista$fecha\n",
              "[1] \"2025-05-29\"\n",
              "\n"
            ]
          },
          "metadata": {}
        }
      ]
    },
    {
      "cell_type": "code",
      "source": [
        "# estructura\n",
        "str(l1)"
      ],
      "metadata": {
        "id": "_aFJ_YRozH-l",
        "outputId": "a4513c97-f3e2-4e9f-847f-de88215cc191",
        "colab": {
          "base_uri": "https://localhost:8080/"
        }
      },
      "execution_count": 3,
      "outputs": [
        {
          "output_type": "stream",
          "name": "stdout",
          "text": [
            "List of 5\n",
            " $ num  : num 5\n",
            " $ letra: chr [1:2] \"A\" \"B\"\n",
            " $ pl   : chr \"hola\"\n",
            " $ mat  : int [1:5, 1:5] 1 0 0 0 0 0 2 0 0 0 ...\n",
            " $ lista:List of 2\n",
            "  ..$ x    : int [1:5] -1 0 1 2 3\n",
            "  ..$ fecha: Date[1:1], format: \"2025-05-29\"\n"
          ]
        }
      ]
    },
    {
      "cell_type": "code",
      "source": [
        "LETTERS # Es un vector pre-definido con el alfabeto ne mayúsculas\n",
        "letters # Es un vector pre-definido con el alfabeto ne minúsculas"
      ],
      "metadata": {
        "id": "KmTK-zBsziiC",
        "outputId": "8cc8522e-acbb-43a2-ba36-190a177a6a87",
        "colab": {
          "base_uri": "https://localhost:8080/",
          "height": 52
        }
      },
      "execution_count": 5,
      "outputs": [
        {
          "output_type": "display_data",
          "data": {
            "text/html": [
              "<style>\n",
              ".list-inline {list-style: none; margin:0; padding: 0}\n",
              ".list-inline>li {display: inline-block}\n",
              ".list-inline>li:not(:last-child)::after {content: \"\\00b7\"; padding: 0 .5ex}\n",
              "</style>\n",
              "<ol class=list-inline><li>'A'</li><li>'B'</li><li>'C'</li><li>'D'</li><li>'E'</li><li>'F'</li><li>'G'</li><li>'H'</li><li>'I'</li><li>'J'</li><li>'K'</li><li>'L'</li><li>'M'</li><li>'N'</li><li>'O'</li><li>'P'</li><li>'Q'</li><li>'R'</li><li>'S'</li><li>'T'</li><li>'U'</li><li>'V'</li><li>'W'</li><li>'X'</li><li>'Y'</li><li>'Z'</li></ol>\n"
            ],
            "text/markdown": "1. 'A'\n2. 'B'\n3. 'C'\n4. 'D'\n5. 'E'\n6. 'F'\n7. 'G'\n8. 'H'\n9. 'I'\n10. 'J'\n11. 'K'\n12. 'L'\n13. 'M'\n14. 'N'\n15. 'O'\n16. 'P'\n17. 'Q'\n18. 'R'\n19. 'S'\n20. 'T'\n21. 'U'\n22. 'V'\n23. 'W'\n24. 'X'\n25. 'Y'\n26. 'Z'\n\n\n",
            "text/latex": "\\begin{enumerate*}\n\\item 'A'\n\\item 'B'\n\\item 'C'\n\\item 'D'\n\\item 'E'\n\\item 'F'\n\\item 'G'\n\\item 'H'\n\\item 'I'\n\\item 'J'\n\\item 'K'\n\\item 'L'\n\\item 'M'\n\\item 'N'\n\\item 'O'\n\\item 'P'\n\\item 'Q'\n\\item 'R'\n\\item 'S'\n\\item 'T'\n\\item 'U'\n\\item 'V'\n\\item 'W'\n\\item 'X'\n\\item 'Y'\n\\item 'Z'\n\\end{enumerate*}\n",
            "text/plain": [
              " [1] \"A\" \"B\" \"C\" \"D\" \"E\" \"F\" \"G\" \"H\" \"I\" \"J\" \"K\" \"L\" \"M\" \"N\" \"O\" \"P\" \"Q\" \"R\" \"S\"\n",
              "[20] \"T\" \"U\" \"V\" \"W\" \"X\" \"Y\" \"Z\""
            ]
          },
          "metadata": {}
        },
        {
          "output_type": "display_data",
          "data": {
            "text/html": [
              "<style>\n",
              ".list-inline {list-style: none; margin:0; padding: 0}\n",
              ".list-inline>li {display: inline-block}\n",
              ".list-inline>li:not(:last-child)::after {content: \"\\00b7\"; padding: 0 .5ex}\n",
              "</style>\n",
              "<ol class=list-inline><li>'a'</li><li>'b'</li><li>'c'</li><li>'d'</li><li>'e'</li><li>'f'</li><li>'g'</li><li>'h'</li><li>'i'</li><li>'j'</li><li>'k'</li><li>'l'</li><li>'m'</li><li>'n'</li><li>'o'</li><li>'p'</li><li>'q'</li><li>'r'</li><li>'s'</li><li>'t'</li><li>'u'</li><li>'v'</li><li>'w'</li><li>'x'</li><li>'y'</li><li>'z'</li></ol>\n"
            ],
            "text/markdown": "1. 'a'\n2. 'b'\n3. 'c'\n4. 'd'\n5. 'e'\n6. 'f'\n7. 'g'\n8. 'h'\n9. 'i'\n10. 'j'\n11. 'k'\n12. 'l'\n13. 'm'\n14. 'n'\n15. 'o'\n16. 'p'\n17. 'q'\n18. 'r'\n19. 's'\n20. 't'\n21. 'u'\n22. 'v'\n23. 'w'\n24. 'x'\n25. 'y'\n26. 'z'\n\n\n",
            "text/latex": "\\begin{enumerate*}\n\\item 'a'\n\\item 'b'\n\\item 'c'\n\\item 'd'\n\\item 'e'\n\\item 'f'\n\\item 'g'\n\\item 'h'\n\\item 'i'\n\\item 'j'\n\\item 'k'\n\\item 'l'\n\\item 'm'\n\\item 'n'\n\\item 'o'\n\\item 'p'\n\\item 'q'\n\\item 'r'\n\\item 's'\n\\item 't'\n\\item 'u'\n\\item 'v'\n\\item 'w'\n\\item 'x'\n\\item 'y'\n\\item 'z'\n\\end{enumerate*}\n",
            "text/plain": [
              " [1] \"a\" \"b\" \"c\" \"d\" \"e\" \"f\" \"g\" \"h\" \"i\" \"j\" \"k\" \"l\" \"m\" \"n\" \"o\" \"p\" \"q\" \"r\" \"s\"\n",
              "[20] \"t\" \"u\" \"v\" \"w\" \"x\" \"y\" \"z\""
            ]
          },
          "metadata": {}
        }
      ]
    },
    {
      "cell_type": "code",
      "metadata": {
        "trusted": true,
        "id": "Ao1wFCByTpRx"
      },
      "source": [
        "# Podemos definir listas sin nombres en las entradas\n",
        "l2 <- list(-5:0, LETTERS)\n"
      ],
      "execution_count": 6,
      "outputs": []
    },
    {
      "cell_type": "code",
      "source": [
        "str(l2)"
      ],
      "metadata": {
        "id": "HRBrlFcRztod",
        "outputId": "ca7994c7-dff0-4ccb-a73f-4bb24075c1aa",
        "colab": {
          "base_uri": "https://localhost:8080/"
        }
      },
      "execution_count": 7,
      "outputs": [
        {
          "output_type": "stream",
          "name": "stdout",
          "text": [
            "List of 2\n",
            " $ : int [1:6] -5 -4 -3 -2 -1 0\n",
            " $ : chr [1:26] \"A\" \"B\" \"C\" \"D\" ...\n"
          ]
        }
      ]
    },
    {
      "cell_type": "code",
      "source": [
        "l2"
      ],
      "metadata": {
        "id": "ACrCufWGz00A",
        "outputId": "5a6cf4ea-4d85-46d2-e3b0-912a953268cf",
        "colab": {
          "base_uri": "https://localhost:8080/",
          "height": 80
        }
      },
      "execution_count": 8,
      "outputs": [
        {
          "output_type": "display_data",
          "data": {
            "text/html": [
              "<ol>\n",
              "\t<li><style>\n",
              ".list-inline {list-style: none; margin:0; padding: 0}\n",
              ".list-inline>li {display: inline-block}\n",
              ".list-inline>li:not(:last-child)::after {content: \"\\00b7\"; padding: 0 .5ex}\n",
              "</style>\n",
              "<ol class=list-inline><li>-5</li><li>-4</li><li>-3</li><li>-2</li><li>-1</li><li>0</li></ol>\n",
              "</li>\n",
              "\t<li><style>\n",
              ".list-inline {list-style: none; margin:0; padding: 0}\n",
              ".list-inline>li {display: inline-block}\n",
              ".list-inline>li:not(:last-child)::after {content: \"\\00b7\"; padding: 0 .5ex}\n",
              "</style>\n",
              "<ol class=list-inline><li>'A'</li><li>'B'</li><li>'C'</li><li>'D'</li><li>'E'</li><li>'F'</li><li>'G'</li><li>'H'</li><li>'I'</li><li>'J'</li><li>'K'</li><li>'L'</li><li>'M'</li><li>'N'</li><li>'O'</li><li>'P'</li><li>'Q'</li><li>'R'</li><li>'S'</li><li>'T'</li><li>'U'</li><li>'V'</li><li>'W'</li><li>'X'</li><li>'Y'</li><li>'Z'</li></ol>\n",
              "</li>\n",
              "</ol>\n"
            ],
            "text/markdown": "1. 1. -5\n2. -4\n3. -3\n4. -2\n5. -1\n6. 0\n\n\n\n2. 1. 'A'\n2. 'B'\n3. 'C'\n4. 'D'\n5. 'E'\n6. 'F'\n7. 'G'\n8. 'H'\n9. 'I'\n10. 'J'\n11. 'K'\n12. 'L'\n13. 'M'\n14. 'N'\n15. 'O'\n16. 'P'\n17. 'Q'\n18. 'R'\n19. 'S'\n20. 'T'\n21. 'U'\n22. 'V'\n23. 'W'\n24. 'X'\n25. 'Y'\n26. 'Z'\n\n\n\n\n\n",
            "text/latex": "\\begin{enumerate}\n\\item \\begin{enumerate*}\n\\item -5\n\\item -4\n\\item -3\n\\item -2\n\\item -1\n\\item 0\n\\end{enumerate*}\n\n\\item \\begin{enumerate*}\n\\item 'A'\n\\item 'B'\n\\item 'C'\n\\item 'D'\n\\item 'E'\n\\item 'F'\n\\item 'G'\n\\item 'H'\n\\item 'I'\n\\item 'J'\n\\item 'K'\n\\item 'L'\n\\item 'M'\n\\item 'N'\n\\item 'O'\n\\item 'P'\n\\item 'Q'\n\\item 'R'\n\\item 'S'\n\\item 'T'\n\\item 'U'\n\\item 'V'\n\\item 'W'\n\\item 'X'\n\\item 'Y'\n\\item 'Z'\n\\end{enumerate*}\n\n\\end{enumerate}\n",
            "text/plain": [
              "[[1]]\n",
              "[1] -5 -4 -3 -2 -1  0\n",
              "\n",
              "[[2]]\n",
              " [1] \"A\" \"B\" \"C\" \"D\" \"E\" \"F\" \"G\" \"H\" \"I\" \"J\" \"K\" \"L\" \"M\" \"N\" \"O\" \"P\" \"Q\" \"R\" \"S\"\n",
              "[20] \"T\" \"U\" \"V\" \"W\" \"X\" \"Y\" \"Z\"\n"
            ]
          },
          "metadata": {}
        }
      ]
    },
    {
      "cell_type": "code",
      "source": [
        "# Podemos rescatar los nombres\n",
        "names(l1)\n",
        "names(l2)"
      ],
      "metadata": {
        "id": "VfqchsXD1LVX",
        "outputId": "5acae0e8-2022-40db-dede-6976f93ff1c2",
        "colab": {
          "base_uri": "https://localhost:8080/",
          "height": 52
        }
      },
      "execution_count": 10,
      "outputs": [
        {
          "output_type": "display_data",
          "data": {
            "text/html": [
              "<style>\n",
              ".list-inline {list-style: none; margin:0; padding: 0}\n",
              ".list-inline>li {display: inline-block}\n",
              ".list-inline>li:not(:last-child)::after {content: \"\\00b7\"; padding: 0 .5ex}\n",
              "</style>\n",
              "<ol class=list-inline><li>'num'</li><li>'letra'</li><li>'pl'</li><li>'mat'</li><li>'lista'</li></ol>\n"
            ],
            "text/markdown": "1. 'num'\n2. 'letra'\n3. 'pl'\n4. 'mat'\n5. 'lista'\n\n\n",
            "text/latex": "\\begin{enumerate*}\n\\item 'num'\n\\item 'letra'\n\\item 'pl'\n\\item 'mat'\n\\item 'lista'\n\\end{enumerate*}\n",
            "text/plain": [
              "[1] \"num\"   \"letra\" \"pl\"    \"mat\"   \"lista\""
            ]
          },
          "metadata": {}
        },
        {
          "output_type": "display_data",
          "data": {
            "text/plain": [
              "NULL"
            ]
          },
          "metadata": {}
        }
      ]
    },
    {
      "cell_type": "code",
      "source": [
        "# podemos rescatar los largos\n",
        "length(l1)\n",
        "length(l2)"
      ],
      "metadata": {
        "id": "CSu6SBpi1SdJ",
        "outputId": "244909ed-89aa-40b3-fa5c-db2970488413",
        "colab": {
          "base_uri": "https://localhost:8080/",
          "height": 52
        }
      },
      "execution_count": 11,
      "outputs": [
        {
          "output_type": "display_data",
          "data": {
            "text/html": [
              "5"
            ],
            "text/markdown": "5",
            "text/latex": "5",
            "text/plain": [
              "[1] 5"
            ]
          },
          "metadata": {}
        },
        {
          "output_type": "display_data",
          "data": {
            "text/html": [
              "2"
            ],
            "text/markdown": "2",
            "text/latex": "2",
            "text/plain": [
              "[1] 2"
            ]
          },
          "metadata": {}
        }
      ]
    },
    {
      "cell_type": "code",
      "metadata": {
        "trusted": true,
        "id": "GBuxGL4cTpR0",
        "outputId": "8c611e1a-41db-424f-a223-196b4bb0df5f",
        "colab": {
          "base_uri": "https://localhost:8080/",
          "height": 514
        }
      },
      "source": [
        "# Podemos combinar (unir) listas\n",
        "c(l1 , l2)"
      ],
      "execution_count": 13,
      "outputs": [
        {
          "output_type": "display_data",
          "data": {
            "text/html": [
              "<dl>\n",
              "\t<dt>$num</dt>\n",
              "\t\t<dd>5</dd>\n",
              "\t<dt>$letra</dt>\n",
              "\t\t<dd><style>\n",
              ".list-inline {list-style: none; margin:0; padding: 0}\n",
              ".list-inline>li {display: inline-block}\n",
              ".list-inline>li:not(:last-child)::after {content: \"\\00b7\"; padding: 0 .5ex}\n",
              "</style>\n",
              "<ol class=list-inline><li>'A'</li><li>'B'</li></ol>\n",
              "</dd>\n",
              "\t<dt>$pl</dt>\n",
              "\t\t<dd>'hola'</dd>\n",
              "\t<dt>$mat</dt>\n",
              "\t\t<dd><table class=\"dataframe\">\n",
              "<caption>A matrix: 5 × 5 of type int</caption>\n",
              "<tbody>\n",
              "\t<tr><td>1</td><td>0</td><td>0</td><td>0</td><td>0</td></tr>\n",
              "\t<tr><td>0</td><td>2</td><td>0</td><td>0</td><td>0</td></tr>\n",
              "\t<tr><td>0</td><td>0</td><td>3</td><td>0</td><td>0</td></tr>\n",
              "\t<tr><td>0</td><td>0</td><td>0</td><td>4</td><td>0</td></tr>\n",
              "\t<tr><td>0</td><td>0</td><td>0</td><td>0</td><td>5</td></tr>\n",
              "</tbody>\n",
              "</table>\n",
              "</dd>\n",
              "\t<dt>$lista</dt>\n",
              "\t\t<dd><dl>\n",
              "\t<dt>$x</dt>\n",
              "\t\t<dd><style>\n",
              ".list-inline {list-style: none; margin:0; padding: 0}\n",
              ".list-inline>li {display: inline-block}\n",
              ".list-inline>li:not(:last-child)::after {content: \"\\00b7\"; padding: 0 .5ex}\n",
              "</style>\n",
              "<ol class=list-inline><li>-1</li><li>0</li><li>1</li><li>2</li><li>3</li></ol>\n",
              "</dd>\n",
              "\t<dt>$fecha</dt>\n",
              "\t\t<dd><time datetime=\"2025-05-29\">2025-05-29</time></dd>\n",
              "</dl>\n",
              "</dd>\n",
              "\t<dt>[[6]]</dt>\n",
              "\t\t<dd><style>\n",
              ".list-inline {list-style: none; margin:0; padding: 0}\n",
              ".list-inline>li {display: inline-block}\n",
              ".list-inline>li:not(:last-child)::after {content: \"\\00b7\"; padding: 0 .5ex}\n",
              "</style>\n",
              "<ol class=list-inline><li>-5</li><li>-4</li><li>-3</li><li>-2</li><li>-1</li><li>0</li></ol>\n",
              "</dd>\n",
              "\t<dt>[[7]]</dt>\n",
              "\t\t<dd><style>\n",
              ".list-inline {list-style: none; margin:0; padding: 0}\n",
              ".list-inline>li {display: inline-block}\n",
              ".list-inline>li:not(:last-child)::after {content: \"\\00b7\"; padding: 0 .5ex}\n",
              "</style>\n",
              "<ol class=list-inline><li>'A'</li><li>'B'</li><li>'C'</li><li>'D'</li><li>'E'</li><li>'F'</li><li>'G'</li><li>'H'</li><li>'I'</li><li>'J'</li><li>'K'</li><li>'L'</li><li>'M'</li><li>'N'</li><li>'O'</li><li>'P'</li><li>'Q'</li><li>'R'</li><li>'S'</li><li>'T'</li><li>'U'</li><li>'V'</li><li>'W'</li><li>'X'</li><li>'Y'</li><li>'Z'</li></ol>\n",
              "</dd>\n",
              "</dl>\n"
            ],
            "text/markdown": "$num\n:   5\n$letra\n:   1. 'A'\n2. 'B'\n\n\n\n$pl\n:   'hola'\n$mat\n:   \nA matrix: 5 × 5 of type int\n\n| 1 | 0 | 0 | 0 | 0 |\n| 0 | 2 | 0 | 0 | 0 |\n| 0 | 0 | 3 | 0 | 0 |\n| 0 | 0 | 0 | 4 | 0 |\n| 0 | 0 | 0 | 0 | 5 |\n\n\n$lista\n:   $x\n:   1. -1\n2. 0\n3. 1\n4. 2\n5. 3\n\n\n\n$fecha\n:   2025-05-29\n\n\n\n[[6]]\n:   1. -5\n2. -4\n3. -3\n4. -2\n5. -1\n6. 0\n\n\n\n[[7]]\n:   1. 'A'\n2. 'B'\n3. 'C'\n4. 'D'\n5. 'E'\n6. 'F'\n7. 'G'\n8. 'H'\n9. 'I'\n10. 'J'\n11. 'K'\n12. 'L'\n13. 'M'\n14. 'N'\n15. 'O'\n16. 'P'\n17. 'Q'\n18. 'R'\n19. 'S'\n20. 'T'\n21. 'U'\n22. 'V'\n23. 'W'\n24. 'X'\n25. 'Y'\n26. 'Z'\n\n\n\n\n\n",
            "text/latex": "\\begin{description}\n\\item[\\$num] 5\n\\item[\\$letra] \\begin{enumerate*}\n\\item 'A'\n\\item 'B'\n\\end{enumerate*}\n\n\\item[\\$pl] 'hola'\n\\item[\\$mat] A matrix: 5 × 5 of type int\n\\begin{tabular}{lllll}\n\t 1 & 0 & 0 & 0 & 0\\\\\n\t 0 & 2 & 0 & 0 & 0\\\\\n\t 0 & 0 & 3 & 0 & 0\\\\\n\t 0 & 0 & 0 & 4 & 0\\\\\n\t 0 & 0 & 0 & 0 & 5\\\\\n\\end{tabular}\n\n\\item[\\$lista] \\begin{description}\n\\item[\\$x] \\begin{enumerate*}\n\\item -1\n\\item 0\n\\item 1\n\\item 2\n\\item 3\n\\end{enumerate*}\n\n\\item[\\$fecha] 2025-05-29\n\\end{description}\n\n\\item[{[[6]]}] \\begin{enumerate*}\n\\item -5\n\\item -4\n\\item -3\n\\item -2\n\\item -1\n\\item 0\n\\end{enumerate*}\n\n\\item[{[[7]]}] \\begin{enumerate*}\n\\item 'A'\n\\item 'B'\n\\item 'C'\n\\item 'D'\n\\item 'E'\n\\item 'F'\n\\item 'G'\n\\item 'H'\n\\item 'I'\n\\item 'J'\n\\item 'K'\n\\item 'L'\n\\item 'M'\n\\item 'N'\n\\item 'O'\n\\item 'P'\n\\item 'Q'\n\\item 'R'\n\\item 'S'\n\\item 'T'\n\\item 'U'\n\\item 'V'\n\\item 'W'\n\\item 'X'\n\\item 'Y'\n\\item 'Z'\n\\end{enumerate*}\n\n\\end{description}\n",
            "text/plain": [
              "$num\n",
              "[1] 5\n",
              "\n",
              "$letra\n",
              "[1] \"A\" \"B\"\n",
              "\n",
              "$pl\n",
              "[1] \"hola\"\n",
              "\n",
              "$mat\n",
              "     [,1] [,2] [,3] [,4] [,5]\n",
              "[1,]    1    0    0    0    0\n",
              "[2,]    0    2    0    0    0\n",
              "[3,]    0    0    3    0    0\n",
              "[4,]    0    0    0    4    0\n",
              "[5,]    0    0    0    0    5\n",
              "\n",
              "$lista\n",
              "$lista$x\n",
              "[1] -1  0  1  2  3\n",
              "\n",
              "$lista$fecha\n",
              "[1] \"2025-05-29\"\n",
              "\n",
              "\n",
              "[[6]]\n",
              "[1] -5 -4 -3 -2 -1  0\n",
              "\n",
              "[[7]]\n",
              " [1] \"A\" \"B\" \"C\" \"D\" \"E\" \"F\" \"G\" \"H\" \"I\" \"J\" \"K\" \"L\" \"M\" \"N\" \"O\" \"P\" \"Q\" \"R\" \"S\"\n",
              "[20] \"T\" \"U\" \"V\" \"W\" \"X\" \"Y\" \"Z\"\n"
            ]
          },
          "metadata": {}
        }
      ]
    },
    {
      "cell_type": "code",
      "source": [
        "# como el largo de l2 es 2 [ lenght(l2)]\n",
        "names(l2) <- c(\"c6\",\"c7\")"
      ],
      "metadata": {
        "id": "UOSoGgo51wt3"
      },
      "execution_count": 14,
      "outputs": []
    },
    {
      "cell_type": "code",
      "source": [
        "# Podemos crear una lista l3, con las dos anteriores unidas.\n",
        "l3 <- c(l1,l2)"
      ],
      "metadata": {
        "id": "v-frqz2P1-vP"
      },
      "execution_count": 15,
      "outputs": []
    },
    {
      "cell_type": "code",
      "source": [
        "str(l3)"
      ],
      "metadata": {
        "id": "Fc0GTgBr2FGs",
        "outputId": "e255ab6d-ff7e-4a0c-977c-da79cebe3e75",
        "colab": {
          "base_uri": "https://localhost:8080/"
        }
      },
      "execution_count": 16,
      "outputs": [
        {
          "output_type": "stream",
          "name": "stdout",
          "text": [
            "List of 7\n",
            " $ num  : num 5\n",
            " $ letra: chr [1:2] \"A\" \"B\"\n",
            " $ pl   : chr \"hola\"\n",
            " $ mat  : int [1:5, 1:5] 1 0 0 0 0 0 2 0 0 0 ...\n",
            " $ lista:List of 2\n",
            "  ..$ x    : int [1:5] -1 0 1 2 3\n",
            "  ..$ fecha: Date[1:1], format: \"2025-05-29\"\n",
            " $ c6   : int [1:6] -5 -4 -3 -2 -1 0\n",
            " $ c7   : chr [1:26] \"A\" \"B\" \"C\" \"D\" ...\n"
          ]
        }
      ]
    },
    {
      "cell_type": "code",
      "metadata": {
        "trusted": true,
        "id": "uUv7BQfnTpR3",
        "outputId": "d8f0956b-9c2c-4161-9377-ee1dcce5104c",
        "colab": {
          "base_uri": "https://localhost:8080/",
          "height": 243
        }
      },
      "source": [
        "# Acceso mediante posición\n",
        "# Nos gustaría rescatar el elemtno de posición 4\n",
        "l3[4]\n",
        "class(l3[4])"
      ],
      "execution_count": 20,
      "outputs": [
        {
          "output_type": "display_data",
          "data": {
            "text/html": [
              "<strong>$mat</strong> = <table class=\"dataframe\">\n",
              "<caption>A matrix: 5 × 5 of type int</caption>\n",
              "<tbody>\n",
              "\t<tr><td>1</td><td>0</td><td>0</td><td>0</td><td>0</td></tr>\n",
              "\t<tr><td>0</td><td>2</td><td>0</td><td>0</td><td>0</td></tr>\n",
              "\t<tr><td>0</td><td>0</td><td>3</td><td>0</td><td>0</td></tr>\n",
              "\t<tr><td>0</td><td>0</td><td>0</td><td>4</td><td>0</td></tr>\n",
              "\t<tr><td>0</td><td>0</td><td>0</td><td>0</td><td>5</td></tr>\n",
              "</tbody>\n",
              "</table>\n"
            ],
            "text/markdown": "**$mat** = \nA matrix: 5 × 5 of type int\n\n| 1 | 0 | 0 | 0 | 0 |\n| 0 | 2 | 0 | 0 | 0 |\n| 0 | 0 | 3 | 0 | 0 |\n| 0 | 0 | 0 | 4 | 0 |\n| 0 | 0 | 0 | 0 | 5 |\n\n",
            "text/latex": "\\textbf{\\$mat} = A matrix: 5 × 5 of type int\n\\begin{tabular}{lllll}\n\t 1 & 0 & 0 & 0 & 0\\\\\n\t 0 & 2 & 0 & 0 & 0\\\\\n\t 0 & 0 & 3 & 0 & 0\\\\\n\t 0 & 0 & 0 & 4 & 0\\\\\n\t 0 & 0 & 0 & 0 & 5\\\\\n\\end{tabular}\n",
            "text/plain": [
              "$mat\n",
              "     [,1] [,2] [,3] [,4] [,5]\n",
              "[1,]    1    0    0    0    0\n",
              "[2,]    0    2    0    0    0\n",
              "[3,]    0    0    3    0    0\n",
              "[4,]    0    0    0    4    0\n",
              "[5,]    0    0    0    0    5\n"
            ]
          },
          "metadata": {}
        },
        {
          "output_type": "display_data",
          "data": {
            "text/html": [
              "'list'"
            ],
            "text/markdown": "'list'",
            "text/latex": "'list'",
            "text/plain": [
              "[1] \"list\""
            ]
          },
          "metadata": {}
        }
      ]
    },
    {
      "cell_type": "code",
      "metadata": {
        "trusted": true,
        "id": "L3RDKUqOTpR5",
        "outputId": "651eb874-d648-4311-e74a-74fbaf023086",
        "colab": {
          "base_uri": "https://localhost:8080/",
          "height": 201
        }
      },
      "source": [
        "l3[c(1,3,5)]"
      ],
      "execution_count": 22,
      "outputs": [
        {
          "output_type": "display_data",
          "data": {
            "text/html": [
              "<dl>\n",
              "\t<dt>$num</dt>\n",
              "\t\t<dd>5</dd>\n",
              "\t<dt>$pl</dt>\n",
              "\t\t<dd>'hola'</dd>\n",
              "\t<dt>$lista</dt>\n",
              "\t\t<dd><dl>\n",
              "\t<dt>$x</dt>\n",
              "\t\t<dd><style>\n",
              ".list-inline {list-style: none; margin:0; padding: 0}\n",
              ".list-inline>li {display: inline-block}\n",
              ".list-inline>li:not(:last-child)::after {content: \"\\00b7\"; padding: 0 .5ex}\n",
              "</style>\n",
              "<ol class=list-inline><li>-1</li><li>0</li><li>1</li><li>2</li><li>3</li></ol>\n",
              "</dd>\n",
              "\t<dt>$fecha</dt>\n",
              "\t\t<dd><time datetime=\"2025-05-29\">2025-05-29</time></dd>\n",
              "</dl>\n",
              "</dd>\n",
              "</dl>\n"
            ],
            "text/markdown": "$num\n:   5\n$pl\n:   'hola'\n$lista\n:   $x\n:   1. -1\n2. 0\n3. 1\n4. 2\n5. 3\n\n\n\n$fecha\n:   2025-05-29\n\n\n\n\n\n",
            "text/latex": "\\begin{description}\n\\item[\\$num] 5\n\\item[\\$pl] 'hola'\n\\item[\\$lista] \\begin{description}\n\\item[\\$x] \\begin{enumerate*}\n\\item -1\n\\item 0\n\\item 1\n\\item 2\n\\item 3\n\\end{enumerate*}\n\n\\item[\\$fecha] 2025-05-29\n\\end{description}\n\n\\end{description}\n",
            "text/plain": [
              "$num\n",
              "[1] 5\n",
              "\n",
              "$pl\n",
              "[1] \"hola\"\n",
              "\n",
              "$lista\n",
              "$lista$x\n",
              "[1] -1  0  1  2  3\n",
              "\n",
              "$lista$fecha\n",
              "[1] \"2025-05-29\"\n",
              "\n"
            ]
          },
          "metadata": {}
        }
      ]
    },
    {
      "cell_type": "code",
      "metadata": {
        "trusted": true,
        "id": "QbQ8QHARTpR7",
        "outputId": "7671e020-dcf4-44e8-9135-b16ee897fe9e",
        "colab": {
          "base_uri": "https://localhost:8080/",
          "height": 226
        }
      },
      "source": [
        "# NOTA lista[.] retorna un lista con un elemento,\n",
        "# lista[[.]] retorna el elmento de la lista lista[.]\n",
        "l3[4]# Una lista con una matriz (lista de largo 1)\n"
      ],
      "execution_count": 27,
      "outputs": [
        {
          "output_type": "display_data",
          "data": {
            "text/html": [
              "<strong>$mat</strong> = <table class=\"dataframe\">\n",
              "<caption>A matrix: 5 × 5 of type int</caption>\n",
              "<tbody>\n",
              "\t<tr><td>1</td><td>0</td><td>0</td><td>0</td><td>0</td></tr>\n",
              "\t<tr><td>0</td><td>2</td><td>0</td><td>0</td><td>0</td></tr>\n",
              "\t<tr><td>0</td><td>0</td><td>3</td><td>0</td><td>0</td></tr>\n",
              "\t<tr><td>0</td><td>0</td><td>0</td><td>4</td><td>0</td></tr>\n",
              "\t<tr><td>0</td><td>0</td><td>0</td><td>0</td><td>5</td></tr>\n",
              "</tbody>\n",
              "</table>\n"
            ],
            "text/markdown": "**$mat** = \nA matrix: 5 × 5 of type int\n\n| 1 | 0 | 0 | 0 | 0 |\n| 0 | 2 | 0 | 0 | 0 |\n| 0 | 0 | 3 | 0 | 0 |\n| 0 | 0 | 0 | 4 | 0 |\n| 0 | 0 | 0 | 0 | 5 |\n\n",
            "text/latex": "\\textbf{\\$mat} = A matrix: 5 × 5 of type int\n\\begin{tabular}{lllll}\n\t 1 & 0 & 0 & 0 & 0\\\\\n\t 0 & 2 & 0 & 0 & 0\\\\\n\t 0 & 0 & 3 & 0 & 0\\\\\n\t 0 & 0 & 0 & 4 & 0\\\\\n\t 0 & 0 & 0 & 0 & 5\\\\\n\\end{tabular}\n",
            "text/plain": [
              "$mat\n",
              "     [,1] [,2] [,3] [,4] [,5]\n",
              "[1,]    1    0    0    0    0\n",
              "[2,]    0    2    0    0    0\n",
              "[3,]    0    0    3    0    0\n",
              "[4,]    0    0    0    4    0\n",
              "[5,]    0    0    0    0    5\n"
            ]
          },
          "metadata": {}
        }
      ]
    },
    {
      "cell_type": "code",
      "source": [
        "\n",
        "l3[[4]] # la matriz que está dentro de la lista l3[4]\n"
      ],
      "metadata": {
        "id": "Mu98mFwN3s2B",
        "outputId": "43e0ac8e-4a06-4a10-e27d-f7a78029de9d",
        "colab": {
          "base_uri": "https://localhost:8080/",
          "height": 209
        }
      },
      "execution_count": 28,
      "outputs": [
        {
          "output_type": "display_data",
          "data": {
            "text/html": [
              "<table class=\"dataframe\">\n",
              "<caption>A matrix: 5 × 5 of type int</caption>\n",
              "<tbody>\n",
              "\t<tr><td>1</td><td>0</td><td>0</td><td>0</td><td>0</td></tr>\n",
              "\t<tr><td>0</td><td>2</td><td>0</td><td>0</td><td>0</td></tr>\n",
              "\t<tr><td>0</td><td>0</td><td>3</td><td>0</td><td>0</td></tr>\n",
              "\t<tr><td>0</td><td>0</td><td>0</td><td>4</td><td>0</td></tr>\n",
              "\t<tr><td>0</td><td>0</td><td>0</td><td>0</td><td>5</td></tr>\n",
              "</tbody>\n",
              "</table>\n"
            ],
            "text/markdown": "\nA matrix: 5 × 5 of type int\n\n| 1 | 0 | 0 | 0 | 0 |\n| 0 | 2 | 0 | 0 | 0 |\n| 0 | 0 | 3 | 0 | 0 |\n| 0 | 0 | 0 | 4 | 0 |\n| 0 | 0 | 0 | 0 | 5 |\n\n",
            "text/latex": "A matrix: 5 × 5 of type int\n\\begin{tabular}{lllll}\n\t 1 & 0 & 0 & 0 & 0\\\\\n\t 0 & 2 & 0 & 0 & 0\\\\\n\t 0 & 0 & 3 & 0 & 0\\\\\n\t 0 & 0 & 0 & 4 & 0\\\\\n\t 0 & 0 & 0 & 0 & 5\\\\\n\\end{tabular}\n",
            "text/plain": [
              "     [,1] [,2] [,3] [,4] [,5]\n",
              "[1,] 1    0    0    0    0   \n",
              "[2,] 0    2    0    0    0   \n",
              "[3,] 0    0    3    0    0   \n",
              "[4,] 0    0    0    4    0   \n",
              "[5,] 0    0    0    0    5   "
            ]
          },
          "metadata": {}
        }
      ]
    },
    {
      "cell_type": "code",
      "source": [
        "l3[[4]] + 1"
      ],
      "metadata": {
        "id": "flL8ZL-Z3iVU",
        "outputId": "60a8948b-9181-4a7a-9ba5-22de8b8d8335",
        "colab": {
          "base_uri": "https://localhost:8080/",
          "height": 209
        }
      },
      "execution_count": 25,
      "outputs": [
        {
          "output_type": "display_data",
          "data": {
            "text/html": [
              "<table class=\"dataframe\">\n",
              "<caption>A matrix: 5 × 5 of type dbl</caption>\n",
              "<tbody>\n",
              "\t<tr><td>2</td><td>1</td><td>1</td><td>1</td><td>1</td></tr>\n",
              "\t<tr><td>1</td><td>3</td><td>1</td><td>1</td><td>1</td></tr>\n",
              "\t<tr><td>1</td><td>1</td><td>4</td><td>1</td><td>1</td></tr>\n",
              "\t<tr><td>1</td><td>1</td><td>1</td><td>5</td><td>1</td></tr>\n",
              "\t<tr><td>1</td><td>1</td><td>1</td><td>1</td><td>6</td></tr>\n",
              "</tbody>\n",
              "</table>\n"
            ],
            "text/markdown": "\nA matrix: 5 × 5 of type dbl\n\n| 2 | 1 | 1 | 1 | 1 |\n| 1 | 3 | 1 | 1 | 1 |\n| 1 | 1 | 4 | 1 | 1 |\n| 1 | 1 | 1 | 5 | 1 |\n| 1 | 1 | 1 | 1 | 6 |\n\n",
            "text/latex": "A matrix: 5 × 5 of type dbl\n\\begin{tabular}{lllll}\n\t 2 & 1 & 1 & 1 & 1\\\\\n\t 1 & 3 & 1 & 1 & 1\\\\\n\t 1 & 1 & 4 & 1 & 1\\\\\n\t 1 & 1 & 1 & 5 & 1\\\\\n\t 1 & 1 & 1 & 1 & 6\\\\\n\\end{tabular}\n",
            "text/plain": [
              "     [,1] [,2] [,3] [,4] [,5]\n",
              "[1,] 2    1    1    1    1   \n",
              "[2,] 1    3    1    1    1   \n",
              "[3,] 1    1    4    1    1   \n",
              "[4,] 1    1    1    5    1   \n",
              "[5,] 1    1    1    1    6   "
            ]
          },
          "metadata": {}
        }
      ]
    },
    {
      "cell_type": "code",
      "source": [
        "l3"
      ],
      "metadata": {
        "id": "_HkuVk-J3o0U",
        "outputId": "766d1bee-59a3-4373-8c8e-93d96c6d5725",
        "colab": {
          "base_uri": "https://localhost:8080/",
          "height": 514
        }
      },
      "execution_count": 26,
      "outputs": [
        {
          "output_type": "display_data",
          "data": {
            "text/html": [
              "<dl>\n",
              "\t<dt>$num</dt>\n",
              "\t\t<dd>5</dd>\n",
              "\t<dt>$letra</dt>\n",
              "\t\t<dd><style>\n",
              ".list-inline {list-style: none; margin:0; padding: 0}\n",
              ".list-inline>li {display: inline-block}\n",
              ".list-inline>li:not(:last-child)::after {content: \"\\00b7\"; padding: 0 .5ex}\n",
              "</style>\n",
              "<ol class=list-inline><li>'A'</li><li>'B'</li></ol>\n",
              "</dd>\n",
              "\t<dt>$pl</dt>\n",
              "\t\t<dd>'hola'</dd>\n",
              "\t<dt>$mat</dt>\n",
              "\t\t<dd><table class=\"dataframe\">\n",
              "<caption>A matrix: 5 × 5 of type int</caption>\n",
              "<tbody>\n",
              "\t<tr><td>1</td><td>0</td><td>0</td><td>0</td><td>0</td></tr>\n",
              "\t<tr><td>0</td><td>2</td><td>0</td><td>0</td><td>0</td></tr>\n",
              "\t<tr><td>0</td><td>0</td><td>3</td><td>0</td><td>0</td></tr>\n",
              "\t<tr><td>0</td><td>0</td><td>0</td><td>4</td><td>0</td></tr>\n",
              "\t<tr><td>0</td><td>0</td><td>0</td><td>0</td><td>5</td></tr>\n",
              "</tbody>\n",
              "</table>\n",
              "</dd>\n",
              "\t<dt>$lista</dt>\n",
              "\t\t<dd><dl>\n",
              "\t<dt>$x</dt>\n",
              "\t\t<dd><style>\n",
              ".list-inline {list-style: none; margin:0; padding: 0}\n",
              ".list-inline>li {display: inline-block}\n",
              ".list-inline>li:not(:last-child)::after {content: \"\\00b7\"; padding: 0 .5ex}\n",
              "</style>\n",
              "<ol class=list-inline><li>-1</li><li>0</li><li>1</li><li>2</li><li>3</li></ol>\n",
              "</dd>\n",
              "\t<dt>$fecha</dt>\n",
              "\t\t<dd><time datetime=\"2025-05-29\">2025-05-29</time></dd>\n",
              "</dl>\n",
              "</dd>\n",
              "\t<dt>$c6</dt>\n",
              "\t\t<dd><style>\n",
              ".list-inline {list-style: none; margin:0; padding: 0}\n",
              ".list-inline>li {display: inline-block}\n",
              ".list-inline>li:not(:last-child)::after {content: \"\\00b7\"; padding: 0 .5ex}\n",
              "</style>\n",
              "<ol class=list-inline><li>-5</li><li>-4</li><li>-3</li><li>-2</li><li>-1</li><li>0</li></ol>\n",
              "</dd>\n",
              "\t<dt>$c7</dt>\n",
              "\t\t<dd><style>\n",
              ".list-inline {list-style: none; margin:0; padding: 0}\n",
              ".list-inline>li {display: inline-block}\n",
              ".list-inline>li:not(:last-child)::after {content: \"\\00b7\"; padding: 0 .5ex}\n",
              "</style>\n",
              "<ol class=list-inline><li>'A'</li><li>'B'</li><li>'C'</li><li>'D'</li><li>'E'</li><li>'F'</li><li>'G'</li><li>'H'</li><li>'I'</li><li>'J'</li><li>'K'</li><li>'L'</li><li>'M'</li><li>'N'</li><li>'O'</li><li>'P'</li><li>'Q'</li><li>'R'</li><li>'S'</li><li>'T'</li><li>'U'</li><li>'V'</li><li>'W'</li><li>'X'</li><li>'Y'</li><li>'Z'</li></ol>\n",
              "</dd>\n",
              "</dl>\n"
            ],
            "text/markdown": "$num\n:   5\n$letra\n:   1. 'A'\n2. 'B'\n\n\n\n$pl\n:   'hola'\n$mat\n:   \nA matrix: 5 × 5 of type int\n\n| 1 | 0 | 0 | 0 | 0 |\n| 0 | 2 | 0 | 0 | 0 |\n| 0 | 0 | 3 | 0 | 0 |\n| 0 | 0 | 0 | 4 | 0 |\n| 0 | 0 | 0 | 0 | 5 |\n\n\n$lista\n:   $x\n:   1. -1\n2. 0\n3. 1\n4. 2\n5. 3\n\n\n\n$fecha\n:   2025-05-29\n\n\n\n$c6\n:   1. -5\n2. -4\n3. -3\n4. -2\n5. -1\n6. 0\n\n\n\n$c7\n:   1. 'A'\n2. 'B'\n3. 'C'\n4. 'D'\n5. 'E'\n6. 'F'\n7. 'G'\n8. 'H'\n9. 'I'\n10. 'J'\n11. 'K'\n12. 'L'\n13. 'M'\n14. 'N'\n15. 'O'\n16. 'P'\n17. 'Q'\n18. 'R'\n19. 'S'\n20. 'T'\n21. 'U'\n22. 'V'\n23. 'W'\n24. 'X'\n25. 'Y'\n26. 'Z'\n\n\n\n\n\n",
            "text/latex": "\\begin{description}\n\\item[\\$num] 5\n\\item[\\$letra] \\begin{enumerate*}\n\\item 'A'\n\\item 'B'\n\\end{enumerate*}\n\n\\item[\\$pl] 'hola'\n\\item[\\$mat] A matrix: 5 × 5 of type int\n\\begin{tabular}{lllll}\n\t 1 & 0 & 0 & 0 & 0\\\\\n\t 0 & 2 & 0 & 0 & 0\\\\\n\t 0 & 0 & 3 & 0 & 0\\\\\n\t 0 & 0 & 0 & 4 & 0\\\\\n\t 0 & 0 & 0 & 0 & 5\\\\\n\\end{tabular}\n\n\\item[\\$lista] \\begin{description}\n\\item[\\$x] \\begin{enumerate*}\n\\item -1\n\\item 0\n\\item 1\n\\item 2\n\\item 3\n\\end{enumerate*}\n\n\\item[\\$fecha] 2025-05-29\n\\end{description}\n\n\\item[\\$c6] \\begin{enumerate*}\n\\item -5\n\\item -4\n\\item -3\n\\item -2\n\\item -1\n\\item 0\n\\end{enumerate*}\n\n\\item[\\$c7] \\begin{enumerate*}\n\\item 'A'\n\\item 'B'\n\\item 'C'\n\\item 'D'\n\\item 'E'\n\\item 'F'\n\\item 'G'\n\\item 'H'\n\\item 'I'\n\\item 'J'\n\\item 'K'\n\\item 'L'\n\\item 'M'\n\\item 'N'\n\\item 'O'\n\\item 'P'\n\\item 'Q'\n\\item 'R'\n\\item 'S'\n\\item 'T'\n\\item 'U'\n\\item 'V'\n\\item 'W'\n\\item 'X'\n\\item 'Y'\n\\item 'Z'\n\\end{enumerate*}\n\n\\end{description}\n",
            "text/plain": [
              "$num\n",
              "[1] 5\n",
              "\n",
              "$letra\n",
              "[1] \"A\" \"B\"\n",
              "\n",
              "$pl\n",
              "[1] \"hola\"\n",
              "\n",
              "$mat\n",
              "     [,1] [,2] [,3] [,4] [,5]\n",
              "[1,]    1    0    0    0    0\n",
              "[2,]    0    2    0    0    0\n",
              "[3,]    0    0    3    0    0\n",
              "[4,]    0    0    0    4    0\n",
              "[5,]    0    0    0    0    5\n",
              "\n",
              "$lista\n",
              "$lista$x\n",
              "[1] -1  0  1  2  3\n",
              "\n",
              "$lista$fecha\n",
              "[1] \"2025-05-29\"\n",
              "\n",
              "\n",
              "$c6\n",
              "[1] -5 -4 -3 -2 -1  0\n",
              "\n",
              "$c7\n",
              " [1] \"A\" \"B\" \"C\" \"D\" \"E\" \"F\" \"G\" \"H\" \"I\" \"J\" \"K\" \"L\" \"M\" \"N\" \"O\" \"P\" \"Q\" \"R\" \"S\"\n",
              "[20] \"T\" \"U\" \"V\" \"W\" \"X\" \"Y\" \"Z\"\n"
            ]
          },
          "metadata": {}
        }
      ]
    },
    {
      "cell_type": "code",
      "metadata": {
        "trusted": true,
        "id": "kaOJqYJETpSC"
      },
      "source": [
        "# de la lista l3[[5]], quieo el vector que está en el slot llamado \"x\" (primer elemento)\n",
        "l3[5] #es una lista con el objeto (otra lista)\n"
      ],
      "execution_count": null,
      "outputs": []
    },
    {
      "cell_type": "code",
      "source": [
        "l3[[5]] # El objeto que está en el slot 5 (es una lista)"
      ],
      "metadata": {
        "id": "nmUR98mb4ZWO",
        "outputId": "d04a0579-1cfd-463f-8d25-ba4d1192a40a",
        "colab": {
          "base_uri": "https://localhost:8080/",
          "height": 114
        }
      },
      "execution_count": 29,
      "outputs": [
        {
          "output_type": "display_data",
          "data": {
            "text/html": [
              "<dl>\n",
              "\t<dt>$x</dt>\n",
              "\t\t<dd><style>\n",
              ".list-inline {list-style: none; margin:0; padding: 0}\n",
              ".list-inline>li {display: inline-block}\n",
              ".list-inline>li:not(:last-child)::after {content: \"\\00b7\"; padding: 0 .5ex}\n",
              "</style>\n",
              "<ol class=list-inline><li>-1</li><li>0</li><li>1</li><li>2</li><li>3</li></ol>\n",
              "</dd>\n",
              "\t<dt>$fecha</dt>\n",
              "\t\t<dd><time datetime=\"2025-05-29\">2025-05-29</time></dd>\n",
              "</dl>\n"
            ],
            "text/markdown": "$x\n:   1. -1\n2. 0\n3. 1\n4. 2\n5. 3\n\n\n\n$fecha\n:   2025-05-29\n\n\n",
            "text/latex": "\\begin{description}\n\\item[\\$x] \\begin{enumerate*}\n\\item -1\n\\item 0\n\\item 1\n\\item 2\n\\item 3\n\\end{enumerate*}\n\n\\item[\\$fecha] 2025-05-29\n\\end{description}\n",
            "text/plain": [
              "$x\n",
              "[1] -1  0  1  2  3\n",
              "\n",
              "$fecha\n",
              "[1] \"2025-05-29\"\n"
            ]
          },
          "metadata": {}
        }
      ]
    },
    {
      "cell_type": "code",
      "metadata": {
        "trusted": true,
        "id": "UZ4k5DQ9TpSE",
        "outputId": "8af5fa40-83b5-4040-b04c-e1761ef87f14",
        "colab": {
          "base_uri": "https://localhost:8080/",
          "height": 52
        }
      },
      "source": [
        "l3[[5]][1] # lista con el objeto de dicha posición (un vector)\n",
        "\n"
      ],
      "execution_count": 30,
      "outputs": [
        {
          "output_type": "display_data",
          "data": {
            "text/html": [
              "<strong>$x</strong> = <style>\n",
              ".list-inline {list-style: none; margin:0; padding: 0}\n",
              ".list-inline>li {display: inline-block}\n",
              ".list-inline>li:not(:last-child)::after {content: \"\\00b7\"; padding: 0 .5ex}\n",
              "</style>\n",
              "<ol class=list-inline><li>-1</li><li>0</li><li>1</li><li>2</li><li>3</li></ol>\n"
            ],
            "text/markdown": "**$x** = 1. -1\n2. 0\n3. 1\n4. 2\n5. 3\n\n\n",
            "text/latex": "\\textbf{\\$x} = \\begin{enumerate*}\n\\item -1\n\\item 0\n\\item 1\n\\item 2\n\\item 3\n\\end{enumerate*}\n",
            "text/plain": [
              "$x\n",
              "[1] -1  0  1  2  3\n"
            ]
          },
          "metadata": {}
        }
      ]
    },
    {
      "cell_type": "code",
      "source": [
        "l3[[5]][[1]] # El objeto buscado\n"
      ],
      "metadata": {
        "id": "66cAZyGb4xQS",
        "outputId": "807553c6-5187-412e-da8a-ca9a9bc6d535",
        "colab": {
          "base_uri": "https://localhost:8080/",
          "height": 34
        }
      },
      "execution_count": 31,
      "outputs": [
        {
          "output_type": "display_data",
          "data": {
            "text/html": [
              "<style>\n",
              ".list-inline {list-style: none; margin:0; padding: 0}\n",
              ".list-inline>li {display: inline-block}\n",
              ".list-inline>li:not(:last-child)::after {content: \"\\00b7\"; padding: 0 .5ex}\n",
              "</style>\n",
              "<ol class=list-inline><li>-1</li><li>0</li><li>1</li><li>2</li><li>3</li></ol>\n"
            ],
            "text/markdown": "1. -1\n2. 0\n3. 1\n4. 2\n5. 3\n\n\n",
            "text/latex": "\\begin{enumerate*}\n\\item -1\n\\item 0\n\\item 1\n\\item 2\n\\item 3\n\\end{enumerate*}\n",
            "text/plain": [
              "[1] -1  0  1  2  3"
            ]
          },
          "metadata": {}
        }
      ]
    },
    {
      "cell_type": "code",
      "source": [
        "# Como lo anterior es un vector. Si queremos el elemtno de posición  4\n",
        "l3[[5]][[1]][4]"
      ],
      "metadata": {
        "id": "nP5Vg5v148jY",
        "outputId": "e8962baa-ddb6-47a1-a670-13f4519e5440",
        "colab": {
          "base_uri": "https://localhost:8080/",
          "height": 34
        }
      },
      "execution_count": 32,
      "outputs": [
        {
          "output_type": "display_data",
          "data": {
            "text/html": [
              "2"
            ],
            "text/markdown": "2",
            "text/latex": "2",
            "text/plain": [
              "[1] 2"
            ]
          },
          "metadata": {}
        }
      ]
    },
    {
      "cell_type": "code",
      "metadata": {
        "trusted": true,
        "id": "jYFKb27-TpSG",
        "outputId": "9046cd95-875a-4dd2-9b7b-cb4609a0081e",
        "colab": {
          "base_uri": "https://localhost:8080/",
          "height": 34
        }
      },
      "source": [
        "# Acceso mediante nombre\n",
        "# Replicamos los casos anteriores\n",
        "# Matriz\n",
        "names(l3)\n"
      ],
      "execution_count": 33,
      "outputs": [
        {
          "output_type": "display_data",
          "data": {
            "text/html": [
              "<style>\n",
              ".list-inline {list-style: none; margin:0; padding: 0}\n",
              ".list-inline>li {display: inline-block}\n",
              ".list-inline>li:not(:last-child)::after {content: \"\\00b7\"; padding: 0 .5ex}\n",
              "</style>\n",
              "<ol class=list-inline><li>'num'</li><li>'letra'</li><li>'pl'</li><li>'mat'</li><li>'lista'</li><li>'c6'</li><li>'c7'</li></ol>\n"
            ],
            "text/markdown": "1. 'num'\n2. 'letra'\n3. 'pl'\n4. 'mat'\n5. 'lista'\n6. 'c6'\n7. 'c7'\n\n\n",
            "text/latex": "\\begin{enumerate*}\n\\item 'num'\n\\item 'letra'\n\\item 'pl'\n\\item 'mat'\n\\item 'lista'\n\\item 'c6'\n\\item 'c7'\n\\end{enumerate*}\n",
            "text/plain": [
              "[1] \"num\"   \"letra\" \"pl\"    \"mat\"   \"lista\" \"c6\"    \"c7\"   "
            ]
          },
          "metadata": {}
        }
      ]
    },
    {
      "cell_type": "code",
      "source": [
        "l3[\"mat\"] # Retorna una lista con la matriz"
      ],
      "metadata": {
        "id": "olBXwk3P6Q3j",
        "outputId": "c6b5859e-d92c-4aeb-891c-544341299dfa",
        "colab": {
          "base_uri": "https://localhost:8080/",
          "height": 226
        }
      },
      "execution_count": 34,
      "outputs": [
        {
          "output_type": "display_data",
          "data": {
            "text/html": [
              "<strong>$mat</strong> = <table class=\"dataframe\">\n",
              "<caption>A matrix: 5 × 5 of type int</caption>\n",
              "<tbody>\n",
              "\t<tr><td>1</td><td>0</td><td>0</td><td>0</td><td>0</td></tr>\n",
              "\t<tr><td>0</td><td>2</td><td>0</td><td>0</td><td>0</td></tr>\n",
              "\t<tr><td>0</td><td>0</td><td>3</td><td>0</td><td>0</td></tr>\n",
              "\t<tr><td>0</td><td>0</td><td>0</td><td>4</td><td>0</td></tr>\n",
              "\t<tr><td>0</td><td>0</td><td>0</td><td>0</td><td>5</td></tr>\n",
              "</tbody>\n",
              "</table>\n"
            ],
            "text/markdown": "**$mat** = \nA matrix: 5 × 5 of type int\n\n| 1 | 0 | 0 | 0 | 0 |\n| 0 | 2 | 0 | 0 | 0 |\n| 0 | 0 | 3 | 0 | 0 |\n| 0 | 0 | 0 | 4 | 0 |\n| 0 | 0 | 0 | 0 | 5 |\n\n",
            "text/latex": "\\textbf{\\$mat} = A matrix: 5 × 5 of type int\n\\begin{tabular}{lllll}\n\t 1 & 0 & 0 & 0 & 0\\\\\n\t 0 & 2 & 0 & 0 & 0\\\\\n\t 0 & 0 & 3 & 0 & 0\\\\\n\t 0 & 0 & 0 & 4 & 0\\\\\n\t 0 & 0 & 0 & 0 & 5\\\\\n\\end{tabular}\n",
            "text/plain": [
              "$mat\n",
              "     [,1] [,2] [,3] [,4] [,5]\n",
              "[1,]    1    0    0    0    0\n",
              "[2,]    0    2    0    0    0\n",
              "[3,]    0    0    3    0    0\n",
              "[4,]    0    0    0    4    0\n",
              "[5,]    0    0    0    0    5\n"
            ]
          },
          "metadata": {}
        }
      ]
    },
    {
      "cell_type": "code",
      "source": [
        "l3[[\"mat\"]]# Retorna la matriz"
      ],
      "metadata": {
        "id": "1AA_G-Up6WNS",
        "outputId": "e743776a-ba5b-4fe6-8569-7c77c93d33b0",
        "colab": {
          "base_uri": "https://localhost:8080/",
          "height": 209
        }
      },
      "execution_count": 35,
      "outputs": [
        {
          "output_type": "display_data",
          "data": {
            "text/html": [
              "<table class=\"dataframe\">\n",
              "<caption>A matrix: 5 × 5 of type int</caption>\n",
              "<tbody>\n",
              "\t<tr><td>1</td><td>0</td><td>0</td><td>0</td><td>0</td></tr>\n",
              "\t<tr><td>0</td><td>2</td><td>0</td><td>0</td><td>0</td></tr>\n",
              "\t<tr><td>0</td><td>0</td><td>3</td><td>0</td><td>0</td></tr>\n",
              "\t<tr><td>0</td><td>0</td><td>0</td><td>4</td><td>0</td></tr>\n",
              "\t<tr><td>0</td><td>0</td><td>0</td><td>0</td><td>5</td></tr>\n",
              "</tbody>\n",
              "</table>\n"
            ],
            "text/markdown": "\nA matrix: 5 × 5 of type int\n\n| 1 | 0 | 0 | 0 | 0 |\n| 0 | 2 | 0 | 0 | 0 |\n| 0 | 0 | 3 | 0 | 0 |\n| 0 | 0 | 0 | 4 | 0 |\n| 0 | 0 | 0 | 0 | 5 |\n\n",
            "text/latex": "A matrix: 5 × 5 of type int\n\\begin{tabular}{lllll}\n\t 1 & 0 & 0 & 0 & 0\\\\\n\t 0 & 2 & 0 & 0 & 0\\\\\n\t 0 & 0 & 3 & 0 & 0\\\\\n\t 0 & 0 & 0 & 4 & 0\\\\\n\t 0 & 0 & 0 & 0 & 5\\\\\n\\end{tabular}\n",
            "text/plain": [
              "     [,1] [,2] [,3] [,4] [,5]\n",
              "[1,] 1    0    0    0    0   \n",
              "[2,] 0    2    0    0    0   \n",
              "[3,] 0    0    3    0    0   \n",
              "[4,] 0    0    0    4    0   \n",
              "[5,] 0    0    0    0    5   "
            ]
          },
          "metadata": {}
        }
      ]
    },
    {
      "cell_type": "code",
      "source": [
        "# Rescatando \"x\" de la sublista \"lista\"\n",
        "str(l3)"
      ],
      "metadata": {
        "id": "9Uwlus7u6e0g",
        "outputId": "d0812b3f-ebd0-435b-80f6-1b2143690a02",
        "colab": {
          "base_uri": "https://localhost:8080/"
        }
      },
      "execution_count": 36,
      "outputs": [
        {
          "output_type": "stream",
          "name": "stdout",
          "text": [
            "List of 7\n",
            " $ num  : num 5\n",
            " $ letra: chr [1:2] \"A\" \"B\"\n",
            " $ pl   : chr \"hola\"\n",
            " $ mat  : int [1:5, 1:5] 1 0 0 0 0 0 2 0 0 0 ...\n",
            " $ lista:List of 2\n",
            "  ..$ x    : int [1:5] -1 0 1 2 3\n",
            "  ..$ fecha: Date[1:1], format: \"2025-05-29\"\n",
            " $ c6   : int [1:6] -5 -4 -3 -2 -1 0\n",
            " $ c7   : chr [1:26] \"A\" \"B\" \"C\" \"D\" ...\n"
          ]
        }
      ]
    },
    {
      "cell_type": "code",
      "source": [
        "l3[[\"lista\"]][[\"x\"]]"
      ],
      "metadata": {
        "id": "tgGi1DWk6lHf",
        "outputId": "8a522915-a4b4-41b3-9900-cbcfc6cf19ba",
        "colab": {
          "base_uri": "https://localhost:8080/",
          "height": 34
        }
      },
      "execution_count": 37,
      "outputs": [
        {
          "output_type": "display_data",
          "data": {
            "text/html": [
              "<style>\n",
              ".list-inline {list-style: none; margin:0; padding: 0}\n",
              ".list-inline>li {display: inline-block}\n",
              ".list-inline>li:not(:last-child)::after {content: \"\\00b7\"; padding: 0 .5ex}\n",
              "</style>\n",
              "<ol class=list-inline><li>-1</li><li>0</li><li>1</li><li>2</li><li>3</li></ol>\n"
            ],
            "text/markdown": "1. -1\n2. 0\n3. 1\n4. 2\n5. 3\n\n\n",
            "text/latex": "\\begin{enumerate*}\n\\item -1\n\\item 0\n\\item 1\n\\item 2\n\\item 3\n\\end{enumerate*}\n",
            "text/plain": [
              "[1] -1  0  1  2  3"
            ]
          },
          "metadata": {}
        }
      ]
    },
    {
      "cell_type": "code",
      "metadata": {
        "trusted": true,
        "id": "a9UBaNOuTpSI",
        "outputId": "92b266ca-1593-4c9e-a8e1-b18d15f7f9cb",
        "colab": {
          "base_uri": "https://localhost:8080/",
          "height": 592
        }
      },
      "source": [
        "# acceso vía \"$\"\n",
        "l3$mat # Retorna directamente el objeto que está en la casilla de la lista.\n",
        "# Es equivalente a\n",
        "l3[[\"mat\"]]\n",
        "l3[[4]]\n",
        "\n",
        "\n"
      ],
      "execution_count": 39,
      "outputs": [
        {
          "output_type": "display_data",
          "data": {
            "text/html": [
              "<table class=\"dataframe\">\n",
              "<caption>A matrix: 5 × 5 of type int</caption>\n",
              "<tbody>\n",
              "\t<tr><td>1</td><td>0</td><td>0</td><td>0</td><td>0</td></tr>\n",
              "\t<tr><td>0</td><td>2</td><td>0</td><td>0</td><td>0</td></tr>\n",
              "\t<tr><td>0</td><td>0</td><td>3</td><td>0</td><td>0</td></tr>\n",
              "\t<tr><td>0</td><td>0</td><td>0</td><td>4</td><td>0</td></tr>\n",
              "\t<tr><td>0</td><td>0</td><td>0</td><td>0</td><td>5</td></tr>\n",
              "</tbody>\n",
              "</table>\n"
            ],
            "text/markdown": "\nA matrix: 5 × 5 of type int\n\n| 1 | 0 | 0 | 0 | 0 |\n| 0 | 2 | 0 | 0 | 0 |\n| 0 | 0 | 3 | 0 | 0 |\n| 0 | 0 | 0 | 4 | 0 |\n| 0 | 0 | 0 | 0 | 5 |\n\n",
            "text/latex": "A matrix: 5 × 5 of type int\n\\begin{tabular}{lllll}\n\t 1 & 0 & 0 & 0 & 0\\\\\n\t 0 & 2 & 0 & 0 & 0\\\\\n\t 0 & 0 & 3 & 0 & 0\\\\\n\t 0 & 0 & 0 & 4 & 0\\\\\n\t 0 & 0 & 0 & 0 & 5\\\\\n\\end{tabular}\n",
            "text/plain": [
              "     [,1] [,2] [,3] [,4] [,5]\n",
              "[1,] 1    0    0    0    0   \n",
              "[2,] 0    2    0    0    0   \n",
              "[3,] 0    0    3    0    0   \n",
              "[4,] 0    0    0    4    0   \n",
              "[5,] 0    0    0    0    5   "
            ]
          },
          "metadata": {}
        },
        {
          "output_type": "display_data",
          "data": {
            "text/html": [
              "<table class=\"dataframe\">\n",
              "<caption>A matrix: 5 × 5 of type int</caption>\n",
              "<tbody>\n",
              "\t<tr><td>1</td><td>0</td><td>0</td><td>0</td><td>0</td></tr>\n",
              "\t<tr><td>0</td><td>2</td><td>0</td><td>0</td><td>0</td></tr>\n",
              "\t<tr><td>0</td><td>0</td><td>3</td><td>0</td><td>0</td></tr>\n",
              "\t<tr><td>0</td><td>0</td><td>0</td><td>4</td><td>0</td></tr>\n",
              "\t<tr><td>0</td><td>0</td><td>0</td><td>0</td><td>5</td></tr>\n",
              "</tbody>\n",
              "</table>\n"
            ],
            "text/markdown": "\nA matrix: 5 × 5 of type int\n\n| 1 | 0 | 0 | 0 | 0 |\n| 0 | 2 | 0 | 0 | 0 |\n| 0 | 0 | 3 | 0 | 0 |\n| 0 | 0 | 0 | 4 | 0 |\n| 0 | 0 | 0 | 0 | 5 |\n\n",
            "text/latex": "A matrix: 5 × 5 of type int\n\\begin{tabular}{lllll}\n\t 1 & 0 & 0 & 0 & 0\\\\\n\t 0 & 2 & 0 & 0 & 0\\\\\n\t 0 & 0 & 3 & 0 & 0\\\\\n\t 0 & 0 & 0 & 4 & 0\\\\\n\t 0 & 0 & 0 & 0 & 5\\\\\n\\end{tabular}\n",
            "text/plain": [
              "     [,1] [,2] [,3] [,4] [,5]\n",
              "[1,] 1    0    0    0    0   \n",
              "[2,] 0    2    0    0    0   \n",
              "[3,] 0    0    3    0    0   \n",
              "[4,] 0    0    0    4    0   \n",
              "[5,] 0    0    0    0    5   "
            ]
          },
          "metadata": {}
        },
        {
          "output_type": "display_data",
          "data": {
            "text/html": [
              "<table class=\"dataframe\">\n",
              "<caption>A matrix: 5 × 5 of type int</caption>\n",
              "<tbody>\n",
              "\t<tr><td>1</td><td>0</td><td>0</td><td>0</td><td>0</td></tr>\n",
              "\t<tr><td>0</td><td>2</td><td>0</td><td>0</td><td>0</td></tr>\n",
              "\t<tr><td>0</td><td>0</td><td>3</td><td>0</td><td>0</td></tr>\n",
              "\t<tr><td>0</td><td>0</td><td>0</td><td>4</td><td>0</td></tr>\n",
              "\t<tr><td>0</td><td>0</td><td>0</td><td>0</td><td>5</td></tr>\n",
              "</tbody>\n",
              "</table>\n"
            ],
            "text/markdown": "\nA matrix: 5 × 5 of type int\n\n| 1 | 0 | 0 | 0 | 0 |\n| 0 | 2 | 0 | 0 | 0 |\n| 0 | 0 | 3 | 0 | 0 |\n| 0 | 0 | 0 | 4 | 0 |\n| 0 | 0 | 0 | 0 | 5 |\n\n",
            "text/latex": "A matrix: 5 × 5 of type int\n\\begin{tabular}{lllll}\n\t 1 & 0 & 0 & 0 & 0\\\\\n\t 0 & 2 & 0 & 0 & 0\\\\\n\t 0 & 0 & 3 & 0 & 0\\\\\n\t 0 & 0 & 0 & 4 & 0\\\\\n\t 0 & 0 & 0 & 0 & 5\\\\\n\\end{tabular}\n",
            "text/plain": [
              "     [,1] [,2] [,3] [,4] [,5]\n",
              "[1,] 1    0    0    0    0   \n",
              "[2,] 0    2    0    0    0   \n",
              "[3,] 0    0    3    0    0   \n",
              "[4,] 0    0    0    4    0   \n",
              "[5,] 0    0    0    0    5   "
            ]
          },
          "metadata": {}
        }
      ]
    },
    {
      "cell_type": "code",
      "source": [
        "str(l3)"
      ],
      "metadata": {
        "id": "KqmM7mTa7mz0",
        "outputId": "d96f352a-3812-431e-be85-e3763ecfcac7",
        "colab": {
          "base_uri": "https://localhost:8080/"
        }
      },
      "execution_count": 40,
      "outputs": [
        {
          "output_type": "stream",
          "name": "stdout",
          "text": [
            "List of 7\n",
            " $ num  : num 5\n",
            " $ letra: chr [1:2] \"A\" \"B\"\n",
            " $ pl   : chr \"hola\"\n",
            " $ mat  : int [1:5, 1:5] 1 0 0 0 0 0 2 0 0 0 ...\n",
            " $ lista:List of 2\n",
            "  ..$ x    : int [1:5] -1 0 1 2 3\n",
            "  ..$ fecha: Date[1:1], format: \"2025-05-29\"\n",
            " $ c6   : int [1:6] -5 -4 -3 -2 -1 0\n",
            " $ c7   : chr [1:26] \"A\" \"B\" \"C\" \"D\" ...\n"
          ]
        }
      ]
    },
    {
      "cell_type": "code",
      "source": [
        "# nuestro ejemplo del \"x\"\n",
        "l3$lista$x\n",
        "#Es equivalente a\n",
        "l3[[\"lista\"]][[\"x\"]]\n",
        "l3[[5]][[1]]"
      ],
      "metadata": {
        "id": "xKM0sk1a7boP",
        "outputId": "397d5170-f408-437f-a65c-9b498afa72ac",
        "colab": {
          "base_uri": "https://localhost:8080/",
          "height": 69
        }
      },
      "execution_count": 43,
      "outputs": [
        {
          "output_type": "display_data",
          "data": {
            "text/html": [
              "<style>\n",
              ".list-inline {list-style: none; margin:0; padding: 0}\n",
              ".list-inline>li {display: inline-block}\n",
              ".list-inline>li:not(:last-child)::after {content: \"\\00b7\"; padding: 0 .5ex}\n",
              "</style>\n",
              "<ol class=list-inline><li>-1</li><li>0</li><li>1</li><li>2</li><li>3</li></ol>\n"
            ],
            "text/markdown": "1. -1\n2. 0\n3. 1\n4. 2\n5. 3\n\n\n",
            "text/latex": "\\begin{enumerate*}\n\\item -1\n\\item 0\n\\item 1\n\\item 2\n\\item 3\n\\end{enumerate*}\n",
            "text/plain": [
              "[1] -1  0  1  2  3"
            ]
          },
          "metadata": {}
        },
        {
          "output_type": "display_data",
          "data": {
            "text/html": [
              "<style>\n",
              ".list-inline {list-style: none; margin:0; padding: 0}\n",
              ".list-inline>li {display: inline-block}\n",
              ".list-inline>li:not(:last-child)::after {content: \"\\00b7\"; padding: 0 .5ex}\n",
              "</style>\n",
              "<ol class=list-inline><li>-1</li><li>0</li><li>1</li><li>2</li><li>3</li></ol>\n"
            ],
            "text/markdown": "1. -1\n2. 0\n3. 1\n4. 2\n5. 3\n\n\n",
            "text/latex": "\\begin{enumerate*}\n\\item -1\n\\item 0\n\\item 1\n\\item 2\n\\item 3\n\\end{enumerate*}\n",
            "text/plain": [
              "[1] -1  0  1  2  3"
            ]
          },
          "metadata": {}
        },
        {
          "output_type": "display_data",
          "data": {
            "text/html": [
              "<style>\n",
              ".list-inline {list-style: none; margin:0; padding: 0}\n",
              ".list-inline>li {display: inline-block}\n",
              ".list-inline>li:not(:last-child)::after {content: \"\\00b7\"; padding: 0 .5ex}\n",
              "</style>\n",
              "<ol class=list-inline><li>-1</li><li>0</li><li>1</li><li>2</li><li>3</li></ol>\n"
            ],
            "text/markdown": "1. -1\n2. 0\n3. 1\n4. 2\n5. 3\n\n\n",
            "text/latex": "\\begin{enumerate*}\n\\item -1\n\\item 0\n\\item 1\n\\item 2\n\\item 3\n\\end{enumerate*}\n",
            "text/plain": [
              "[1] -1  0  1  2  3"
            ]
          },
          "metadata": {}
        }
      ]
    },
    {
      "cell_type": "code",
      "metadata": {
        "trusted": true,
        "id": "Dumeo0-NTpSM",
        "outputId": "981cb3dc-13dc-49ab-d513-7a7ebeab2224",
        "colab": {
          "base_uri": "https://localhost:8080/",
          "height": 52
        }
      },
      "source": [
        "# para saber el largo de la lista/vector\n",
        "length(l3)\n",
        "# Para obtener los nombres de la lista\n",
        "names(l3)\n",
        "# si quisiéramos renombrar los slots:\n"
      ],
      "execution_count": 45,
      "outputs": [
        {
          "output_type": "display_data",
          "data": {
            "text/html": [
              "7"
            ],
            "text/markdown": "7",
            "text/latex": "7",
            "text/plain": [
              "[1] 7"
            ]
          },
          "metadata": {}
        },
        {
          "output_type": "display_data",
          "data": {
            "text/html": [
              "<style>\n",
              ".list-inline {list-style: none; margin:0; padding: 0}\n",
              ".list-inline>li {display: inline-block}\n",
              ".list-inline>li:not(:last-child)::after {content: \"\\00b7\"; padding: 0 .5ex}\n",
              "</style>\n",
              "<ol class=list-inline><li>'num'</li><li>'letra'</li><li>'pl'</li><li>'mat'</li><li>'lista'</li><li>'c6'</li><li>'c7'</li></ol>\n"
            ],
            "text/markdown": "1. 'num'\n2. 'letra'\n3. 'pl'\n4. 'mat'\n5. 'lista'\n6. 'c6'\n7. 'c7'\n\n\n",
            "text/latex": "\\begin{enumerate*}\n\\item 'num'\n\\item 'letra'\n\\item 'pl'\n\\item 'mat'\n\\item 'lista'\n\\item 'c6'\n\\item 'c7'\n\\end{enumerate*}\n",
            "text/plain": [
              "[1] \"num\"   \"letra\" \"pl\"    \"mat\"   \"lista\" \"c6\"    \"c7\"   "
            ]
          },
          "metadata": {}
        }
      ]
    },
    {
      "cell_type": "code",
      "source": [
        "# Cambiar el nombre de la entrada llamada \"lista\", por \"sub_l\"\n",
        "names(l3)[5] <- \"sub_l\"\n"
      ],
      "metadata": {
        "id": "5P_FCtkx8NqU"
      },
      "execution_count": 48,
      "outputs": []
    },
    {
      "cell_type": "code",
      "source": [
        "str(l3)"
      ],
      "metadata": {
        "id": "RBniYxku8re2",
        "outputId": "98b50ff1-94cf-4500-8652-e8733510faff",
        "colab": {
          "base_uri": "https://localhost:8080/"
        }
      },
      "execution_count": 49,
      "outputs": [
        {
          "output_type": "stream",
          "name": "stdout",
          "text": [
            "List of 7\n",
            " $ num  : num 5\n",
            " $ letra: chr [1:2] \"A\" \"B\"\n",
            " $ pl   : chr \"hola\"\n",
            " $ mat  : int [1:5, 1:5] 1 0 0 0 0 0 2 0 0 0 ...\n",
            " $ sub_l:List of 2\n",
            "  ..$ x    : int [1:5] -1 0 1 2 3\n",
            "  ..$ fecha: Date[1:1], format: \"2025-05-29\"\n",
            " $ c6   : int [1:6] -5 -4 -3 -2 -1 0\n",
            " $ c7   : chr [1:26] \"A\" \"B\" \"C\" \"D\" ...\n"
          ]
        }
      ]
    },
    {
      "cell_type": "code",
      "source": [
        "# Cambiemos el nombre de \"x\" de la lista sub_l, por \"x_2\"\n",
        "\n",
        "names(l3[[\"sub_l\"]])[1] <- \"x_2\"\n",
        "#Equivalentemente #     names(l3$sub_l)[1] <- \"x_2\""
      ],
      "metadata": {
        "id": "mwBhVAUX866h"
      },
      "execution_count": 56,
      "outputs": []
    },
    {
      "cell_type": "code",
      "source": [
        "str(l3)"
      ],
      "metadata": {
        "id": "vnzcoa6t9QRE",
        "outputId": "1e70c1a4-054b-4798-dfea-890d8983af89",
        "colab": {
          "base_uri": "https://localhost:8080/"
        }
      },
      "execution_count": 57,
      "outputs": [
        {
          "output_type": "stream",
          "name": "stdout",
          "text": [
            "List of 7\n",
            " $ num  : num 5\n",
            " $ letra: chr [1:2] \"A\" \"B\"\n",
            " $ pl   : chr \"hola\"\n",
            " $ mat  : int [1:5, 1:5] 1 0 0 0 0 0 2 0 0 0 ...\n",
            " $ sub_l:List of 2\n",
            "  ..$ x_3  : int [1:5] -1 0 1 2 3\n",
            "  ..$ fecha: Date[1:1], format: \"2025-05-29\"\n",
            " $ c6   : int [1:6] -5 -4 -3 -2 -1 0\n",
            " $ c7   : chr [1:26] \"A\" \"B\" \"C\" \"D\" ...\n"
          ]
        }
      ]
    },
    {
      "cell_type": "code",
      "source": [],
      "metadata": {
        "id": "4HlFLCov9qan"
      },
      "execution_count": null,
      "outputs": []
    },
    {
      "cell_type": "code",
      "source": [],
      "metadata": {
        "id": "WI7GNs3r9slW"
      },
      "execution_count": 58,
      "outputs": []
    },
    {
      "cell_type": "code",
      "metadata": {
        "trusted": true,
        "id": "Uij1PdVrTpSO"
      },
      "source": [
        "# También podemos crear nuevos \"slots\"\n",
        "# (work around) Una alternativa es creando una nueva lista y luego unirla a la existente\n",
        "\n",
        "\n",
        "#      l4 <- list(nuevo = \"otro valor\")\n",
        "#\n",
        "#      l3_ <- c(l3,l4)\n",
        "\n"
      ],
      "execution_count": null,
      "outputs": []
    },
    {
      "cell_type": "code",
      "source": [
        "str(l3)"
      ],
      "metadata": {
        "id": "HTxshEf5-75R",
        "outputId": "4c08fcfb-df35-4960-b510-04ab4ff56102",
        "colab": {
          "base_uri": "https://localhost:8080/"
        }
      },
      "execution_count": 64,
      "outputs": [
        {
          "output_type": "stream",
          "name": "stdout",
          "text": [
            "List of 7\n",
            " $ num  : num 5\n",
            " $ letra: chr [1:2] \"A\" \"B\"\n",
            " $ pl   : chr \"hola\"\n",
            " $ mat  : int [1:5, 1:5] 1 0 0 0 0 0 2 0 0 0 ...\n",
            " $ sub_l:List of 2\n",
            "  ..$ x_3  : int [1:5] -1 0 1 2 3\n",
            "  ..$ fecha: Date[1:1], format: \"2025-05-29\"\n",
            " $ c6   : int [1:6] -5 -4 -3 -2 -1 0\n",
            " $ c7   : chr [1:26] \"A\" \"B\" \"C\" \"D\" ...\n"
          ]
        }
      ]
    },
    {
      "cell_type": "code",
      "source": [
        "## Indicando nombre en [[]] o con \"$\" y luego asignando\n",
        "l3[[\"nueva\"]] <- \"otro valor\""
      ],
      "metadata": {
        "id": "Bp1AUJ8u-JiC"
      },
      "execution_count": 66,
      "outputs": []
    },
    {
      "cell_type": "code",
      "source": [
        "str(l3)"
      ],
      "metadata": {
        "id": "SyzoZkk3_DE5",
        "outputId": "9cc4cbb1-3136-4ca5-f169-2d4e26d3e9de",
        "colab": {
          "base_uri": "https://localhost:8080/"
        }
      },
      "execution_count": 67,
      "outputs": [
        {
          "output_type": "stream",
          "name": "stdout",
          "text": [
            "List of 8\n",
            " $ num  : num 5\n",
            " $ letra: chr [1:2] \"A\" \"B\"\n",
            " $ pl   : chr \"hola\"\n",
            " $ mat  : int [1:5, 1:5] 1 0 0 0 0 0 2 0 0 0 ...\n",
            " $ sub_l:List of 2\n",
            "  ..$ x_3  : int [1:5] -1 0 1 2 3\n",
            "  ..$ fecha: Date[1:1], format: \"2025-05-29\"\n",
            " $ c6   : int [1:6] -5 -4 -3 -2 -1 0\n",
            " $ c7   : chr [1:26] \"A\" \"B\" \"C\" \"D\" ...\n",
            " $ nueva: chr \"otro valor\"\n"
          ]
        }
      ]
    },
    {
      "cell_type": "code",
      "source": [
        "l3$nueva_2 <- 2025"
      ],
      "metadata": {
        "id": "IzRw45P1_HMA"
      },
      "execution_count": 69,
      "outputs": []
    },
    {
      "cell_type": "code",
      "source": [
        "str(l3)"
      ],
      "metadata": {
        "id": "Pum9K6Kj_Pt3",
        "outputId": "5b0d3dcf-5064-486c-c547-3f0e3cacb067",
        "colab": {
          "base_uri": "https://localhost:8080/"
        }
      },
      "execution_count": 70,
      "outputs": [
        {
          "output_type": "stream",
          "name": "stdout",
          "text": [
            "List of 9\n",
            " $ num    : num 5\n",
            " $ letra  : chr [1:2] \"A\" \"B\"\n",
            " $ pl     : chr \"hola\"\n",
            " $ mat    : int [1:5, 1:5] 1 0 0 0 0 0 2 0 0 0 ...\n",
            " $ sub_l  :List of 2\n",
            "  ..$ x_3  : int [1:5] -1 0 1 2 3\n",
            "  ..$ fecha: Date[1:1], format: \"2025-05-29\"\n",
            " $ c6     : int [1:6] -5 -4 -3 -2 -1 0\n",
            " $ c7     : chr [1:26] \"A\" \"B\" \"C\" \"D\" ...\n",
            " $ nueva  : chr \"otro valor\"\n",
            " $ nueva_2: num 2025\n"
          ]
        }
      ]
    },
    {
      "cell_type": "code",
      "metadata": {
        "trusted": true,
        "id": "rBB4hT9RTpSQ"
      },
      "source": [
        "# podemos borrar un slot\n",
        "l3$nueva_2 <- NULL\n",
        "l3[[\"nueva\"]] <- NULL"
      ],
      "execution_count": 74,
      "outputs": []
    },
    {
      "cell_type": "code",
      "source": [
        "l3"
      ],
      "metadata": {
        "id": "dvisc-2r_zpO",
        "outputId": "154542d5-530c-4582-d855-1c7cbff84b31",
        "colab": {
          "base_uri": "https://localhost:8080/",
          "height": 514
        }
      },
      "execution_count": 75,
      "outputs": [
        {
          "output_type": "display_data",
          "data": {
            "text/html": [
              "<dl>\n",
              "\t<dt>$num</dt>\n",
              "\t\t<dd>5</dd>\n",
              "\t<dt>$letra</dt>\n",
              "\t\t<dd><style>\n",
              ".list-inline {list-style: none; margin:0; padding: 0}\n",
              ".list-inline>li {display: inline-block}\n",
              ".list-inline>li:not(:last-child)::after {content: \"\\00b7\"; padding: 0 .5ex}\n",
              "</style>\n",
              "<ol class=list-inline><li>'A'</li><li>'B'</li></ol>\n",
              "</dd>\n",
              "\t<dt>$pl</dt>\n",
              "\t\t<dd>'hola'</dd>\n",
              "\t<dt>$mat</dt>\n",
              "\t\t<dd><table class=\"dataframe\">\n",
              "<caption>A matrix: 5 × 5 of type int</caption>\n",
              "<tbody>\n",
              "\t<tr><td>1</td><td>0</td><td>0</td><td>0</td><td>0</td></tr>\n",
              "\t<tr><td>0</td><td>2</td><td>0</td><td>0</td><td>0</td></tr>\n",
              "\t<tr><td>0</td><td>0</td><td>3</td><td>0</td><td>0</td></tr>\n",
              "\t<tr><td>0</td><td>0</td><td>0</td><td>4</td><td>0</td></tr>\n",
              "\t<tr><td>0</td><td>0</td><td>0</td><td>0</td><td>5</td></tr>\n",
              "</tbody>\n",
              "</table>\n",
              "</dd>\n",
              "\t<dt>$sub_l</dt>\n",
              "\t\t<dd><dl>\n",
              "\t<dt>$x_3</dt>\n",
              "\t\t<dd><style>\n",
              ".list-inline {list-style: none; margin:0; padding: 0}\n",
              ".list-inline>li {display: inline-block}\n",
              ".list-inline>li:not(:last-child)::after {content: \"\\00b7\"; padding: 0 .5ex}\n",
              "</style>\n",
              "<ol class=list-inline><li>-1</li><li>0</li><li>1</li><li>2</li><li>3</li></ol>\n",
              "</dd>\n",
              "\t<dt>$fecha</dt>\n",
              "\t\t<dd><time datetime=\"2025-05-29\">2025-05-29</time></dd>\n",
              "</dl>\n",
              "</dd>\n",
              "\t<dt>$c6</dt>\n",
              "\t\t<dd><style>\n",
              ".list-inline {list-style: none; margin:0; padding: 0}\n",
              ".list-inline>li {display: inline-block}\n",
              ".list-inline>li:not(:last-child)::after {content: \"\\00b7\"; padding: 0 .5ex}\n",
              "</style>\n",
              "<ol class=list-inline><li>-5</li><li>-4</li><li>-3</li><li>-2</li><li>-1</li><li>0</li></ol>\n",
              "</dd>\n",
              "\t<dt>$c7</dt>\n",
              "\t\t<dd><style>\n",
              ".list-inline {list-style: none; margin:0; padding: 0}\n",
              ".list-inline>li {display: inline-block}\n",
              ".list-inline>li:not(:last-child)::after {content: \"\\00b7\"; padding: 0 .5ex}\n",
              "</style>\n",
              "<ol class=list-inline><li>'A'</li><li>'B'</li><li>'C'</li><li>'D'</li><li>'E'</li><li>'F'</li><li>'G'</li><li>'H'</li><li>'I'</li><li>'J'</li><li>'K'</li><li>'L'</li><li>'M'</li><li>'N'</li><li>'O'</li><li>'P'</li><li>'Q'</li><li>'R'</li><li>'S'</li><li>'T'</li><li>'U'</li><li>'V'</li><li>'W'</li><li>'X'</li><li>'Y'</li><li>'Z'</li></ol>\n",
              "</dd>\n",
              "</dl>\n"
            ],
            "text/markdown": "$num\n:   5\n$letra\n:   1. 'A'\n2. 'B'\n\n\n\n$pl\n:   'hola'\n$mat\n:   \nA matrix: 5 × 5 of type int\n\n| 1 | 0 | 0 | 0 | 0 |\n| 0 | 2 | 0 | 0 | 0 |\n| 0 | 0 | 3 | 0 | 0 |\n| 0 | 0 | 0 | 4 | 0 |\n| 0 | 0 | 0 | 0 | 5 |\n\n\n$sub_l\n:   $x_3\n:   1. -1\n2. 0\n3. 1\n4. 2\n5. 3\n\n\n\n$fecha\n:   2025-05-29\n\n\n\n$c6\n:   1. -5\n2. -4\n3. -3\n4. -2\n5. -1\n6. 0\n\n\n\n$c7\n:   1. 'A'\n2. 'B'\n3. 'C'\n4. 'D'\n5. 'E'\n6. 'F'\n7. 'G'\n8. 'H'\n9. 'I'\n10. 'J'\n11. 'K'\n12. 'L'\n13. 'M'\n14. 'N'\n15. 'O'\n16. 'P'\n17. 'Q'\n18. 'R'\n19. 'S'\n20. 'T'\n21. 'U'\n22. 'V'\n23. 'W'\n24. 'X'\n25. 'Y'\n26. 'Z'\n\n\n\n\n\n",
            "text/latex": "\\begin{description}\n\\item[\\$num] 5\n\\item[\\$letra] \\begin{enumerate*}\n\\item 'A'\n\\item 'B'\n\\end{enumerate*}\n\n\\item[\\$pl] 'hola'\n\\item[\\$mat] A matrix: 5 × 5 of type int\n\\begin{tabular}{lllll}\n\t 1 & 0 & 0 & 0 & 0\\\\\n\t 0 & 2 & 0 & 0 & 0\\\\\n\t 0 & 0 & 3 & 0 & 0\\\\\n\t 0 & 0 & 0 & 4 & 0\\\\\n\t 0 & 0 & 0 & 0 & 5\\\\\n\\end{tabular}\n\n\\item[\\$sub\\_l] \\begin{description}\n\\item[\\$x\\_3] \\begin{enumerate*}\n\\item -1\n\\item 0\n\\item 1\n\\item 2\n\\item 3\n\\end{enumerate*}\n\n\\item[\\$fecha] 2025-05-29\n\\end{description}\n\n\\item[\\$c6] \\begin{enumerate*}\n\\item -5\n\\item -4\n\\item -3\n\\item -2\n\\item -1\n\\item 0\n\\end{enumerate*}\n\n\\item[\\$c7] \\begin{enumerate*}\n\\item 'A'\n\\item 'B'\n\\item 'C'\n\\item 'D'\n\\item 'E'\n\\item 'F'\n\\item 'G'\n\\item 'H'\n\\item 'I'\n\\item 'J'\n\\item 'K'\n\\item 'L'\n\\item 'M'\n\\item 'N'\n\\item 'O'\n\\item 'P'\n\\item 'Q'\n\\item 'R'\n\\item 'S'\n\\item 'T'\n\\item 'U'\n\\item 'V'\n\\item 'W'\n\\item 'X'\n\\item 'Y'\n\\item 'Z'\n\\end{enumerate*}\n\n\\end{description}\n",
            "text/plain": [
              "$num\n",
              "[1] 5\n",
              "\n",
              "$letra\n",
              "[1] \"A\" \"B\"\n",
              "\n",
              "$pl\n",
              "[1] \"hola\"\n",
              "\n",
              "$mat\n",
              "     [,1] [,2] [,3] [,4] [,5]\n",
              "[1,]    1    0    0    0    0\n",
              "[2,]    0    2    0    0    0\n",
              "[3,]    0    0    3    0    0\n",
              "[4,]    0    0    0    4    0\n",
              "[5,]    0    0    0    0    5\n",
              "\n",
              "$sub_l\n",
              "$sub_l$x_3\n",
              "[1] -1  0  1  2  3\n",
              "\n",
              "$sub_l$fecha\n",
              "[1] \"2025-05-29\"\n",
              "\n",
              "\n",
              "$c6\n",
              "[1] -5 -4 -3 -2 -1  0\n",
              "\n",
              "$c7\n",
              " [1] \"A\" \"B\" \"C\" \"D\" \"E\" \"F\" \"G\" \"H\" \"I\" \"J\" \"K\" \"L\" \"M\" \"N\" \"O\" \"P\" \"Q\" \"R\" \"S\"\n",
              "[20] \"T\" \"U\" \"V\" \"W\" \"X\" \"Y\" \"Z\"\n"
            ]
          },
          "metadata": {}
        }
      ]
    },
    {
      "cell_type": "markdown",
      "metadata": {
        "id": "128wI4ZoTpSS"
      },
      "source": [
        "### 5.2 Dataframes\n",
        "\n",
        "Un dataframe es un caso particular de una lista, donde los objetos de cada entrada corresponden a vectores de datos del mismo largo. E este caso cada vector corresponde a una columna del data.frame, mientras que la cantidad de filas corresponde al largo común de los vectores de cada entrada. El objeto resultante es una *tabla*, de ahora en adelante *data.frame*, cuyas columnas poseen distintos tipos de datos entre sí.\n",
        "\n",
        " * ¿Cómo se declara un dataframe?<br>\n",
        "     Mediante la función data.frame(), indicando los vectores que conformarán las columnas.\n",
        "\n",
        " * ¿Cómo se accede a los datos de un data.frame?<br>\n",
        "    Al ser una lista, se puede acceder de la misma manera. Sin embargo también es posible acceder del modo en que se accede a los elementos de una matriz."
      ]
    },
    {
      "cell_type": "code",
      "metadata": {
        "trusted": true,
        "id": "qJ-2zVWVTpST"
      },
      "source": [
        "# 5.2 Dataframes ----------\n",
        "# Ejemplo sencillo de definición de un data.frame\n",
        "# recordar que 1:3 es lo mismo que c(1,2,3)\n",
        "df <- data.frame(\n",
        "  nombre = c(\"miguel\", \"Tito\", \"Almendra\"),\n",
        "  edad = c(36,30,25),\n",
        "  rut = c(\"11-2\",\"10-k\",\"20-1\")\n",
        ")\n"
      ],
      "execution_count": 76,
      "outputs": []
    },
    {
      "cell_type": "code",
      "source": [
        "df"
      ],
      "metadata": {
        "id": "pkaXH20lDw54",
        "outputId": "ce642d2a-470a-4833-bc06-fc42f12fd139",
        "colab": {
          "base_uri": "https://localhost:8080/",
          "height": 192
        }
      },
      "execution_count": 77,
      "outputs": [
        {
          "output_type": "display_data",
          "data": {
            "text/html": [
              "<table class=\"dataframe\">\n",
              "<caption>A data.frame: 3 × 3</caption>\n",
              "<thead>\n",
              "\t<tr><th scope=col>nombre</th><th scope=col>edad</th><th scope=col>rut</th></tr>\n",
              "\t<tr><th scope=col>&lt;chr&gt;</th><th scope=col>&lt;dbl&gt;</th><th scope=col>&lt;chr&gt;</th></tr>\n",
              "</thead>\n",
              "<tbody>\n",
              "\t<tr><td>miguel  </td><td>36</td><td>11-2</td></tr>\n",
              "\t<tr><td>Tito    </td><td>30</td><td>10-k</td></tr>\n",
              "\t<tr><td>Almendra</td><td>25</td><td>20-1</td></tr>\n",
              "</tbody>\n",
              "</table>\n"
            ],
            "text/markdown": "\nA data.frame: 3 × 3\n\n| nombre &lt;chr&gt; | edad &lt;dbl&gt; | rut &lt;chr&gt; |\n|---|---|---|\n| miguel   | 36 | 11-2 |\n| Tito     | 30 | 10-k |\n| Almendra | 25 | 20-1 |\n\n",
            "text/latex": "A data.frame: 3 × 3\n\\begin{tabular}{lll}\n nombre & edad & rut\\\\\n <chr> & <dbl> & <chr>\\\\\n\\hline\n\t miguel   & 36 & 11-2\\\\\n\t Tito     & 30 & 10-k\\\\\n\t Almendra & 25 & 20-1\\\\\n\\end{tabular}\n",
            "text/plain": [
              "  nombre   edad rut \n",
              "1 miguel   36   11-2\n",
              "2 Tito     30   10-k\n",
              "3 Almendra 25   20-1"
            ]
          },
          "metadata": {}
        }
      ]
    },
    {
      "cell_type": "code",
      "source": [
        "dim(df)\n",
        "nrow(df)\n",
        "ncol(df)"
      ],
      "metadata": {
        "id": "E3-_gM-sD5Oj",
        "outputId": "a5116105-0353-46f0-dcb5-0d9430b4889d",
        "colab": {
          "base_uri": "https://localhost:8080/",
          "height": 69
        }
      },
      "execution_count": 79,
      "outputs": [
        {
          "output_type": "display_data",
          "data": {
            "text/html": [
              "<style>\n",
              ".list-inline {list-style: none; margin:0; padding: 0}\n",
              ".list-inline>li {display: inline-block}\n",
              ".list-inline>li:not(:last-child)::after {content: \"\\00b7\"; padding: 0 .5ex}\n",
              "</style>\n",
              "<ol class=list-inline><li>3</li><li>3</li></ol>\n"
            ],
            "text/markdown": "1. 3\n2. 3\n\n\n",
            "text/latex": "\\begin{enumerate*}\n\\item 3\n\\item 3\n\\end{enumerate*}\n",
            "text/plain": [
              "[1] 3 3"
            ]
          },
          "metadata": {}
        },
        {
          "output_type": "display_data",
          "data": {
            "text/html": [
              "3"
            ],
            "text/markdown": "3",
            "text/latex": "3",
            "text/plain": [
              "[1] 3"
            ]
          },
          "metadata": {}
        },
        {
          "output_type": "display_data",
          "data": {
            "text/html": [
              "3"
            ],
            "text/markdown": "3",
            "text/latex": "3",
            "text/plain": [
              "[1] 3"
            ]
          },
          "metadata": {}
        }
      ]
    },
    {
      "cell_type": "code",
      "source": [
        "names(df)\n",
        "colnames(df)"
      ],
      "metadata": {
        "id": "eBykS1bsD_oA",
        "outputId": "cd12e982-76d1-4a38-8593-2af04e246b11",
        "colab": {
          "base_uri": "https://localhost:8080/",
          "height": 52
        }
      },
      "execution_count": 81,
      "outputs": [
        {
          "output_type": "display_data",
          "data": {
            "text/html": [
              "<style>\n",
              ".list-inline {list-style: none; margin:0; padding: 0}\n",
              ".list-inline>li {display: inline-block}\n",
              ".list-inline>li:not(:last-child)::after {content: \"\\00b7\"; padding: 0 .5ex}\n",
              "</style>\n",
              "<ol class=list-inline><li>'nombre'</li><li>'edad'</li><li>'rut'</li></ol>\n"
            ],
            "text/markdown": "1. 'nombre'\n2. 'edad'\n3. 'rut'\n\n\n",
            "text/latex": "\\begin{enumerate*}\n\\item 'nombre'\n\\item 'edad'\n\\item 'rut'\n\\end{enumerate*}\n",
            "text/plain": [
              "[1] \"nombre\" \"edad\"   \"rut\"   "
            ]
          },
          "metadata": {}
        },
        {
          "output_type": "display_data",
          "data": {
            "text/html": [
              "<style>\n",
              ".list-inline {list-style: none; margin:0; padding: 0}\n",
              ".list-inline>li {display: inline-block}\n",
              ".list-inline>li:not(:last-child)::after {content: \"\\00b7\"; padding: 0 .5ex}\n",
              "</style>\n",
              "<ol class=list-inline><li>'nombre'</li><li>'edad'</li><li>'rut'</li></ol>\n"
            ],
            "text/markdown": "1. 'nombre'\n2. 'edad'\n3. 'rut'\n\n\n",
            "text/latex": "\\begin{enumerate*}\n\\item 'nombre'\n\\item 'edad'\n\\item 'rut'\n\\end{enumerate*}\n",
            "text/plain": [
              "[1] \"nombre\" \"edad\"   \"rut\"   "
            ]
          },
          "metadata": {}
        }
      ]
    },
    {
      "cell_type": "code",
      "metadata": {
        "trusted": true,
        "id": "nv7stC8ITpSY",
        "outputId": "fe4f434d-35c6-43c0-e03f-05eb7b14eb60",
        "colab": {
          "base_uri": "https://localhost:8080/",
          "height": 69
        }
      },
      "source": [
        "# Acceso a columnas de un data.frame\n",
        "## Igual que en una lista\n",
        "# Ej: Acceder a la columna de pos 2 (el slot 2 en las listas), llamada \"edad\"\n",
        "df[[2]]\n",
        "df[[\"edad\"]]\n",
        "df$edad\n",
        "\n",
        "#Nos retorna directamente el \"objeto\" que corresponde al vector de edades (edad)\n",
        "\n"
      ],
      "execution_count": 82,
      "outputs": [
        {
          "output_type": "display_data",
          "data": {
            "text/html": [
              "<style>\n",
              ".list-inline {list-style: none; margin:0; padding: 0}\n",
              ".list-inline>li {display: inline-block}\n",
              ".list-inline>li:not(:last-child)::after {content: \"\\00b7\"; padding: 0 .5ex}\n",
              "</style>\n",
              "<ol class=list-inline><li>36</li><li>30</li><li>25</li></ol>\n"
            ],
            "text/markdown": "1. 36\n2. 30\n3. 25\n\n\n",
            "text/latex": "\\begin{enumerate*}\n\\item 36\n\\item 30\n\\item 25\n\\end{enumerate*}\n",
            "text/plain": [
              "[1] 36 30 25"
            ]
          },
          "metadata": {}
        },
        {
          "output_type": "display_data",
          "data": {
            "text/html": [
              "<style>\n",
              ".list-inline {list-style: none; margin:0; padding: 0}\n",
              ".list-inline>li {display: inline-block}\n",
              ".list-inline>li:not(:last-child)::after {content: \"\\00b7\"; padding: 0 .5ex}\n",
              "</style>\n",
              "<ol class=list-inline><li>36</li><li>30</li><li>25</li></ol>\n"
            ],
            "text/markdown": "1. 36\n2. 30\n3. 25\n\n\n",
            "text/latex": "\\begin{enumerate*}\n\\item 36\n\\item 30\n\\item 25\n\\end{enumerate*}\n",
            "text/plain": [
              "[1] 36 30 25"
            ]
          },
          "metadata": {}
        },
        {
          "output_type": "display_data",
          "data": {
            "text/html": [
              "<style>\n",
              ".list-inline {list-style: none; margin:0; padding: 0}\n",
              ".list-inline>li {display: inline-block}\n",
              ".list-inline>li:not(:last-child)::after {content: \"\\00b7\"; padding: 0 .5ex}\n",
              "</style>\n",
              "<ol class=list-inline><li>36</li><li>30</li><li>25</li></ol>\n"
            ],
            "text/markdown": "1. 36\n2. 30\n3. 25\n\n\n",
            "text/latex": "\\begin{enumerate*}\n\\item 36\n\\item 30\n\\item 25\n\\end{enumerate*}\n",
            "text/plain": [
              "[1] 36 30 25"
            ]
          },
          "metadata": {}
        }
      ]
    },
    {
      "cell_type": "code",
      "source": [
        "df[2]\n",
        "df[\"edad\"]"
      ],
      "metadata": {
        "id": "Pp6fyDRtE8Iu",
        "outputId": "9a99a084-957e-44de-8a7c-e2bb9e5e9c93",
        "colab": {
          "base_uri": "https://localhost:8080/",
          "height": 436
        }
      },
      "execution_count": 88,
      "outputs": [
        {
          "output_type": "display_data",
          "data": {
            "text/html": [
              "<table class=\"dataframe\">\n",
              "<caption>A data.frame: 3 × 1</caption>\n",
              "<thead>\n",
              "\t<tr><th scope=col>edad</th></tr>\n",
              "\t<tr><th scope=col>&lt;dbl&gt;</th></tr>\n",
              "</thead>\n",
              "<tbody>\n",
              "\t<tr><td>36</td></tr>\n",
              "\t<tr><td>30</td></tr>\n",
              "\t<tr><td>25</td></tr>\n",
              "</tbody>\n",
              "</table>\n"
            ],
            "text/markdown": "\nA data.frame: 3 × 1\n\n| edad &lt;dbl&gt; |\n|---|\n| 36 |\n| 30 |\n| 25 |\n\n",
            "text/latex": "A data.frame: 3 × 1\n\\begin{tabular}{l}\n edad\\\\\n <dbl>\\\\\n\\hline\n\t 36\\\\\n\t 30\\\\\n\t 25\\\\\n\\end{tabular}\n",
            "text/plain": [
              "  edad\n",
              "1 36  \n",
              "2 30  \n",
              "3 25  "
            ]
          },
          "metadata": {}
        },
        {
          "output_type": "display_data",
          "data": {
            "text/html": [
              "<table class=\"dataframe\">\n",
              "<caption>A data.frame: 3 × 1</caption>\n",
              "<thead>\n",
              "\t<tr><th scope=col>edad</th></tr>\n",
              "\t<tr><th scope=col>&lt;dbl&gt;</th></tr>\n",
              "</thead>\n",
              "<tbody>\n",
              "\t<tr><td>36</td></tr>\n",
              "\t<tr><td>30</td></tr>\n",
              "\t<tr><td>25</td></tr>\n",
              "</tbody>\n",
              "</table>\n"
            ],
            "text/markdown": "\nA data.frame: 3 × 1\n\n| edad &lt;dbl&gt; |\n|---|\n| 36 |\n| 30 |\n| 25 |\n\n",
            "text/latex": "A data.frame: 3 × 1\n\\begin{tabular}{l}\n edad\\\\\n <dbl>\\\\\n\\hline\n\t 36\\\\\n\t 30\\\\\n\t 25\\\\\n\\end{tabular}\n",
            "text/plain": [
              "  edad\n",
              "1 36  \n",
              "2 30  \n",
              "3 25  "
            ]
          },
          "metadata": {}
        }
      ]
    },
    {
      "cell_type": "code",
      "metadata": {
        "trusted": true,
        "id": "CojdmEs9TpSd",
        "outputId": "cffa63a0-b366-49fc-e6b7-a5f29a737da0",
        "colab": {
          "base_uri": "https://localhost:8080/",
          "height": 198
        }
      },
      "source": [
        "##  Ganamos acceso como matriz\n",
        "# segunda columna\n",
        "df[,2]\n",
        "df[,\"edad\"]\n",
        "\n",
        "# segunda fila de df\n",
        "df[2,]\n",
        "# segunda fila y segunda columna\n",
        "df[2,2]\n",
        "df[2,\"edad\"]\n"
      ],
      "execution_count": 87,
      "outputs": [
        {
          "output_type": "display_data",
          "data": {
            "text/html": [
              "<style>\n",
              ".list-inline {list-style: none; margin:0; padding: 0}\n",
              ".list-inline>li {display: inline-block}\n",
              ".list-inline>li:not(:last-child)::after {content: \"\\00b7\"; padding: 0 .5ex}\n",
              "</style>\n",
              "<ol class=list-inline><li>36</li><li>30</li><li>25</li></ol>\n"
            ],
            "text/markdown": "1. 36\n2. 30\n3. 25\n\n\n",
            "text/latex": "\\begin{enumerate*}\n\\item 36\n\\item 30\n\\item 25\n\\end{enumerate*}\n",
            "text/plain": [
              "[1] 36 30 25"
            ]
          },
          "metadata": {}
        },
        {
          "output_type": "display_data",
          "data": {
            "text/html": [
              "<style>\n",
              ".list-inline {list-style: none; margin:0; padding: 0}\n",
              ".list-inline>li {display: inline-block}\n",
              ".list-inline>li:not(:last-child)::after {content: \"\\00b7\"; padding: 0 .5ex}\n",
              "</style>\n",
              "<ol class=list-inline><li>36</li><li>30</li><li>25</li></ol>\n"
            ],
            "text/markdown": "1. 36\n2. 30\n3. 25\n\n\n",
            "text/latex": "\\begin{enumerate*}\n\\item 36\n\\item 30\n\\item 25\n\\end{enumerate*}\n",
            "text/plain": [
              "[1] 36 30 25"
            ]
          },
          "metadata": {}
        },
        {
          "output_type": "display_data",
          "data": {
            "text/html": [
              "<table class=\"dataframe\">\n",
              "<caption>A data.frame: 1 × 3</caption>\n",
              "<thead>\n",
              "\t<tr><th></th><th scope=col>nombre</th><th scope=col>edad</th><th scope=col>rut</th></tr>\n",
              "\t<tr><th></th><th scope=col>&lt;chr&gt;</th><th scope=col>&lt;dbl&gt;</th><th scope=col>&lt;chr&gt;</th></tr>\n",
              "</thead>\n",
              "<tbody>\n",
              "\t<tr><th scope=row>2</th><td>Tito</td><td>30</td><td>10-k</td></tr>\n",
              "</tbody>\n",
              "</table>\n"
            ],
            "text/markdown": "\nA data.frame: 1 × 3\n\n| <!--/--> | nombre &lt;chr&gt; | edad &lt;dbl&gt; | rut &lt;chr&gt; |\n|---|---|---|---|\n| 2 | Tito | 30 | 10-k |\n\n",
            "text/latex": "A data.frame: 1 × 3\n\\begin{tabular}{r|lll}\n  & nombre & edad & rut\\\\\n  & <chr> & <dbl> & <chr>\\\\\n\\hline\n\t2 & Tito & 30 & 10-k\\\\\n\\end{tabular}\n",
            "text/plain": [
              "  nombre edad rut \n",
              "2 Tito   30   10-k"
            ]
          },
          "metadata": {}
        },
        {
          "output_type": "display_data",
          "data": {
            "text/html": [
              "30"
            ],
            "text/markdown": "30",
            "text/latex": "30",
            "text/plain": [
              "[1] 30"
            ]
          },
          "metadata": {}
        },
        {
          "output_type": "display_data",
          "data": {
            "text/html": [
              "30"
            ],
            "text/markdown": "30",
            "text/latex": "30",
            "text/plain": [
              "[1] 30"
            ]
          },
          "metadata": {}
        }
      ]
    },
    {
      "cell_type": "code",
      "metadata": {
        "trusted": true,
        "id": "FgD5Q8hFTpSf"
      },
      "source": [
        "#Podemos crear nuevas columnas , del mismmo modo que creamos \"slots\" en una lista\n",
        "df$tiene_mascota <- c(F,T,F)"
      ],
      "execution_count": 90,
      "outputs": []
    },
    {
      "cell_type": "code",
      "source": [
        "df"
      ],
      "metadata": {
        "id": "-pstxH-MFj2e",
        "outputId": "4bd1434e-d8b2-4149-e006-d875b25d8b34",
        "colab": {
          "base_uri": "https://localhost:8080/",
          "height": 192
        }
      },
      "execution_count": 91,
      "outputs": [
        {
          "output_type": "display_data",
          "data": {
            "text/html": [
              "<table class=\"dataframe\">\n",
              "<caption>A data.frame: 3 × 4</caption>\n",
              "<thead>\n",
              "\t<tr><th scope=col>nombre</th><th scope=col>edad</th><th scope=col>rut</th><th scope=col>tiene_mascota</th></tr>\n",
              "\t<tr><th scope=col>&lt;chr&gt;</th><th scope=col>&lt;dbl&gt;</th><th scope=col>&lt;chr&gt;</th><th scope=col>&lt;lgl&gt;</th></tr>\n",
              "</thead>\n",
              "<tbody>\n",
              "\t<tr><td>miguel  </td><td>36</td><td>11-2</td><td>FALSE</td></tr>\n",
              "\t<tr><td>Tito    </td><td>30</td><td>10-k</td><td> TRUE</td></tr>\n",
              "\t<tr><td>Almendra</td><td>25</td><td>20-1</td><td>FALSE</td></tr>\n",
              "</tbody>\n",
              "</table>\n"
            ],
            "text/markdown": "\nA data.frame: 3 × 4\n\n| nombre &lt;chr&gt; | edad &lt;dbl&gt; | rut &lt;chr&gt; | tiene_mascota &lt;lgl&gt; |\n|---|---|---|---|\n| miguel   | 36 | 11-2 | FALSE |\n| Tito     | 30 | 10-k |  TRUE |\n| Almendra | 25 | 20-1 | FALSE |\n\n",
            "text/latex": "A data.frame: 3 × 4\n\\begin{tabular}{llll}\n nombre & edad & rut & tiene\\_mascota\\\\\n <chr> & <dbl> & <chr> & <lgl>\\\\\n\\hline\n\t miguel   & 36 & 11-2 & FALSE\\\\\n\t Tito     & 30 & 10-k &  TRUE\\\\\n\t Almendra & 25 & 20-1 & FALSE\\\\\n\\end{tabular}\n",
            "text/plain": [
              "  nombre   edad rut  tiene_mascota\n",
              "1 miguel   36   11-2 FALSE        \n",
              "2 Tito     30   10-k  TRUE        \n",
              "3 Almendra 25   20-1 FALSE        "
            ]
          },
          "metadata": {}
        }
      ]
    },
    {
      "cell_type": "code",
      "source": [
        "#Alternativa\n",
        "df[[\"comuna_res\"]] <- c(\"Ñuñoa\",\"La Florida\", \"Vitacura\")"
      ],
      "metadata": {
        "id": "E-9_7A1aFm11"
      },
      "execution_count": 95,
      "outputs": []
    },
    {
      "cell_type": "code",
      "source": [
        "df"
      ],
      "metadata": {
        "id": "QLlCL9waF2Tp",
        "outputId": "07ddd4eb-960e-4e88-b93a-c5f39f6452a1",
        "colab": {
          "base_uri": "https://localhost:8080/",
          "height": 192
        }
      },
      "execution_count": 96,
      "outputs": [
        {
          "output_type": "display_data",
          "data": {
            "text/html": [
              "<table class=\"dataframe\">\n",
              "<caption>A data.frame: 3 × 5</caption>\n",
              "<thead>\n",
              "\t<tr><th scope=col>nombre</th><th scope=col>edad</th><th scope=col>rut</th><th scope=col>tiene_mascota</th><th scope=col>comuna_res</th></tr>\n",
              "\t<tr><th scope=col>&lt;chr&gt;</th><th scope=col>&lt;dbl&gt;</th><th scope=col>&lt;chr&gt;</th><th scope=col>&lt;lgl&gt;</th><th scope=col>&lt;chr&gt;</th></tr>\n",
              "</thead>\n",
              "<tbody>\n",
              "\t<tr><td>miguel  </td><td>36</td><td>11-2</td><td>FALSE</td><td>Ñuñoa     </td></tr>\n",
              "\t<tr><td>Tito    </td><td>30</td><td>10-k</td><td> TRUE</td><td>La Florida</td></tr>\n",
              "\t<tr><td>Almendra</td><td>25</td><td>20-1</td><td>FALSE</td><td>Vitacura  </td></tr>\n",
              "</tbody>\n",
              "</table>\n"
            ],
            "text/markdown": "\nA data.frame: 3 × 5\n\n| nombre &lt;chr&gt; | edad &lt;dbl&gt; | rut &lt;chr&gt; | tiene_mascota &lt;lgl&gt; | comuna_res &lt;chr&gt; |\n|---|---|---|---|---|\n| miguel   | 36 | 11-2 | FALSE | Ñuñoa      |\n| Tito     | 30 | 10-k |  TRUE | La Florida |\n| Almendra | 25 | 20-1 | FALSE | Vitacura   |\n\n",
            "text/latex": "A data.frame: 3 × 5\n\\begin{tabular}{lllll}\n nombre & edad & rut & tiene\\_mascota & comuna\\_res\\\\\n <chr> & <dbl> & <chr> & <lgl> & <chr>\\\\\n\\hline\n\t miguel   & 36 & 11-2 & FALSE & Ñuñoa     \\\\\n\t Tito     & 30 & 10-k &  TRUE & La Florida\\\\\n\t Almendra & 25 & 20-1 & FALSE & Vitacura  \\\\\n\\end{tabular}\n",
            "text/plain": [
              "  nombre   edad rut  tiene_mascota comuna_res\n",
              "1 miguel   36   11-2 FALSE         Ñuñoa     \n",
              "2 Tito     30   10-k  TRUE         La Florida\n",
              "3 Almendra 25   20-1 FALSE         Vitacura  "
            ]
          },
          "metadata": {}
        }
      ]
    },
    {
      "cell_type": "code",
      "source": [
        "str(df)"
      ],
      "metadata": {
        "id": "murYX56DF5HP",
        "outputId": "fd17b9d1-11ab-4274-efd7-494c73f7c70b",
        "colab": {
          "base_uri": "https://localhost:8080/"
        }
      },
      "execution_count": 97,
      "outputs": [
        {
          "output_type": "stream",
          "name": "stdout",
          "text": [
            "'data.frame':\t3 obs. of  5 variables:\n",
            " $ nombre       : chr  \"miguel\" \"Tito\" \"Almendra\"\n",
            " $ edad         : num  36 30 25\n",
            " $ rut          : chr  \"11-2\" \"10-k\" \"20-1\"\n",
            " $ tiene_mascota: logi  FALSE TRUE FALSE\n",
            " $ comuna_res   : chr  \"Ñuñoa\" \"La Florida\" \"Vitacura\"\n"
          ]
        }
      ]
    },
    {
      "cell_type": "code",
      "metadata": {
        "trusted": true,
        "id": "LcNQ5JHVTpSh",
        "outputId": "08c5e075-9687-4162-d050-b24268f1297d",
        "colab": {
          "base_uri": "https://localhost:8080/",
          "height": 716
        }
      },
      "source": [
        "# podemos seleccionar más de una columna a la vez. Ej: seleccionar nombre y edad\n",
        "df[c(1,2)]# Como si fuesen dos entradas de una lista\n",
        "df[,c(1,2)]# Como si fuese una matriz\n",
        "# Referenciando el nombre de las columnas\n",
        "df[c(\"nombre\",\"edad\")]# Como si fuesen dos entradas de una lista\n",
        "df[,c(\"nombre\",\"edad\")]# Como si fuese una matriz"
      ],
      "execution_count": 100,
      "outputs": [
        {
          "output_type": "display_data",
          "data": {
            "text/html": [
              "<table class=\"dataframe\">\n",
              "<caption>A data.frame: 3 × 2</caption>\n",
              "<thead>\n",
              "\t<tr><th scope=col>nombre</th><th scope=col>edad</th></tr>\n",
              "\t<tr><th scope=col>&lt;chr&gt;</th><th scope=col>&lt;dbl&gt;</th></tr>\n",
              "</thead>\n",
              "<tbody>\n",
              "\t<tr><td>miguel  </td><td>36</td></tr>\n",
              "\t<tr><td>Tito    </td><td>30</td></tr>\n",
              "\t<tr><td>Almendra</td><td>25</td></tr>\n",
              "</tbody>\n",
              "</table>\n"
            ],
            "text/markdown": "\nA data.frame: 3 × 2\n\n| nombre &lt;chr&gt; | edad &lt;dbl&gt; |\n|---|---|\n| miguel   | 36 |\n| Tito     | 30 |\n| Almendra | 25 |\n\n",
            "text/latex": "A data.frame: 3 × 2\n\\begin{tabular}{ll}\n nombre & edad\\\\\n <chr> & <dbl>\\\\\n\\hline\n\t miguel   & 36\\\\\n\t Tito     & 30\\\\\n\t Almendra & 25\\\\\n\\end{tabular}\n",
            "text/plain": [
              "  nombre   edad\n",
              "1 miguel   36  \n",
              "2 Tito     30  \n",
              "3 Almendra 25  "
            ]
          },
          "metadata": {}
        },
        {
          "output_type": "display_data",
          "data": {
            "text/html": [
              "<table class=\"dataframe\">\n",
              "<caption>A data.frame: 3 × 2</caption>\n",
              "<thead>\n",
              "\t<tr><th scope=col>nombre</th><th scope=col>edad</th></tr>\n",
              "\t<tr><th scope=col>&lt;chr&gt;</th><th scope=col>&lt;dbl&gt;</th></tr>\n",
              "</thead>\n",
              "<tbody>\n",
              "\t<tr><td>miguel  </td><td>36</td></tr>\n",
              "\t<tr><td>Tito    </td><td>30</td></tr>\n",
              "\t<tr><td>Almendra</td><td>25</td></tr>\n",
              "</tbody>\n",
              "</table>\n"
            ],
            "text/markdown": "\nA data.frame: 3 × 2\n\n| nombre &lt;chr&gt; | edad &lt;dbl&gt; |\n|---|---|\n| miguel   | 36 |\n| Tito     | 30 |\n| Almendra | 25 |\n\n",
            "text/latex": "A data.frame: 3 × 2\n\\begin{tabular}{ll}\n nombre & edad\\\\\n <chr> & <dbl>\\\\\n\\hline\n\t miguel   & 36\\\\\n\t Tito     & 30\\\\\n\t Almendra & 25\\\\\n\\end{tabular}\n",
            "text/plain": [
              "  nombre   edad\n",
              "1 miguel   36  \n",
              "2 Tito     30  \n",
              "3 Almendra 25  "
            ]
          },
          "metadata": {}
        },
        {
          "output_type": "display_data",
          "data": {
            "text/html": [
              "<table class=\"dataframe\">\n",
              "<caption>A data.frame: 3 × 2</caption>\n",
              "<thead>\n",
              "\t<tr><th scope=col>nombre</th><th scope=col>edad</th></tr>\n",
              "\t<tr><th scope=col>&lt;chr&gt;</th><th scope=col>&lt;dbl&gt;</th></tr>\n",
              "</thead>\n",
              "<tbody>\n",
              "\t<tr><td>miguel  </td><td>36</td></tr>\n",
              "\t<tr><td>Tito    </td><td>30</td></tr>\n",
              "\t<tr><td>Almendra</td><td>25</td></tr>\n",
              "</tbody>\n",
              "</table>\n"
            ],
            "text/markdown": "\nA data.frame: 3 × 2\n\n| nombre &lt;chr&gt; | edad &lt;dbl&gt; |\n|---|---|\n| miguel   | 36 |\n| Tito     | 30 |\n| Almendra | 25 |\n\n",
            "text/latex": "A data.frame: 3 × 2\n\\begin{tabular}{ll}\n nombre & edad\\\\\n <chr> & <dbl>\\\\\n\\hline\n\t miguel   & 36\\\\\n\t Tito     & 30\\\\\n\t Almendra & 25\\\\\n\\end{tabular}\n",
            "text/plain": [
              "  nombre   edad\n",
              "1 miguel   36  \n",
              "2 Tito     30  \n",
              "3 Almendra 25  "
            ]
          },
          "metadata": {}
        },
        {
          "output_type": "display_data",
          "data": {
            "text/html": [
              "<table class=\"dataframe\">\n",
              "<caption>A data.frame: 3 × 2</caption>\n",
              "<thead>\n",
              "\t<tr><th scope=col>nombre</th><th scope=col>edad</th></tr>\n",
              "\t<tr><th scope=col>&lt;chr&gt;</th><th scope=col>&lt;dbl&gt;</th></tr>\n",
              "</thead>\n",
              "<tbody>\n",
              "\t<tr><td>miguel  </td><td>36</td></tr>\n",
              "\t<tr><td>Tito    </td><td>30</td></tr>\n",
              "\t<tr><td>Almendra</td><td>25</td></tr>\n",
              "</tbody>\n",
              "</table>\n"
            ],
            "text/markdown": "\nA data.frame: 3 × 2\n\n| nombre &lt;chr&gt; | edad &lt;dbl&gt; |\n|---|---|\n| miguel   | 36 |\n| Tito     | 30 |\n| Almendra | 25 |\n\n",
            "text/latex": "A data.frame: 3 × 2\n\\begin{tabular}{ll}\n nombre & edad\\\\\n <chr> & <dbl>\\\\\n\\hline\n\t miguel   & 36\\\\\n\t Tito     & 30\\\\\n\t Almendra & 25\\\\\n\\end{tabular}\n",
            "text/plain": [
              "  nombre   edad\n",
              "1 miguel   36  \n",
              "2 Tito     30  \n",
              "3 Almendra 25  "
            ]
          },
          "metadata": {}
        }
      ]
    },
    {
      "cell_type": "code",
      "source": [
        "df"
      ],
      "metadata": {
        "id": "DstSrl8LHDGQ",
        "outputId": "0ce55a88-b84c-4abd-cfad-7e93e9734a37",
        "colab": {
          "base_uri": "https://localhost:8080/",
          "height": 192
        }
      },
      "execution_count": 101,
      "outputs": [
        {
          "output_type": "display_data",
          "data": {
            "text/html": [
              "<table class=\"dataframe\">\n",
              "<caption>A data.frame: 3 × 5</caption>\n",
              "<thead>\n",
              "\t<tr><th scope=col>nombre</th><th scope=col>edad</th><th scope=col>rut</th><th scope=col>tiene_mascota</th><th scope=col>comuna_res</th></tr>\n",
              "\t<tr><th scope=col>&lt;chr&gt;</th><th scope=col>&lt;dbl&gt;</th><th scope=col>&lt;chr&gt;</th><th scope=col>&lt;lgl&gt;</th><th scope=col>&lt;chr&gt;</th></tr>\n",
              "</thead>\n",
              "<tbody>\n",
              "\t<tr><td>miguel  </td><td>36</td><td>11-2</td><td>FALSE</td><td>Ñuñoa     </td></tr>\n",
              "\t<tr><td>Tito    </td><td>30</td><td>10-k</td><td> TRUE</td><td>La Florida</td></tr>\n",
              "\t<tr><td>Almendra</td><td>25</td><td>20-1</td><td>FALSE</td><td>Vitacura  </td></tr>\n",
              "</tbody>\n",
              "</table>\n"
            ],
            "text/markdown": "\nA data.frame: 3 × 5\n\n| nombre &lt;chr&gt; | edad &lt;dbl&gt; | rut &lt;chr&gt; | tiene_mascota &lt;lgl&gt; | comuna_res &lt;chr&gt; |\n|---|---|---|---|---|\n| miguel   | 36 | 11-2 | FALSE | Ñuñoa      |\n| Tito     | 30 | 10-k |  TRUE | La Florida |\n| Almendra | 25 | 20-1 | FALSE | Vitacura   |\n\n",
            "text/latex": "A data.frame: 3 × 5\n\\begin{tabular}{lllll}\n nombre & edad & rut & tiene\\_mascota & comuna\\_res\\\\\n <chr> & <dbl> & <chr> & <lgl> & <chr>\\\\\n\\hline\n\t miguel   & 36 & 11-2 & FALSE & Ñuñoa     \\\\\n\t Tito     & 30 & 10-k &  TRUE & La Florida\\\\\n\t Almendra & 25 & 20-1 & FALSE & Vitacura  \\\\\n\\end{tabular}\n",
            "text/plain": [
              "  nombre   edad rut  tiene_mascota comuna_res\n",
              "1 miguel   36   11-2 FALSE         Ñuñoa     \n",
              "2 Tito     30   10-k  TRUE         La Florida\n",
              "3 Almendra 25   20-1 FALSE         Vitacura  "
            ]
          },
          "metadata": {}
        }
      ]
    },
    {
      "cell_type": "code",
      "metadata": {
        "trusted": true,
        "id": "RmsAhhsWTpSm",
        "outputId": "326592ba-481d-4fa7-d343-72fdebc060a7",
        "colab": {
          "base_uri": "https://localhost:8080/",
          "height": 160
        }
      },
      "source": [
        "# podemos utilizar la noción de \"indicatrices lógicas\" para realizar búsquedas por filas sujeto a alguna condición\n",
        "#ubicar a los registros cuya edad es mayor o igual a 30.\n",
        "\n",
        "df[df$edad >= 30,]\n",
        "\n"
      ],
      "execution_count": 102,
      "outputs": [
        {
          "output_type": "display_data",
          "data": {
            "text/html": [
              "<table class=\"dataframe\">\n",
              "<caption>A data.frame: 2 × 5</caption>\n",
              "<thead>\n",
              "\t<tr><th></th><th scope=col>nombre</th><th scope=col>edad</th><th scope=col>rut</th><th scope=col>tiene_mascota</th><th scope=col>comuna_res</th></tr>\n",
              "\t<tr><th></th><th scope=col>&lt;chr&gt;</th><th scope=col>&lt;dbl&gt;</th><th scope=col>&lt;chr&gt;</th><th scope=col>&lt;lgl&gt;</th><th scope=col>&lt;chr&gt;</th></tr>\n",
              "</thead>\n",
              "<tbody>\n",
              "\t<tr><th scope=row>1</th><td>miguel</td><td>36</td><td>11-2</td><td>FALSE</td><td>Ñuñoa     </td></tr>\n",
              "\t<tr><th scope=row>2</th><td>Tito  </td><td>30</td><td>10-k</td><td> TRUE</td><td>La Florida</td></tr>\n",
              "</tbody>\n",
              "</table>\n"
            ],
            "text/markdown": "\nA data.frame: 2 × 5\n\n| <!--/--> | nombre &lt;chr&gt; | edad &lt;dbl&gt; | rut &lt;chr&gt; | tiene_mascota &lt;lgl&gt; | comuna_res &lt;chr&gt; |\n|---|---|---|---|---|---|\n| 1 | miguel | 36 | 11-2 | FALSE | Ñuñoa      |\n| 2 | Tito   | 30 | 10-k |  TRUE | La Florida |\n\n",
            "text/latex": "A data.frame: 2 × 5\n\\begin{tabular}{r|lllll}\n  & nombre & edad & rut & tiene\\_mascota & comuna\\_res\\\\\n  & <chr> & <dbl> & <chr> & <lgl> & <chr>\\\\\n\\hline\n\t1 & miguel & 36 & 11-2 & FALSE & Ñuñoa     \\\\\n\t2 & Tito   & 30 & 10-k &  TRUE & La Florida\\\\\n\\end{tabular}\n",
            "text/plain": [
              "  nombre edad rut  tiene_mascota comuna_res\n",
              "1 miguel 36   11-2 FALSE         Ñuñoa     \n",
              "2 Tito   30   10-k  TRUE         La Florida"
            ]
          },
          "metadata": {}
        }
      ]
    },
    {
      "cell_type": "code",
      "source": [
        "df[ df[[\"edad\"]] >= 30,]"
      ],
      "metadata": {
        "id": "eJ-xNUQdHbDz",
        "outputId": "5ed1c5c7-2166-43c3-a256-70a82ffb2c30",
        "colab": {
          "base_uri": "https://localhost:8080/",
          "height": 160
        }
      },
      "execution_count": 104,
      "outputs": [
        {
          "output_type": "display_data",
          "data": {
            "text/html": [
              "<table class=\"dataframe\">\n",
              "<caption>A data.frame: 2 × 5</caption>\n",
              "<thead>\n",
              "\t<tr><th></th><th scope=col>nombre</th><th scope=col>edad</th><th scope=col>rut</th><th scope=col>tiene_mascota</th><th scope=col>comuna_res</th></tr>\n",
              "\t<tr><th></th><th scope=col>&lt;chr&gt;</th><th scope=col>&lt;dbl&gt;</th><th scope=col>&lt;chr&gt;</th><th scope=col>&lt;lgl&gt;</th><th scope=col>&lt;chr&gt;</th></tr>\n",
              "</thead>\n",
              "<tbody>\n",
              "\t<tr><th scope=row>1</th><td>miguel</td><td>36</td><td>11-2</td><td>FALSE</td><td>Ñuñoa     </td></tr>\n",
              "\t<tr><th scope=row>2</th><td>Tito  </td><td>30</td><td>10-k</td><td> TRUE</td><td>La Florida</td></tr>\n",
              "</tbody>\n",
              "</table>\n"
            ],
            "text/markdown": "\nA data.frame: 2 × 5\n\n| <!--/--> | nombre &lt;chr&gt; | edad &lt;dbl&gt; | rut &lt;chr&gt; | tiene_mascota &lt;lgl&gt; | comuna_res &lt;chr&gt; |\n|---|---|---|---|---|---|\n| 1 | miguel | 36 | 11-2 | FALSE | Ñuñoa      |\n| 2 | Tito   | 30 | 10-k |  TRUE | La Florida |\n\n",
            "text/latex": "A data.frame: 2 × 5\n\\begin{tabular}{r|lllll}\n  & nombre & edad & rut & tiene\\_mascota & comuna\\_res\\\\\n  & <chr> & <dbl> & <chr> & <lgl> & <chr>\\\\\n\\hline\n\t1 & miguel & 36 & 11-2 & FALSE & Ñuñoa     \\\\\n\t2 & Tito   & 30 & 10-k &  TRUE & La Florida\\\\\n\\end{tabular}\n",
            "text/plain": [
              "  nombre edad rut  tiene_mascota comuna_res\n",
              "1 miguel 36   11-2 FALSE         Ñuñoa     \n",
              "2 Tito   30   10-k  TRUE         La Florida"
            ]
          },
          "metadata": {}
        }
      ]
    },
    {
      "cell_type": "code",
      "source": [
        "#ubicar a los registros cuya edad es mayor o igual a 30 y que tenga mascota\n",
        "df[df$edad >= 30 & df$tiene_mascota == T,]"
      ],
      "metadata": {
        "id": "TRlIfZZEHv-7",
        "outputId": "161c3fc5-ec9b-495f-a33a-aa202a28e641",
        "colab": {
          "base_uri": "https://localhost:8080/",
          "height": 129
        }
      },
      "execution_count": 106,
      "outputs": [
        {
          "output_type": "display_data",
          "data": {
            "text/html": [
              "<table class=\"dataframe\">\n",
              "<caption>A data.frame: 1 × 5</caption>\n",
              "<thead>\n",
              "\t<tr><th></th><th scope=col>nombre</th><th scope=col>edad</th><th scope=col>rut</th><th scope=col>tiene_mascota</th><th scope=col>comuna_res</th></tr>\n",
              "\t<tr><th></th><th scope=col>&lt;chr&gt;</th><th scope=col>&lt;dbl&gt;</th><th scope=col>&lt;chr&gt;</th><th scope=col>&lt;lgl&gt;</th><th scope=col>&lt;chr&gt;</th></tr>\n",
              "</thead>\n",
              "<tbody>\n",
              "\t<tr><th scope=row>2</th><td>Tito</td><td>30</td><td>10-k</td><td>TRUE</td><td>La Florida</td></tr>\n",
              "</tbody>\n",
              "</table>\n"
            ],
            "text/markdown": "\nA data.frame: 1 × 5\n\n| <!--/--> | nombre &lt;chr&gt; | edad &lt;dbl&gt; | rut &lt;chr&gt; | tiene_mascota &lt;lgl&gt; | comuna_res &lt;chr&gt; |\n|---|---|---|---|---|---|\n| 2 | Tito | 30 | 10-k | TRUE | La Florida |\n\n",
            "text/latex": "A data.frame: 1 × 5\n\\begin{tabular}{r|lllll}\n  & nombre & edad & rut & tiene\\_mascota & comuna\\_res\\\\\n  & <chr> & <dbl> & <chr> & <lgl> & <chr>\\\\\n\\hline\n\t2 & Tito & 30 & 10-k & TRUE & La Florida\\\\\n\\end{tabular}\n",
            "text/plain": [
              "  nombre edad rut  tiene_mascota comuna_res\n",
              "2 Tito   30   10-k TRUE          La Florida"
            ]
          },
          "metadata": {}
        }
      ]
    },
    {
      "cell_type": "code",
      "source": [
        "#ubicar a los registros cuya edad es mayor o igual a 30 y que tenga mascota. mostrando solamente el rut y la comuna\n",
        "df[df$edad >= 30 & df$tiene_mascota == T, c(\"rut\",\"comuna_res\")]"
      ],
      "metadata": {
        "id": "KYLasY4lIGiT",
        "outputId": "50639f2e-b6b1-4f19-9d8a-ec1d998f09dc",
        "colab": {
          "base_uri": "https://localhost:8080/",
          "height": 129
        }
      },
      "execution_count": 107,
      "outputs": [
        {
          "output_type": "display_data",
          "data": {
            "text/html": [
              "<table class=\"dataframe\">\n",
              "<caption>A data.frame: 1 × 2</caption>\n",
              "<thead>\n",
              "\t<tr><th></th><th scope=col>rut</th><th scope=col>comuna_res</th></tr>\n",
              "\t<tr><th></th><th scope=col>&lt;chr&gt;</th><th scope=col>&lt;chr&gt;</th></tr>\n",
              "</thead>\n",
              "<tbody>\n",
              "\t<tr><th scope=row>2</th><td>10-k</td><td>La Florida</td></tr>\n",
              "</tbody>\n",
              "</table>\n"
            ],
            "text/markdown": "\nA data.frame: 1 × 2\n\n| <!--/--> | rut &lt;chr&gt; | comuna_res &lt;chr&gt; |\n|---|---|---|\n| 2 | 10-k | La Florida |\n\n",
            "text/latex": "A data.frame: 1 × 2\n\\begin{tabular}{r|ll}\n  & rut & comuna\\_res\\\\\n  & <chr> & <chr>\\\\\n\\hline\n\t2 & 10-k & La Florida\\\\\n\\end{tabular}\n",
            "text/plain": [
              "  rut  comuna_res\n",
              "2 10-k La Florida"
            ]
          },
          "metadata": {}
        }
      ]
    },
    {
      "cell_type": "code",
      "source": [
        "df[df$edad >= 30 & df$tiene_mascota == T, c(3,5)]"
      ],
      "metadata": {
        "id": "kUYXL22XIeCT",
        "outputId": "3c88b1f1-5601-4ffe-b88a-7be16ab9f511",
        "colab": {
          "base_uri": "https://localhost:8080/",
          "height": 129
        }
      },
      "execution_count": 108,
      "outputs": [
        {
          "output_type": "display_data",
          "data": {
            "text/html": [
              "<table class=\"dataframe\">\n",
              "<caption>A data.frame: 1 × 2</caption>\n",
              "<thead>\n",
              "\t<tr><th></th><th scope=col>rut</th><th scope=col>comuna_res</th></tr>\n",
              "\t<tr><th></th><th scope=col>&lt;chr&gt;</th><th scope=col>&lt;chr&gt;</th></tr>\n",
              "</thead>\n",
              "<tbody>\n",
              "\t<tr><th scope=row>2</th><td>10-k</td><td>La Florida</td></tr>\n",
              "</tbody>\n",
              "</table>\n"
            ],
            "text/markdown": "\nA data.frame: 1 × 2\n\n| <!--/--> | rut &lt;chr&gt; | comuna_res &lt;chr&gt; |\n|---|---|---|\n| 2 | 10-k | La Florida |\n\n",
            "text/latex": "A data.frame: 1 × 2\n\\begin{tabular}{r|ll}\n  & rut & comuna\\_res\\\\\n  & <chr> & <chr>\\\\\n\\hline\n\t2 & 10-k & La Florida\\\\\n\\end{tabular}\n",
            "text/plain": [
              "  rut  comuna_res\n",
              "2 10-k La Florida"
            ]
          },
          "metadata": {}
        }
      ]
    },
    {
      "cell_type": "code",
      "source": [
        "# Ubicar los registros cuya comuna de residencia esté entre las opciones : \"Ñuñoa\" o \"La Florida\"\n",
        "df[df$comuna_res %in% c(\"Ñuñoa\", \"La Florida\"),]"
      ],
      "metadata": {
        "id": "Oya1NWPNImEy",
        "outputId": "c4d3c752-004c-4ac7-8d4e-a35104746cd8",
        "colab": {
          "base_uri": "https://localhost:8080/",
          "height": 160
        }
      },
      "execution_count": 109,
      "outputs": [
        {
          "output_type": "display_data",
          "data": {
            "text/html": [
              "<table class=\"dataframe\">\n",
              "<caption>A data.frame: 2 × 5</caption>\n",
              "<thead>\n",
              "\t<tr><th></th><th scope=col>nombre</th><th scope=col>edad</th><th scope=col>rut</th><th scope=col>tiene_mascota</th><th scope=col>comuna_res</th></tr>\n",
              "\t<tr><th></th><th scope=col>&lt;chr&gt;</th><th scope=col>&lt;dbl&gt;</th><th scope=col>&lt;chr&gt;</th><th scope=col>&lt;lgl&gt;</th><th scope=col>&lt;chr&gt;</th></tr>\n",
              "</thead>\n",
              "<tbody>\n",
              "\t<tr><th scope=row>1</th><td>miguel</td><td>36</td><td>11-2</td><td>FALSE</td><td>Ñuñoa     </td></tr>\n",
              "\t<tr><th scope=row>2</th><td>Tito  </td><td>30</td><td>10-k</td><td> TRUE</td><td>La Florida</td></tr>\n",
              "</tbody>\n",
              "</table>\n"
            ],
            "text/markdown": "\nA data.frame: 2 × 5\n\n| <!--/--> | nombre &lt;chr&gt; | edad &lt;dbl&gt; | rut &lt;chr&gt; | tiene_mascota &lt;lgl&gt; | comuna_res &lt;chr&gt; |\n|---|---|---|---|---|---|\n| 1 | miguel | 36 | 11-2 | FALSE | Ñuñoa      |\n| 2 | Tito   | 30 | 10-k |  TRUE | La Florida |\n\n",
            "text/latex": "A data.frame: 2 × 5\n\\begin{tabular}{r|lllll}\n  & nombre & edad & rut & tiene\\_mascota & comuna\\_res\\\\\n  & <chr> & <dbl> & <chr> & <lgl> & <chr>\\\\\n\\hline\n\t1 & miguel & 36 & 11-2 & FALSE & Ñuñoa     \\\\\n\t2 & Tito   & 30 & 10-k &  TRUE & La Florida\\\\\n\\end{tabular}\n",
            "text/plain": [
              "  nombre edad rut  tiene_mascota comuna_res\n",
              "1 miguel 36   11-2 FALSE         Ñuñoa     \n",
              "2 Tito   30   10-k  TRUE         La Florida"
            ]
          },
          "metadata": {}
        }
      ]
    },
    {
      "cell_type": "code",
      "source": [
        "# df[,grepl(\"_\", names(df))]"
      ],
      "metadata": {
        "id": "c9HSas-WJN-8"
      },
      "execution_count": null,
      "outputs": []
    },
    {
      "cell_type": "code",
      "source": [
        "#c(1,5,8,3,11,10) %in% c(7,8,0,1)"
      ],
      "metadata": {
        "id": "mizwkf5FKYMi",
        "outputId": "0f94f699-8d63-4835-ceb1-7fd6d26e5005",
        "colab": {
          "base_uri": "https://localhost:8080/",
          "height": 34
        }
      },
      "execution_count": 115,
      "outputs": [
        {
          "output_type": "display_data",
          "data": {
            "text/html": [
              "<style>\n",
              ".list-inline {list-style: none; margin:0; padding: 0}\n",
              ".list-inline>li {display: inline-block}\n",
              ".list-inline>li:not(:last-child)::after {content: \"\\00b7\"; padding: 0 .5ex}\n",
              "</style>\n",
              "<ol class=list-inline><li>TRUE</li><li>FALSE</li><li>TRUE</li><li>FALSE</li><li>FALSE</li><li>FALSE</li></ol>\n"
            ],
            "text/markdown": "1. TRUE\n2. FALSE\n3. TRUE\n4. FALSE\n5. FALSE\n6. FALSE\n\n\n",
            "text/latex": "\\begin{enumerate*}\n\\item TRUE\n\\item FALSE\n\\item TRUE\n\\item FALSE\n\\item FALSE\n\\item FALSE\n\\end{enumerate*}\n",
            "text/plain": [
              "[1]  TRUE FALSE  TRUE FALSE FALSE FALSE"
            ]
          },
          "metadata": {}
        }
      ]
    }
  ]
}