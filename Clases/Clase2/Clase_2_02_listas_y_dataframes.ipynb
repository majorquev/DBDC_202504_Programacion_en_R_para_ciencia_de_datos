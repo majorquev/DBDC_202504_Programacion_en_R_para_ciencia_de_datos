{
  "nbformat": 4,
  "nbformat_minor": 0,
  "metadata": {
    "colab": {
      "provenance": [],
      "include_colab_link": true
    },
    "kernelspec": {
      "name": "ir",
      "display_name": "R"
    }
  },
  "cells": [
    {
      "cell_type": "markdown",
      "metadata": {
        "id": "view-in-github",
        "colab_type": "text"
      },
      "source": [
        "<a href=\"https://colab.research.google.com/github/majorquev/DBDC_202504_Programacion_en_R_para_ciencia_de_datos/blob/main/Clases/Clase2/Clase_2_02_listas_y_dataframes.ipynb\" target=\"_parent\"><img src=\"https://colab.research.google.com/assets/colab-badge.svg\" alt=\"Open In Colab\"/></a>"
      ]
    },
    {
      "cell_type": "markdown",
      "metadata": {
        "collapsed": true,
        "id": "fgQ2azLwTpRn"
      },
      "source": [
        "# Parte 1: Introducción a R (continuación)\n",
        "\n",
        "**Autor:** Miguel Jorquera Viguera<br>\n",
        "**E-mail:** majorquev@gmail.com<br>\n",
        "**Ayudante:** Rodrigo Morales <br>\n",
        "**E-mail ayudante:** rumorale1@gmail.com\n",
        "\n",
        "\n",
        "## 5. Listas y Dataframes\n",
        "\n",
        "### 5.1 Listas\n",
        "\n",
        "Hasta aquí contamos con dos tipos de objetos para almacenar datos; vectores y matrices. Sin embargo, en ambos casos se tiene la limitante de que no es posible combinar distintos tipos de datos en diferentes entradas. Un objeto que permite una mayor flexibilidad son las listas. En R, una lista es básicamente un arreglo unidimensional, donde en cada entrada es posible almacenar distintos **objetos** (los cuales a su vez pueden almacenar distintos tipos de datos (u otros objetos).\n",
        "En resumen,\n",
        "\n",
        "   * ¿Qué son?<br>\n",
        "    Arreglos unidimensionales que guardan distintos tipos de datos u objetos.<br>\n",
        "\n",
        "   * ¿Cómo se declaran?<br>\n",
        "    Se pueden declarar mediante el comando list() o combinando listas existentes. <br>\n",
        "    \n",
        "   * ¿Cómo se accede a sus elementos?<br>\n",
        "    Usando [ ] (retorna lista), o bien usando [ [ ] ] (retorna el objeto).\n",
        "    En cada caso se puede indicar la posición o nombre del objeto que se quiere rescatar.<br>\n",
        "    Otra manera es mediante el símbolo $ seguido del nombre del objeto.\n",
        "\n"
      ]
    },
    {
      "cell_type": "code",
      "metadata": {
        "trusted": true,
        "id": "zZHpLzzRTpRp"
      },
      "source": [
        "# 5. Listas y dataframes ------------\n",
        "# 5.1 Listas  ------------\n",
        "# Cómo declarar una lista (comando list() )\n",
        "#num,letra, pl, mat, lista\n",
        "l1 <- list(num = 5,\n",
        "           letra = c(\"A\",\"B\"),\n",
        "           pl = \"hola\",\n",
        "           mat = diag(1:5),\n",
        "           lista = list(x = -1:3, fecha = as.Date(\"2025-05-29\")) )"
      ],
      "execution_count": 2,
      "outputs": []
    },
    {
      "cell_type": "code",
      "metadata": {
        "id": "_iwOQA-xTzww",
        "outputId": "30db85ee-f80a-430b-bb48-0eb9941c2021",
        "colab": {
          "base_uri": "https://localhost:8080/",
          "height": 445
        }
      },
      "source": [
        "# estructura\n",
        "l1"
      ],
      "execution_count": 3,
      "outputs": [
        {
          "output_type": "display_data",
          "data": {
            "text/html": [
              "<dl>\n",
              "\t<dt>$num</dt>\n",
              "\t\t<dd>5</dd>\n",
              "\t<dt>$letra</dt>\n",
              "\t\t<dd><style>\n",
              ".list-inline {list-style: none; margin:0; padding: 0}\n",
              ".list-inline>li {display: inline-block}\n",
              ".list-inline>li:not(:last-child)::after {content: \"\\00b7\"; padding: 0 .5ex}\n",
              "</style>\n",
              "<ol class=list-inline><li>'A'</li><li>'B'</li></ol>\n",
              "</dd>\n",
              "\t<dt>$pl</dt>\n",
              "\t\t<dd>'hola'</dd>\n",
              "\t<dt>$mat</dt>\n",
              "\t\t<dd><table class=\"dataframe\">\n",
              "<caption>A matrix: 5 × 5 of type int</caption>\n",
              "<tbody>\n",
              "\t<tr><td>1</td><td>0</td><td>0</td><td>0</td><td>0</td></tr>\n",
              "\t<tr><td>0</td><td>2</td><td>0</td><td>0</td><td>0</td></tr>\n",
              "\t<tr><td>0</td><td>0</td><td>3</td><td>0</td><td>0</td></tr>\n",
              "\t<tr><td>0</td><td>0</td><td>0</td><td>4</td><td>0</td></tr>\n",
              "\t<tr><td>0</td><td>0</td><td>0</td><td>0</td><td>5</td></tr>\n",
              "</tbody>\n",
              "</table>\n",
              "</dd>\n",
              "\t<dt>$lista</dt>\n",
              "\t\t<dd><dl>\n",
              "\t<dt>$x</dt>\n",
              "\t\t<dd><style>\n",
              ".list-inline {list-style: none; margin:0; padding: 0}\n",
              ".list-inline>li {display: inline-block}\n",
              ".list-inline>li:not(:last-child)::after {content: \"\\00b7\"; padding: 0 .5ex}\n",
              "</style>\n",
              "<ol class=list-inline><li>-1</li><li>0</li><li>1</li><li>2</li><li>3</li></ol>\n",
              "</dd>\n",
              "\t<dt>$fecha</dt>\n",
              "\t\t<dd><time datetime=\"2025-05-29\">2025-05-29</time></dd>\n",
              "</dl>\n",
              "</dd>\n",
              "</dl>\n"
            ],
            "text/markdown": "$num\n:   5\n$letra\n:   1. 'A'\n2. 'B'\n\n\n\n$pl\n:   'hola'\n$mat\n:   \nA matrix: 5 × 5 of type int\n\n| 1 | 0 | 0 | 0 | 0 |\n| 0 | 2 | 0 | 0 | 0 |\n| 0 | 0 | 3 | 0 | 0 |\n| 0 | 0 | 0 | 4 | 0 |\n| 0 | 0 | 0 | 0 | 5 |\n\n\n$lista\n:   $x\n:   1. -1\n2. 0\n3. 1\n4. 2\n5. 3\n\n\n\n$fecha\n:   2025-05-29\n\n\n\n\n\n",
            "text/latex": "\\begin{description}\n\\item[\\$num] 5\n\\item[\\$letra] \\begin{enumerate*}\n\\item 'A'\n\\item 'B'\n\\end{enumerate*}\n\n\\item[\\$pl] 'hola'\n\\item[\\$mat] A matrix: 5 × 5 of type int\n\\begin{tabular}{lllll}\n\t 1 & 0 & 0 & 0 & 0\\\\\n\t 0 & 2 & 0 & 0 & 0\\\\\n\t 0 & 0 & 3 & 0 & 0\\\\\n\t 0 & 0 & 0 & 4 & 0\\\\\n\t 0 & 0 & 0 & 0 & 5\\\\\n\\end{tabular}\n\n\\item[\\$lista] \\begin{description}\n\\item[\\$x] \\begin{enumerate*}\n\\item -1\n\\item 0\n\\item 1\n\\item 2\n\\item 3\n\\end{enumerate*}\n\n\\item[\\$fecha] 2025-05-29\n\\end{description}\n\n\\end{description}\n",
            "text/plain": [
              "$num\n",
              "[1] 5\n",
              "\n",
              "$letra\n",
              "[1] \"A\" \"B\"\n",
              "\n",
              "$pl\n",
              "[1] \"hola\"\n",
              "\n",
              "$mat\n",
              "     [,1] [,2] [,3] [,4] [,5]\n",
              "[1,]    1    0    0    0    0\n",
              "[2,]    0    2    0    0    0\n",
              "[3,]    0    0    3    0    0\n",
              "[4,]    0    0    0    4    0\n",
              "[5,]    0    0    0    0    5\n",
              "\n",
              "$lista\n",
              "$lista$x\n",
              "[1] -1  0  1  2  3\n",
              "\n",
              "$lista$fecha\n",
              "[1] \"2025-05-29\"\n",
              "\n"
            ]
          },
          "metadata": {}
        }
      ]
    },
    {
      "cell_type": "code",
      "metadata": {
        "trusted": true,
        "id": "Ao1wFCByTpRx"
      },
      "source": [
        "# Podemos guardar los objetos en slots con nombres\n"
      ],
      "execution_count": null,
      "outputs": []
    },
    {
      "cell_type": "code",
      "metadata": {
        "trusted": true,
        "id": "GBuxGL4cTpR0"
      },
      "source": [
        "# Podemos combinar listas\n"
      ],
      "execution_count": null,
      "outputs": []
    },
    {
      "cell_type": "code",
      "metadata": {
        "trusted": true,
        "id": "uUv7BQfnTpR3"
      },
      "source": [
        "# Acceso mediante posición\n"
      ],
      "execution_count": null,
      "outputs": []
    },
    {
      "cell_type": "code",
      "metadata": {
        "trusted": true,
        "id": "L3RDKUqOTpR5"
      },
      "source": [],
      "execution_count": null,
      "outputs": []
    },
    {
      "cell_type": "code",
      "metadata": {
        "trusted": true,
        "id": "QbQ8QHARTpR7"
      },
      "source": [
        "# NOTA lista[.] retorna un lista con un elemento,\n",
        "# lista[[.]] retorna el elmento de la lista lista[.]\n",
        "\n"
      ],
      "execution_count": null,
      "outputs": []
    },
    {
      "cell_type": "code",
      "metadata": {
        "trusted": true,
        "id": "kaOJqYJETpSC"
      },
      "source": [
        "# de la lista l3[[5]], quieo el vector que está en el slot llamado \"b\" (segundo elemento)\n"
      ],
      "execution_count": null,
      "outputs": []
    },
    {
      "cell_type": "code",
      "metadata": {
        "trusted": true,
        "id": "UZ4k5DQ9TpSE"
      },
      "source": [
        "\n"
      ],
      "execution_count": null,
      "outputs": []
    },
    {
      "cell_type": "code",
      "metadata": {
        "trusted": true,
        "id": "jYFKb27-TpSG"
      },
      "source": [
        "# Acceso mediante nombre\n",
        "\n"
      ],
      "execution_count": null,
      "outputs": []
    },
    {
      "cell_type": "code",
      "metadata": {
        "trusted": true,
        "id": "a9UBaNOuTpSI"
      },
      "source": [
        "# acceso vía \"$\"\n",
        "\n",
        "\n",
        "\n"
      ],
      "execution_count": null,
      "outputs": []
    },
    {
      "cell_type": "code",
      "metadata": {
        "trusted": true,
        "id": "Dumeo0-NTpSM"
      },
      "source": [
        "# para saber el largo de la lista/vector\n",
        "\n",
        "# Para obtener los nombres de la lista\n",
        "\n",
        "# si quisiéramos renombrar los slots:\n"
      ],
      "execution_count": null,
      "outputs": []
    },
    {
      "cell_type": "code",
      "metadata": {
        "trusted": true,
        "id": "Uij1PdVrTpSO"
      },
      "source": [
        "# También podemos crear nuevos \"slots\"\n",
        "## Indicando nombre en [[]] y luego asignando\n"
      ],
      "execution_count": null,
      "outputs": []
    },
    {
      "cell_type": "code",
      "metadata": {
        "trusted": true,
        "id": "rBB4hT9RTpSQ"
      },
      "source": [
        "# podemos modificar elementos dentro de un slot\n",
        "\n"
      ],
      "execution_count": null,
      "outputs": []
    },
    {
      "cell_type": "markdown",
      "metadata": {
        "id": "128wI4ZoTpSS"
      },
      "source": [
        "### 5.2 Dataframes\n",
        "\n",
        "Un dataframe es un caso particular de una lista, donde los objetos de cada entrada corresponden a vectores de datos del mismo largo. E este caso cada vector corresponde a una columna del data.frame, mientras que la cantidad de filas corresponde al largo común de los vectores de cada entrada. El objeto resultante es una *tabla*, de ahora en adelante *data.frame*, cuyas columnas poseen distintos tipos de datos entre sí.\n",
        "\n",
        " * ¿Cómo se declara un dataframe?<br>\n",
        "     Mediante la función data.frame(), indicando los vectores que conformarán las columnas.\n",
        "\n",
        " * ¿Cómo se accede a los datos de un data.frame?<br>\n",
        "    Al ser una lista, se puede acceder de la misma manera. Sin embargo también es posible acceder del modo en que se accede a los elementos de una matriz."
      ]
    },
    {
      "cell_type": "code",
      "metadata": {
        "trusted": true,
        "id": "qJ-2zVWVTpST"
      },
      "source": [
        "# 5.2 Dataframes ----------\n",
        "# Ejemplo sencillo de definición de un data.frame\n",
        "# recordar que 1:3 es lo mismo que c(1,2,3)\n",
        "\n"
      ],
      "execution_count": null,
      "outputs": []
    },
    {
      "cell_type": "code",
      "metadata": {
        "trusted": true,
        "id": "nv7stC8ITpSY"
      },
      "source": [
        "# Acceso a columnas de un data.frame\n",
        "## Igual que en una lista\n",
        "\n"
      ],
      "execution_count": null,
      "outputs": []
    },
    {
      "cell_type": "code",
      "metadata": {
        "trusted": true,
        "id": "3t6_J3BHTpSb"
      },
      "source": [],
      "execution_count": null,
      "outputs": []
    },
    {
      "cell_type": "code",
      "metadata": {
        "trusted": true,
        "id": "CojdmEs9TpSd"
      },
      "source": [
        "##  Ganamos acceso como matriz\n",
        "# segundafila de df\n",
        "\n",
        "\n",
        "# segunda columna y segunda fila\n",
        "\n",
        "\n"
      ],
      "execution_count": null,
      "outputs": []
    },
    {
      "cell_type": "code",
      "metadata": {
        "trusted": true,
        "id": "FgD5Q8hFTpSf"
      },
      "source": [
        "#Podemos crear nuevas columnas , del mismmo modo que creamos \"slots\" en una lista\n"
      ],
      "execution_count": null,
      "outputs": []
    },
    {
      "cell_type": "code",
      "metadata": {
        "trusted": true,
        "id": "LcNQ5JHVTpSh"
      },
      "source": [
        "# podemos seleccionar más de una columna a la vez. Ej: seleccionar col1y col3\n",
        "\n",
        "# Referenciando el nombre de las columnas\n"
      ],
      "execution_count": null,
      "outputs": []
    },
    {
      "cell_type": "code",
      "metadata": {
        "trusted": true,
        "id": "NHtO3MHwTpSj"
      },
      "source": [
        "# Referenciando las posiciones de las columnas\n"
      ],
      "execution_count": null,
      "outputs": []
    },
    {
      "cell_type": "code",
      "metadata": {
        "trusted": true,
        "id": "RmsAhhsWTpSm"
      },
      "source": [
        "# Se mantiene la lógica de acceso a los sots de una lista.\n"
      ],
      "execution_count": null,
      "outputs": []
    }
  ]
}